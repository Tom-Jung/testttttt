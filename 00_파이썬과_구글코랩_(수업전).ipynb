{
  "cells": [
    {
      "cell_type": "markdown",
      "metadata": {
        "id": "view-in-github",
        "colab_type": "text"
      },
      "source": [
        "<a href=\"https://colab.research.google.com/github/Tom-Jung/testttttt/blob/main/00_%ED%8C%8C%EC%9D%B4%EC%8D%AC%EA%B3%BC_%EA%B5%AC%EA%B8%80%EC%BD%94%EB%9E%A9_(%EC%88%98%EC%97%85%EC%A0%84).ipynb\" target=\"_parent\"><img src=\"https://colab.research.google.com/assets/colab-badge.svg\" alt=\"Open In Colab\"/></a>"
      ]
    },
    {
      "cell_type": "markdown",
      "metadata": {
        "id": "OKn2MPBeVatu"
      },
      "source": [
        "# 파이썬 코드 실행 방법"
      ]
    },
    {
      "cell_type": "code",
      "execution_count": null,
      "metadata": {
        "id": "FevTBsihVatw"
      },
      "outputs": [],
      "source": [
        "print('=== ctrl+enter 를 함께 누르면 해당 셀이 실행됩니다.===')"
      ]
    },
    {
      "cell_type": "code",
      "execution_count": null,
      "metadata": {
        "id": "k-lbBAqFVatx"
      },
      "outputs": [],
      "source": [
        "print('=== shift+enter 를 함께 누르면 해당 셀이 실행되고, 커서가 다음 셀로 넘어갑니다.===')"
      ]
    },
    {
      "cell_type": "code",
      "execution_count": null,
      "metadata": {
        "id": "-HcHylcHVatx"
      },
      "outputs": [],
      "source": [
        "# 코드 셀  간 이동은 esc키를 눌러서 커서선택을 해제한 후, 위 아래 화살표로 이동할 수 있다."
      ]
    },
    {
      "cell_type": "code",
      "execution_count": null,
      "metadata": {
        "id": "gu1CX39rVaty"
      },
      "outputs": [],
      "source": [
        "# 특정 코드 셀 위에 새로운 셀 (코드 줄) 을 만드려면 a"
      ]
    },
    {
      "cell_type": "code",
      "execution_count": null,
      "metadata": {
        "id": "0eIBnfEmVaty"
      },
      "outputs": [],
      "source": [
        "# 특정 코드 셀  아래에 새로운 셀 (코드 줄) 을 만드려면 b"
      ]
    },
    {
      "cell_type": "code",
      "execution_count": null,
      "metadata": {
        "id": "rhz0UUqDVaty"
      },
      "outputs": [],
      "source": [
        "# 새로운 코드 셀 생성"
      ]
    },
    {
      "cell_type": "code",
      "execution_count": null,
      "metadata": {
        "id": "YSPXGCwLVaty"
      },
      "outputs": [],
      "source": [
        "# 샵 기호 (또는 해쉬태그) 이후에 있는 부분은 주석(comment) 처리가 되어, 파이썬코드 실행에 영향주지 않는다.\n",
        "##### 여러 개를 사용할 수 있다.\n",
        "##################### 아주 여러 개를 사용할 수도 있다. ######################"
      ]
    },
    {
      "cell_type": "code",
      "execution_count": null,
      "metadata": {
        "id": "rLJ2SLGpVatz"
      },
      "outputs": [],
      "source": [
        "# 파이썬에서 문자열은 따옴표 '' 사이에 나타낸다.\n",
        "## 작은따옴표'', 큰 따옴표 \"\" 모두 가능하나,\n",
        "##여는 따옴표와 닫는 따옴표의 종류는 같아야 한다.\n",
        "## 줄바꿈(엔터)를 포함하고 싶을 경우, 앞-뒤로 따옴표를 3개씩 붙인다.\n"
      ]
    },
    {
      "cell_type": "code",
      "source": [],
      "metadata": {
        "id": "ntdCzAtHK6nZ"
      },
      "execution_count": null,
      "outputs": []
    },
    {
      "cell_type": "code",
      "execution_count": null,
      "metadata": {
        "id": "EgsmdmO8Va9Z"
      },
      "outputs": [],
      "source": [
        "# 숫자 100\n"
      ]
    },
    {
      "cell_type": "code",
      "source": [
        "# 문자 100\n"
      ],
      "metadata": {
        "id": "9m5v5hbJONKQ"
      },
      "execution_count": null,
      "outputs": []
    },
    {
      "cell_type": "code",
      "execution_count": null,
      "metadata": {
        "id": "T92SpZdSVa9Z"
      },
      "outputs": [],
      "source": [
        "# 문자열을 파이썬에서는 string 이라고 부른다\n"
      ]
    },
    {
      "cell_type": "code",
      "source": [],
      "metadata": {
        "id": "Q3hWWnoAK6hK"
      },
      "execution_count": null,
      "outputs": []
    },
    {
      "cell_type": "markdown",
      "source": [
        "# 함수와 모듈"
      ],
      "metadata": {
        "id": "KdSO3Ll3LVrR"
      }
    },
    {
      "cell_type": "markdown",
      "metadata": {
        "id": "ga8f5NOyVa9Z"
      },
      "source": [
        "## 모듈\n",
        "\n",
        "비슷한 기능들을 모아둔 것을 모듈(module)이라고 한다. 파이썬에서는 여러 가지 모듈들을 불러와서 기능을 추가할 수 있다.\n",
        "\n",
        "아래는 수학 계산과 관련된 `math` 모듈을 불러오는 코드다.\n",
        "\n",
        "\n",
        "```python\n",
        "import math\n",
        "```\n",
        "\n",
        "모듈 안의 함수를 부를 때는 `모듈명.함수`의 형태로 부른다. 다음은 `math` 모듈의 `sqrt` 함수로 4의 제곱근을 구하는 코드이다.\n",
        "\n",
        "\n",
        "```python\n",
        "math.sqrt(4)\n",
        "```\n",
        "\n",
        "\n",
        "    2.0\n",
        "\n",
        "자주 사용하는 모듈의 경우 이름이 길면 타이핑 하기 어려우므로 임포트할 때 `as`를 사용해 별명을 붙이기도 한다.\n",
        "\n",
        "\n",
        "```python\n",
        "import math as m  # math 모듈을 m이라는 별명으로 불러온다\n",
        "m.sqrt(9)\n",
        "```\n",
        "\n",
        "\n",
        "    3.0\n",
        "\n",
        "자주 사용하는 함수는 `from .. import ..`를 사용해 모듈에서 바로 임포트할 수도 있다. 이 경우에는 모듈명을 붙여주지 않아도 된다.\n",
        "\n",
        "\n",
        "```python\n",
        "from math import cos  # math 모듈에서 cos 함수를 불러온다\n",
        "cos(0)  # 코사인 0을 구한다\n",
        "```\n",
        "\n",
        "\n",
        "    1.0\n",
        "\n",
        "특정 모듈의 모든 함수를 불러올 때는 `from .. import *`를 사용한다.\n",
        "\n",
        "\n",
        "```python\n",
        "from math import *  # math 모듈에서 모든 함수를 불러온다\n",
        "sin(0)  # 사인 0을 구한다\n",
        "```\n",
        "\n",
        "\n",
        "    0.0\n",
        "\n",
        "`from .. import ..`를 사용하면 함수 이름이 겹칠 때는 나중에 임포트한 함수가 먼저 임포트한 함수를 덮어 쓸 수 있으므로 주의가 필요하다."
      ]
    },
    {
      "cell_type": "markdown",
      "metadata": {
        "id": "BhZVU3eYf0FD"
      },
      "source": [
        "파이썬의 기본 모듈인 time 모듈 사용\n",
        "- [파이썬 time 모듈 공식문서](https://docs.python.org/ko/3/library/time.html)\n",
        "- `time` 모듈의 `sleep 함수`를 불러와서 사용한다\n",
        "- 모듈의 특정 함수를 불러오기 위해서는 `구두점 . `을 사용한다."
      ]
    },
    {
      "cell_type": "code",
      "execution_count": null,
      "metadata": {
        "id": "qJe-57zRf0FD"
      },
      "outputs": [],
      "source": [
        "# time 모듈을 가져오기(불러오기)\n"
      ]
    },
    {
      "cell_type": "code",
      "execution_count": null,
      "metadata": {
        "id": "dST2r6AOjZ2-"
      },
      "outputs": [],
      "source": [
        "# time.sleep() 함수 사용\n"
      ]
    },
    {
      "cell_type": "markdown",
      "source": [
        "파이썬의 math 모듈 사용"
      ],
      "metadata": {
        "id": "n3Phtx_1Ll4D"
      }
    },
    {
      "cell_type": "code",
      "execution_count": null,
      "metadata": {
        "id": "Lji3kwLCVa9a"
      },
      "outputs": [],
      "source": [
        "import math\n",
        "math.cos(0)"
      ]
    },
    {
      "cell_type": "code",
      "execution_count": null,
      "metadata": {
        "id": "_urDmHa9Va9a"
      },
      "outputs": [],
      "source": [
        "from math import cos\n",
        "cos(0)"
      ]
    },
    {
      "cell_type": "code",
      "execution_count": null,
      "metadata": {
        "id": "I7g3LJhxVa9a"
      },
      "outputs": [],
      "source": [
        "import math\n",
        "cos(0)"
      ]
    },
    {
      "cell_type": "markdown",
      "metadata": {
        "id": "_4gSjgbm7uap"
      },
      "source": [
        "# 구글 코랩과 구글드라이브\n",
        "\n",
        "\n",
        "colab은 구글 드라이브에서 제공하는 파이썬 노트북이다. 구글에서 colab을 검색하거나 https://colab.research.google.com 로 접속한다.\n",
        "\n",
        "상단메뉴에서 **파일 -> 새 노트** 를 선택한다.\n",
        "\n",
        "구글 코랩에서 작업하는 ipynb 파일은 **자신의 구글 드라이브** 에 저장된다.\n",
        "파일이 저장되는 경로를 변경하고 싶은 경우, 상단 메뉴에서 **파일 -> 이동** 을 선택하여 경로를 설정한다."
      ]
    },
    {
      "cell_type": "markdown",
      "metadata": {
        "id": "m7ukm-GHBG2v"
      },
      "source": [
        "## 구글드라이브와 구글코랩 연동하기\n",
        "- 구글드라이브에 업로드한 데이터를 사용하기 위해 구글코랩과 구글드라이브를 연동한다.\n",
        "\n",
        "[방법 1]\n",
        "- 아래 코드를 실행하면 몇 단계 인증을 거쳐 구글드라이브와 연동된다.\n",
        "- 아래 코드는 굳이 외우지 않아도 된다."
      ]
    },
    {
      "cell_type": "code",
      "execution_count": null,
      "metadata": {
        "id": "4WpGk5qvBG2v"
      },
      "outputs": [],
      "source": [
        "from google.colab import drive\n",
        "drive.mount('/content/drive')"
      ]
    },
    {
      "cell_type": "markdown",
      "metadata": {
        "id": "m6XJuTFy-N8D"
      },
      "source": [
        "[방법 2]\n",
        "- Colab 화면에서 가장 왼쪽을 보면 아이콘이 있다.\n",
        "- <파일> 모양 아이콘을 클릭한다.\n",
        "- <파일> 글자 아래에 4개의 아이콘이 있다.\n",
        "- <드라이브 마운트> 아이콘 클릭하면 구글드라이브와 연동된다.\n",
        "(아래와 같은 코드 2줄이 자동으로 입력됨)"
      ]
    },
    {
      "cell_type": "code",
      "execution_count": null,
      "metadata": {
        "id": "y0b6hmTuFcE3"
      },
      "outputs": [],
      "source": [
        "from google.colab import drive\n",
        "drive.mount('/content/drive')"
      ]
    },
    {
      "cell_type": "markdown",
      "metadata": {
        "id": "0xYXJTB_BG2w"
      },
      "source": [
        "## 구글드라이브의 데이터 불러들이기\n",
        "- 아래 코드는 pandas(판다스 라고 읽음) 라이브러리를 사용하여, 구글드라이브의 파일을 불러들이는 방법이다.\n",
        "- pd.  : pandas (Python에서 구두점  . 은 소속을 나타냄)\n",
        "- 파일 이름은 변수나 함수가 아닌 문자열이므로 따옴표로 감싸서 표시한다.\n",
        "- 파일 내용을 `df` 라는 변수 이름으로 저장한다. (추후 배울 pandas 패키지의 `dataframe` 의 약어)\n"
      ]
    },
    {
      "cell_type": "code",
      "execution_count": null,
      "metadata": {
        "id": "K-wb0efoK1Sq"
      },
      "outputs": [],
      "source": [
        "# pandas(판다스) 라이브러리를 pd 라는 약칭으로 불러온다\n",
        "import pandas as pd"
      ]
    },
    {
      "cell_type": "code",
      "execution_count": null,
      "metadata": {
        "id": "5_wb51X1TIqt"
      },
      "outputs": [],
      "source": [
        "# pandas 라이브러리의 read_csv()를 이용하여 파일을 읽어온다.\n",
        "# 파일 내용을 df 라는 변수 이름으로 저장한다.\n",
        "df = pd.read_csv('/content/drive/MyDrive/Colab Notebooks/kbi/202410실습자료/countries.csv')"
      ]
    },
    {
      "cell_type": "code",
      "execution_count": null,
      "metadata": {
        "id": "BJNI2mOnBG2w"
      },
      "outputs": [],
      "source": [
        "#데이터 전체 확인\n"
      ]
    },
    {
      "cell_type": "code",
      "execution_count": null,
      "metadata": {
        "id": "C2QRTdulXfoJ"
      },
      "outputs": [],
      "source": [
        "#데이터의 첫 5행 확인"
      ]
    },
    {
      "cell_type": "code",
      "execution_count": null,
      "metadata": {
        "id": "RNGH7rFIX2Cs"
      },
      "outputs": [],
      "source": [
        "#데이터의 마지막 5행 확인"
      ]
    },
    {
      "cell_type": "markdown",
      "metadata": {
        "id": "wsyLBCsFhUjG"
      },
      "source": [
        "## 파일 경로 세팅\n",
        "파이썬의 `os`  모듈을 사용한다.\n",
        "\n",
        "```python\n",
        "import os\n",
        "os.getcwd() #현재 기본경로 확인\n",
        "```\n",
        "\n",
        "\n",
        "`os.getcwd` : GET Current Working Directory - 현재 기본경로 확인\n",
        "\n",
        "`os.chdir` : CHange DIRectory - 작업파일 경로를 수정"
      ]
    },
    {
      "cell_type": "code",
      "execution_count": null,
      "metadata": {
        "id": "qP_yFD-vhSkw"
      },
      "outputs": [],
      "source": [
        "import os\n",
        "os.getcwd()  #현재 작업파일 경로 확인 -GET Current Working Directory"
      ]
    },
    {
      "cell_type": "code",
      "execution_count": null,
      "metadata": {
        "id": "EiLxlTCkiQ3T"
      },
      "outputs": [],
      "source": [
        "# 작업파일 경로 수정\n",
        "# CHange DIRectory - 작업파일 경로를 수정\n",
        "os.chdir('/content/drive/MyDrive/Colab Notebooks/kbi/202410실습자료')"
      ]
    },
    {
      "cell_type": "code",
      "execution_count": null,
      "metadata": {
        "id": "AIuu0whxVat0"
      },
      "outputs": [],
      "source": [
        "# 현재 작업파일 경로 확인\n",
        "# GET Current Working Directory\n",
        "os.getcwd()"
      ]
    },
    {
      "cell_type": "markdown",
      "metadata": {
        "id": "8NQ547EeK1Sp"
      },
      "source": [
        "## pip 와 파이썬의 패키지 관리\n",
        "\n",
        "### 표준 라이브러리 standard library\n",
        "- 파이썬 설치 시 함께 제공하는 모듈의 집합\n",
        "- 다양한 문제를 해결하기 위해서는 이러한 표준 라이브러리의 기본적인 기능뿐만 아니라 여러 프로그래머와 기관에서 만들어 놓은 라이브러리 활용하는 것이 필요하다.\n",
        "- [파이썬 표준라이브러리](https://docs.python.org/ko/3/library/index.html)\n",
        "\n",
        "### 패키지 package\n",
        "- 패키지란, 추가적인 함수를 묶은 것으로 하나의 디렉토리에 있는 모듈/함수들의 집합이다.\n",
        "- 여러 사람들이 미리 만들어 놓은 라이브러리를 간단한 설치로 손쉽게 사용할 수 있다.\n",
        "- pip 프로그램을 이용해서 설치한다.\n",
        "\n",
        "### pip\n",
        "- 파이썬의 패키지 관리 소프트웨어\n",
        "- 표준 라이브러리에 포함되지 않은 외부 라이브러리를 설치하는 도구\n",
        "- 윈도우 명령 프롬프트를 이용하여 명령어를 입력한다.\n",
        "- 주피터노트북에서는 ! 느낌표를 붙여서 사용한다.\n"
      ]
    },
    {
      "cell_type": "markdown",
      "metadata": {
        "id": "iaSAY-PFVat0"
      },
      "source": [
        "#### pip를 이용한 외부 패키지/모듈 설치\n",
        "pip란 파이썬의 패키지 관리 소프트웨어이다.\n",
        "\n",
        "파이썬 표준 라이브러리에 포함되지 않은 외부 라이브러리를 설치하는 도구이다.\n",
        "\n",
        "구글 코랩에선 다음과 같이 설치한다.\n",
        "`!pip install 패키지명`\n",
        "\n",
        "pip를 이용해 모듈이 설치된 상태라면, 모듈 사용을 위해서는 불러와야 한다.\n",
        "\n",
        "`import 모듈이름` 형식으로 설치한 패키지/모듈/함수를 가져온다.\n",
        "\n",
        "만약 불러오지 않는다면 `ModuleNotFoundError` 가 발생한다.\n",
        "```python\n",
        "ModuleNotFoundError                       Traceback (most recent call last)\n",
        "<ipython-input-70-266ca2412bce> in <cell line: 1>()\n",
        "----> 1 from gtts import gTTS\n",
        "\n",
        "ModuleNotFoundError: No module named 'gtts'\n",
        "```\n",
        "\n",
        "\n",
        "- `gtts` 패키지 설치 후, 패키지 내부의  `gTTS` 함수를 적용하여 텍스트를 음성으로 변환한다.\n",
        "\n"
      ]
    },
    {
      "cell_type": "code",
      "execution_count": null,
      "metadata": {
        "id": "segke0gmVat0"
      },
      "outputs": [],
      "source": [
        "# pip를 이용하여 gtts 패키지 설치\n"
      ]
    },
    {
      "cell_type": "code",
      "execution_count": null,
      "metadata": {
        "id": "bXMbL2_pVat0"
      },
      "outputs": [],
      "source": [
        "# gtts 패키지 불러오기 (불러오지 않으면 사용할 수 없음)\n"
      ]
    },
    {
      "cell_type": "code",
      "execution_count": null,
      "metadata": {
        "id": "EuKu3MZjVat0"
      },
      "outputs": [],
      "source": [
        "# 텍스트 -> 음성으로 변환 후 저장\n"
      ]
    },
    {
      "cell_type": "code",
      "source": [
        "# 파일경로를 별도로 명시하지 않을 경우 현재경로에 저장\n",
        "# 현재경로 확인\n",
        "import os\n",
        "os.getcwd()"
      ],
      "metadata": {
        "id": "bhaxpJ17G_Rc"
      },
      "execution_count": null,
      "outputs": []
    },
    {
      "cell_type": "markdown",
      "metadata": {
        "id": "SbeLdtRnVat0"
      },
      "source": [
        "## 실습 - gTTS\n",
        "- 인터넷에서 텍스트를 찾아 (노래가사, 신문기사 등 ) 텍스트를 입력하여 mp3 파일 형태로 저장하고, 소리를 출력해보자.\n",
        "- 여러 줄의 텍스트를 입력하고 싶을 경우, 앞, 뒤로 따옴표 3개 (\"\"\" 텍스트 \"\"\" ) 가 있어야 한다."
      ]
    },
    {
      "cell_type": "code",
      "execution_count": null,
      "metadata": {
        "id": "Nhnc5N-fVat0"
      },
      "outputs": [],
      "source": [
        "# 파이썬에서 문자열은 따옴표 '' 사이에 나타낸다.\n",
        "## 작은따옴표'', 큰 따옴표 \"\" 모두 가능하나,\n",
        "##여는 따옴표와 닫는 따옴표의 종류는 같아야 한다.\n",
        "## 줄바꿈(엔터)를 포함하고 싶을 경우, 앞-뒤로 따옴표를 3개씩 붙인다.\n",
        "## ''' 안녕하세요 '''"
      ]
    },
    {
      "cell_type": "code",
      "execution_count": null,
      "metadata": {
        "id": "7Q_xdVwvVat0"
      },
      "outputs": [],
      "source": [
        "# 코드 작성\n"
      ]
    }
  ],
  "metadata": {
    "colab": {
      "provenance": [],
      "include_colab_link": true
    },
    "kernelspec": {
      "display_name": "Python 3",
      "name": "python3"
    },
    "language_info": {
      "name": "python"
    }
  },
  "nbformat": 4,
  "nbformat_minor": 0
}
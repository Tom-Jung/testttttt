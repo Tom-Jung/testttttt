{
  "cells": [
    {
      "cell_type": "markdown",
      "metadata": {
        "id": "view-in-github",
        "colab_type": "text"
      },
      "source": [
        "<a href=\"https://colab.research.google.com/github/Tom-Jung/testttttt/blob/main/00_%ED%8C%8C%EC%9D%B4%EC%8D%AC%EA%B3%BC_%EA%B5%AC%EA%B8%80%EC%BD%94%EB%9E%A9_(%EC%88%98%EC%97%85%EC%A0%84).ipynb\" target=\"_parent\"><img src=\"https://colab.research.google.com/assets/colab-badge.svg\" alt=\"Open In Colab\"/></a>"
      ]
    },
    {
      "cell_type": "markdown",
      "metadata": {
        "id": "OKn2MPBeVatu"
      },
      "source": [
        "# 파이썬 코드 실행 방법"
      ]
    },
    {
      "cell_type": "code",
      "execution_count": 1,
      "metadata": {
        "id": "FevTBsihVatw",
        "outputId": "af628985-38b8-488b-da0b-da5ee4418cfd",
        "colab": {
          "base_uri": "https://localhost:8080/"
        }
      },
      "outputs": [
        {
          "output_type": "stream",
          "name": "stdout",
          "text": [
            "=== ctrl+enter 를 함께 누르면 해당 셀이 실행됩니다.===\n"
          ]
        }
      ],
      "source": [
        "print('=== ctrl+enter 를 함께 누르면 해당 셀이 실행됩니다.===')"
      ]
    },
    {
      "cell_type": "code",
      "execution_count": 2,
      "metadata": {
        "id": "k-lbBAqFVatx",
        "outputId": "d06d478a-1e74-4966-b417-e706f80ca0d4",
        "colab": {
          "base_uri": "https://localhost:8080/"
        }
      },
      "outputs": [
        {
          "output_type": "stream",
          "name": "stdout",
          "text": [
            "=== shift+enter 를 함께 누르면 해당 셀이 실행되고, 커서가 다음 셀로 넘어갑니다.===\n"
          ]
        }
      ],
      "source": [
        "print('=== shift+enter 를 함께 누르면 해당 셀이 실행되고, 커서가 다음 셀로 넘어갑니다.===')"
      ]
    },
    {
      "cell_type": "code",
      "execution_count": 3,
      "metadata": {
        "id": "-HcHylcHVatx"
      },
      "outputs": [],
      "source": [
        "# 코드 셀  간 이동은 esc키를 눌러서 커서선택을 해제한 후, 위 아래 화살표로 이동할 수 있다."
      ]
    },
    {
      "cell_type": "code",
      "execution_count": 4,
      "metadata": {
        "id": "gu1CX39rVaty"
      },
      "outputs": [],
      "source": [
        "# 특정 코드 셀 위에 새로운 셀 (코드 줄) 을 만드려면 a"
      ]
    },
    {
      "cell_type": "code",
      "execution_count": 5,
      "metadata": {
        "id": "0eIBnfEmVaty"
      },
      "outputs": [],
      "source": [
        "# 특정 코드 셀  아래에 새로운 셀 (코드 줄) 을 만드려면 b"
      ]
    },
    {
      "cell_type": "code",
      "execution_count": 6,
      "metadata": {
        "id": "rhz0UUqDVaty"
      },
      "outputs": [],
      "source": [
        "# 새로운 코드 셀 생성aaaaa"
      ]
    },
    {
      "cell_type": "code",
      "execution_count": 7,
      "metadata": {
        "id": "YSPXGCwLVaty"
      },
      "outputs": [],
      "source": [
        "# 샵 기호 (또는 해쉬태그) 이후에 있는 부분은 주석(comment) 처리가 되어, 파이썬코드 실행에 영향주지 않는다.\n",
        "##### 여러 개를 사용할 수 있다.\n",
        "##################### 아주 여러 개를 사용할 수도 있다. ######################"
      ]
    },
    {
      "cell_type": "code",
      "execution_count": 8,
      "metadata": {
        "id": "rLJ2SLGpVatz"
      },
      "outputs": [],
      "source": [
        "# 파이썬에서 문자열은 따옴표 '' 사이에 나타낸다.\n",
        "## 작은따옴표'', 큰 따옴표 \"\" 모두 가능하나,\n",
        "##여는 따옴표와 닫는 따옴표의 종류는 같아야 한다.\n",
        "## 줄바꿈(엔터)를 포함하고 싶을 경우, 앞-뒤로 따옴표를 3개씩 붙인다.\n"
      ]
    },
    {
      "cell_type": "code",
      "source": [
        "10+20*100"
      ],
      "metadata": {
        "id": "ntdCzAtHK6nZ",
        "outputId": "f3da4995-7cc5-47e3-a484-deba89e11164",
        "colab": {
          "base_uri": "https://localhost:8080/"
        }
      },
      "execution_count": 18,
      "outputs": [
        {
          "output_type": "execute_result",
          "data": {
            "text/plain": [
              "2010"
            ]
          },
          "metadata": {},
          "execution_count": 18
        }
      ]
    },
    {
      "cell_type": "code",
      "execution_count": 19,
      "metadata": {
        "id": "EgsmdmO8Va9Z",
        "outputId": "f2e51108-b33d-4d57-fc91-d8d00801c153",
        "colab": {
          "base_uri": "https://localhost:8080/"
        }
      },
      "outputs": [
        {
          "output_type": "execute_result",
          "data": {
            "text/plain": [
              "100"
            ]
          },
          "metadata": {},
          "execution_count": 19
        }
      ],
      "source": [
        "# 숫자 100\n",
        "100"
      ]
    },
    {
      "cell_type": "code",
      "source": [
        "# 문자 100\n",
        "'100'"
      ],
      "metadata": {
        "id": "9m5v5hbJONKQ",
        "outputId": "df05fa07-f701-41ee-c5aa-806720eec1f8",
        "colab": {
          "base_uri": "https://localhost:8080/",
          "height": 35
        }
      },
      "execution_count": 20,
      "outputs": [
        {
          "output_type": "execute_result",
          "data": {
            "text/plain": [
              "'100'"
            ],
            "application/vnd.google.colaboratory.intrinsic+json": {
              "type": "string"
            }
          },
          "metadata": {},
          "execution_count": 20
        }
      ]
    },
    {
      "cell_type": "code",
      "execution_count": 21,
      "metadata": {
        "id": "T92SpZdSVa9Z",
        "outputId": "3a361e19-be92-41fd-a1f0-6cf98d0b8f9f",
        "colab": {
          "base_uri": "https://localhost:8080/",
          "height": 35
        }
      },
      "outputs": [
        {
          "output_type": "execute_result",
          "data": {
            "text/plain": [
              "'100'"
            ],
            "application/vnd.google.colaboratory.intrinsic+json": {
              "type": "string"
            }
          },
          "metadata": {},
          "execution_count": 21
        }
      ],
      "source": [
        "# 문자열을 파이썬에서는 string 이라고 부른다\n",
        "\"100\""
      ]
    },
    {
      "cell_type": "markdown",
      "source": [
        "# 함수와 모듈"
      ],
      "metadata": {
        "id": "KdSO3Ll3LVrR"
      }
    },
    {
      "cell_type": "markdown",
      "metadata": {
        "id": "ga8f5NOyVa9Z"
      },
      "source": [
        "## 모듈\n",
        "\n",
        "비슷한 기능들을 모아둔 것을 모듈(module)이라고 한다. 파이썬에서는 여러 가지 모듈들을 불러와서 기능을 추가할 수 있다.\n",
        "\n",
        "아래는 수학 계산과 관련된 `math` 모듈을 불러오는 코드다.\n",
        "\n",
        "\n",
        "```python\n",
        "import math\n",
        "```\n",
        "\n",
        "모듈 안의 함수를 부를 때는 `모듈명.함수`의 형태로 부른다. 다음은 `math` 모듈의 `sqrt` 함수로 4의 제곱근을 구하는 코드이다.\n",
        "\n",
        "\n",
        "```python\n",
        "math.sqrt(4)\n",
        "```\n",
        "\n",
        "\n",
        "    2.0\n",
        "\n",
        "자주 사용하는 모듈의 경우 이름이 길면 타이핑 하기 어려우므로 임포트할 때 `as`를 사용해 별명을 붙이기도 한다.\n",
        "\n",
        "\n",
        "```python\n",
        "import math as m  # math 모듈을 m이라는 별명으로 불러온다\n",
        "m.sqrt(9)\n",
        "```\n",
        "\n",
        "\n",
        "    3.0\n",
        "\n",
        "자주 사용하는 함수는 `from .. import ..`를 사용해 모듈에서 바로 임포트할 수도 있다. 이 경우에는 모듈명을 붙여주지 않아도 된다.\n",
        "\n",
        "\n",
        "```python\n",
        "from math import cos  # math 모듈에서 cos 함수를 불러온다\n",
        "cos(0)  # 코사인 0을 구한다\n",
        "```\n",
        "\n",
        "\n",
        "    1.0\n",
        "\n",
        "특정 모듈의 모든 함수를 불러올 때는 `from .. import *`를 사용한다.\n",
        "\n",
        "\n",
        "```python\n",
        "from math import *  # math 모듈에서 모든 함수를 불러온다\n",
        "sin(0)  # 사인 0을 구한다\n",
        "```\n",
        "\n",
        "\n",
        "    0.0\n",
        "\n",
        "`from .. import ..`를 사용하면 함수 이름이 겹칠 때는 나중에 임포트한 함수가 먼저 임포트한 함수를 덮어 쓸 수 있으므로 주의가 필요하다."
      ]
    },
    {
      "cell_type": "markdown",
      "metadata": {
        "id": "BhZVU3eYf0FD"
      },
      "source": [
        "파이썬의 기본 모듈인 time 모듈 사용\n",
        "- [파이썬 time 모듈 공식문서](https://docs.python.org/ko/3/library/time.html)\n",
        "- `time` 모듈의 `sleep 함수`를 불러와서 사용한다\n",
        "- 모듈의 특정 함수를 불러오기 위해서는 `구두점 . `을 사용한다."
      ]
    },
    {
      "cell_type": "code",
      "execution_count": 23,
      "metadata": {
        "id": "qJe-57zRf0FD"
      },
      "outputs": [],
      "source": [
        "# time 모듈을 가져오기(불러오기)\n",
        "import time"
      ]
    },
    {
      "cell_type": "code",
      "execution_count": 25,
      "metadata": {
        "id": "dST2r6AOjZ2-"
      },
      "outputs": [],
      "source": [
        "# time.sleep() 함수 사용\n",
        "time.sleep(10)"
      ]
    },
    {
      "cell_type": "markdown",
      "source": [
        "파이썬의 math 모듈 사용"
      ],
      "metadata": {
        "id": "n3Phtx_1Ll4D"
      }
    },
    {
      "cell_type": "code",
      "execution_count": 27,
      "metadata": {
        "id": "Lji3kwLCVa9a",
        "outputId": "0e06a076-4212-47a8-e8ed-e13d526a6b53",
        "colab": {
          "base_uri": "https://localhost:8080/"
        }
      },
      "outputs": [
        {
          "output_type": "execute_result",
          "data": {
            "text/plain": [
              "1.0"
            ]
          },
          "metadata": {},
          "execution_count": 27
        }
      ],
      "source": [
        "import math\n",
        "math.cos(0)"
      ]
    },
    {
      "cell_type": "code",
      "execution_count": 28,
      "metadata": {
        "id": "_urDmHa9Va9a",
        "outputId": "8247863d-d01c-42ad-f610-0a1614abbc7c",
        "colab": {
          "base_uri": "https://localhost:8080/"
        }
      },
      "outputs": [
        {
          "output_type": "execute_result",
          "data": {
            "text/plain": [
              "1.0"
            ]
          },
          "metadata": {},
          "execution_count": 28
        }
      ],
      "source": [
        "from math import cos\n",
        "cos(0)"
      ]
    },
    {
      "cell_type": "code",
      "execution_count": 16,
      "metadata": {
        "id": "I7g3LJhxVa9a",
        "outputId": "48c1fb16-6b7b-4033-de51-67dc17eb0850",
        "colab": {
          "base_uri": "https://localhost:8080/"
        }
      },
      "outputs": [
        {
          "output_type": "execute_result",
          "data": {
            "text/plain": [
              "1.0"
            ]
          },
          "metadata": {},
          "execution_count": 16
        }
      ],
      "source": [
        "import math\n",
        "cos(0)"
      ]
    },
    {
      "cell_type": "markdown",
      "metadata": {
        "id": "_4gSjgbm7uap"
      },
      "source": [
        "# 구글 코랩과 구글드라이브\n",
        "\n",
        "\n",
        "colab은 구글 드라이브에서 제공하는 파이썬 노트북이다. 구글에서 colab을 검색하거나 https://colab.research.google.com 로 접속한다.\n",
        "\n",
        "상단메뉴에서 **파일 -> 새 노트** 를 선택한다.\n",
        "\n",
        "구글 코랩에서 작업하는 ipynb 파일은 **자신의 구글 드라이브** 에 저장된다.\n",
        "파일이 저장되는 경로를 변경하고 싶은 경우, 상단 메뉴에서 **파일 -> 이동** 을 선택하여 경로를 설정한다."
      ]
    },
    {
      "cell_type": "markdown",
      "metadata": {
        "id": "m7ukm-GHBG2v"
      },
      "source": [
        "## 구글드라이브와 구글코랩 연동하기\n",
        "- 구글드라이브에 업로드한 데이터를 사용하기 위해 구글코랩과 구글드라이브를 연동한다.\n",
        "\n",
        "[방법 1]\n",
        "- 아래 코드를 실행하면 몇 단계 인증을 거쳐 구글드라이브와 연동된다.\n",
        "- 아래 코드는 굳이 외우지 않아도 된다."
      ]
    },
    {
      "cell_type": "code",
      "execution_count": 29,
      "metadata": {
        "id": "4WpGk5qvBG2v",
        "outputId": "a19aee3b-f6a4-4cfc-86d2-b046055bf5ee",
        "colab": {
          "base_uri": "https://localhost:8080/"
        }
      },
      "outputs": [
        {
          "output_type": "stream",
          "name": "stdout",
          "text": [
            "Mounted at /content/drive\n"
          ]
        }
      ],
      "source": [
        "from google.colab import drive\n",
        "drive.mount('/content/drive')"
      ]
    },
    {
      "cell_type": "markdown",
      "metadata": {
        "id": "m6XJuTFy-N8D"
      },
      "source": [
        "[방법 2]\n",
        "- Colab 화면에서 가장 왼쪽을 보면 아이콘이 있다.\n",
        "- <파일> 모양 아이콘을 클릭한다.\n",
        "- <파일> 글자 아래에 4개의 아이콘이 있다.\n",
        "- <드라이브 마운트> 아이콘 클릭하면 구글드라이브와 연동된다.\n",
        "(아래와 같은 코드 2줄이 자동으로 입력됨)"
      ]
    },
    {
      "cell_type": "code",
      "execution_count": null,
      "metadata": {
        "id": "y0b6hmTuFcE3"
      },
      "outputs": [],
      "source": [
        "from google.colab import drive\n",
        "drive.mount('/content/drive')"
      ]
    },
    {
      "cell_type": "markdown",
      "metadata": {
        "id": "0xYXJTB_BG2w"
      },
      "source": [
        "## 구글드라이브의 데이터 불러들이기\n",
        "- 아래 코드는 pandas(판다스 라고 읽음) 라이브러리를 사용하여, 구글드라이브의 파일을 불러들이는 방법이다.\n",
        "- pd.  : pandas (Python에서 구두점  . 은 소속을 나타냄)\n",
        "- 파일 이름은 변수나 함수가 아닌 문자열이므로 따옴표로 감싸서 표시한다.\n",
        "- 파일 내용을 `df` 라는 변수 이름으로 저장한다. (추후 배울 pandas 패키지의 `dataframe` 의 약어)\n"
      ]
    },
    {
      "cell_type": "code",
      "execution_count": 39,
      "metadata": {
        "id": "K-wb0efoK1Sq"
      },
      "outputs": [],
      "source": [
        "# pandas(판다스) 라이브러리를 pd 라는 약칭으로 불러온다\n",
        "import pandas as pd\n",
        "import numpy as np"
      ]
    },
    {
      "cell_type": "code",
      "execution_count": 37,
      "metadata": {
        "id": "5_wb51X1TIqt"
      },
      "outputs": [],
      "source": [
        "# pandas 라이브러리의 read_csv()를 이용하여 파일을 읽어온다.\n",
        "# 파일 내용을 df 라는 변수 이름으로 저장한다.\n",
        "df = pd.read_csv('/content/drive/MyDrive/Colab Notebooks/kdi/202410실습자료/countries.csv')"
      ]
    },
    {
      "cell_type": "code",
      "execution_count": 42,
      "metadata": {
        "id": "BJNI2mOnBG2w",
        "outputId": "898eacaf-c277-484b-fff8-d1a750b52fa6",
        "colab": {
          "base_uri": "https://localhost:8080/",
          "height": 206
        }
      },
      "outputs": [
        {
          "output_type": "execute_result",
          "data": {
            "text/plain": [
              "  Unnamed: 0 country      area     capital  population\n",
              "0         KR   Korea     98480       Seoul    51780579\n",
              "1         US     USA   9629091  Washington   331002825\n",
              "2         JP   Japan    377835       Tokyo   125960000\n",
              "3         CN   China   9596960     Beijing  1439323688\n",
              "4         RU  Russia  17100000      Moscow   146748600"
            ],
            "text/html": [
              "\n",
              "  <div id=\"df-b0c7acb3-8f01-437f-9bf2-ff579557cd61\" class=\"colab-df-container\">\n",
              "    <div>\n",
              "<style scoped>\n",
              "    .dataframe tbody tr th:only-of-type {\n",
              "        vertical-align: middle;\n",
              "    }\n",
              "\n",
              "    .dataframe tbody tr th {\n",
              "        vertical-align: top;\n",
              "    }\n",
              "\n",
              "    .dataframe thead th {\n",
              "        text-align: right;\n",
              "    }\n",
              "</style>\n",
              "<table border=\"1\" class=\"dataframe\">\n",
              "  <thead>\n",
              "    <tr style=\"text-align: right;\">\n",
              "      <th></th>\n",
              "      <th>Unnamed: 0</th>\n",
              "      <th>country</th>\n",
              "      <th>area</th>\n",
              "      <th>capital</th>\n",
              "      <th>population</th>\n",
              "    </tr>\n",
              "  </thead>\n",
              "  <tbody>\n",
              "    <tr>\n",
              "      <th>0</th>\n",
              "      <td>KR</td>\n",
              "      <td>Korea</td>\n",
              "      <td>98480</td>\n",
              "      <td>Seoul</td>\n",
              "      <td>51780579</td>\n",
              "    </tr>\n",
              "    <tr>\n",
              "      <th>1</th>\n",
              "      <td>US</td>\n",
              "      <td>USA</td>\n",
              "      <td>9629091</td>\n",
              "      <td>Washington</td>\n",
              "      <td>331002825</td>\n",
              "    </tr>\n",
              "    <tr>\n",
              "      <th>2</th>\n",
              "      <td>JP</td>\n",
              "      <td>Japan</td>\n",
              "      <td>377835</td>\n",
              "      <td>Tokyo</td>\n",
              "      <td>125960000</td>\n",
              "    </tr>\n",
              "    <tr>\n",
              "      <th>3</th>\n",
              "      <td>CN</td>\n",
              "      <td>China</td>\n",
              "      <td>9596960</td>\n",
              "      <td>Beijing</td>\n",
              "      <td>1439323688</td>\n",
              "    </tr>\n",
              "    <tr>\n",
              "      <th>4</th>\n",
              "      <td>RU</td>\n",
              "      <td>Russia</td>\n",
              "      <td>17100000</td>\n",
              "      <td>Moscow</td>\n",
              "      <td>146748600</td>\n",
              "    </tr>\n",
              "  </tbody>\n",
              "</table>\n",
              "</div>\n",
              "    <div class=\"colab-df-buttons\">\n",
              "\n",
              "  <div class=\"colab-df-container\">\n",
              "    <button class=\"colab-df-convert\" onclick=\"convertToInteractive('df-b0c7acb3-8f01-437f-9bf2-ff579557cd61')\"\n",
              "            title=\"Convert this dataframe to an interactive table.\"\n",
              "            style=\"display:none;\">\n",
              "\n",
              "  <svg xmlns=\"http://www.w3.org/2000/svg\" height=\"24px\" viewBox=\"0 -960 960 960\">\n",
              "    <path d=\"M120-120v-720h720v720H120Zm60-500h600v-160H180v160Zm220 220h160v-160H400v160Zm0 220h160v-160H400v160ZM180-400h160v-160H180v160Zm440 0h160v-160H620v160ZM180-180h160v-160H180v160Zm440 0h160v-160H620v160Z\"/>\n",
              "  </svg>\n",
              "    </button>\n",
              "\n",
              "  <style>\n",
              "    .colab-df-container {\n",
              "      display:flex;\n",
              "      gap: 12px;\n",
              "    }\n",
              "\n",
              "    .colab-df-convert {\n",
              "      background-color: #E8F0FE;\n",
              "      border: none;\n",
              "      border-radius: 50%;\n",
              "      cursor: pointer;\n",
              "      display: none;\n",
              "      fill: #1967D2;\n",
              "      height: 32px;\n",
              "      padding: 0 0 0 0;\n",
              "      width: 32px;\n",
              "    }\n",
              "\n",
              "    .colab-df-convert:hover {\n",
              "      background-color: #E2EBFA;\n",
              "      box-shadow: 0px 1px 2px rgba(60, 64, 67, 0.3), 0px 1px 3px 1px rgba(60, 64, 67, 0.15);\n",
              "      fill: #174EA6;\n",
              "    }\n",
              "\n",
              "    .colab-df-buttons div {\n",
              "      margin-bottom: 4px;\n",
              "    }\n",
              "\n",
              "    [theme=dark] .colab-df-convert {\n",
              "      background-color: #3B4455;\n",
              "      fill: #D2E3FC;\n",
              "    }\n",
              "\n",
              "    [theme=dark] .colab-df-convert:hover {\n",
              "      background-color: #434B5C;\n",
              "      box-shadow: 0px 1px 3px 1px rgba(0, 0, 0, 0.15);\n",
              "      filter: drop-shadow(0px 1px 2px rgba(0, 0, 0, 0.3));\n",
              "      fill: #FFFFFF;\n",
              "    }\n",
              "  </style>\n",
              "\n",
              "    <script>\n",
              "      const buttonEl =\n",
              "        document.querySelector('#df-b0c7acb3-8f01-437f-9bf2-ff579557cd61 button.colab-df-convert');\n",
              "      buttonEl.style.display =\n",
              "        google.colab.kernel.accessAllowed ? 'block' : 'none';\n",
              "\n",
              "      async function convertToInteractive(key) {\n",
              "        const element = document.querySelector('#df-b0c7acb3-8f01-437f-9bf2-ff579557cd61');\n",
              "        const dataTable =\n",
              "          await google.colab.kernel.invokeFunction('convertToInteractive',\n",
              "                                                    [key], {});\n",
              "        if (!dataTable) return;\n",
              "\n",
              "        const docLinkHtml = 'Like what you see? Visit the ' +\n",
              "          '<a target=\"_blank\" href=https://colab.research.google.com/notebooks/data_table.ipynb>data table notebook</a>'\n",
              "          + ' to learn more about interactive tables.';\n",
              "        element.innerHTML = '';\n",
              "        dataTable['output_type'] = 'display_data';\n",
              "        await google.colab.output.renderOutput(dataTable, element);\n",
              "        const docLink = document.createElement('div');\n",
              "        docLink.innerHTML = docLinkHtml;\n",
              "        element.appendChild(docLink);\n",
              "      }\n",
              "    </script>\n",
              "  </div>\n",
              "\n",
              "\n",
              "<div id=\"df-ca2de5cb-a43b-4319-b0b6-94e1a3fded16\">\n",
              "  <button class=\"colab-df-quickchart\" onclick=\"quickchart('df-ca2de5cb-a43b-4319-b0b6-94e1a3fded16')\"\n",
              "            title=\"Suggest charts\"\n",
              "            style=\"display:none;\">\n",
              "\n",
              "<svg xmlns=\"http://www.w3.org/2000/svg\" height=\"24px\"viewBox=\"0 0 24 24\"\n",
              "     width=\"24px\">\n",
              "    <g>\n",
              "        <path d=\"M19 3H5c-1.1 0-2 .9-2 2v14c0 1.1.9 2 2 2h14c1.1 0 2-.9 2-2V5c0-1.1-.9-2-2-2zM9 17H7v-7h2v7zm4 0h-2V7h2v10zm4 0h-2v-4h2v4z\"/>\n",
              "    </g>\n",
              "</svg>\n",
              "  </button>\n",
              "\n",
              "<style>\n",
              "  .colab-df-quickchart {\n",
              "      --bg-color: #E8F0FE;\n",
              "      --fill-color: #1967D2;\n",
              "      --hover-bg-color: #E2EBFA;\n",
              "      --hover-fill-color: #174EA6;\n",
              "      --disabled-fill-color: #AAA;\n",
              "      --disabled-bg-color: #DDD;\n",
              "  }\n",
              "\n",
              "  [theme=dark] .colab-df-quickchart {\n",
              "      --bg-color: #3B4455;\n",
              "      --fill-color: #D2E3FC;\n",
              "      --hover-bg-color: #434B5C;\n",
              "      --hover-fill-color: #FFFFFF;\n",
              "      --disabled-bg-color: #3B4455;\n",
              "      --disabled-fill-color: #666;\n",
              "  }\n",
              "\n",
              "  .colab-df-quickchart {\n",
              "    background-color: var(--bg-color);\n",
              "    border: none;\n",
              "    border-radius: 50%;\n",
              "    cursor: pointer;\n",
              "    display: none;\n",
              "    fill: var(--fill-color);\n",
              "    height: 32px;\n",
              "    padding: 0;\n",
              "    width: 32px;\n",
              "  }\n",
              "\n",
              "  .colab-df-quickchart:hover {\n",
              "    background-color: var(--hover-bg-color);\n",
              "    box-shadow: 0 1px 2px rgba(60, 64, 67, 0.3), 0 1px 3px 1px rgba(60, 64, 67, 0.15);\n",
              "    fill: var(--button-hover-fill-color);\n",
              "  }\n",
              "\n",
              "  .colab-df-quickchart-complete:disabled,\n",
              "  .colab-df-quickchart-complete:disabled:hover {\n",
              "    background-color: var(--disabled-bg-color);\n",
              "    fill: var(--disabled-fill-color);\n",
              "    box-shadow: none;\n",
              "  }\n",
              "\n",
              "  .colab-df-spinner {\n",
              "    border: 2px solid var(--fill-color);\n",
              "    border-color: transparent;\n",
              "    border-bottom-color: var(--fill-color);\n",
              "    animation:\n",
              "      spin 1s steps(1) infinite;\n",
              "  }\n",
              "\n",
              "  @keyframes spin {\n",
              "    0% {\n",
              "      border-color: transparent;\n",
              "      border-bottom-color: var(--fill-color);\n",
              "      border-left-color: var(--fill-color);\n",
              "    }\n",
              "    20% {\n",
              "      border-color: transparent;\n",
              "      border-left-color: var(--fill-color);\n",
              "      border-top-color: var(--fill-color);\n",
              "    }\n",
              "    30% {\n",
              "      border-color: transparent;\n",
              "      border-left-color: var(--fill-color);\n",
              "      border-top-color: var(--fill-color);\n",
              "      border-right-color: var(--fill-color);\n",
              "    }\n",
              "    40% {\n",
              "      border-color: transparent;\n",
              "      border-right-color: var(--fill-color);\n",
              "      border-top-color: var(--fill-color);\n",
              "    }\n",
              "    60% {\n",
              "      border-color: transparent;\n",
              "      border-right-color: var(--fill-color);\n",
              "    }\n",
              "    80% {\n",
              "      border-color: transparent;\n",
              "      border-right-color: var(--fill-color);\n",
              "      border-bottom-color: var(--fill-color);\n",
              "    }\n",
              "    90% {\n",
              "      border-color: transparent;\n",
              "      border-bottom-color: var(--fill-color);\n",
              "    }\n",
              "  }\n",
              "</style>\n",
              "\n",
              "  <script>\n",
              "    async function quickchart(key) {\n",
              "      const quickchartButtonEl =\n",
              "        document.querySelector('#' + key + ' button');\n",
              "      quickchartButtonEl.disabled = true;  // To prevent multiple clicks.\n",
              "      quickchartButtonEl.classList.add('colab-df-spinner');\n",
              "      try {\n",
              "        const charts = await google.colab.kernel.invokeFunction(\n",
              "            'suggestCharts', [key], {});\n",
              "      } catch (error) {\n",
              "        console.error('Error during call to suggestCharts:', error);\n",
              "      }\n",
              "      quickchartButtonEl.classList.remove('colab-df-spinner');\n",
              "      quickchartButtonEl.classList.add('colab-df-quickchart-complete');\n",
              "    }\n",
              "    (() => {\n",
              "      let quickchartButtonEl =\n",
              "        document.querySelector('#df-ca2de5cb-a43b-4319-b0b6-94e1a3fded16 button');\n",
              "      quickchartButtonEl.style.display =\n",
              "        google.colab.kernel.accessAllowed ? 'block' : 'none';\n",
              "    })();\n",
              "  </script>\n",
              "</div>\n",
              "\n",
              "  <div id=\"id_fba26183-7e79-488a-a798-763d0cbd888a\">\n",
              "    <style>\n",
              "      .colab-df-generate {\n",
              "        background-color: #E8F0FE;\n",
              "        border: none;\n",
              "        border-radius: 50%;\n",
              "        cursor: pointer;\n",
              "        display: none;\n",
              "        fill: #1967D2;\n",
              "        height: 32px;\n",
              "        padding: 0 0 0 0;\n",
              "        width: 32px;\n",
              "      }\n",
              "\n",
              "      .colab-df-generate:hover {\n",
              "        background-color: #E2EBFA;\n",
              "        box-shadow: 0px 1px 2px rgba(60, 64, 67, 0.3), 0px 1px 3px 1px rgba(60, 64, 67, 0.15);\n",
              "        fill: #174EA6;\n",
              "      }\n",
              "\n",
              "      [theme=dark] .colab-df-generate {\n",
              "        background-color: #3B4455;\n",
              "        fill: #D2E3FC;\n",
              "      }\n",
              "\n",
              "      [theme=dark] .colab-df-generate:hover {\n",
              "        background-color: #434B5C;\n",
              "        box-shadow: 0px 1px 3px 1px rgba(0, 0, 0, 0.15);\n",
              "        filter: drop-shadow(0px 1px 2px rgba(0, 0, 0, 0.3));\n",
              "        fill: #FFFFFF;\n",
              "      }\n",
              "    </style>\n",
              "    <button class=\"colab-df-generate\" onclick=\"generateWithVariable('df')\"\n",
              "            title=\"Generate code using this dataframe.\"\n",
              "            style=\"display:none;\">\n",
              "\n",
              "  <svg xmlns=\"http://www.w3.org/2000/svg\" height=\"24px\"viewBox=\"0 0 24 24\"\n",
              "       width=\"24px\">\n",
              "    <path d=\"M7,19H8.4L18.45,9,17,7.55,7,17.6ZM5,21V16.75L18.45,3.32a2,2,0,0,1,2.83,0l1.4,1.43a1.91,1.91,0,0,1,.58,1.4,1.91,1.91,0,0,1-.58,1.4L9.25,21ZM18.45,9,17,7.55Zm-12,3A5.31,5.31,0,0,0,4.9,8.1,5.31,5.31,0,0,0,1,6.5,5.31,5.31,0,0,0,4.9,4.9,5.31,5.31,0,0,0,6.5,1,5.31,5.31,0,0,0,8.1,4.9,5.31,5.31,0,0,0,12,6.5,5.46,5.46,0,0,0,6.5,12Z\"/>\n",
              "  </svg>\n",
              "    </button>\n",
              "    <script>\n",
              "      (() => {\n",
              "      const buttonEl =\n",
              "        document.querySelector('#id_fba26183-7e79-488a-a798-763d0cbd888a button.colab-df-generate');\n",
              "      buttonEl.style.display =\n",
              "        google.colab.kernel.accessAllowed ? 'block' : 'none';\n",
              "\n",
              "      buttonEl.onclick = () => {\n",
              "        google.colab.notebook.generateWithVariable('df');\n",
              "      }\n",
              "      })();\n",
              "    </script>\n",
              "  </div>\n",
              "\n",
              "    </div>\n",
              "  </div>\n"
            ],
            "application/vnd.google.colaboratory.intrinsic+json": {
              "type": "dataframe",
              "variable_name": "df",
              "summary": "{\n  \"name\": \"df\",\n  \"rows\": 5,\n  \"fields\": [\n    {\n      \"column\": \"Unnamed: 0\",\n      \"properties\": {\n        \"dtype\": \"string\",\n        \"num_unique_values\": 5,\n        \"samples\": [\n          \"US\",\n          \"RU\",\n          \"JP\"\n        ],\n        \"semantic_type\": \"\",\n        \"description\": \"\"\n      }\n    },\n    {\n      \"column\": \"country\",\n      \"properties\": {\n        \"dtype\": \"string\",\n        \"num_unique_values\": 5,\n        \"samples\": [\n          \"USA\",\n          \"Russia\",\n          \"Japan\"\n        ],\n        \"semantic_type\": \"\",\n        \"description\": \"\"\n      }\n    },\n    {\n      \"column\": \"area\",\n      \"properties\": {\n        \"dtype\": \"number\",\n        \"std\": 7185065,\n        \"min\": 98480,\n        \"max\": 17100000,\n        \"num_unique_values\": 5,\n        \"samples\": [\n          9629091,\n          17100000,\n          377835\n        ],\n        \"semantic_type\": \"\",\n        \"description\": \"\"\n      }\n    },\n    {\n      \"column\": \"capital\",\n      \"properties\": {\n        \"dtype\": \"string\",\n        \"num_unique_values\": 5,\n        \"samples\": [\n          \"Washington\",\n          \"Moscow\",\n          \"Tokyo\"\n        ],\n        \"semantic_type\": \"\",\n        \"description\": \"\"\n      }\n    },\n    {\n      \"column\": \"population\",\n      \"properties\": {\n        \"dtype\": \"number\",\n        \"std\": 579579005,\n        \"min\": 51780579,\n        \"max\": 1439323688,\n        \"num_unique_values\": 5,\n        \"samples\": [\n          331002825,\n          146748600,\n          125960000\n        ],\n        \"semantic_type\": \"\",\n        \"description\": \"\"\n      }\n    }\n  ]\n}"
            }
          },
          "metadata": {},
          "execution_count": 42
        }
      ],
      "source": [
        "#데이터 전체 확인\n",
        "df\n",
        "# df.to_numpy()"
      ]
    },
    {
      "cell_type": "code",
      "execution_count": 45,
      "metadata": {
        "id": "C2QRTdulXfoJ",
        "outputId": "8fc1c2be-822e-4454-8353-747007e1114f",
        "colab": {
          "base_uri": "https://localhost:8080/",
          "height": 143
        }
      },
      "outputs": [
        {
          "output_type": "execute_result",
          "data": {
            "text/plain": [
              "  Unnamed: 0 country     area     capital  population\n",
              "0         KR   Korea    98480       Seoul    51780579\n",
              "1         US     USA  9629091  Washington   331002825\n",
              "2         JP   Japan   377835       Tokyo   125960000"
            ],
            "text/html": [
              "\n",
              "  <div id=\"df-a7a043a0-f007-4694-8f11-f2526d6f42cf\" class=\"colab-df-container\">\n",
              "    <div>\n",
              "<style scoped>\n",
              "    .dataframe tbody tr th:only-of-type {\n",
              "        vertical-align: middle;\n",
              "    }\n",
              "\n",
              "    .dataframe tbody tr th {\n",
              "        vertical-align: top;\n",
              "    }\n",
              "\n",
              "    .dataframe thead th {\n",
              "        text-align: right;\n",
              "    }\n",
              "</style>\n",
              "<table border=\"1\" class=\"dataframe\">\n",
              "  <thead>\n",
              "    <tr style=\"text-align: right;\">\n",
              "      <th></th>\n",
              "      <th>Unnamed: 0</th>\n",
              "      <th>country</th>\n",
              "      <th>area</th>\n",
              "      <th>capital</th>\n",
              "      <th>population</th>\n",
              "    </tr>\n",
              "  </thead>\n",
              "  <tbody>\n",
              "    <tr>\n",
              "      <th>0</th>\n",
              "      <td>KR</td>\n",
              "      <td>Korea</td>\n",
              "      <td>98480</td>\n",
              "      <td>Seoul</td>\n",
              "      <td>51780579</td>\n",
              "    </tr>\n",
              "    <tr>\n",
              "      <th>1</th>\n",
              "      <td>US</td>\n",
              "      <td>USA</td>\n",
              "      <td>9629091</td>\n",
              "      <td>Washington</td>\n",
              "      <td>331002825</td>\n",
              "    </tr>\n",
              "    <tr>\n",
              "      <th>2</th>\n",
              "      <td>JP</td>\n",
              "      <td>Japan</td>\n",
              "      <td>377835</td>\n",
              "      <td>Tokyo</td>\n",
              "      <td>125960000</td>\n",
              "    </tr>\n",
              "  </tbody>\n",
              "</table>\n",
              "</div>\n",
              "    <div class=\"colab-df-buttons\">\n",
              "\n",
              "  <div class=\"colab-df-container\">\n",
              "    <button class=\"colab-df-convert\" onclick=\"convertToInteractive('df-a7a043a0-f007-4694-8f11-f2526d6f42cf')\"\n",
              "            title=\"Convert this dataframe to an interactive table.\"\n",
              "            style=\"display:none;\">\n",
              "\n",
              "  <svg xmlns=\"http://www.w3.org/2000/svg\" height=\"24px\" viewBox=\"0 -960 960 960\">\n",
              "    <path d=\"M120-120v-720h720v720H120Zm60-500h600v-160H180v160Zm220 220h160v-160H400v160Zm0 220h160v-160H400v160ZM180-400h160v-160H180v160Zm440 0h160v-160H620v160ZM180-180h160v-160H180v160Zm440 0h160v-160H620v160Z\"/>\n",
              "  </svg>\n",
              "    </button>\n",
              "\n",
              "  <style>\n",
              "    .colab-df-container {\n",
              "      display:flex;\n",
              "      gap: 12px;\n",
              "    }\n",
              "\n",
              "    .colab-df-convert {\n",
              "      background-color: #E8F0FE;\n",
              "      border: none;\n",
              "      border-radius: 50%;\n",
              "      cursor: pointer;\n",
              "      display: none;\n",
              "      fill: #1967D2;\n",
              "      height: 32px;\n",
              "      padding: 0 0 0 0;\n",
              "      width: 32px;\n",
              "    }\n",
              "\n",
              "    .colab-df-convert:hover {\n",
              "      background-color: #E2EBFA;\n",
              "      box-shadow: 0px 1px 2px rgba(60, 64, 67, 0.3), 0px 1px 3px 1px rgba(60, 64, 67, 0.15);\n",
              "      fill: #174EA6;\n",
              "    }\n",
              "\n",
              "    .colab-df-buttons div {\n",
              "      margin-bottom: 4px;\n",
              "    }\n",
              "\n",
              "    [theme=dark] .colab-df-convert {\n",
              "      background-color: #3B4455;\n",
              "      fill: #D2E3FC;\n",
              "    }\n",
              "\n",
              "    [theme=dark] .colab-df-convert:hover {\n",
              "      background-color: #434B5C;\n",
              "      box-shadow: 0px 1px 3px 1px rgba(0, 0, 0, 0.15);\n",
              "      filter: drop-shadow(0px 1px 2px rgba(0, 0, 0, 0.3));\n",
              "      fill: #FFFFFF;\n",
              "    }\n",
              "  </style>\n",
              "\n",
              "    <script>\n",
              "      const buttonEl =\n",
              "        document.querySelector('#df-a7a043a0-f007-4694-8f11-f2526d6f42cf button.colab-df-convert');\n",
              "      buttonEl.style.display =\n",
              "        google.colab.kernel.accessAllowed ? 'block' : 'none';\n",
              "\n",
              "      async function convertToInteractive(key) {\n",
              "        const element = document.querySelector('#df-a7a043a0-f007-4694-8f11-f2526d6f42cf');\n",
              "        const dataTable =\n",
              "          await google.colab.kernel.invokeFunction('convertToInteractive',\n",
              "                                                    [key], {});\n",
              "        if (!dataTable) return;\n",
              "\n",
              "        const docLinkHtml = 'Like what you see? Visit the ' +\n",
              "          '<a target=\"_blank\" href=https://colab.research.google.com/notebooks/data_table.ipynb>data table notebook</a>'\n",
              "          + ' to learn more about interactive tables.';\n",
              "        element.innerHTML = '';\n",
              "        dataTable['output_type'] = 'display_data';\n",
              "        await google.colab.output.renderOutput(dataTable, element);\n",
              "        const docLink = document.createElement('div');\n",
              "        docLink.innerHTML = docLinkHtml;\n",
              "        element.appendChild(docLink);\n",
              "      }\n",
              "    </script>\n",
              "  </div>\n",
              "\n",
              "\n",
              "<div id=\"df-5aaf2963-d0bd-4ec4-97ff-271656cf278d\">\n",
              "  <button class=\"colab-df-quickchart\" onclick=\"quickchart('df-5aaf2963-d0bd-4ec4-97ff-271656cf278d')\"\n",
              "            title=\"Suggest charts\"\n",
              "            style=\"display:none;\">\n",
              "\n",
              "<svg xmlns=\"http://www.w3.org/2000/svg\" height=\"24px\"viewBox=\"0 0 24 24\"\n",
              "     width=\"24px\">\n",
              "    <g>\n",
              "        <path d=\"M19 3H5c-1.1 0-2 .9-2 2v14c0 1.1.9 2 2 2h14c1.1 0 2-.9 2-2V5c0-1.1-.9-2-2-2zM9 17H7v-7h2v7zm4 0h-2V7h2v10zm4 0h-2v-4h2v4z\"/>\n",
              "    </g>\n",
              "</svg>\n",
              "  </button>\n",
              "\n",
              "<style>\n",
              "  .colab-df-quickchart {\n",
              "      --bg-color: #E8F0FE;\n",
              "      --fill-color: #1967D2;\n",
              "      --hover-bg-color: #E2EBFA;\n",
              "      --hover-fill-color: #174EA6;\n",
              "      --disabled-fill-color: #AAA;\n",
              "      --disabled-bg-color: #DDD;\n",
              "  }\n",
              "\n",
              "  [theme=dark] .colab-df-quickchart {\n",
              "      --bg-color: #3B4455;\n",
              "      --fill-color: #D2E3FC;\n",
              "      --hover-bg-color: #434B5C;\n",
              "      --hover-fill-color: #FFFFFF;\n",
              "      --disabled-bg-color: #3B4455;\n",
              "      --disabled-fill-color: #666;\n",
              "  }\n",
              "\n",
              "  .colab-df-quickchart {\n",
              "    background-color: var(--bg-color);\n",
              "    border: none;\n",
              "    border-radius: 50%;\n",
              "    cursor: pointer;\n",
              "    display: none;\n",
              "    fill: var(--fill-color);\n",
              "    height: 32px;\n",
              "    padding: 0;\n",
              "    width: 32px;\n",
              "  }\n",
              "\n",
              "  .colab-df-quickchart:hover {\n",
              "    background-color: var(--hover-bg-color);\n",
              "    box-shadow: 0 1px 2px rgba(60, 64, 67, 0.3), 0 1px 3px 1px rgba(60, 64, 67, 0.15);\n",
              "    fill: var(--button-hover-fill-color);\n",
              "  }\n",
              "\n",
              "  .colab-df-quickchart-complete:disabled,\n",
              "  .colab-df-quickchart-complete:disabled:hover {\n",
              "    background-color: var(--disabled-bg-color);\n",
              "    fill: var(--disabled-fill-color);\n",
              "    box-shadow: none;\n",
              "  }\n",
              "\n",
              "  .colab-df-spinner {\n",
              "    border: 2px solid var(--fill-color);\n",
              "    border-color: transparent;\n",
              "    border-bottom-color: var(--fill-color);\n",
              "    animation:\n",
              "      spin 1s steps(1) infinite;\n",
              "  }\n",
              "\n",
              "  @keyframes spin {\n",
              "    0% {\n",
              "      border-color: transparent;\n",
              "      border-bottom-color: var(--fill-color);\n",
              "      border-left-color: var(--fill-color);\n",
              "    }\n",
              "    20% {\n",
              "      border-color: transparent;\n",
              "      border-left-color: var(--fill-color);\n",
              "      border-top-color: var(--fill-color);\n",
              "    }\n",
              "    30% {\n",
              "      border-color: transparent;\n",
              "      border-left-color: var(--fill-color);\n",
              "      border-top-color: var(--fill-color);\n",
              "      border-right-color: var(--fill-color);\n",
              "    }\n",
              "    40% {\n",
              "      border-color: transparent;\n",
              "      border-right-color: var(--fill-color);\n",
              "      border-top-color: var(--fill-color);\n",
              "    }\n",
              "    60% {\n",
              "      border-color: transparent;\n",
              "      border-right-color: var(--fill-color);\n",
              "    }\n",
              "    80% {\n",
              "      border-color: transparent;\n",
              "      border-right-color: var(--fill-color);\n",
              "      border-bottom-color: var(--fill-color);\n",
              "    }\n",
              "    90% {\n",
              "      border-color: transparent;\n",
              "      border-bottom-color: var(--fill-color);\n",
              "    }\n",
              "  }\n",
              "</style>\n",
              "\n",
              "  <script>\n",
              "    async function quickchart(key) {\n",
              "      const quickchartButtonEl =\n",
              "        document.querySelector('#' + key + ' button');\n",
              "      quickchartButtonEl.disabled = true;  // To prevent multiple clicks.\n",
              "      quickchartButtonEl.classList.add('colab-df-spinner');\n",
              "      try {\n",
              "        const charts = await google.colab.kernel.invokeFunction(\n",
              "            'suggestCharts', [key], {});\n",
              "      } catch (error) {\n",
              "        console.error('Error during call to suggestCharts:', error);\n",
              "      }\n",
              "      quickchartButtonEl.classList.remove('colab-df-spinner');\n",
              "      quickchartButtonEl.classList.add('colab-df-quickchart-complete');\n",
              "    }\n",
              "    (() => {\n",
              "      let quickchartButtonEl =\n",
              "        document.querySelector('#df-5aaf2963-d0bd-4ec4-97ff-271656cf278d button');\n",
              "      quickchartButtonEl.style.display =\n",
              "        google.colab.kernel.accessAllowed ? 'block' : 'none';\n",
              "    })();\n",
              "  </script>\n",
              "</div>\n",
              "\n",
              "    </div>\n",
              "  </div>\n"
            ],
            "application/vnd.google.colaboratory.intrinsic+json": {
              "type": "dataframe",
              "variable_name": "df",
              "summary": "{\n  \"name\": \"df\",\n  \"rows\": 5,\n  \"fields\": [\n    {\n      \"column\": \"Unnamed: 0\",\n      \"properties\": {\n        \"dtype\": \"string\",\n        \"num_unique_values\": 5,\n        \"samples\": [\n          \"US\",\n          \"RU\",\n          \"JP\"\n        ],\n        \"semantic_type\": \"\",\n        \"description\": \"\"\n      }\n    },\n    {\n      \"column\": \"country\",\n      \"properties\": {\n        \"dtype\": \"string\",\n        \"num_unique_values\": 5,\n        \"samples\": [\n          \"USA\",\n          \"Russia\",\n          \"Japan\"\n        ],\n        \"semantic_type\": \"\",\n        \"description\": \"\"\n      }\n    },\n    {\n      \"column\": \"area\",\n      \"properties\": {\n        \"dtype\": \"number\",\n        \"std\": 7185065,\n        \"min\": 98480,\n        \"max\": 17100000,\n        \"num_unique_values\": 5,\n        \"samples\": [\n          9629091,\n          17100000,\n          377835\n        ],\n        \"semantic_type\": \"\",\n        \"description\": \"\"\n      }\n    },\n    {\n      \"column\": \"capital\",\n      \"properties\": {\n        \"dtype\": \"string\",\n        \"num_unique_values\": 5,\n        \"samples\": [\n          \"Washington\",\n          \"Moscow\",\n          \"Tokyo\"\n        ],\n        \"semantic_type\": \"\",\n        \"description\": \"\"\n      }\n    },\n    {\n      \"column\": \"population\",\n      \"properties\": {\n        \"dtype\": \"number\",\n        \"std\": 579579005,\n        \"min\": 51780579,\n        \"max\": 1439323688,\n        \"num_unique_values\": 5,\n        \"samples\": [\n          331002825,\n          146748600,\n          125960000\n        ],\n        \"semantic_type\": \"\",\n        \"description\": \"\"\n      }\n    }\n  ]\n}"
            }
          },
          "metadata": {},
          "execution_count": 45
        }
      ],
      "source": [
        "#데이터의 첫 5행 확인\n",
        "df.head(3)"
      ]
    },
    {
      "cell_type": "code",
      "execution_count": 46,
      "metadata": {
        "id": "RNGH7rFIX2Cs",
        "outputId": "eeb93428-db20-47b7-d489-846a6bf730c2",
        "colab": {
          "base_uri": "https://localhost:8080/",
          "height": 206
        }
      },
      "outputs": [
        {
          "output_type": "execute_result",
          "data": {
            "text/plain": [
              "  Unnamed: 0 country      area     capital  population\n",
              "0         KR   Korea     98480       Seoul    51780579\n",
              "1         US     USA   9629091  Washington   331002825\n",
              "2         JP   Japan    377835       Tokyo   125960000\n",
              "3         CN   China   9596960     Beijing  1439323688\n",
              "4         RU  Russia  17100000      Moscow   146748600"
            ],
            "text/html": [
              "\n",
              "  <div id=\"df-20aeeafa-6e5b-4f24-8f8d-aef9ae581abf\" class=\"colab-df-container\">\n",
              "    <div>\n",
              "<style scoped>\n",
              "    .dataframe tbody tr th:only-of-type {\n",
              "        vertical-align: middle;\n",
              "    }\n",
              "\n",
              "    .dataframe tbody tr th {\n",
              "        vertical-align: top;\n",
              "    }\n",
              "\n",
              "    .dataframe thead th {\n",
              "        text-align: right;\n",
              "    }\n",
              "</style>\n",
              "<table border=\"1\" class=\"dataframe\">\n",
              "  <thead>\n",
              "    <tr style=\"text-align: right;\">\n",
              "      <th></th>\n",
              "      <th>Unnamed: 0</th>\n",
              "      <th>country</th>\n",
              "      <th>area</th>\n",
              "      <th>capital</th>\n",
              "      <th>population</th>\n",
              "    </tr>\n",
              "  </thead>\n",
              "  <tbody>\n",
              "    <tr>\n",
              "      <th>0</th>\n",
              "      <td>KR</td>\n",
              "      <td>Korea</td>\n",
              "      <td>98480</td>\n",
              "      <td>Seoul</td>\n",
              "      <td>51780579</td>\n",
              "    </tr>\n",
              "    <tr>\n",
              "      <th>1</th>\n",
              "      <td>US</td>\n",
              "      <td>USA</td>\n",
              "      <td>9629091</td>\n",
              "      <td>Washington</td>\n",
              "      <td>331002825</td>\n",
              "    </tr>\n",
              "    <tr>\n",
              "      <th>2</th>\n",
              "      <td>JP</td>\n",
              "      <td>Japan</td>\n",
              "      <td>377835</td>\n",
              "      <td>Tokyo</td>\n",
              "      <td>125960000</td>\n",
              "    </tr>\n",
              "    <tr>\n",
              "      <th>3</th>\n",
              "      <td>CN</td>\n",
              "      <td>China</td>\n",
              "      <td>9596960</td>\n",
              "      <td>Beijing</td>\n",
              "      <td>1439323688</td>\n",
              "    </tr>\n",
              "    <tr>\n",
              "      <th>4</th>\n",
              "      <td>RU</td>\n",
              "      <td>Russia</td>\n",
              "      <td>17100000</td>\n",
              "      <td>Moscow</td>\n",
              "      <td>146748600</td>\n",
              "    </tr>\n",
              "  </tbody>\n",
              "</table>\n",
              "</div>\n",
              "    <div class=\"colab-df-buttons\">\n",
              "\n",
              "  <div class=\"colab-df-container\">\n",
              "    <button class=\"colab-df-convert\" onclick=\"convertToInteractive('df-20aeeafa-6e5b-4f24-8f8d-aef9ae581abf')\"\n",
              "            title=\"Convert this dataframe to an interactive table.\"\n",
              "            style=\"display:none;\">\n",
              "\n",
              "  <svg xmlns=\"http://www.w3.org/2000/svg\" height=\"24px\" viewBox=\"0 -960 960 960\">\n",
              "    <path d=\"M120-120v-720h720v720H120Zm60-500h600v-160H180v160Zm220 220h160v-160H400v160Zm0 220h160v-160H400v160ZM180-400h160v-160H180v160Zm440 0h160v-160H620v160ZM180-180h160v-160H180v160Zm440 0h160v-160H620v160Z\"/>\n",
              "  </svg>\n",
              "    </button>\n",
              "\n",
              "  <style>\n",
              "    .colab-df-container {\n",
              "      display:flex;\n",
              "      gap: 12px;\n",
              "    }\n",
              "\n",
              "    .colab-df-convert {\n",
              "      background-color: #E8F0FE;\n",
              "      border: none;\n",
              "      border-radius: 50%;\n",
              "      cursor: pointer;\n",
              "      display: none;\n",
              "      fill: #1967D2;\n",
              "      height: 32px;\n",
              "      padding: 0 0 0 0;\n",
              "      width: 32px;\n",
              "    }\n",
              "\n",
              "    .colab-df-convert:hover {\n",
              "      background-color: #E2EBFA;\n",
              "      box-shadow: 0px 1px 2px rgba(60, 64, 67, 0.3), 0px 1px 3px 1px rgba(60, 64, 67, 0.15);\n",
              "      fill: #174EA6;\n",
              "    }\n",
              "\n",
              "    .colab-df-buttons div {\n",
              "      margin-bottom: 4px;\n",
              "    }\n",
              "\n",
              "    [theme=dark] .colab-df-convert {\n",
              "      background-color: #3B4455;\n",
              "      fill: #D2E3FC;\n",
              "    }\n",
              "\n",
              "    [theme=dark] .colab-df-convert:hover {\n",
              "      background-color: #434B5C;\n",
              "      box-shadow: 0px 1px 3px 1px rgba(0, 0, 0, 0.15);\n",
              "      filter: drop-shadow(0px 1px 2px rgba(0, 0, 0, 0.3));\n",
              "      fill: #FFFFFF;\n",
              "    }\n",
              "  </style>\n",
              "\n",
              "    <script>\n",
              "      const buttonEl =\n",
              "        document.querySelector('#df-20aeeafa-6e5b-4f24-8f8d-aef9ae581abf button.colab-df-convert');\n",
              "      buttonEl.style.display =\n",
              "        google.colab.kernel.accessAllowed ? 'block' : 'none';\n",
              "\n",
              "      async function convertToInteractive(key) {\n",
              "        const element = document.querySelector('#df-20aeeafa-6e5b-4f24-8f8d-aef9ae581abf');\n",
              "        const dataTable =\n",
              "          await google.colab.kernel.invokeFunction('convertToInteractive',\n",
              "                                                    [key], {});\n",
              "        if (!dataTable) return;\n",
              "\n",
              "        const docLinkHtml = 'Like what you see? Visit the ' +\n",
              "          '<a target=\"_blank\" href=https://colab.research.google.com/notebooks/data_table.ipynb>data table notebook</a>'\n",
              "          + ' to learn more about interactive tables.';\n",
              "        element.innerHTML = '';\n",
              "        dataTable['output_type'] = 'display_data';\n",
              "        await google.colab.output.renderOutput(dataTable, element);\n",
              "        const docLink = document.createElement('div');\n",
              "        docLink.innerHTML = docLinkHtml;\n",
              "        element.appendChild(docLink);\n",
              "      }\n",
              "    </script>\n",
              "  </div>\n",
              "\n",
              "\n",
              "<div id=\"df-6562d836-55ac-4492-8eb5-831fa2e84cf9\">\n",
              "  <button class=\"colab-df-quickchart\" onclick=\"quickchart('df-6562d836-55ac-4492-8eb5-831fa2e84cf9')\"\n",
              "            title=\"Suggest charts\"\n",
              "            style=\"display:none;\">\n",
              "\n",
              "<svg xmlns=\"http://www.w3.org/2000/svg\" height=\"24px\"viewBox=\"0 0 24 24\"\n",
              "     width=\"24px\">\n",
              "    <g>\n",
              "        <path d=\"M19 3H5c-1.1 0-2 .9-2 2v14c0 1.1.9 2 2 2h14c1.1 0 2-.9 2-2V5c0-1.1-.9-2-2-2zM9 17H7v-7h2v7zm4 0h-2V7h2v10zm4 0h-2v-4h2v4z\"/>\n",
              "    </g>\n",
              "</svg>\n",
              "  </button>\n",
              "\n",
              "<style>\n",
              "  .colab-df-quickchart {\n",
              "      --bg-color: #E8F0FE;\n",
              "      --fill-color: #1967D2;\n",
              "      --hover-bg-color: #E2EBFA;\n",
              "      --hover-fill-color: #174EA6;\n",
              "      --disabled-fill-color: #AAA;\n",
              "      --disabled-bg-color: #DDD;\n",
              "  }\n",
              "\n",
              "  [theme=dark] .colab-df-quickchart {\n",
              "      --bg-color: #3B4455;\n",
              "      --fill-color: #D2E3FC;\n",
              "      --hover-bg-color: #434B5C;\n",
              "      --hover-fill-color: #FFFFFF;\n",
              "      --disabled-bg-color: #3B4455;\n",
              "      --disabled-fill-color: #666;\n",
              "  }\n",
              "\n",
              "  .colab-df-quickchart {\n",
              "    background-color: var(--bg-color);\n",
              "    border: none;\n",
              "    border-radius: 50%;\n",
              "    cursor: pointer;\n",
              "    display: none;\n",
              "    fill: var(--fill-color);\n",
              "    height: 32px;\n",
              "    padding: 0;\n",
              "    width: 32px;\n",
              "  }\n",
              "\n",
              "  .colab-df-quickchart:hover {\n",
              "    background-color: var(--hover-bg-color);\n",
              "    box-shadow: 0 1px 2px rgba(60, 64, 67, 0.3), 0 1px 3px 1px rgba(60, 64, 67, 0.15);\n",
              "    fill: var(--button-hover-fill-color);\n",
              "  }\n",
              "\n",
              "  .colab-df-quickchart-complete:disabled,\n",
              "  .colab-df-quickchart-complete:disabled:hover {\n",
              "    background-color: var(--disabled-bg-color);\n",
              "    fill: var(--disabled-fill-color);\n",
              "    box-shadow: none;\n",
              "  }\n",
              "\n",
              "  .colab-df-spinner {\n",
              "    border: 2px solid var(--fill-color);\n",
              "    border-color: transparent;\n",
              "    border-bottom-color: var(--fill-color);\n",
              "    animation:\n",
              "      spin 1s steps(1) infinite;\n",
              "  }\n",
              "\n",
              "  @keyframes spin {\n",
              "    0% {\n",
              "      border-color: transparent;\n",
              "      border-bottom-color: var(--fill-color);\n",
              "      border-left-color: var(--fill-color);\n",
              "    }\n",
              "    20% {\n",
              "      border-color: transparent;\n",
              "      border-left-color: var(--fill-color);\n",
              "      border-top-color: var(--fill-color);\n",
              "    }\n",
              "    30% {\n",
              "      border-color: transparent;\n",
              "      border-left-color: var(--fill-color);\n",
              "      border-top-color: var(--fill-color);\n",
              "      border-right-color: var(--fill-color);\n",
              "    }\n",
              "    40% {\n",
              "      border-color: transparent;\n",
              "      border-right-color: var(--fill-color);\n",
              "      border-top-color: var(--fill-color);\n",
              "    }\n",
              "    60% {\n",
              "      border-color: transparent;\n",
              "      border-right-color: var(--fill-color);\n",
              "    }\n",
              "    80% {\n",
              "      border-color: transparent;\n",
              "      border-right-color: var(--fill-color);\n",
              "      border-bottom-color: var(--fill-color);\n",
              "    }\n",
              "    90% {\n",
              "      border-color: transparent;\n",
              "      border-bottom-color: var(--fill-color);\n",
              "    }\n",
              "  }\n",
              "</style>\n",
              "\n",
              "  <script>\n",
              "    async function quickchart(key) {\n",
              "      const quickchartButtonEl =\n",
              "        document.querySelector('#' + key + ' button');\n",
              "      quickchartButtonEl.disabled = true;  // To prevent multiple clicks.\n",
              "      quickchartButtonEl.classList.add('colab-df-spinner');\n",
              "      try {\n",
              "        const charts = await google.colab.kernel.invokeFunction(\n",
              "            'suggestCharts', [key], {});\n",
              "      } catch (error) {\n",
              "        console.error('Error during call to suggestCharts:', error);\n",
              "      }\n",
              "      quickchartButtonEl.classList.remove('colab-df-spinner');\n",
              "      quickchartButtonEl.classList.add('colab-df-quickchart-complete');\n",
              "    }\n",
              "    (() => {\n",
              "      let quickchartButtonEl =\n",
              "        document.querySelector('#df-6562d836-55ac-4492-8eb5-831fa2e84cf9 button');\n",
              "      quickchartButtonEl.style.display =\n",
              "        google.colab.kernel.accessAllowed ? 'block' : 'none';\n",
              "    })();\n",
              "  </script>\n",
              "</div>\n",
              "\n",
              "    </div>\n",
              "  </div>\n"
            ],
            "application/vnd.google.colaboratory.intrinsic+json": {
              "type": "dataframe",
              "summary": "{\n  \"name\": \"df\",\n  \"rows\": 5,\n  \"fields\": [\n    {\n      \"column\": \"Unnamed: 0\",\n      \"properties\": {\n        \"dtype\": \"string\",\n        \"num_unique_values\": 5,\n        \"samples\": [\n          \"US\",\n          \"RU\",\n          \"JP\"\n        ],\n        \"semantic_type\": \"\",\n        \"description\": \"\"\n      }\n    },\n    {\n      \"column\": \"country\",\n      \"properties\": {\n        \"dtype\": \"string\",\n        \"num_unique_values\": 5,\n        \"samples\": [\n          \"USA\",\n          \"Russia\",\n          \"Japan\"\n        ],\n        \"semantic_type\": \"\",\n        \"description\": \"\"\n      }\n    },\n    {\n      \"column\": \"area\",\n      \"properties\": {\n        \"dtype\": \"number\",\n        \"std\": 7185065,\n        \"min\": 98480,\n        \"max\": 17100000,\n        \"num_unique_values\": 5,\n        \"samples\": [\n          9629091,\n          17100000,\n          377835\n        ],\n        \"semantic_type\": \"\",\n        \"description\": \"\"\n      }\n    },\n    {\n      \"column\": \"capital\",\n      \"properties\": {\n        \"dtype\": \"string\",\n        \"num_unique_values\": 5,\n        \"samples\": [\n          \"Washington\",\n          \"Moscow\",\n          \"Tokyo\"\n        ],\n        \"semantic_type\": \"\",\n        \"description\": \"\"\n      }\n    },\n    {\n      \"column\": \"population\",\n      \"properties\": {\n        \"dtype\": \"number\",\n        \"std\": 579579005,\n        \"min\": 51780579,\n        \"max\": 1439323688,\n        \"num_unique_values\": 5,\n        \"samples\": [\n          331002825,\n          146748600,\n          125960000\n        ],\n        \"semantic_type\": \"\",\n        \"description\": \"\"\n      }\n    }\n  ]\n}"
            }
          },
          "metadata": {},
          "execution_count": 46
        }
      ],
      "source": [
        "#데이터의 마지막 5행 확인\n",
        "df.tail()"
      ]
    },
    {
      "cell_type": "markdown",
      "metadata": {
        "id": "wsyLBCsFhUjG"
      },
      "source": [
        "## 파일 경로 세팅\n",
        "파이썬의 `os`  모듈을 사용한다.\n",
        "\n",
        "```python\n",
        "import os\n",
        "os.getcwd() #현재 기본경로 확인\n",
        "```\n",
        "\n",
        "\n",
        "`os.getcwd` : GET Current Working Directory - 현재 기본경로 확인\n",
        "\n",
        "`os.chdir` : CHange DIRectory - 작업파일 경로를 수정"
      ]
    },
    {
      "cell_type": "code",
      "execution_count": 47,
      "metadata": {
        "id": "qP_yFD-vhSkw",
        "outputId": "d479e9d6-8600-47f8-818c-38e3c8292613",
        "colab": {
          "base_uri": "https://localhost:8080/",
          "height": 35
        }
      },
      "outputs": [
        {
          "output_type": "execute_result",
          "data": {
            "text/plain": [
              "'/content'"
            ],
            "application/vnd.google.colaboratory.intrinsic+json": {
              "type": "string"
            }
          },
          "metadata": {},
          "execution_count": 47
        }
      ],
      "source": [
        "import os\n",
        "os.getcwd()  #현재 작업파일 경로 확인 -GET Current Working Directory"
      ]
    },
    {
      "cell_type": "code",
      "execution_count": 49,
      "metadata": {
        "id": "EiLxlTCkiQ3T"
      },
      "outputs": [],
      "source": [
        "# 작업파일 경로 수정\n",
        "# CHange DIRectory - 작업파일 경로를 수정\n",
        "os.chdir('/content/drive/MyDrive/Colab Notebooks/kdi/202410실습자료')"
      ]
    },
    {
      "cell_type": "code",
      "execution_count": 50,
      "metadata": {
        "id": "AIuu0whxVat0",
        "outputId": "0ddd36c7-bf0b-42da-bda5-99a9d7fd1340",
        "colab": {
          "base_uri": "https://localhost:8080/",
          "height": 35
        }
      },
      "outputs": [
        {
          "output_type": "execute_result",
          "data": {
            "text/plain": [
              "'/content/drive/MyDrive/Colab Notebooks/kdi/202410실습자료'"
            ],
            "application/vnd.google.colaboratory.intrinsic+json": {
              "type": "string"
            }
          },
          "metadata": {},
          "execution_count": 50
        }
      ],
      "source": [
        "# 현재 작업파일 경로 확인\n",
        "# GET Current Working Directory\n",
        "os.getcwd()"
      ]
    },
    {
      "cell_type": "markdown",
      "metadata": {
        "id": "8NQ547EeK1Sp"
      },
      "source": [
        "## pip 와 파이썬의 패키지 관리\n",
        "\n",
        "### 표준 라이브러리 standard library\n",
        "- 파이썬 설치 시 함께 제공하는 모듈의 집합\n",
        "- 다양한 문제를 해결하기 위해서는 이러한 표준 라이브러리의 기본적인 기능뿐만 아니라 여러 프로그래머와 기관에서 만들어 놓은 라이브러리 활용하는 것이 필요하다.\n",
        "- [파이썬 표준라이브러리](https://docs.python.org/ko/3/library/index.html)\n",
        "\n",
        "### 패키지 package\n",
        "- 패키지란, 추가적인 함수를 묶은 것으로 하나의 디렉토리에 있는 모듈/함수들의 집합이다.\n",
        "- 여러 사람들이 미리 만들어 놓은 라이브러리를 간단한 설치로 손쉽게 사용할 수 있다.\n",
        "- pip 프로그램을 이용해서 설치한다.\n",
        "\n",
        "### pip\n",
        "- 파이썬의 패키지 관리 소프트웨어\n",
        "- 표준 라이브러리에 포함되지 않은 외부 라이브러리를 설치하는 도구\n",
        "- 윈도우 명령 프롬프트를 이용하여 명령어를 입력한다.\n",
        "- 주피터노트북에서는 ! 느낌표를 붙여서 사용한다.\n"
      ]
    },
    {
      "cell_type": "markdown",
      "metadata": {
        "id": "iaSAY-PFVat0"
      },
      "source": [
        "#### pip를 이용한 외부 패키지/모듈 설치\n",
        "pip란 파이썬의 패키지 관리 소프트웨어이다.\n",
        "\n",
        "파이썬 표준 라이브러리에 포함되지 않은 외부 라이브러리를 설치하는 도구이다.\n",
        "\n",
        "구글 코랩에선 다음과 같이 설치한다.\n",
        "`!pip install 패키지명`\n",
        "\n",
        "pip를 이용해 모듈이 설치된 상태라면, 모듈 사용을 위해서는 불러와야 한다.\n",
        "\n",
        "`import 모듈이름` 형식으로 설치한 패키지/모듈/함수를 가져온다.\n",
        "\n",
        "만약 불러오지 않는다면 `ModuleNotFoundError` 가 발생한다.\n",
        "```python\n",
        "ModuleNotFoundError                       Traceback (most recent call last)\n",
        "<ipython-input-70-266ca2412bce> in <cell line: 1>()\n",
        "----> 1 from gtts import gTTS\n",
        "\n",
        "ModuleNotFoundError: No module named 'gtts'\n",
        "```\n",
        "\n",
        "\n",
        "- `gtts` 패키지 설치 후, 패키지 내부의  `gTTS` 함수를 적용하여 텍스트를 음성으로 변환한다.\n",
        "\n"
      ]
    },
    {
      "cell_type": "code",
      "execution_count": 54,
      "metadata": {
        "id": "segke0gmVat0",
        "outputId": "c91ed40b-9fe4-42c1-8b39-c88730e4f5c4",
        "colab": {
          "base_uri": "https://localhost:8080/"
        }
      },
      "outputs": [
        {
          "output_type": "stream",
          "name": "stdout",
          "text": [
            "Requirement already satisfied: gtts in /usr/local/lib/python3.10/dist-packages (2.5.3)\n",
            "Requirement already satisfied: requests<3,>=2.27 in /usr/local/lib/python3.10/dist-packages (from gtts) (2.32.3)\n",
            "Requirement already satisfied: click<8.2,>=7.1 in /usr/local/lib/python3.10/dist-packages (from gtts) (8.1.7)\n",
            "Requirement already satisfied: charset-normalizer<4,>=2 in /usr/local/lib/python3.10/dist-packages (from requests<3,>=2.27->gtts) (3.4.0)\n",
            "Requirement already satisfied: idna<4,>=2.5 in /usr/local/lib/python3.10/dist-packages (from requests<3,>=2.27->gtts) (3.10)\n",
            "Requirement already satisfied: urllib3<3,>=1.21.1 in /usr/local/lib/python3.10/dist-packages (from requests<3,>=2.27->gtts) (2.2.3)\n",
            "Requirement already satisfied: certifi>=2017.4.17 in /usr/local/lib/python3.10/dist-packages (from requests<3,>=2.27->gtts) (2024.8.30)\n"
          ]
        }
      ],
      "source": [
        "# pip를 이용하여 gtts 패키지 설치\n",
        "!pip install gtts"
      ]
    },
    {
      "cell_type": "code",
      "execution_count": 57,
      "metadata": {
        "id": "bXMbL2_pVat0"
      },
      "outputs": [],
      "source": [
        "# gtts 패키지 불러오기 (불러오지 않으면 사용할 수 없음)\n",
        "from gtts import gTTS"
      ]
    },
    {
      "cell_type": "code",
      "execution_count": 61,
      "metadata": {
        "id": "EuKu3MZjVat0"
      },
      "outputs": [],
      "source": [
        "# 텍스트 -> 음성으로 변환 후 저장\n",
        "text = '한강 작가 노벨문학상 수상 축하합니다.'\n",
        "tts = gTTS(text,lang='ko')\n",
        "tts.save('축하.mp')"
      ]
    },
    {
      "cell_type": "code",
      "source": [
        "# 파일경로를 별도로 명시하지 않을 경우 현재경로에 저장\n",
        "# 현재경로 확인\n",
        "import os\n",
        "os.getcwd()"
      ],
      "metadata": {
        "id": "bhaxpJ17G_Rc"
      },
      "execution_count": null,
      "outputs": []
    },
    {
      "cell_type": "markdown",
      "metadata": {
        "id": "SbeLdtRnVat0"
      },
      "source": [
        "## 실습 - gTTS\n",
        "- 인터넷에서 텍스트를 찾아 (노래가사, 신문기사 등 ) 텍스트를 입력하여 mp3 파일 형태로 저장하고, 소리를 출력해보자.\n",
        "- 여러 줄의 텍스트를 입력하고 싶을 경우, 앞, 뒤로 따옴표 3개 (\"\"\" 텍스트 \"\"\" ) 가 있어야 한다."
      ]
    },
    {
      "cell_type": "code",
      "execution_count": null,
      "metadata": {
        "id": "Nhnc5N-fVat0"
      },
      "outputs": [],
      "source": [
        "# 파이썬에서 문자열은 따옴표 '' 사이에 나타낸다.\n",
        "## 작은따옴표'', 큰 따옴표 \"\" 모두 가능하나,\n",
        "##여는 따옴표와 닫는 따옴표의 종류는 같아야 한다.\n",
        "## 줄바꿈(엔터)를 포함하고 싶을 경우, 앞-뒤로 따옴표를 3개씩 붙인다.\n",
        "## ''' 안녕하세요 '''"
      ]
    },
    {
      "cell_type": "code",
      "execution_count": 73,
      "metadata": {
        "id": "7Q_xdVwvVat0"
      },
      "outputs": [],
      "source": [
        "# 코드 작성\n",
        "ttex = '''전날 공개했던 김건희 여사와 나눈 카카오톡 대화 같은 갈무리(캡처)가 우리나라 좋은 나라'''\n",
        "\n",
        "nnw = gTTS(ttex, lang='ko')\n",
        "nnw.save('뉴스기사.mp3')\n",
        ""
      ]
    },
    {
      "cell_type": "code",
      "source": [],
      "metadata": {
        "id": "2Nm25F6UveaW"
      },
      "execution_count": null,
      "outputs": []
    }
  ],
  "metadata": {
    "colab": {
      "provenance": [],
      "include_colab_link": true
    },
    "kernelspec": {
      "display_name": "Python 3",
      "name": "python3"
    },
    "language_info": {
      "name": "python"
    }
  },
  "nbformat": 4,
  "nbformat_minor": 0
}
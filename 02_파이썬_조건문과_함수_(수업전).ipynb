{
  "nbformat": 4,
  "nbformat_minor": 0,
  "metadata": {
    "colab": {
      "provenance": [],
      "toc_visible": true,
      "include_colab_link": true
    },
    "kernelspec": {
      "name": "python3",
      "display_name": "Python 3"
    },
    "language_info": {
      "name": "python"
    }
  },
  "cells": [
    {
      "cell_type": "markdown",
      "metadata": {
        "id": "view-in-github",
        "colab_type": "text"
      },
      "source": [
        "<a href=\"https://colab.research.google.com/github/Tom-Jung/testttttt/blob/main/02_%ED%8C%8C%EC%9D%B4%EC%8D%AC_%EC%A1%B0%EA%B1%B4%EB%AC%B8%EA%B3%BC_%ED%95%A8%EC%88%98_(%EC%88%98%EC%97%85%EC%A0%84).ipynb\" target=\"_parent\"><img src=\"https://colab.research.google.com/assets/colab-badge.svg\" alt=\"Open In Colab\"/></a>"
      ]
    },
    {
      "cell_type": "markdown",
      "metadata": {
        "id": "M_WSnZWw4rdU"
      },
      "source": [
        "# range() 함수\n",
        "- range([start], stop, [step]) 내장함수로 쉽게 `시퀀스(Sequence)` 생성 가능\n",
        "- start와 step은 생략 가능하며 start는 0, step은 1이 고정값"
      ]
    },
    {
      "cell_type": "code",
      "source": [
        "range(0, 10, 2)  # 0, 2, 4, 6, 8"
      ],
      "metadata": {
        "id": "Ry0x1FYBUrN1",
        "colab": {
          "base_uri": "https://localhost:8080/"
        },
        "outputId": "feba220b-c47a-4c71-ee37-d836bcd950e5"
      },
      "execution_count": null,
      "outputs": [
        {
          "output_type": "execute_result",
          "data": {
            "text/plain": [
              "range(0, 10, 2)"
            ]
          },
          "metadata": {},
          "execution_count": 3
        }
      ]
    },
    {
      "cell_type": "code",
      "source": [
        "list(range(0,10,2))"
      ],
      "metadata": {
        "id": "s067eyciU6Ec",
        "colab": {
          "base_uri": "https://localhost:8080/"
        },
        "outputId": "e54eb5d2-b24e-4399-b147-13a3ee526a46"
      },
      "execution_count": null,
      "outputs": [
        {
          "output_type": "execute_result",
          "data": {
            "text/plain": [
              "[0, 2, 4, 6, 8]"
            ]
          },
          "metadata": {},
          "execution_count": 5
        }
      ]
    },
    {
      "cell_type": "code",
      "source": [
        "tuple(range(0,10,2))"
      ],
      "metadata": {
        "id": "mT5zWvwLU8YN",
        "colab": {
          "base_uri": "https://localhost:8080/"
        },
        "outputId": "005b1bf4-30d4-4139-dce0-84d418cd7d9e"
      },
      "execution_count": null,
      "outputs": [
        {
          "output_type": "execute_result",
          "data": {
            "text/plain": [
              "(0, 2, 4, 6, 8)"
            ]
          },
          "metadata": {},
          "execution_count": 6
        }
      ]
    },
    {
      "cell_type": "code",
      "source": [
        "# 0이상 10미만 리스트 생성\n",
        "# 0 ~ 9 까지 연속된 정수 출력\n",
        "list(range(10))\n"
      ],
      "metadata": {
        "id": "E5m9QH9YDoas",
        "colab": {
          "base_uri": "https://localhost:8080/"
        },
        "outputId": "4a1373e2-1a0e-4b79-a109-18950326d6a5"
      },
      "execution_count": null,
      "outputs": [
        {
          "output_type": "execute_result",
          "data": {
            "text/plain": [
              "[0, 1, 2, 3, 4, 5, 6, 7, 8, 9]"
            ]
          },
          "metadata": {},
          "execution_count": 11
        }
      ]
    },
    {
      "cell_type": "code",
      "execution_count": null,
      "metadata": {
        "id": "Fo17v2Qa4qyx",
        "colab": {
          "base_uri": "https://localhost:8080/"
        },
        "outputId": "8d0ef28b-2507-4b1c-ef81-83d09a5d88d3"
      },
      "outputs": [
        {
          "output_type": "execute_result",
          "data": {
            "text/plain": [
              "[2, 5, 8]"
            ]
          },
          "metadata": {},
          "execution_count": 12
        }
      ],
      "source": [
        "list(range(2,10,3))"
      ]
    },
    {
      "cell_type": "code",
      "execution_count": null,
      "metadata": {
        "id": "4d1OJ7Fx4w6q"
      },
      "outputs": [],
      "source": [
        "# 0이상 10미만 튜플 생성\n"
      ]
    },
    {
      "cell_type": "code",
      "execution_count": null,
      "metadata": {
        "id": "7eeZxY6w4xHf",
        "colab": {
          "base_uri": "https://localhost:8080/"
        },
        "outputId": "d4359279-0628-42b3-8223-d399146b3a0f"
      },
      "outputs": [
        {
          "output_type": "execute_result",
          "data": {
            "text/plain": [
              "[10, 7, 4, 1, -2, -5, -8, -11]"
            ]
          },
          "metadata": {},
          "execution_count": 14
        }
      ],
      "source": [
        "list(range(10,-12,-3))"
      ]
    },
    {
      "cell_type": "code",
      "execution_count": null,
      "metadata": {
        "id": "obR3IwH94w_A"
      },
      "outputs": [],
      "source": []
    },
    {
      "cell_type": "markdown",
      "source": [
        "---\n",
        "# random() 함수\n",
        "\n",
        "> `random(start, stop, step)`\n",
        "\n",
        "- 임의의 수를 생성하거나 데이터 리스트 내의 요소를 무작위로 섞거나 선택하는 함수\n",
        "\n",
        "- random.random() : 0이상 1미만의 임의의 실수를 반환\n",
        "- random.randrange(10) : 0 이상 10 미만(10제외) 의 임의의 정수를 반환\n",
        "- random.randint(1, 10) : 1이상 10이하(10 포함)의 임의의 정수를 반환\n",
        "- random.randrange(1, 10) : 1이상 10미만(10제외)의 임의의 정수를 반환\n",
        "- random.randrange(0, 10, 2) : 0, 2, 4, 6, 8 중 (10제외)임의의 정수 1개를 반환\n",
        "\n",
        "- random.choice(리스트명) : 리스트의 원소 중 하나를 뽑음\n",
        "- random.sample(range(1, 10), 2) : 1이상 10미만(10제외)의 임의의 정수 2개를 반환\n"
      ],
      "metadata": {
        "id": "dr5HBKSDQ4FL"
      }
    },
    {
      "cell_type": "code",
      "source": [
        "import random\n",
        "random.random()"
      ],
      "metadata": {
        "id": "DPtx7TviQ9hX",
        "colab": {
          "base_uri": "https://localhost:8080/"
        },
        "outputId": "345fc414-0b41-4d6e-ff8b-33ad29b528e9"
      },
      "execution_count": null,
      "outputs": [
        {
          "output_type": "execute_result",
          "data": {
            "text/plain": [
              "0.07741794497302523"
            ]
          },
          "metadata": {},
          "execution_count": 15
        }
      ]
    },
    {
      "cell_type": "code",
      "source": [
        "random.randrange(1, 10)"
      ],
      "metadata": {
        "id": "yMPUK0cBZsMW",
        "colab": {
          "base_uri": "https://localhost:8080/"
        },
        "outputId": "3c5fdcdb-599b-4431-a1e2-f9bd7ebcaac2"
      },
      "execution_count": null,
      "outputs": [
        {
          "output_type": "execute_result",
          "data": {
            "text/plain": [
              "9"
            ]
          },
          "metadata": {},
          "execution_count": 20
        }
      ]
    },
    {
      "cell_type": "code",
      "source": [
        "mylist = [1, 2, 3, 4, 5]\n",
        "random.sample(mylist, 3)"
      ],
      "metadata": {
        "id": "tLxAb3mZrH8r",
        "colab": {
          "base_uri": "https://localhost:8080/"
        },
        "outputId": "4f2ac707-be8a-4bb9-cbc0-6f46f9564a37"
      },
      "execution_count": null,
      "outputs": [
        {
          "output_type": "execute_result",
          "data": {
            "text/plain": [
              "[1, 4, 5]"
            ]
          },
          "metadata": {},
          "execution_count": 26
        }
      ]
    },
    {
      "cell_type": "code",
      "source": [],
      "metadata": {
        "id": "2smjDthhrW8U"
      },
      "execution_count": null,
      "outputs": []
    },
    {
      "cell_type": "markdown",
      "source": [
        "randrange()"
      ],
      "metadata": {
        "id": "2tpOosvDD_r1"
      }
    },
    {
      "cell_type": "code",
      "source": [
        "#randrange\n",
        "random.randrange(10)\n"
      ],
      "metadata": {
        "id": "TQ7ATbUzQ9yA",
        "colab": {
          "base_uri": "https://localhost:8080/"
        },
        "outputId": "98ce79ad-8282-4bce-9615-7f780ec0ce31"
      },
      "execution_count": null,
      "outputs": [
        {
          "output_type": "execute_result",
          "data": {
            "text/plain": [
              "5"
            ]
          },
          "metadata": {},
          "execution_count": 27
        }
      ]
    },
    {
      "cell_type": "code",
      "source": [],
      "metadata": {
        "id": "e9-uW-j6iMZA"
      },
      "execution_count": null,
      "outputs": []
    },
    {
      "cell_type": "markdown",
      "source": [
        "randint()"
      ],
      "metadata": {
        "id": "NHDLoG63EBGj"
      }
    },
    {
      "cell_type": "code",
      "source": [
        "#randint\n",
        "random.randint(-10,10)"
      ],
      "metadata": {
        "id": "TiSe8oNEQ9-A"
      },
      "execution_count": null,
      "outputs": []
    },
    {
      "cell_type": "code",
      "source": [],
      "metadata": {
        "id": "tzU0wCqbiMxa"
      },
      "execution_count": null,
      "outputs": []
    },
    {
      "cell_type": "markdown",
      "source": [
        "random.choice()"
      ],
      "metadata": {
        "id": "BcIkF-t_ECHP"
      }
    },
    {
      "cell_type": "code",
      "source": [
        "mylist = [1, 2, 3, 4, 5]"
      ],
      "metadata": {
        "id": "DGn4rOmFRB2R"
      },
      "execution_count": null,
      "outputs": []
    },
    {
      "cell_type": "code",
      "source": [],
      "metadata": {
        "id": "B0Ob7UryiOIT"
      },
      "execution_count": null,
      "outputs": []
    },
    {
      "cell_type": "markdown",
      "source": [
        "random.sample()"
      ],
      "metadata": {
        "id": "_GxiIeHNiYum"
      }
    },
    {
      "cell_type": "code",
      "source": [
        "random.sample(range(1,5), 2)"
      ],
      "metadata": {
        "id": "H-Z9QnHca46u"
      },
      "execution_count": null,
      "outputs": []
    },
    {
      "cell_type": "code",
      "source": [],
      "metadata": {
        "id": "x2Pre-u7iepb"
      },
      "execution_count": null,
      "outputs": []
    },
    {
      "cell_type": "code",
      "source": [],
      "metadata": {
        "id": "WWt_SRdSbgIl"
      },
      "execution_count": null,
      "outputs": []
    },
    {
      "cell_type": "markdown",
      "source": [
        "## 실습문제\n",
        "1. range 함수를 사용하여 아래와 같은 tuple 을 출력하세요.\n",
        "\n",
        "\n",
        "    (5, 3, 1, -1, -3, -5, -7, -9)\n",
        "\n",
        "2. range 함수를 사용하여 아래와 같은 list 를 출력하세요.\n",
        "\n",
        "\n",
        "    [-900, -600, -300, 0, 300, 600]\n",
        "\n",
        "3. 1부터 45까지의 숫자 중 임의의 숫자 5개를 출력하는 코드를 작성하고, 결과를 출력해보세요.\n"
      ],
      "metadata": {
        "id": "OSvJ1IPDqUFK"
      }
    },
    {
      "cell_type": "code",
      "source": [
        "숫자 =list(range(1,46))\n",
        "random.sample(숫자,5)"
      ],
      "metadata": {
        "id": "6lkAE_ROqbF4",
        "colab": {
          "base_uri": "https://localhost:8080/"
        },
        "outputId": "dd60c7af-a867-489a-9cbf-c39edbc3b405"
      },
      "execution_count": null,
      "outputs": [
        {
          "output_type": "execute_result",
          "data": {
            "text/plain": [
              "[1, 13, 36, 45, 41]"
            ]
          },
          "metadata": {},
          "execution_count": 44
        }
      ]
    },
    {
      "cell_type": "code",
      "source": [],
      "metadata": {
        "id": "KWH74LdtaVLF"
      },
      "execution_count": null,
      "outputs": []
    },
    {
      "cell_type": "code",
      "source": [],
      "metadata": {
        "id": "56K999wVqnZR"
      },
      "execution_count": null,
      "outputs": []
    },
    {
      "cell_type": "markdown",
      "source": [
        "-----\n",
        "# if 문\n",
        "\n",
        "\n",
        "- 순차 구조 : 여러 명령이 순차적으로 실행하는 구조\n",
        "- 선택 구조 : 여러 개 중 하나의 명령문을 선택하여 실행하는 구조\n",
        "- 반복 구조 : 동일한 명령이 반복되면서 실행하는 구조"
      ],
      "metadata": {
        "id": "A93YytkAwK2T"
      }
    },
    {
      "cell_type": "markdown",
      "source": [
        "## 1. syntax of if\n",
        "- 조건문 : 조건식이 참(True)일 때에만 실행한다.\n",
        "- 조건식 뒤에는 콜론(:)이 반드시 존재한다.\n",
        "- 파이썬 인터프리터에게 이 문장에 딸린 코드 블록이 나타날 것임을 전달한다.\n",
        "- 콜론 아래의 줄은 반드시 들여쓰기를 해야한다\n"
      ],
      "metadata": {
        "id": "t3dHCnez6OW0"
      }
    },
    {
      "cell_type": "markdown",
      "metadata": {
        "id": "N7ttdaWJtmT0"
      },
      "source": [
        "if문은 다음과 같이 쓴다.\n",
        "\n",
        "    if test_statement:\n",
        "        execution1\n",
        "        execution2\n",
        "        ...\n",
        "        "
      ]
    },
    {
      "cell_type": "markdown",
      "metadata": {
        "id": "pywiHey9tmT0"
      },
      "source": [
        "<img src = \"https://cdn.programiz.com/sites/tutorial2program/files/Python_if_statement.jpg\">"
      ]
    },
    {
      "cell_type": "markdown",
      "metadata": {
        "id": "lXDhhKUptmT0"
      },
      "source": [
        "- 실행 논리 :\n",
        "    - ```if```의 조건문인```test_statement```이 참인지 거짓인지를 평가한다. ```test_statement```이 참(```True```)일 때 ```if```문의 명령이 실행된다.\n",
        "    - 만일, ```test_statement```이 ```False``` 일 경우, ```execution```은 실행되지 않는다.\n",
        "\n",
        "\n",
        "표기 방법 및 주의 :\n",
        "\n",
        "1. ```if``` 절 아래 들어가는 (```body```에 해당되는)내용들은 모두 indentation이 되어야한다. 파이썬은 들여쓰기에 민감하다. 얼마나 들여썼냐에 따라 조건문의 모습 뿐만 아니라 실행되는 순서도 모두 달라진다.  \n",
        "\n",
        "2. 모든 if 문은 반드시 조건문 다음에 \"```:```\"을 붙인다.**"
      ]
    },
    {
      "cell_type": "markdown",
      "source": [
        "**들여쓰기**\n",
        "- 파이썬의 들여쓰기(블록)은 4개의 공백으로 구성된다.\n"
      ],
      "metadata": {
        "id": "BO14-4dG6OT7"
      }
    },
    {
      "cell_type": "code",
      "source": [
        "if x > 1:\n",
        "    print( x, '는 1보다 큽니다.')\n"
      ],
      "metadata": {
        "id": "3vPx1PBKcaZu",
        "colab": {
          "base_uri": "https://localhost:8080/"
        },
        "outputId": "aab7977d-57ad-40c2-e768-8942ce5b0a03"
      },
      "execution_count": null,
      "outputs": [
        {
          "output_type": "stream",
          "name": "stdout",
          "text": [
            "100 는 1보다 큽니다.\n"
          ]
        }
      ]
    },
    {
      "cell_type": "code",
      "source": [
        "# x가 1보다 크면 'x는 1보다 큽니다'메세지 출력\n",
        "x = 100\n"
      ],
      "metadata": {
        "id": "_Et3wvIID2Ef"
      },
      "execution_count": null,
      "outputs": []
    },
    {
      "cell_type": "code",
      "source": [],
      "metadata": {
        "id": "a6L0CjTTdGbt"
      },
      "execution_count": null,
      "outputs": []
    },
    {
      "cell_type": "code",
      "source": [],
      "metadata": {
        "id": "VN64TTnzc6uG"
      },
      "execution_count": null,
      "outputs": []
    },
    {
      "cell_type": "code",
      "source": [
        "# 점수 변수가 90점 이상이면 '합격' 출력\n",
        "점수 = 50\n",
        "if 점수 >= 90:\n",
        "    print('합격')"
      ],
      "metadata": {
        "id": "HQAIQO6JjtK2"
      },
      "execution_count": null,
      "outputs": []
    },
    {
      "cell_type": "code",
      "source": [
        "# 영어 & 수학 모두 70점 이상일 때 합격\n",
        "영어 = 95\n",
        "수학 = 90\n",
        "\n",
        "if 영어 >=70 and 수학 >= 70:\n",
        "    print('합격')"
      ],
      "metadata": {
        "id": "H5k3JnebzJtO",
        "colab": {
          "base_uri": "https://localhost:8080/"
        },
        "outputId": "65b40368-7e3a-4a05-db72-82c6903d97f0"
      },
      "execution_count": null,
      "outputs": [
        {
          "output_type": "stream",
          "name": "stdout",
          "text": [
            "합격\n"
          ]
        }
      ]
    },
    {
      "cell_type": "markdown",
      "metadata": {
        "id": "5zAIpg3xtmT0"
      },
      "source": [
        "## 2. if-else 문 (if-else statement)\n",
        "\n",
        "- If-else : ‘조건이 참이면 이것을 실행, 거짓이면 저것을 실행’\n",
        "\n",
        "```if``` 문 아래 조건을 추가하고 싶을 때 ```else```, ```elif``` 등을 쓴다.\n",
        "\n",
        "```if...else``` 문은 아래와 같이 쓴다."
      ]
    },
    {
      "cell_type": "markdown",
      "metadata": {
        "id": "CaHcagiKtmT1"
      },
      "source": [
        "    if test_statement:\n",
        "        execution x\n",
        "    else:\n",
        "        execution y"
      ]
    },
    {
      "cell_type": "markdown",
      "metadata": {
        "id": "64w8f1w2tmT1"
      },
      "source": [
        "<img src = \"https://cdn.programiz.com/sites/tutorial2program/files/Python_if_else_statement.jpg\">"
      ]
    },
    {
      "cell_type": "markdown",
      "metadata": {
        "id": "VJGfaXuMtmT1"
      },
      "source": [
        "- 실행 논리 :\n",
        "\n",
        "    - if ```test_statement``` 문이 ```True```일 때만 ```if```문에 해당되는 명령(```execution x```)이 실행된다.\n",
        "\n",
        "    - 만일 if 문이 ```False```일 경우, else문의 명령(```execution y```)이 실행된다."
      ]
    },
    {
      "cell_type": "code",
      "source": [
        "# 점수가 90점 이상이면 합격, 90점 미만이면 불합격 처리\n",
        "score = 99\n",
        "if score>= 90:\n",
        "    print('합격')\n",
        "else:\n",
        "    print('불합격')"
      ],
      "metadata": {
        "id": "93NU69CzEKuV",
        "colab": {
          "base_uri": "https://localhost:8080/"
        },
        "outputId": "a6fd5ee8-2bab-4673-b25d-0901fbe33b14"
      },
      "execution_count": null,
      "outputs": [
        {
          "output_type": "stream",
          "name": "stdout",
          "text": [
            "합격\n"
          ]
        }
      ]
    },
    {
      "cell_type": "code",
      "source": [
        "# input() 함수 - 사용자입력 처리 가능\n",
        "# 점수가 90점 이상이면 합격, 90점 미만이면 불합격 처리\n",
        "\n",
        "변수 = input('텍스트를 입력하세요 :')\n",
        "\n",
        "변수"
      ],
      "metadata": {
        "id": "4J41sAZjET0E",
        "colab": {
          "base_uri": "https://localhost:8080/",
          "height": 54
        },
        "outputId": "6e856fb1-2f2f-474e-9532-bf49a031ad75"
      },
      "execution_count": null,
      "outputs": [
        {
          "name": "stdout",
          "output_type": "stream",
          "text": [
            "텍스트를 입력하세요 :20\n"
          ]
        },
        {
          "output_type": "execute_result",
          "data": {
            "text/plain": [
              "'20'"
            ],
            "application/vnd.google.colaboratory.intrinsic+json": {
              "type": "string"
            }
          },
          "metadata": {},
          "execution_count": 59
        }
      ]
    },
    {
      "cell_type": "code",
      "source": [
        "score = float(input('텍스트를 입력하세요 :'))\n",
        "if score>= 90:\n",
        "    print('합격')\n",
        "else:\n",
        "    print('불합격')"
      ],
      "metadata": {
        "id": "aBkNZpe_i3Ie",
        "colab": {
          "base_uri": "https://localhost:8080/"
        },
        "outputId": "9a39e63d-3809-4500-a8dd-716cb753cb46"
      },
      "execution_count": null,
      "outputs": [
        {
          "output_type": "stream",
          "name": "stdout",
          "text": [
            "텍스트를 입력하세요 :90\n",
            "합격\n"
          ]
        }
      ]
    },
    {
      "cell_type": "code",
      "source": [
        "# 양의 정수가 있을 때, 홀수인지 짝수인지 출력\n",
        "# 2로 나눴을때 나머지가 0 == 짝수\n",
        "# 2로 나눴을때 나머지가 1 == 홀수\n",
        "# 나눗셈의 나머지만 남기는 명령어 %\n",
        "# 나눗셈의 몫만 남기는 명령어 //\n"
      ],
      "metadata": {
        "id": "EfxEEcv0IPUe"
      },
      "execution_count": null,
      "outputs": []
    },
    {
      "cell_type": "markdown",
      "source": [
        " append() 함수 : 리스트에 요소 추가"
      ],
      "metadata": {
        "id": "vdWF0ZATEXw5"
      }
    },
    {
      "cell_type": "code",
      "source": [
        "# 좋아하는 과일 이름 입력 후 if-else\n",
        "fruits = []\n",
        "message = input('좋아하는 과일을 입력하세요.')\n",
        "fruits.append(message)\n",
        "message = input('좋아하는 과일을 입력하세요.')\n",
        "fruits.append(message)\n",
        "fruits"
      ],
      "metadata": {
        "id": "Dc38V7SLFf4K"
      },
      "execution_count": null,
      "outputs": []
    },
    {
      "cell_type": "markdown",
      "source": [
        "랜덤 함수를 이용한 숫자 맞추기 게임\n",
        "- 0~4 사이의 숫자 입력 (사용자입력) 과 랜덤함수의 숫자가 같을 때, 다를 때 출력 메세지설정"
      ],
      "metadata": {
        "id": "zTiPr3_sDhrl"
      }
    },
    {
      "cell_type": "code",
      "source": [
        "import random\n",
        "print('숫자 맞추기 게임')\n"
      ],
      "metadata": {
        "id": "1zq67MHRDefn"
      },
      "execution_count": null,
      "outputs": []
    },
    {
      "cell_type": "code",
      "source": [],
      "metadata": {
        "id": "DcWK4YlVhkbH"
      },
      "execution_count": null,
      "outputs": []
    },
    {
      "cell_type": "markdown",
      "source": [
        "### if-else 내부에 다시 if-else 문\n",
        "- if-else 내부에 또다시 if-else 조건을 달아서 복잡한 조건을 설정할 수 있다.\n",
        "- 이때, 들여쓰기로 블럭을 잘 맞추어야 한다.\n",
        "- 들여쓰기를 제대로 안할 경우 오류 발생."
      ],
      "metadata": {
        "id": "_Ek2QV_H6ONx"
      }
    },
    {
      "cell_type": "code",
      "source": [
        "# 1단계 : 0이 아닌 정수를 입력받아 음수/양수 판별\n",
        "# 2단계 : 양수인 경우 짝수인지 홀수인지 판별\n",
        "## 짝수인 경우 ‘짝수입니다’ 출력\n",
        "## 홀수인 경우 ‘홀수입니다’ 출력"
      ],
      "metadata": {
        "id": "p6w1GzI9E-Gt"
      },
      "execution_count": null,
      "outputs": []
    },
    {
      "cell_type": "code",
      "source": [
        "# 코드 작성\n"
      ],
      "metadata": {
        "id": "KD_uHJPGiYNm"
      },
      "execution_count": null,
      "outputs": []
    },
    {
      "cell_type": "markdown",
      "metadata": {
        "id": "vKiPnnWitmT1"
      },
      "source": [
        "## 3. if - elif - else 문 (if-elif-else statement)\n",
        "\n",
        "- if-else문에서 조건이 거짓일 때 다른 조건을 검사할 수 있다.\n",
        "- elif는 \"else if\" 를 합친 키워드.\n",
        "\n",
        "```if..elif..else``` 문은 아래와 같이 쓴다.\n"
      ]
    },
    {
      "cell_type": "markdown",
      "metadata": {
        "id": "lzWUnxZ8tmT2"
      },
      "source": [
        "    if test 1:\n",
        "        execution x\n",
        "    elif test n:\n",
        "        body of elif\n",
        "    elif test n+1:\n",
        "        body of elif:\n",
        "    elif test n+2:\n",
        "        body of elif:\n",
        "        ...\n",
        "    ...\n",
        "    else test 3:\n",
        "        execution y"
      ]
    },
    {
      "cell_type": "markdown",
      "metadata": {
        "id": "tGx6Vea1tmT2"
      },
      "source": [
        "<img src = \"https://cdn.programiz.com/sites/tutorial2program/files/Python_if_elif_else_statement.jpg\">"
      ]
    },
    {
      "cell_type": "markdown",
      "metadata": {
        "id": "U2pM0ec7tmT2"
      },
      "source": [
        "- ```elif``` 는 'else if'의 줄임말이다. 여러개의 조건을 넣고싶을때 사용할 수 있는 조건문이다.\n",
        "\n",
        "    - ```if```문의 조건이 ```False``` 일 경우, 다음 ```elif```문에 있는 조건을 확인한다.\n",
        "\n",
        "    - 만약 모든 조건이 다 ```False``` 일 경우, ```else```문의 ```body of else```를 실행한다.\n",
        "\n",
        "    - 각 조건문 (if, elif, else)는 하나의 조건문만 할당할 수 있다.\n",
        "\n",
        "- **`if`문은 오직 하나의 `else` 문만 가질 수 있지만, 여러 개의 `elif`문을 가질 수 있다.**\n"
      ]
    },
    {
      "cell_type": "code",
      "source": [
        "# 정수 입력이 들어왔을 때, 양수입니다, 0입니다, 음수입니다 를 출력\n",
        "number = int(input('정수를 입력하세요 ...))\n",
        "\n",
        "\n"
      ],
      "metadata": {
        "id": "HysSesprvzKF"
      },
      "execution_count": null,
      "outputs": []
    },
    {
      "cell_type": "markdown",
      "source": [
        "#### 실습문제\n",
        "1. 나이를 정수로 입력받아 20세 이상이면 '어른', 10세 이상 20세 미만이면 '청소년', 10세 미만인 경우 '어린이' 결과를 출력하는 코드를 작성하세요."
      ],
      "metadata": {
        "id": "GULH0-6vmUz_"
      }
    },
    {
      "cell_type": "code",
      "source": [
        "나이 = int(input('나이를 정수로 입력..'))"
      ],
      "metadata": {
        "id": "V3w_l2IcBmCm"
      },
      "execution_count": null,
      "outputs": []
    },
    {
      "cell_type": "code",
      "source": [
        "# 코드작성"
      ],
      "metadata": {
        "id": "R3Dskipcn4uu"
      },
      "execution_count": null,
      "outputs": []
    },
    {
      "cell_type": "markdown",
      "source": [
        "---\n",
        "# For 문"
      ],
      "metadata": {
        "id": "pzqDLuUYn7Na"
      }
    },
    {
      "cell_type": "markdown",
      "metadata": {
        "id": "_HFLatd9tmT5"
      },
      "source": [
        "## 1. syntax of for loop\n",
        "\n",
        "```for``` loop은 아래와 같이 쓴다.\n",
        "\n",
        "    for x in list(or tuple, string)\n",
        "        execution 1\n",
        "        execution 2\n",
        "\n",
        "list,tuple,string의 첫 번째부터 마지막요소까지 차례로 수행이 된다. (execution1 execution 2..)\n",
        "\n",
        "<img src = \"https://cdn.programiz.com/sites/tutorial2program/files/forLoop.jpg\">"
      ]
    },
    {
      "cell_type": "markdown",
      "metadata": {
        "id": "i0z2cQebtmT5"
      },
      "source": [
        "- for문 역시 끝에 ```\":\"```을 붙여줘야한다.\n",
        "- 또한 identation에 주의한다."
      ]
    },
    {
      "cell_type": "code",
      "source": [
        "months=[\"jan\", \"feb\", \"march\", \"april\", \"may\"]\n",
        "months"
      ],
      "metadata": {
        "id": "kY4EbrV4oGR_",
        "colab": {
          "base_uri": "https://localhost:8080/"
        },
        "outputId": "a5aadd7e-3d9f-458e-943d-b1348cb47375"
      },
      "execution_count": null,
      "outputs": [
        {
          "output_type": "execute_result",
          "data": {
            "text/plain": [
              "['jan', 'feb', 'march', 'april', 'may']"
            ]
          },
          "metadata": {},
          "execution_count": 66
        }
      ]
    },
    {
      "cell_type": "code",
      "source": [
        "for i in months:\n",
        "    print('계절', i)"
      ],
      "metadata": {
        "id": "NMD7WzFkpA1-",
        "colab": {
          "base_uri": "https://localhost:8080/"
        },
        "outputId": "9e7123f6-c632-4c10-91f7-2dae26ecf0d8"
      },
      "execution_count": null,
      "outputs": [
        {
          "output_type": "stream",
          "name": "stdout",
          "text": [
            "계절 jan\n",
            "계절 feb\n",
            "계절 march\n",
            "계절 april\n",
            "계절 may\n"
          ]
        }
      ]
    },
    {
      "cell_type": "code",
      "source": [
        "for i in range(10):\n",
        "    print(i)"
      ],
      "metadata": {
        "colab": {
          "base_uri": "https://localhost:8080/"
        },
        "id": "yLydAVFtd65k",
        "outputId": "f0583b98-e5bf-4960-aefe-db8d69aa54bf"
      },
      "execution_count": null,
      "outputs": [
        {
          "output_type": "stream",
          "name": "stdout",
          "text": [
            "0\n",
            "1\n",
            "2\n",
            "3\n",
            "4\n",
            "5\n",
            "6\n",
            "7\n",
            "8\n",
            "9\n"
          ]
        }
      ]
    },
    {
      "cell_type": "code",
      "source": [
        "list(range(5))"
      ],
      "metadata": {
        "id": "GvCipcG7oYw-",
        "colab": {
          "base_uri": "https://localhost:8080/"
        },
        "outputId": "d5b61c56-146b-4254-b2e1-fa7b84eb9b6b"
      },
      "execution_count": null,
      "outputs": [
        {
          "output_type": "execute_result",
          "data": {
            "text/plain": [
              "[0, 1, 2, 3, 4]"
            ]
          },
          "metadata": {},
          "execution_count": 71
        }
      ]
    },
    {
      "cell_type": "markdown",
      "source": [
        "for-in 다음에는 문자열도 올 수 있다.\n",
        "- print() 활용"
      ],
      "metadata": {
        "id": "ghlVIK0JJcfQ"
      }
    },
    {
      "cell_type": "code",
      "source": [
        "# 안녕하세요! 라는 문자열은 몇번 반복될까??\n",
        "for 인사 in [1, 2, 4, 5]:\n",
        "    print('안녕!')"
      ],
      "metadata": {
        "id": "OGeYMdDWma0b",
        "colab": {
          "base_uri": "https://localhost:8080/"
        },
        "outputId": "ae5e2d36-8176-4174-cad2-6ac468a14529"
      },
      "execution_count": null,
      "outputs": [
        {
          "output_type": "stream",
          "name": "stdout",
          "text": [
            "안녕!\n",
            "안녕!\n",
            "안녕!\n",
            "안녕!\n"
          ]
        }
      ]
    },
    {
      "cell_type": "code",
      "source": [
        "# 안녕하세요! 라는 문자열은 몇번 반복될까??\n",
        "for 인사 in [1, 2, 4, 5]:\n",
        "    print('안녕!' * 인사)"
      ],
      "metadata": {
        "id": "01GmcWwRrApX",
        "colab": {
          "base_uri": "https://localhost:8080/"
        },
        "outputId": "315abff7-c684-4ac6-a7ba-fde2e18bf0a8"
      },
      "execution_count": null,
      "outputs": [
        {
          "output_type": "stream",
          "name": "stdout",
          "text": [
            "안녕!\n",
            "안녕!안녕!\n",
            "안녕!안녕!안녕!안녕!\n",
            "안녕!안녕!안녕!안녕!안녕!\n"
          ]
        }
      ]
    },
    {
      "cell_type": "code",
      "source": [
        "# 길이 기준으로 반복함.\n",
        "for i in [1, 10, 20, 30, 40]:\n",
        "    print('안녕?')"
      ],
      "metadata": {
        "id": "xTQ-_5ezvqcT",
        "colab": {
          "base_uri": "https://localhost:8080/"
        },
        "outputId": "c1ff79ba-0938-4469-9678-c519250f79ef"
      },
      "execution_count": null,
      "outputs": [
        {
          "output_type": "stream",
          "name": "stdout",
          "text": [
            "안녕?\n",
            "안녕?\n",
            "안녕?\n",
            "안녕?\n",
            "안녕?\n"
          ]
        }
      ]
    },
    {
      "cell_type": "markdown",
      "metadata": {
        "id": "FXrLoT_VtmT7"
      },
      "source": [
        "range()와 len()\n",
        "\n",
        "- [len()함수]( https://docs.python.org/ko/3.12/library/functions.html#len)는 임의의 입력값 x의 길이(항목의 전체 개수)를 돌려주는 함수."
      ]
    },
    {
      "cell_type": "code",
      "source": [
        "months=[\"jan\", \"feb\", \"march\", \"april\", \"may\"]\n",
        "months"
      ],
      "metadata": {
        "id": "G7f4aWYvoXG1"
      },
      "execution_count": null,
      "outputs": []
    },
    {
      "cell_type": "markdown",
      "source": [
        "위치와 값이 같이 필요할 땐 enumerate()"
      ],
      "metadata": {
        "id": "Sc6ZFLS8DGh0"
      }
    },
    {
      "cell_type": "code",
      "source": [],
      "metadata": {
        "id": "LgxrHRF9dGV_"
      },
      "execution_count": null,
      "outputs": []
    },
    {
      "cell_type": "code",
      "source": [
        "#위치와 값 함께 enumerate()\n",
        "list(enumerate(months))"
      ],
      "metadata": {
        "id": "Jxh-7TR5DC4v"
      },
      "execution_count": null,
      "outputs": []
    },
    {
      "cell_type": "code",
      "source": [
        "months"
      ],
      "metadata": {
        "id": "06HYtLs1deLq"
      },
      "execution_count": null,
      "outputs": []
    },
    {
      "cell_type": "code",
      "source": [
        "for a, b in enumerate(months):\n",
        "    print(a, b)"
      ],
      "metadata": {
        "id": "tExkpmQTeNcX"
      },
      "execution_count": null,
      "outputs": []
    },
    {
      "cell_type": "code",
      "source": [
        "#ValueError: not enough values to unpack (expected 3, got 2)\n",
        "for a, b, c in enumerate(months):\n",
        "    print(a, b)"
      ],
      "metadata": {
        "id": "7IPKEBMrovj5"
      },
      "execution_count": null,
      "outputs": []
    },
    {
      "cell_type": "code",
      "source": [
        "for a in enumerate(months):\n",
        "    print(a)"
      ],
      "metadata": {
        "id": "lX1LTfampUSn"
      },
      "execution_count": null,
      "outputs": []
    },
    {
      "cell_type": "markdown",
      "metadata": {
        "id": "RUoI8ytktmT8"
      },
      "source": [
        "- ```for``` loop 도 else 블록을 가질 수 있다.\n",
        "\n",
        "- ```for``` loop에서 실행될 것이 끝난 후  ```else``` block이 실행된다.\n",
        "\n",
        "- ```for``` loop 을 정지하고 싶을 때, ```break```를 사용할 수도 있다. 이럴때 ```else block```은 무시된다. 즉, ```else```block은 ```break```이 없을 때 실행된다.\n",
        "\n",
        "for, else, break은 다음과 같이 쓴다."
      ]
    },
    {
      "cell_type": "code",
      "execution_count": null,
      "metadata": {
        "id": "sVYZpkOOtmT9",
        "colab": {
          "base_uri": "https://localhost:8080/"
        },
        "outputId": "e047d0b4-f5dd-41ce-d969-4836942a62f7"
      },
      "outputs": [
        {
          "output_type": "stream",
          "name": "stdout",
          "text": [
            "0\n",
            "1\n",
            "2\n",
            "3\n",
            "4\n",
            "else statement\n"
          ]
        }
      ],
      "source": [
        "#for, else만 있는 경우\n",
        "\n",
        "for i in range(0,5):\n",
        "    print(i)\n",
        "else:\n",
        "    print(\"else statement\")"
      ]
    },
    {
      "cell_type": "code",
      "execution_count": null,
      "metadata": {
        "id": "fAEfHoZTtmT9",
        "colab": {
          "base_uri": "https://localhost:8080/"
        },
        "outputId": "84b70d1f-1df6-48a7-ada1-4949eaadf0fa"
      },
      "outputs": [
        {
          "output_type": "stream",
          "name": "stdout",
          "text": [
            "0\n",
            "1\n",
            "2\n",
            "3\n"
          ]
        }
      ],
      "source": [
        "#break를 만나는 경우\n",
        "\n",
        "for i in range(0,5):\n",
        "    print(i)\n",
        "    if i == 3:\n",
        "        break\n",
        "else:\n",
        "    print(\"else statement\")"
      ]
    },
    {
      "cell_type": "markdown",
      "source": [
        "## for 문 안에 for 문\n",
        "`for` 문 안에 `for` 문을 넣을 수도 있다.\n",
        "\n",
        "```python\n",
        "for a in range(1, 4):  # range 1 부터 4까지를 for 문에 넘겨주고,\n",
        "    for b in range(1, 4):  # 또 다른 for 문을 입력한다.\n",
        "        print('a-', a, 'b-', b)  # 첫 for 문의 항목 a 와 두번째 항목인 b 를, 짝지어서 출력\n",
        "```\n",
        "\n",
        "```\n",
        "a- 1 b- 1\n",
        "a- 1 b- 2\n",
        "a- 1 b- 3\n",
        "a- 2 b- 1\n",
        "a- 2 b- 2\n",
        "a- 2 b- 3\n",
        "a- 3 b- 1\n",
        "a- 3 b- 2\n",
        "a- 3 b- 3\n",
        "```\n",
        "\n",
        "`a` 가 1일 때, `b` 는 1 에서 3 까지 돈다.\n",
        "\n",
        "그 후에 `a` 가 2 로 넘어가고, `b` 는 다시 1 에서 3 까지 돈다.\n"
      ],
      "metadata": {
        "id": "QWZrSidKqCv1"
      }
    },
    {
      "cell_type": "code",
      "source": [
        "for a in range(1, 4):  # range 1 부터 3까지를 for 문에 넘겨주고,\n",
        "    for b in range(1, 4):  # 또 다른 for 문을 입력한다.\n",
        "        print('a-', a, 'b-', b)"
      ],
      "metadata": {
        "id": "ikDBFKdSr02Y"
      },
      "execution_count": null,
      "outputs": []
    },
    {
      "cell_type": "markdown",
      "source": [
        "`for` 문 안에 `for` 문을 사용해, 구구단을 만들어보자."
      ],
      "metadata": {
        "id": "dcsRcL_uqKV7"
      }
    },
    {
      "cell_type": "code",
      "source": [
        "# 이중 for문 - 구구단 2단~9단 - 2*1, 2*2, .. 2*9, ... 9*9\n",
        "for i in range(2, 10):\n",
        "    for j in range(1, 10):\n",
        "        print(i, '*', j, '=', i * j)"
      ],
      "metadata": {
        "id": "8ncyhgTDqJSF"
      },
      "execution_count": null,
      "outputs": []
    },
    {
      "cell_type": "markdown",
      "source": [
        "## 리스트 함축 (list comprehension)"
      ],
      "metadata": {
        "id": "YAWhTMQNokHk"
      }
    },
    {
      "cell_type": "code",
      "source": [
        "# 리스트 [1,2,3] 의 모든 정수에 대하여 제곱값을 구하려면?\n",
        "# 조건문 - for문\n",
        "xsquare = []\n",
        "for x in [1, 2, 3]:\n",
        "    xsquare.append(x ** 2)\n",
        "print(xsquare)"
      ],
      "metadata": {
        "id": "wPvwfvVyokBF",
        "colab": {
          "base_uri": "https://localhost:8080/"
        },
        "outputId": "4a053e27-92d7-44f2-8464-1125481a687b"
      },
      "execution_count": null,
      "outputs": [
        {
          "output_type": "stream",
          "name": "stdout",
          "text": [
            "[1, 4, 9]\n"
          ]
        }
      ]
    },
    {
      "cell_type": "code",
      "source": [
        "# 위 코드를 한 줄로 표현 가능"
      ],
      "metadata": {
        "id": "4QpU0Grhoo3S"
      },
      "execution_count": null,
      "outputs": []
    },
    {
      "cell_type": "code",
      "source": [
        "[x ** 2 for x in xsquare]"
      ],
      "metadata": {
        "id": "GkDozyvykefV",
        "colab": {
          "base_uri": "https://localhost:8080/"
        },
        "outputId": "cf8f548e-fb4b-4f5e-aecf-e11d06f26dcc"
      },
      "execution_count": null,
      "outputs": [
        {
          "output_type": "execute_result",
          "data": {
            "text/plain": [
              "[1, 16, 81]"
            ]
          },
          "metadata": {},
          "execution_count": 85
        }
      ]
    },
    {
      "cell_type": "code",
      "source": [
        "# 0부터 4까지 0, 1, 2, 3, 4 출력\n",
        "# range 함수로 가능"
      ],
      "metadata": {
        "id": "SZ0PJrg3opaO"
      },
      "execution_count": null,
      "outputs": []
    },
    {
      "cell_type": "code",
      "source": [],
      "metadata": {
        "id": "T32BMBmduQR2"
      },
      "execution_count": null,
      "outputs": []
    },
    {
      "cell_type": "code",
      "source": [],
      "metadata": {
        "id": "GFTaTzgRoqlU"
      },
      "execution_count": null,
      "outputs": []
    },
    {
      "cell_type": "code",
      "source": [
        "# 0~10까지 숫자 중 짝수만 출력\n",
        "# 짝수: 2 로 나눈 나머지가 0인 것. (%기호 활용)\n",
        "\n"
      ],
      "metadata": {
        "id": "752hRKsauBfA"
      },
      "execution_count": null,
      "outputs": []
    },
    {
      "cell_type": "code",
      "source": [
        "# 0~10까지 숫자 중 짝수만 출력\n",
        "# 짝수: 2 로 나눈 나머지가 0인 것. (%기호 활용)\n",
        "\n"
      ],
      "metadata": {
        "id": "p6Ucu9qooszW"
      },
      "execution_count": null,
      "outputs": []
    },
    {
      "cell_type": "markdown",
      "metadata": {
        "id": "Nul7oT9QtmT9"
      },
      "source": [
        "# While 문\n",
        "\n",
        "`while` 문은 어느 조건이 '참' 일 동안, 블록을 반복한다.\n",
        "\n",
        "```python\n",
        "while <조건>:  # 조건이 참 이라면\n",
        "    <블록>     # 블록내에 코드를 실행한다.\n",
        "```\n",
        "반복 블록을 실행하면서, 조건이 만족하는지 매번 확인한다.\n",
        "- 조건이 만족하면 : 계속 반복 블록 실행\n",
        "- 조건이 만족하지 않는다면 : 반복 블록 실행 종료\n",
        "- list에 있는 모든 요소를 실행하는 for문에 비해, while문은 특정 조건이 True일때 실행된다. 조건이 False일때 while문은 멈춘다.\n"
      ]
    },
    {
      "cell_type": "markdown",
      "metadata": {
        "id": "48PIs3DftmT9"
      },
      "source": [
        "### 1. syntax of while loop\n",
        "\n",
        "while loop은 아래와 같이 쓴다.\n",
        "\n",
        "    while test_statement:\n",
        "        execution1\n",
        "        execution2\n",
        "        ...\n",
        "\n",
        "```statement``` 에 주어진 조건이 ```True```일때만 ```execution```들이 실행된다. 한 번  iteration이 끝난 후, ```statement```는 다시 평가되고,\n",
        "```statement```가 ```False```가 될때까지 이 작업은 반복된다."
      ]
    },
    {
      "cell_type": "markdown",
      "metadata": {
        "id": "OpipXd-vtmT9"
      },
      "source": [
        "<img src=\"https://cdn.programiz.com/sites/tutorial2program/files/whileLoopFlowchart.jpg\">"
      ]
    },
    {
      "cell_type": "markdown",
      "metadata": {
        "id": "DWLkrGGUtmT9"
      },
      "source": [
        "### 2. while loop 활용\n"
      ]
    },
    {
      "cell_type": "markdown",
      "metadata": {
        "id": "Ckk07HFXtmT9"
      },
      "source": [
        "while loop 예시"
      ]
    },
    {
      "cell_type": "code",
      "source": [
        "#while 조건식:\n",
        "#   print('블록을 계속해서 반복합니다.')\n",
        "#   print('이것도 반복합니다.')"
      ],
      "metadata": {
        "id": "01GqSW3dK16d"
      },
      "execution_count": null,
      "outputs": []
    },
    {
      "cell_type": "code",
      "source": [
        "# 숫자가 100부터 시작, 10씩 증가 -> 200 보다 크면 반복문 종료\n",
        "숫자 = 100\n",
        "while 숫자 <= 200:\n",
        "    print(숫자)\n",
        "    숫자 += 10"
      ],
      "metadata": {
        "id": "JXdwxqVAVGBf"
      },
      "execution_count": null,
      "outputs": []
    },
    {
      "cell_type": "code",
      "source": [],
      "metadata": {
        "id": "qNjn6tR2o3p7"
      },
      "execution_count": null,
      "outputs": []
    },
    {
      "cell_type": "code",
      "source": [],
      "metadata": {
        "id": "IIjVQ2_pkmqP"
      },
      "execution_count": null,
      "outputs": []
    },
    {
      "cell_type": "markdown",
      "metadata": {
        "id": "Dtvepp7ytmT-"
      },
      "source": [
        "### while문의 무한루프 infinite loop\n",
        "\n",
        "\n",
        "`while` 문은 조건이 참일동안 계속 돌아간다. 따라서, `for` 문과 달리 무한 반복에 빠지지 않도록 주의해야한다.\n",
        "\n",
        "- 무한 루프가 발생하면 프로그램은 빠져나올 수 없다 (강제종료를 해야 함)\n",
        "- 무한 루프가 사용되는 프로그램 : 신호등 제어 프로그램\n",
        "- while 조건식이 True 이면 해당 while 반복문은 영원히 반복된다.\n",
        "\n",
        "- Q. 무한 루프라고 하더라도, 어떤 조건이 성립하면 빠져나오게 하고 싶은 경우에는?\n",
        "    - 조건식이 만족할 경우, break 이 호출되게 하여 루프를 빠져나오도록 구성해야 한다.\n",
        "\n",
        "예시로 `while` 문을 이용해 0 에서 4 까지 출력하도록 하자.\n",
        "```python\n",
        "i = 0  #  while 문을 몇 회 도는지 추적하기 위해, while 문 밖에 i 는 0 이라고 지정한다.\n",
        "\n",
        "while i < 5:   # i 가 5 보다 작을 때까지, while 문을 돈다.\n",
        "    print(i)   # 반복마다 현재 i 를 프린트 한다.\n",
        "    i = i + 1  # 다음 반복문으로 넘어가기 전, i 에 1 을 더해준다.\n",
        "               # 이 단계를 생략하면, i가 계속 0 이기 때문에, 무한 반복을 하게 된다.\n",
        "```\n",
        "\n",
        "```\n",
        "0\n",
        "1\n",
        "2\n",
        "3\n",
        "4\n",
        "```\n",
        "\n",
        "실행 결과, 0 에서 4 까지 숫자가 출력된다."
      ]
    },
    {
      "cell_type": "code",
      "source": [
        "i = 0  #  while 문을 몇 회 도는지 추적하기 위해, while 문 밖에 i 는 0 이라고 지정한다.\n",
        "\n",
        "while i < 5:   # i 가 5 보다 작을 때까지, while 문을 돈다.\n",
        "    print(i)   # 반복마다 현재 i 를 프린트 한다.\n",
        "    i = i + 1  # 다음 반복문으로 넘어가기 전, i 에 1 을 더해준다.\n",
        "               # 이 단계를 생략하면, i가 계속 0 이기 때문에, 무한 반복을 하게 된다."
      ],
      "metadata": {
        "id": "M7F2ZdIhpTQf"
      },
      "execution_count": null,
      "outputs": []
    },
    {
      "cell_type": "markdown",
      "source": [
        "## while in while\n",
        "\n",
        "`while` 문 내부에 `while` 문을 또 사용할 수 있다.\n",
        "\n",
        "1 단부터 5 단까지, 구구단을 외는 프로그램을 짜보자.\n",
        "\n",
        "구구단의 왼쪽 숫자를 담당할 `a` 라는 변수에 1 이라는 시작값을 넣는다. `a` 는 `while` 문 밖에 지정해야하한다.\n",
        "\n",
        "```python\n",
        "a = 1\n",
        "```\n",
        "```python\n",
        "while a < 10:  # 9 단까지만 보기 위해, a가 10 보다 작을 동안 와일문을 돌게 한다.\n",
        "    b = 1  \t   # 구구단의 오른쪽 숫자인 b 라는 변수에 1 이라는 시작값을 넣는다.\n",
        "    while b < 10:     # b 가 10보다 작을 때,\n",
        "        print(a * b)  # a 와 b 의 곱을 print 한다.\n",
        "        b = b + 1     # b 에 1 을 더해준다.\n",
        "    print('---')      # 작은 while 문이 끝날때마다 구분선을 그어준다.\n",
        "    a = a + 1         # 작은 while 문을 돈 후, a 에 1 을 더해준다.\n",
        "```\n",
        "\n",
        "실행결과, 구구단이 9단까지 출력된다."
      ],
      "metadata": {
        "id": "5uptrH5PpXwy"
      }
    },
    {
      "cell_type": "code",
      "source": [
        "a = 1\n",
        "while a < 10:  # 9 단까지만 보기 위해, a가 10 보다 작을 동안 와일문을 돌게 한다.\n",
        "    b = 1         # 구구단의 오른쪽 숫자인 b 라는 변수에 1 이라는 시작값을 넣는다.\n",
        "    while b < 10:     # b 가 10보다 작을 때,\n",
        "        print(a * b)  # a 와 b 의 곱을 print 한다.\n",
        "        b = b + 1     # b 에 1 을 더해준다.\n",
        "    print('---')      # 작은 while 문이 끝날때마다 구분선을 그어준다.\n",
        "    a = a + 1         # 작은 while 문을 돈 후, a 에 1 을 더해준다."
      ],
      "metadata": {
        "id": "flpKeCIkpXJw"
      },
      "execution_count": null,
      "outputs": []
    },
    {
      "cell_type": "markdown",
      "source": [
        "## while 조건에 True/False 이용하기"
      ],
      "metadata": {
        "id": "ipK7iO1Epd2p"
      }
    },
    {
      "cell_type": "markdown",
      "source": [
        "정해진 암호를 입력해야 끝나는 반복문"
      ],
      "metadata": {
        "id": "AJ6N2tswp0gB"
      }
    },
    {
      "cell_type": "code",
      "source": [
        "# 정해진 암호를 입력해야 끝나는 반복문\n",
        "# 복합할당연산자 != 사용\n",
        "password = ''\n",
        "\n",
        "\n"
      ],
      "metadata": {
        "id": "D6HzDI4tpyOm"
      },
      "execution_count": null,
      "outputs": []
    },
    {
      "cell_type": "markdown",
      "source": [
        "## while True\n",
        "\n",
        "`while` 조건을 True 로 놓을 경우, 무한으로 `while` 루프를 돌 수 있다.\n",
        "\n",
        "`while` 문이 도는 동안, `hi` 를 프린트 하는 코드를 실행시켜보자.\n",
        "\n",
        "```python\n",
        "while True:\n",
        "    print('hi')  \n",
        "```\n",
        "\n",
        "```\n",
        "hi\n",
        "hi\n",
        "hi\n",
        "hi\n",
        "...\n",
        "```\n",
        "\n",
        "그 결과, 주피터 노트북에서 무한으로 'hi' 를 프린트하게 된다.\n",
        "\n",
        "무한 루프를 강제로 끊기 위해, 커맨드 창에서 **ctrl + c**, 를 누르거나, 상단에 멈춤 표시를 눌러 강제로 루프를 빠져나와야 한다.\n",
        "\n",
        "따라서 `while` 문을 사용할 때, 무한루프에 빠지지 않도록 조심해야한다."
      ],
      "metadata": {
        "id": "XHLw-SP3phad"
      }
    },
    {
      "cell_type": "markdown",
      "source": [
        "---\n",
        "# 루프 제어문\n",
        "\n",
        "## break\n",
        "\n",
        " `break` 문은 반복문에서 중간에 강제로 빠져나올 때 사용한다.\n",
        "\n",
        "\n",
        "\n",
        "### for\n",
        "\n",
        "`for` 문에서 `break` 를 사용해 반복문을 빠져나오도록 하자.\n",
        "\n",
        "0 에서 99 까지 도는 `for` 문을 생성한다면 `for` 문이 100번 돌아야한다.\n",
        "\n",
        "하지만, 중간에 `i` 가 `5` 일 때, `break` 를 넣어주자.\n",
        "\n",
        "```python\n",
        "for i in range(100):  \n",
        "    print(i)\n",
        "    if i == 5:\n",
        "        break\n",
        "```\n",
        "\n",
        "그 결과, `i` 가 `5` 가 되자 중간에 `for` 문을 멈추고 빠져나온다.\n",
        "\n",
        "```\n",
        "0\n",
        "1\n",
        "2\n",
        "3\n",
        "4\n",
        "5\n",
        "```\n",
        "\n",
        "\n",
        "\n",
        "### while\n",
        "\n",
        "`while` 에서도 `break` 를 사용할 수 있다.\n",
        "\n",
        "```python\n",
        "i = 0  # i 는 0 이라고 지정한 후 ,\n",
        "\n",
        "while True:  # 무한 루프\n",
        "    print(i)  # i 마다 프린트를 한다.\n",
        "    if i == 5:  # 만약, i 가 5 와 같다면,\n",
        "        break   # break 를 실행시킨다.\n",
        "    i = i + 1   # 한 루프마다 i 를 1 씩 증가시킨다.\n",
        "```\n",
        "\n",
        "그 결과,  `i` 가 `5` 가 되자 `while` 문을 멈추고, 빠져나왔다.\n",
        "\n",
        "```\n",
        "0\n",
        "1\n",
        "2\n",
        "3\n",
        "4\n",
        "5\n",
        "```\n",
        "\n",
        "## continue\n",
        "\n",
        "`continue` 문은 반복을 넘어갈때 사용한다.\n",
        "\n",
        "### for\n",
        "\n",
        "`for` 문에서 `continue` 를 사용해 반복문을 빠져나오도록 하자.\n",
        "\n",
        "0 에서 9 까지 도는 `for` 문을 돈 후, 숫자에 100 을 곱해 출력하되,\n",
        "\n",
        "짝수인 경우 `continue` 를 사용해보자.\n",
        "\n",
        "```python\n",
        "for i in range(10):  \n",
        "    if i % 2 == 0:\n",
        "        continue\n",
        "    a = i * 100\n",
        "    print(a)\n",
        "```\n",
        "\n",
        "실행결과, 짝수인 경우 `continue` 이하 코드가 실행되지 않고 다음 숫자로 넘어갔다.\n",
        "\n",
        "```\n",
        "100\n",
        "300\n",
        "500\n",
        "700\n",
        "900\n",
        "```\n",
        "\n",
        "\n",
        "### while\n",
        "\n",
        "`while` 에서도 `continue` 를 사용할 수 있다.\n",
        "\n",
        "```python\n",
        "i = 0  # i 는 0 이라고 지정한 후 ,\n",
        "\n",
        "while i < 10:  # 9 까지의 수\n",
        "    i = i + 1   # 한 루프마다 i 를 1 씩 증가시킨다.\n",
        "    if i % 2 == 0:  # 만약, i 가 짝수라면,\n",
        "        continue   # continue 를 실행시킨다.\n",
        "    a = i * 100\n",
        "    print(a)\n",
        "```\n",
        "\n",
        "실행결과, 짝수인 경우 `continue` 이하 코드가 실행되지 않고 다음 숫자로 넘어갔다.\n",
        "\n",
        "```\n",
        "100\n",
        "300\n",
        "500\n",
        "700\n",
        "900\n",
        "```\n",
        "\n",
        "## pass\n",
        "\n",
        " `pass` 문은 어떠한 실행도 하지 않고 넘어가고 싶을 때, 문법을 채우기 위해 사용한다.\n",
        "\n",
        "\n",
        "\n",
        "\n",
        "### for\n",
        "\n",
        "`continue` 에서 사용했던 `for` 문에 `pass` 문을 넣어보자. 0에서 9까지 숫자 중 짝수를 만나면 `pass` 한 후, 숫자에 100을 곱해 출력해보자.\n",
        "\n",
        "```python\n",
        "for i in range(10):  \n",
        "    if i % 2 == 0:\n",
        "        pass\n",
        "    a = i * 100\n",
        "    print(a)\n",
        "```\n",
        "\n",
        "`for` 문에서 `continue` 를 사용했을 경우 홀수만 출력되었지만 `pass` 를 사용하니 모든 숫자가 출력되었다. 즉, `pass` 는 코드에 영향은 없지만 문법을 채우고 싶을때 사용할 수 있다.\n",
        "\n",
        "```\n",
        "0\n",
        "100\n",
        "200\n",
        "300\n",
        "400\n",
        "500\n",
        "600\n",
        "700\n",
        "800\n",
        "900\n",
        "```\n",
        "\n",
        "### 함수\n",
        "\n",
        "`pass` 문은 함수에 구체적인 코드는 짜지 않고 일단 실행보고 싶을때 손쉽게사용할 수 있다.\n",
        "\n",
        "```python\n",
        "def some_func():\n",
        "    pass\n",
        "```\n",
        "\n",
        "\n"
      ],
      "metadata": {
        "id": "5DRQkHR3qt42"
      }
    },
    {
      "cell_type": "code",
      "source": [
        "list(range(10))"
      ],
      "metadata": {
        "id": "jFe9_cPkVDP5"
      },
      "execution_count": null,
      "outputs": []
    },
    {
      "cell_type": "code",
      "source": [
        "for i in range(10):\n",
        "    print(i)\n",
        "    if i % 2 == 0:\n",
        "        continue\n",
        "    a = i * 100\n",
        "    print(a)"
      ],
      "metadata": {
        "id": "4YMZwnzkVBci"
      },
      "execution_count": null,
      "outputs": []
    },
    {
      "cell_type": "code",
      "source": [
        "for i in range(10):\n",
        "    print(i)\n",
        "    if i % 2 == 0:\n",
        "        pass\n",
        "    a = i * 100\n",
        "    print(a)"
      ],
      "metadata": {
        "id": "gPgABaM3VB4m"
      },
      "execution_count": null,
      "outputs": []
    },
    {
      "cell_type": "markdown",
      "metadata": {
        "id": "gFtrMNL40paK"
      },
      "source": [
        "---\n",
        "# **함수 Functions**"
      ]
    },
    {
      "cell_type": "markdown",
      "source": [
        "----\n",
        "# 사용자 정의 함수\n",
        "\n",
        "- 함수 function : 반복적으로 사용하는 코드의 묶음, 더 큰 프로그램을 구축하는데 사용할 수 있다.\n",
        "- 객체 object : 코드 중에서 독립적인 단위로 분리할 수 있는 조각\n",
        "- 모듈 module : 프로그램의 일부를 가지고 있는 독립적인 파일\n"
      ],
      "metadata": {
        "id": "Kgh1GNuX10EE"
      }
    },
    {
      "cell_type": "markdown",
      "metadata": {
        "id": "wuUY8NlH0paK"
      },
      "source": [
        "파이썬의 함수는 다음과 같이 사용한다.\n",
        "\n",
        "```python\n",
        "    def function_name(variable):\n",
        "        execution 1\n",
        "        execution 2\n",
        "        ...\n",
        "```\n",
        "`def`는 함수용 파이썬 예약어이지만, 함수명(function_name)은 임의로 지정하면된다.\n",
        "\n",
        "함수가 받는 매개변수(variable)은 함수가 받는 입력값의 변수이며 이 또한 임의로 지정하면 된다.\n",
        "\n"
      ]
    },
    {
      "cell_type": "markdown",
      "metadata": {
        "id": "zlC4NHp00paN"
      },
      "source": [
        "### 1. 매개변수와 인자\n",
        "\n",
        "- **매개변수(parameter or variable)**는 함수에 입력으로 전달된 값을 받는 변수\n",
        "\n",
        "- **인자/인수(arguments)**는 함수를 호출할 때 전달하는 입력값.\n"
      ]
    },
    {
      "cell_type": "code",
      "execution_count": null,
      "metadata": {
        "scrolled": true,
        "id": "ykqQOhMn0paN"
      },
      "outputs": [],
      "source": [
        "def add(a, b): #a,b는 매개변수\n",
        "    return a + b\n",
        "print(add(3, 4)) #3,4는 인자 또는 인수(argument)"
      ]
    },
    {
      "cell_type": "code",
      "source": [
        "def addd(a, b): #a,b는 매개변수\n",
        "    return\n",
        "print(addd(3, 4)) #3,4는 인자 또는 인수(argument)"
      ],
      "metadata": {
        "colab": {
          "base_uri": "https://localhost:8080/"
        },
        "id": "o5TZPZswA0wL",
        "outputId": "0cc42855-79c6-4bd4-b2ae-e6ffcd557502"
      },
      "execution_count": 4,
      "outputs": [
        {
          "output_type": "stream",
          "name": "stdout",
          "text": [
            "None\n"
          ]
        }
      ]
    },
    {
      "cell_type": "markdown",
      "metadata": {
        "id": "N1_wQ9sk0paO"
      },
      "source": [
        "### 2. 입력값과 결과값에 따른 함수의 형태\n",
        "\n",
        "함수는 기본적으로\n",
        "\n",
        "입력값 -> 함수 -> 리턴값 의 과정을 거친다. 이때, 입력값과 결과값의 존재 유무에 따라 4가지 유형으로 나뉜다."
      ]
    },
    {
      "cell_type": "markdown",
      "metadata": {
        "id": "vB9l8SOG0paO"
      },
      "source": [
        "a. 일반적인 함수\n",
        "```python\n",
        "def function_name(variable):\n",
        "    <execution>\n",
        "    ...\n",
        "    return output\n",
        "```\n"
      ]
    },
    {
      "cell_type": "code",
      "execution_count": 1,
      "metadata": {
        "id": "vZbQYIf40paP"
      },
      "outputs": [],
      "source": [
        "#예시\n",
        "def add(a,b):\n",
        "    result = a + b\n",
        "    return result"
      ]
    },
    {
      "cell_type": "code",
      "execution_count": 2,
      "metadata": {
        "id": "9Bbrb4xd0paP",
        "colab": {
          "base_uri": "https://localhost:8080/"
        },
        "outputId": "baff5c53-3780-4812-a0ab-f91debe583b4"
      },
      "outputs": [
        {
          "output_type": "execute_result",
          "data": {
            "text/plain": [
              "7"
            ]
          },
          "metadata": {},
          "execution_count": 2
        }
      ],
      "source": [
        "add(3, 4)  # 입력값 있고, 리턴값도 있는"
      ]
    },
    {
      "cell_type": "markdown",
      "metadata": {
        "id": "JjlrTiGw0paP"
      },
      "source": [
        "b. 입력값이 없는 함수\n",
        "    \n",
        "    결과값을 받을 변수 = 함수명()\n",
        "    "
      ]
    },
    {
      "cell_type": "code",
      "execution_count": null,
      "metadata": {
        "id": "etnRi5Dl0paP"
      },
      "outputs": [],
      "source": [
        "def 안녕():\n",
        "    print('안녕하세요!')\n",
        "    print('안녕하세요!')"
      ]
    },
    {
      "cell_type": "code",
      "execution_count": null,
      "metadata": {
        "id": "5yuPiYJe0paQ"
      },
      "outputs": [],
      "source": [
        "안녕()"
      ]
    },
    {
      "cell_type": "code",
      "source": [
        "def 인사():\n",
        "    x = '안녕하세요!'\n",
        "    return x * 2\n",
        "인사()"
      ],
      "metadata": {
        "id": "Kv858pw5aIQa"
      },
      "execution_count": null,
      "outputs": []
    },
    {
      "cell_type": "markdown",
      "metadata": {
        "id": "WW2SfwuQ0paQ"
      },
      "source": [
        "c. 출력값이 없는 함수\n",
        "\n",
        "    함수명(입력 인자 argument1, 입력 인자 argument2...)\n",
        "    \n"
      ]
    },
    {
      "cell_type": "code",
      "execution_count": null,
      "metadata": {
        "id": "pL1-qTFh0paQ"
      },
      "outputs": [],
      "source": [
        "def 출력값없음(x, y, z):\n",
        "    return None"
      ]
    },
    {
      "cell_type": "code",
      "execution_count": null,
      "metadata": {
        "id": "PdT7a5Sb0paQ"
      },
      "outputs": [],
      "source": [
        "출력값없음(1, 2, 3)"
      ]
    },
    {
      "cell_type": "markdown",
      "metadata": {
        "id": "dLM_vbf20paR"
      },
      "source": [
        "d. 입력값, 출력값 둘 다 없는 함수\n",
        "\n",
        "    함수명()"
      ]
    },
    {
      "cell_type": "code",
      "execution_count": null,
      "metadata": {
        "id": "JK2WBb1c0paR"
      },
      "outputs": [],
      "source": [
        "def 결과값없음():\n",
        "    return None"
      ]
    },
    {
      "cell_type": "code",
      "source": [
        "def add0(a,b):\n",
        "    print(a+b)"
      ],
      "metadata": {
        "id": "50lZso2oBeFT"
      },
      "execution_count": 6,
      "outputs": []
    },
    {
      "cell_type": "code",
      "source": [
        "def add1(a,b):\n",
        "    return a+b"
      ],
      "metadata": {
        "id": "oWLU5uwrBeH_"
      },
      "execution_count": 7,
      "outputs": []
    },
    {
      "cell_type": "code",
      "source": [
        "def add2(a,b):\n",
        "    print(a+b)\n",
        "    return a+b"
      ],
      "metadata": {
        "id": "rTRr9DmMBeK3"
      },
      "execution_count": 8,
      "outputs": []
    },
    {
      "cell_type": "code",
      "source": [
        "add0(1,2)"
      ],
      "metadata": {
        "colab": {
          "base_uri": "https://localhost:8080/"
        },
        "id": "lzh0ZMnGB1rY",
        "outputId": "cddde1a3-2c7e-4758-8b67-4cdad16f7d01"
      },
      "execution_count": 9,
      "outputs": [
        {
          "output_type": "stream",
          "name": "stdout",
          "text": [
            "3\n"
          ]
        }
      ]
    },
    {
      "cell_type": "code",
      "source": [
        "add1(1,2)"
      ],
      "metadata": {
        "colab": {
          "base_uri": "https://localhost:8080/"
        },
        "id": "0A01EQjcB1uF",
        "outputId": "2e6aa0fa-1aaa-4c57-eefe-82f4f3d240fd"
      },
      "execution_count": 10,
      "outputs": [
        {
          "output_type": "execute_result",
          "data": {
            "text/plain": [
              "3"
            ]
          },
          "metadata": {},
          "execution_count": 10
        }
      ]
    },
    {
      "cell_type": "code",
      "source": [
        "add2(1,2)"
      ],
      "metadata": {
        "colab": {
          "base_uri": "https://localhost:8080/"
        },
        "id": "j21M4eFzB1w4",
        "outputId": "15260f65-dded-403d-d554-3086689ea35f"
      },
      "execution_count": 11,
      "outputs": [
        {
          "output_type": "stream",
          "name": "stdout",
          "text": [
            "3\n"
          ]
        },
        {
          "output_type": "execute_result",
          "data": {
            "text/plain": [
              "3"
            ]
          },
          "metadata": {},
          "execution_count": 11
        }
      ]
    },
    {
      "cell_type": "code",
      "source": [
        "print(add0(1,2))"
      ],
      "metadata": {
        "colab": {
          "base_uri": "https://localhost:8080/"
        },
        "id": "HvbTFG4UB7zu",
        "outputId": "777d3737-7e33-403c-98e1-7640ab378918"
      },
      "execution_count": 15,
      "outputs": [
        {
          "output_type": "stream",
          "name": "stdout",
          "text": [
            "3\n",
            "None\n"
          ]
        }
      ]
    },
    {
      "cell_type": "code",
      "source": [
        "print(add1(1,2))"
      ],
      "metadata": {
        "colab": {
          "base_uri": "https://localhost:8080/"
        },
        "id": "vBZDZ1OXB72m",
        "outputId": "85ccc3c0-6c71-4b78-ed17-6313018f75a6"
      },
      "execution_count": 16,
      "outputs": [
        {
          "output_type": "stream",
          "name": "stdout",
          "text": [
            "3\n"
          ]
        }
      ]
    },
    {
      "cell_type": "code",
      "source": [
        "print(add2(1,2))"
      ],
      "metadata": {
        "colab": {
          "base_uri": "https://localhost:8080/"
        },
        "id": "w_Trf8-vCJtx",
        "outputId": "24212c66-26b3-4e07-d040-a0ee30f47e7b"
      },
      "execution_count": 17,
      "outputs": [
        {
          "output_type": "stream",
          "name": "stdout",
          "text": [
            "3\n",
            "3\n"
          ]
        }
      ]
    },
    {
      "cell_type": "markdown",
      "source": [
        "### 3. 사용자 함수의 다양한 예시"
      ],
      "metadata": {
        "id": "yLmTLe_YmXKr"
      }
    },
    {
      "cell_type": "code",
      "execution_count": null,
      "metadata": {
        "id": "vH6mThm80paK"
      },
      "outputs": [],
      "source": [
        "#예시\n",
        "# add(a, b) 에서 a,b는 함수의 매개변수=파라미터\n",
        "# 인자(argument)는 값이 할당될 경우\n",
        "\n",
        "def add(a, b):\n",
        "    return a + b"
      ]
    },
    {
      "cell_type": "code",
      "source": [
        "# 값이 할당될 경우 인자(argument)\n",
        "add(10, 20)"
      ],
      "metadata": {
        "id": "EGQRWud5USfZ"
      },
      "execution_count": null,
      "outputs": []
    },
    {
      "cell_type": "code",
      "source": [],
      "metadata": {
        "id": "0TX-xy9fUatV"
      },
      "execution_count": null,
      "outputs": []
    },
    {
      "cell_type": "code",
      "source": [],
      "metadata": {
        "id": "FVpoK76uUxCr"
      },
      "execution_count": null,
      "outputs": []
    },
    {
      "cell_type": "markdown",
      "metadata": {
        "id": "WlYfPTib0paL"
      },
      "source": [
        "`return` 은 함수의 결과값을 반환한다.\n",
        "\n",
        "위 함수의 경우\n",
        "\"함수의 이름은 add, 입력값(매개변수)은 2개를 받으며, 함수의 결과값은 2개의 입력값을 더한 값\"을 return(반환 또는 출력) 한다. 는 의미"
      ]
    },
    {
      "cell_type": "code",
      "source": [
        "#함수 사용\n",
        "add(1, 10)"
      ],
      "metadata": {
        "id": "qX7WG8D7Y3ny"
      },
      "execution_count": null,
      "outputs": []
    },
    {
      "cell_type": "code",
      "source": [
        "# add(a, b) 2개의 인자가 필요한데, 1개만 줄 경우?\n",
        "\n"
      ],
      "metadata": {
        "id": "yBTeIdi8VrAf"
      },
      "execution_count": null,
      "outputs": []
    },
    {
      "cell_type": "code",
      "execution_count": null,
      "metadata": {
        "id": "k6Dsyaxu0paM"
      },
      "outputs": [],
      "source": [
        "#함수 사용\n"
      ]
    },
    {
      "cell_type": "code",
      "source": [
        "#함수 사용\n"
      ],
      "metadata": {
        "id": "1HqtXElRWXEo"
      },
      "execution_count": null,
      "outputs": []
    },
    {
      "cell_type": "markdown",
      "source": [
        "함수 가장 마지막 줄의 `return` 은 값을 반환하는 기능인데, 그렇다면 `print()` 와 동일한 기능이 아닌가? 왜 return 을 사용하는가? 의문이 들 수 있다.\n",
        "\n",
        "아래 2개의 함수를 보자.\n",
        "\n",
        "함수 add01, 함수 add02 는 모두 동일한 결과를 출력한다.\n",
        "\n",
        "```python\n",
        "def add01(a, b):\n",
        "    print(a + b)\n",
        "\n",
        "def add02(a, b):\n",
        "    return a + b\n",
        "```\n",
        "\n",
        "\n",
        "그렇다면 `print()` 대신에 왜 `return` 을 사용할까?\n",
        "\n",
        "파이썬에서는 함수에 return 이 정의되어 있지 않을 경우, **`return None` 이 함수의 가장 마지막줄에 있다고 가정되어 처리**된다.\n",
        "\n",
        "```python\n",
        "def add01(a, b):\n",
        "    print(a + b)\n",
        "    return None  #def로 만든 함수 마지막 줄에 return 을 넣지 않아도 있다고 가정됨\n",
        "\n",
        "def add02(a, b):\n",
        "    return a + b\n",
        "```\n",
        "\n",
        "아래에서 검증할 수 있다."
      ],
      "metadata": {
        "id": "4DXtY59ubuqy"
      }
    },
    {
      "cell_type": "code",
      "source": [
        "def add01(a, b):\n",
        "    print(a + b)\n",
        "    #return None\n",
        "\n",
        "def add02(a, b):\n",
        "    return a + b"
      ],
      "metadata": {
        "id": "QEtReJFPbIi2"
      },
      "execution_count": null,
      "outputs": []
    },
    {
      "cell_type": "code",
      "source": [],
      "metadata": {
        "id": "LDArl44acn_6"
      },
      "execution_count": null,
      "outputs": []
    },
    {
      "cell_type": "code",
      "source": [],
      "metadata": {
        "id": "R5iIhMJ0bdYS"
      },
      "execution_count": null,
      "outputs": []
    },
    {
      "cell_type": "code",
      "source": [],
      "metadata": {
        "id": "Ox77u743bb5M"
      },
      "execution_count": null,
      "outputs": []
    },
    {
      "cell_type": "markdown",
      "source": [
        "## 4. 키워드 파라미터 keyward arguments (kwargs)\n",
        "\n",
        "매개변수명 앞에 ** (별표 2개) 을 붙이면 그 매개변수는 dictionary가 되어 모든 형태의 입력arguement 가 key:value쌍으로 딕셔너리에 저장된다.\n",
        "\n",
        "    함수명(**매개변수명)\n",
        "\n"
      ],
      "metadata": {
        "id": "TcaBuvPeYGxD"
      }
    },
    {
      "cell_type": "code",
      "execution_count": null,
      "metadata": {
        "id": "zh1Qw1rTYKCU"
      },
      "outputs": [],
      "source": [
        "#매개변수 kwargs를 출력\n",
        "def print_kwargs(**kwargs):\n",
        "    return kwargs"
      ]
    },
    {
      "cell_type": "code",
      "execution_count": null,
      "metadata": {
        "scrolled": true,
        "id": "b_Rv8PgvYKCU"
      },
      "outputs": [],
      "source": [
        "print_kwargs(a=1)"
      ]
    },
    {
      "cell_type": "code",
      "execution_count": null,
      "metadata": {
        "id": "3bVL3D2AYKCU"
      },
      "outputs": [],
      "source": [
        "print_kwargs(name='원주율', pi=3.14)"
      ]
    },
    {
      "cell_type": "markdown",
      "source": [
        "## 함수의 값 전달 - 인자 argument\n",
        "- 인자 argument : 함수 외부에서 함수 내부로 전달되는 값."
      ],
      "metadata": {
        "id": "pUGQf--bOzdh"
      }
    },
    {
      "cell_type": "markdown",
      "source": [
        "- 2개의 인자를 가지는 함수를 만들 수 있다."
      ],
      "metadata": {
        "id": "nNuQiYRh8Xn-"
      }
    },
    {
      "cell_type": "code",
      "source": [
        "## mydef << 함수 이름\n",
        "##  mydef('수요일', '0424')  하면\n",
        "## '오늘은 수요일', '오늘 날짜는 0424' << 출력되게"
      ],
      "metadata": {
        "id": "00eB8gSM8X-s"
      },
      "execution_count": null,
      "outputs": []
    },
    {
      "cell_type": "code",
      "source": [
        "def mydef(a, b):\n",
        "    출력1 = '오늘은 ' + a\n",
        "    출력2 = '오늘 날짜는' + b\n",
        "    return 출력1, 출력2"
      ],
      "metadata": {
        "id": "22zDlcmlgiu3"
      },
      "execution_count": null,
      "outputs": []
    },
    {
      "cell_type": "code",
      "source": [
        "mydef('수요일', '0424')"
      ],
      "metadata": {
        "id": "VvxrdwEi7op-"
      },
      "execution_count": null,
      "outputs": []
    },
    {
      "cell_type": "markdown",
      "source": [
        "## 함수 반환값 return value\n",
        "- 함수 내부로부터 외부에 보내는 값을 반환값이라고 한다.\n",
        "- return 키워드를 사용한다.\n",
        "- 하지만 모든 함수가 반드시 return 키워드를 가져야 하는 것은 아니며, 필요에 따라 return 을 사용한다.\n",
        "    - `return None` 이 생략되어 있다"
      ],
      "metadata": {
        "id": "Pw7kHlxrOza2"
      }
    },
    {
      "cell_type": "code",
      "source": [
        "# 원 면적 구하는 함수\n",
        "# 반지름을 인자로 하는 함수\n",
        "# 반지름 **2 * 3.14\n",
        "def area(반지름):\n",
        "    원의면적 = 3.14 * (반지름**2)\n",
        "    return 원의면적\n",
        "area(10)\n",
        "area(20)\n",
        "area(100)"
      ],
      "metadata": {
        "id": "urMlIk8Nen5Y"
      },
      "execution_count": null,
      "outputs": []
    },
    {
      "cell_type": "code",
      "execution_count": null,
      "metadata": {
        "id": "ZNKrUSwC0pai"
      },
      "outputs": [],
      "source": [
        "# 2개의 값을 받아 더한 값과 곱한 값을 돌려주는 함수\n",
        "# 인자가 2개\n",
        "def 함수(a, b):\n",
        "    return a+b, a*b\n",
        "함수(2, 8)"
      ]
    },
    {
      "cell_type": "code",
      "execution_count": null,
      "metadata": {
        "id": "bSRI33J10pai"
      },
      "outputs": [],
      "source": [
        "# return 을 2번 사용할 경우?\n",
        "def 함수(a, b):\n",
        "    return a+b\n",
        "    return a*b\n",
        "함수(2, 8)"
      ]
    },
    {
      "cell_type": "markdown",
      "source": [
        "## 여러 개의 값 반환"
      ],
      "metadata": {
        "id": "6uCbNmEHOzlF"
      }
    },
    {
      "cell_type": "code",
      "execution_count": null,
      "metadata": {
        "id": "GaH0xJ3S0pah"
      },
      "outputs": [],
      "source": [
        "# 1. 튜플로 return\n",
        "def f(x):\n",
        "    a = x + 1\n",
        "    b = x + 3\n",
        "    c = x + 5\n",
        "    return (a, b, c)\n",
        "    #return a, b, c #소괄호가 없어도 튜플로 인식됨\n",
        "print(f(5))\n",
        "type(f(5))"
      ]
    },
    {
      "cell_type": "code",
      "execution_count": null,
      "metadata": {
        "id": "aJxX93Sv0pai"
      },
      "outputs": [],
      "source": [
        "# 2. 딕셔너리로 return\n",
        "def f2(x):\n",
        "    d = dict()\n",
        "    d['a'] = x + 1\n",
        "    d['b'] = x + 3\n",
        "    d['c'] = x + 5\n",
        "    return d\n",
        "f2(5)"
      ]
    },
    {
      "cell_type": "code",
      "execution_count": null,
      "metadata": {
        "id": "HM9Z_7S70pai"
      },
      "outputs": [],
      "source": [
        "# 3. 리스트로 return\n",
        "def f3(x):\n",
        "    a = x + 1\n",
        "    b = x + 3\n",
        "    c = x + 5\n",
        "    return [a, b, c]\n",
        "f3(5)"
      ]
    },
    {
      "cell_type": "markdown",
      "source": [
        "## 여러 개의 값 전달\n",
        "- 함수가 호출될 때마다 인자는 함수의 매개변수로 전달된다.\n",
        "- 인자는 함수에 실제 전달되는 값\n",
        "- 매개변수(parameter) 는 이 인자를 전달받는 변수\n",
        "- 주의점 : 매개변수의 개수와, 함수에 넘어가는 인자의 개수가 정확히 일치해야 한다. 매개변수가 2개면 넘어가는 인자의 개수도 2개를 전달해야 한다."
      ],
      "metadata": {
        "id": "GZxh5lDcOzYF"
      }
    },
    {
      "cell_type": "code",
      "source": [
        "# 덧셈, 뺄셈, 곱셈, 나눗셈 4개 결과를 반환하는 함수\n",
        "# cal 함수이름\n",
        "def cal(x, y):\n",
        "    return x+y, x-y, x*y, x/y\n",
        "cal(10, 2)"
      ],
      "metadata": {
        "id": "Nbzc1dl4-1Ez"
      },
      "execution_count": null,
      "outputs": []
    },
    {
      "cell_type": "code",
      "source": [],
      "metadata": {
        "id": "Ju4OOGG0fG-o"
      },
      "execution_count": null,
      "outputs": []
    },
    {
      "cell_type": "code",
      "source": [],
      "metadata": {
        "id": "cqHV7TRylZFt"
      },
      "execution_count": null,
      "outputs": []
    },
    {
      "cell_type": "code",
      "source": [],
      "metadata": {
        "id": "CWWjf4wMlswB"
      },
      "execution_count": null,
      "outputs": []
    },
    {
      "cell_type": "code",
      "source": [
        "def get_sum(start, end):  #매개변수 start, end\n",
        "    s = 0\n",
        "    for i in range(start, end+1):\n",
        "        s += i\n",
        "    return s"
      ],
      "metadata": {
        "id": "Ov9LLinV992W"
      },
      "execution_count": null,
      "outputs": []
    },
    {
      "cell_type": "code",
      "source": [
        "get_sum(1, 5)"
      ],
      "metadata": {
        "id": "w2pp72domq5_"
      },
      "execution_count": null,
      "outputs": []
    },
    {
      "cell_type": "markdown",
      "source": [
        "---\n",
        "#### 실습문제\n",
        "- a, b, c 3개 인자를 받아서 3개 수의 제곱을 반환하는 함수를 작성해보세요.\n",
        "- 함수이름은 get_square() 로 설정합니다.\n",
        "-  a, b, c를 각각 1, 2, 3 으로 입력받았을 때, 그 결과를 출력해보세요."
      ],
      "metadata": {
        "id": "btHUDQj2_ECM"
      }
    },
    {
      "cell_type": "code",
      "source": [
        "# 코드 작성"
      ],
      "metadata": {
        "id": "9CyJ0IRV_DM1"
      },
      "execution_count": null,
      "outputs": []
    },
    {
      "cell_type": "markdown",
      "source": [
        "---\n",
        "## 변수의 적용범위"
      ],
      "metadata": {
        "id": "X6S1OymDOzVo"
      }
    },
    {
      "cell_type": "markdown",
      "source": [
        "### 지역변수 local variable\n",
        "- def를 이용하여 만든 함수 내부에서 작동하는 변수\n",
        "- def 바깥에서는 알 수 없으므로 호출 불가능"
      ],
      "metadata": {
        "id": "7GsFTeLBOzTC"
      }
    },
    {
      "cell_type": "code",
      "source": [
        "def 과일():\n",
        "    apple = 9\n",
        "    return apple\n",
        "\n",
        "print(과일())\n",
        "\n",
        "print(apple) #과일()함수 내부에서만 작동하는 변수"
      ],
      "metadata": {
        "id": "wwQk_ngG_rx9"
      },
      "execution_count": null,
      "outputs": []
    },
    {
      "cell_type": "code",
      "source": [
        "apple = 5  #global\n",
        "\n",
        "def 과일():\n",
        "    apple = 9     #local\n",
        "    return apple  #local\n",
        "print(과일())    #local\n",
        "\n",
        "print(apple) #global"
      ],
      "metadata": {
        "id": "CjQXWjty_r-8"
      },
      "execution_count": null,
      "outputs": []
    },
    {
      "cell_type": "markdown",
      "source": [
        "### 전역변수 global variable\n",
        "- def를 이용하여 만든 함수의 외부의 값을 가져올 수 있다.\n",
        "\n",
        "- 단, 전역변수를 지나치게 많이 사용할 경우 추후 오류가 발생하였을 때 어떤 부분에서 오류가 발생하였는지 추적하는 것이 어려운 문제가 있으므로 전역변수의 사용은 가급적 최소로 하는 것이 권장된다.\n",
        "\n",
        "- 함수 내부에서 **변수값을 설정하기 이전에, `global 변수명`**을 사용해야 한다.\n",
        "    - 순서가 바뀔 경우, SyntaxError:  assigned to before global declaration 이 발생한다."
      ],
      "metadata": {
        "id": "7smQl_jROzQY"
      }
    },
    {
      "cell_type": "markdown",
      "source": [
        "전역변수, 지역변수 예시"
      ],
      "metadata": {
        "id": "oM2ZXgk8j55Y"
      }
    },
    {
      "cell_type": "code",
      "source": [
        "apple = 5\n",
        "def 함수예제1번():\n",
        "    appleplus = apple + 2\n",
        "    return appleplus\n",
        "\n",
        "함수예제1번()"
      ],
      "metadata": {
        "id": "J5V_3aVXARjZ"
      },
      "execution_count": null,
      "outputs": []
    },
    {
      "cell_type": "code",
      "source": [
        "apple = 5\n",
        "def 함수예제2번():\n",
        "    apple = 999\n",
        "    appleplus = apple + 2\n",
        "    return appleplus\n",
        "함수예제2번()"
      ],
      "metadata": {
        "id": "cIk9-84osmKa"
      },
      "execution_count": null,
      "outputs": []
    },
    {
      "cell_type": "code",
      "source": [],
      "metadata": {
        "id": "wn1y9UaMnDEA"
      },
      "execution_count": null,
      "outputs": []
    },
    {
      "cell_type": "code",
      "source": [
        "apple = 5\n",
        "def 함수예제3번():\n",
        "    global apple\n",
        "    apple = 999\n",
        "    appleplus = apple + 2\n",
        "    return appleplus\n",
        "함수예제3번()"
      ],
      "metadata": {
        "id": "mnyLT4QgjBYt"
      },
      "execution_count": null,
      "outputs": []
    },
    {
      "cell_type": "code",
      "source": [],
      "metadata": {
        "id": "RUSZWDArnFC4"
      },
      "execution_count": null,
      "outputs": []
    },
    {
      "cell_type": "code",
      "source": [
        "# 오류발생!! 순서가 중요\n",
        "#SyntaxError:  assigned to before global declaration\n",
        "apple = 5\n",
        "def 함수예제4번():\n",
        "    apple = 999\n",
        "    global apple\n",
        "    appleplus = apple + 2\n",
        "    return appleplus\n",
        "print(함수예제4번())\n",
        "print(apple)"
      ],
      "metadata": {
        "id": "NS9ck7JE_q6d"
      },
      "execution_count": null,
      "outputs": []
    },
    {
      "cell_type": "code",
      "source": [],
      "metadata": {
        "id": "QwzNGxfGnGPh"
      },
      "execution_count": null,
      "outputs": []
    },
    {
      "cell_type": "markdown",
      "source": [
        "# 실습문제"
      ],
      "metadata": {
        "id": "1HjdxSzvAlJh"
      }
    },
    {
      "cell_type": "markdown",
      "source": [
        "##### 1번 문제\n",
        "- n이라는 매개변수를 입력으로 받아서 n의 제곱값을 반환하는 square(n) 함수를 정의하세요.\n",
        "- 다음으로 이 함수를 호출하여 3과 4의 제곱을 각각 출력하는 결과를 만들어보세요."
      ],
      "metadata": {
        "id": "AEpUx8pmB9YS"
      }
    },
    {
      "cell_type": "code",
      "source": [],
      "metadata": {
        "id": "Tv_oEiAvB9q0"
      },
      "execution_count": null,
      "outputs": []
    },
    {
      "cell_type": "code",
      "source": [],
      "metadata": {
        "id": "qKHe24EKIi91"
      },
      "execution_count": null,
      "outputs": []
    },
    {
      "cell_type": "markdown",
      "source": [
        "##### 2번 문제\n",
        "- m, n 이라는 이름의 매개변수를 두 개 입력받아서 두 값 중에서 큰 값을 반환하는 max_2(m,n) 함수와,  작은값을 반환하는 min_2(m,n) 함수를 정의하세요.\n",
        "- 다음으로 100, 200을 함수의 인자로 넣어서 호출하여 결과를 확인하세요.\n",
        "\n",
        "- 힌트 : if-else문, return 활용"
      ],
      "metadata": {
        "id": "q7rizAslB9-8"
      }
    },
    {
      "cell_type": "code",
      "source": [],
      "metadata": {
        "id": "D8xrg7a5B-UO"
      },
      "execution_count": null,
      "outputs": []
    },
    {
      "cell_type": "code",
      "source": [],
      "metadata": {
        "id": "jOaxpe7dJGQl"
      },
      "execution_count": null,
      "outputs": []
    },
    {
      "cell_type": "markdown",
      "source": [
        "##### 3번 문제\n",
        "- 섭씨온도를 화씨온도로 변환하는 식은 다음과 같습니다.\n",
        "화씨 = (9/5) * 섭씨 + 32\n",
        "- (1) 섭씨온도를 화씨온도로 변환하는 사용자정의함수를 만드세요. 사용자정의함수의 이름은 cel2far 로 설정하세요.\n",
        "- (2) 섭씨온도를 0도에서 50도까지 10도 단위로 증가시키면서 여기에 해당하는 화씨온도를 출력하는 코드를 for문과 range()를 사용하여 출력해보세요."
      ],
      "metadata": {
        "id": "t7qg-JzEB-rT"
      }
    },
    {
      "cell_type": "code",
      "source": [],
      "metadata": {
        "id": "hek3hnstB_WB"
      },
      "execution_count": null,
      "outputs": []
    },
    {
      "cell_type": "code",
      "source": [],
      "metadata": {
        "id": "VxJw7O_v9Dhx"
      },
      "execution_count": null,
      "outputs": []
    },
    {
      "cell_type": "code",
      "source": [],
      "metadata": {
        "id": "ZwE0lcDn240N"
      },
      "execution_count": null,
      "outputs": []
    },
    {
      "cell_type": "markdown",
      "source": [
        "---\n",
        "😊 수고하셨습니다 😊"
      ],
      "metadata": {
        "id": "tscbPDTrI7l1"
      }
    }
  ]
}
{
  "nbformat": 4,
  "nbformat_minor": 0,
  "metadata": {
    "colab": {
      "provenance": [],
      "collapsed_sections": [
        "fb61XpzyI4V9"
      ],
      "toc_visible": true,
      "include_colab_link": true
    },
    "kernelspec": {
      "name": "python3",
      "display_name": "Python 3"
    },
    "language_info": {
      "name": "python"
    }
  },
  "cells": [
    {
      "cell_type": "markdown",
      "metadata": {
        "id": "view-in-github",
        "colab_type": "text"
      },
      "source": [
        "<a href=\"https://colab.research.google.com/github/Tom-Jung/testttttt/blob/main/06_%EC%9B%B9%EC%8A%A4%ED%81%AC%EB%9E%98%ED%95%91_%EB%84%A4%EC%9D%B4%EB%B2%84%EC%A2%85%EB%AA%A9%ED%86%A0%EB%A1%A0%EB%B0%A9_(%EC%88%98%EC%97%85%EC%A0%84).ipynb\" target=\"_parent\"><img src=\"https://colab.research.google.com/assets/colab-badge.svg\" alt=\"Open In Colab\"/></a>"
      ]
    },
    {
      "cell_type": "markdown",
      "source": [
        "---\n",
        "# [데이터 수집] 네이버 주식: 종목토론방\n",
        "\n",
        "- BeautifulSoup, Selenium을 적용하여 데이터수집을 한다."
      ],
      "metadata": {
        "id": "r1CJRy0sXAp2"
      }
    },
    {
      "cell_type": "markdown",
      "source": [
        "**참고**\n",
        "<h1> 뷰티풀숩 BeautifulSoup </h1>\n",
        "    \n",
        "    - HTML 및 XML 파일을 구문 분석, 탐색할 수 있는 라이브러\n",
        "\n",
        "    - 정적 페이지 스크래핑: 정적인 웹 페이지의 HTML 구조를 탐색, 파싱할 수 있다.\n",
        "    \n",
        "    - 서버에서 HTML을 받아와서 원하는 데이터를 추출한다.\n",
        "    \n",
        "    - 다양한 파서 지원: HTML 파싱을 위해 여러 파서(예: lxml, html.parser)를 지원.\n",
        "    \n",
        "    - 단, JavaScript로 생성된 콘텐츠는 처리할 수 없다.\n",
        "\n",
        "\n",
        "<h1> 셀레니움 Selenium </h1>\n",
        "    \n",
        "    - 웹 브라우저를 자동화하기 위한 라이브러리.\n",
        "    \n",
        "    - 동적 페이지 스크래핑: Selenium은 실제 브라우저를 제어하여 JavaScript로 생성된 동적 콘텐츠를 처리가능.\n",
        "\n",
        "    - 클릭, 데이터 입력 등 가능: 웹사이트에 id, pw 를 입력하여 로그인 하거나, 버튼클릭, 스크롤 내리기 등을 자동화할 수 있다.\n",
        "    \n",
        "    - 단, 메모리와 CPU 를 차지하며 BeautifulSoup에 비해 속도가 느리다.\n",
        "\n",
        "<h1> 사용 예 </h1>\n",
        "\n",
        "    - 일반적으로 2개를 결합하여 사용한다.\n",
        "\n",
        "    - Selenium으로 동적 컨텐츠를 가져온 후, BeautifulSoup 을 사용하여 html을 파싱한다.\n",
        "    "
      ],
      "metadata": {
        "id": "E6nX9hZRqEdc"
      }
    },
    {
      "cell_type": "markdown",
      "source": [
        "ㅇ식**참고** HTML 에서 자주 사용되는 태그와 의미\n",
        "\n",
        "\n",
        "- 태그\n",
        "    - html: 문서의 루트 요소. HTML 문서의 시작을 나타냄.\n",
        "    - head: 메타데이터 요소를 포함. 제목, 스타일, 스크립트 등의 메타 정보를 포함.\n",
        "    - title: 문서의 제목을 정의. 브라우저의 제목 표시줄이나 탭에 표시.\n",
        "    - meta: 문서의 메타데이터를 정의. 문자 인코딩, 저자, 페이지 설명 등을 포함.\n",
        "    - link: 외부 자원에 대한 연결을 정의. 스타일시트 연결 등에 사용.\n",
        "    - style: CSS 스타일 정보를 포함.\n",
        "    - script: JavaScript 코드를 포함.\n",
        "\n",
        "- 본문 구조 태그\n",
        "    - body: 문서의 본문을 정의. 실제 콘텐츠가 포함되는 영역.\n",
        "    - header: 소개 및 탐색 링크를 포함하는 섹션을 정의.\n",
        "    - nav: 네비게이션 링크를 포함하는 섹션을 정의.\n",
        "    - main: 문서의 주요 콘텐츠를 정의.\n",
        "    - footer: 푸터 섹션을 정의. 저작권 정보, 연락처 정보 등을 포함.\n",
        "    - section: 문서의 일반 섹션을 정의.\n",
        "    - article: 독립적인 콘텐츠 항목을 정의.\n",
        "    - aside: 부가적인 콘텐츠를 정의. 사이드바 등을 포함.\n",
        "    - div: 블록 레벨 요소를 정의. 스타일링이나 스크립트를 위해 사용.\n",
        "\n",
        "- 텍스트 포맷 태그\n",
        "    - h1 ~ h6: 제목 태그.h1부터 h6 까지 있음.\n",
        "    - p: 단락을 정의.\n",
        "    - a: 하이퍼링크를 정의.\n",
        "    - span: 인라인 요소를 정의. 스타일링이나 스크립트를 위해 사용.\n",
        "    - em: 강조된 텍스트를 정의. 이탤릭체로 표시.\n",
        "    - strong: 중요한 텍스트를 정의. 굵은 글씨로 표시.\n",
        "    - br: 줄바꿈을 정의.\n",
        "    - hr: 주제의 변화를 나타내는 수평선을 정의.\n",
        "\n",
        "- 목록 태그\n",
        "    - ul: 순서 없는 목록을 정의. li 요소를 포함.\n",
        "    - ol: 순서 있는 목록을 정의. li 요소를 포함.\n",
        "    - li: 목록 항목을 정의.\n",
        "\n",
        "- 테이블 태그\n",
        "    - table: 테이블을 정의.\n",
        "    - thead: 테이블의 헤더 섹션을 정의.\n",
        "    - tbody: 테이블의 본문 섹션을 정의.\n",
        "    - tfoot: 테이블의 푸터 섹션을 정의.\n",
        "    - tr: 테이블 행을 정의.\n",
        "    - th: 테이블 헤더 셀을 정의.\n",
        "    - td: 테이블 데이터 셀을 정의."
      ],
      "metadata": {
        "id": "5n9vGWxJcOOf"
      }
    },
    {
      "cell_type": "markdown",
      "source": [
        "## 1. BeautifulSoup 적용\n",
        "- BeautifulSoup는 정적인 웹페이지에서 데이터를 가져온다.\n",
        "- 속도가 빠른 장점\n",
        "\n",
        "- 여기서는 requests 로 웹페이지를 가져오고, BS로 파싱한다."
      ],
      "metadata": {
        "id": "S4hkxCuSRx9r"
      }
    },
    {
      "cell_type": "markdown",
      "source": [
        "- 설치"
      ],
      "metadata": {
        "id": "X6A2zzYfR9VS"
      }
    },
    {
      "cell_type": "code",
      "source": [
        "#!pip install requests beautifulsoup4"
      ],
      "metadata": {
        "id": "GvByDEdeR8Vh"
      },
      "execution_count": null,
      "outputs": []
    },
    {
      "cell_type": "code",
      "source": [
        "import pandas as pd\n",
        "import requests\n",
        "from bs4 import BeautifulSoup\n",
        "\n",
        "# 헤더 - 서버차단 방지 및 사용자 에이전트 설정\n",
        "headers = {'user-agent':\"Mozilla/5.0\"}"
      ],
      "metadata": {
        "id": "m1B0eKJwRyqT"
      },
      "execution_count": null,
      "outputs": []
    },
    {
      "cell_type": "code",
      "source": [
        "# 크롤링할 URL\n",
        "url = 'https://finance.naver.com/item/board.naver?code=138040'"
      ],
      "metadata": {
        "id": "ay1E0WszTYJI"
      },
      "execution_count": null,
      "outputs": []
    },
    {
      "cell_type": "code",
      "source": [
        "# 웹페이지 요청\n",
        "response = requests.get(url, headers=headers)"
      ],
      "metadata": {
        "id": "LxDfglDQzEpj"
      },
      "execution_count": null,
      "outputs": []
    },
    {
      "cell_type": "code",
      "source": [
        "# HTML 파싱 - 뷰티풀숩\n",
        "soup = BeautifulSoup(response.text, 'html.parser')"
      ],
      "metadata": {
        "id": "Ha860BH2sDFR"
      },
      "execution_count": null,
      "outputs": []
    },
    {
      "cell_type": "code",
      "source": [
        "# 원하는 데이터 추출 (모든 <h1> 태그의 텍스트를 추출)\n",
        "tag = soup.find_all('h1')\n",
        "#반복문\n",
        "for i in tag:\n",
        "    print(i.get_text())"
      ],
      "metadata": {
        "id": "JW0k4D9AsJ5Z",
        "colab": {
          "base_uri": "https://localhost:8080/"
        },
        "outputId": "71699da9-fa40-4e39-984d-5c38b06dcd74"
      },
      "execution_count": null,
      "outputs": [
        {
          "output_type": "stream",
          "name": "stdout",
          "text": [
            "\n",
            "\n",
            "\n",
            "\n",
            "\n",
            "네이버\n",
            "\n",
            "\n",
            "\n",
            "\n",
            "\n",
            "페이\n",
            "\n",
            "\n",
            "\n",
            "\n",
            "\n",
            "\n",
            "증권\n",
            "\n",
            "\n"
          ]
        }
      ]
    },
    {
      "cell_type": "code",
      "source": [
        "# 원하는 데이터 추출 (모든 <h2> 태그의 텍스트를 추출)\n",
        "tag = soup.find_all('h2')\n",
        "#반복문\n",
        "for i in tag:\n",
        "    print(i.get_text())"
      ],
      "metadata": {
        "id": "aG2rTVQDK_xW",
        "colab": {
          "base_uri": "https://localhost:8080/"
        },
        "outputId": "24ed7d12-62f3-4150-d195-4e52a74bb65a"
      },
      "execution_count": null,
      "outputs": [
        {
          "output_type": "stream",
          "name": "stdout",
          "text": [
            "메리츠금융지주\n",
            "최근조회\n",
            "인기검색종목\n",
            "시세정보바로가기\n",
            "공지사항\n"
          ]
        }
      ]
    },
    {
      "cell_type": "code",
      "source": [
        "# 원하는 데이터 추출 (모든 <h3> 태그의 텍스트를 추출)\n",
        "tag = soup.find_all('h3')\n",
        "#반복문\n",
        "[i.get_text() for i in tag]"
      ],
      "metadata": {
        "id": "1F2Re3QNSQpS",
        "colab": {
          "base_uri": "https://localhost:8080/"
        },
        "outputId": "7ffc10d7-fe71-430d-8fd4-0024f7784101"
      },
      "execution_count": null,
      "outputs": [
        {
          "output_type": "execute_result",
          "data": {
            "text/plain": [
              "['투자정보', '호가 10단계', '코스피', '클린봇 비활성화']"
            ]
          },
          "metadata": {},
          "execution_count": 21
        }
      ]
    },
    {
      "cell_type": "markdown",
      "source": [
        "일반적으로 표는 tbody 태그에 있다. (table body)\n",
        "\n",
        "- 모든 **tbody 태그**의 텍스트 추출"
      ],
      "metadata": {
        "id": "WzQntGuZWhna"
      }
    },
    {
      "cell_type": "code",
      "source": [
        "#  모든 <tbody> 태그의 텍스트 추출\n",
        "tag1 = soup.find_all('tbody')\n",
        "[i.get_text() for i in tag1]"
      ],
      "metadata": {
        "id": "GxTk5N_0S-6p",
        "colab": {
          "base_uri": "https://localhost:8080/"
        },
        "outputId": "782a8549-2871-4a0b-a241-9f461a3563fc"
      },
      "execution_count": null,
      "outputs": [
        {
          "output_type": "execute_result",
          "data": {
            "text/plain": [
              "['\\n\\n날짜\\n제목\\n글쓴이\\n조회\\n공감\\n비공감\\n\\n\\n\\n\\n\\n\\n\\n\\n클린봇으로 착한게시글만 모아보세요!\\n설정\\n\\n\\n\\n\\n\\n\\n\\n\\n2024.10.17 16:13\\n\\n대학 나온 분들만 보세요.\\n\\t\\t\\t\\t\\t\\n\\t\\t\\t\\t\\n\\t\\t\\t\\t\\n\\t\\t\\t\\t\\n\\n\\n\\t\\t\\t\\tguid****\\n\\t\\t\\t\\n1\\n0\\n0\\n\\n\\n2024.10.17 13:45\\n\\n주가가 떨어졌으면 좋겠다\\n\\t\\t\\t\\t\\t\\n\\t\\t\\t\\t\\n\\t\\t\\t\\t[2]\\n\\n\\n\\n\\t\\t\\t\\tkimt****\\n\\t\\t\\t\\n237\\n3\\n10\\n\\n\\n2024.10.17 10:00\\n\\n[지속매수] 메리츠금융지주 목표 주가 1...\\n\\t\\t\\t\\t\\t\\n\\t\\t\\t\\t\\n\\t\\t\\t\\t[4]\\n\\n\\n\\n\\t\\t\\t\\tdhrb****\\n\\t\\t\\t\\n525\\n0\\n4\\n\\n\\n2024.10.16 22:44\\n\\n메리츠금융 10/16기준 최신전략글\\n\\t\\t\\t\\t\\t\\n\\t\\t\\t\\t\\n\\t\\t\\t\\t[2]\\n\\n\\n\\n\\t\\t\\t\\tty******\\n\\t\\t\\t\\n393\\n0\\n7\\n\\n\\n2024.10.16 18:15\\n\\n자사주\\n\\t\\t\\t\\t\\t\\n\\t\\t\\t\\t\\n\\t\\t\\t\\t[1]\\n\\n\\n\\n\\t\\t\\t\\twi******\\n\\t\\t\\t\\n561\\n12\\n3\\n\\n\\n\\n\\n\\n2024.10.16 16:38\\n\\n입오므리나열받나콤보\\n\\t\\t\\t\\t\\t\\n\\t\\t\\t\\t\\n\\t\\t\\t\\t\\n\\t\\t\\t\\t\\n\\n\\n\\t\\t\\t\\tufom****\\n\\t\\t\\t\\n322\\n1\\n6\\n\\n\\n2024.10.16 15:40\\n\\n대안\\n\\t\\t\\t\\t\\t\\n\\t\\t\\t\\t\\n\\t\\t\\t\\t[2]\\n\\n\\n\\n\\t\\t\\t\\tkim_****\\n\\t\\t\\t\\n634\\n6\\n5\\n\\n\\n2024.10.16 13:06\\n\\n많은 사람들이 몰랐으면 좋겠다\\n\\t\\t\\t\\t\\t\\n\\t\\t\\t\\t\\n\\t\\t\\t\\t[4]\\n\\n\\n\\n\\t\\t\\t\\tasuk****\\n\\t\\t\\t\\n933\\n12\\n3\\n\\n\\n2024.10.15 19:45\\n\\nMBK의 나비효과.\\n\\t\\t\\t\\t\\t\\n\\t\\t\\t\\t\\n\\t\\t\\t\\t[2]\\n\\n\\n\\n\\t\\t\\t\\tstoc****\\n\\t\\t\\t\\n1195\\n14\\n7\\n\\n\\n2024.10.15 18:29\\n\\n자사주\\n\\t\\t\\t\\t\\t\\n\\t\\t\\t\\t\\n\\t\\t\\t\\t[1]\\n\\n\\n\\n\\t\\t\\t\\twi******\\n\\t\\t\\t\\n612\\n12\\n1\\n\\n\\n\\n\\n\\n2024.10.15 13:15\\n\\n매도 호가창이...\\n\\t\\t\\t\\t\\t\\n\\t\\t\\t\\t\\n\\t\\t\\t\\t[3]\\n\\n\\n\\n\\t\\t\\t\\tstoc****\\n\\t\\t\\t\\n1279\\n16\\n11\\n\\n\\n2024.10.15 12:15\\n\\n10만원대에서 안착을 하자\\n\\t\\t\\t\\t\\t\\n\\t\\t\\t\\t\\n\\t\\t\\t\\t[1]\\n\\n\\n\\n\\t\\t\\t\\tasuk****\\n\\t\\t\\t\\n742\\n7\\n4\\n\\n\\n2024.10.15 00:18\\n\\n솔까\\n\\t\\t\\t\\t\\t\\n\\t\\t\\t\\t\\n\\t\\t\\t\\t[5]\\n\\n\\n\\n\\t\\t\\t\\tvrch****\\n\\t\\t\\t\\n1525\\n8\\n17\\n\\n\\n2024.10.14 23:15\\n\\n미장\\n\\t\\t\\t\\t\\t\\n\\t\\t\\t\\t\\n\\t\\t\\t\\t\\n\\t\\t\\t\\t\\n\\n\\n\\t\\t\\t\\tksb_****\\n\\t\\t\\t\\n468\\n2\\n5\\n\\n\\n2024.10.14 19:35\\n\\n다즈그가그냥그랬는데지구거짓말보낸다\\n\\t\\t\\t\\t\\t\\n\\t\\t\\t\\t\\n\\t\\t\\t\\t\\n\\t\\t\\t\\t\\n\\n\\n\\t\\t\\t\\tufom****\\n\\t\\t\\t\\n344\\n2\\n8\\n\\n\\n\\n\\n\\n2024.10.14 18:12\\n\\n자사주\\n\\t\\t\\t\\t\\t\\n\\t\\t\\t\\t\\n\\t\\t\\t\\t[3]\\n\\n\\n\\n\\t\\t\\t\\twi******\\n\\t\\t\\t\\n809\\n15\\n2\\n\\n\\n2024.10.14 16:04\\n\\n15만원 간다햇죠?! 메리츠 주가 상승원...\\n\\t\\t\\t\\t\\t\\n\\t\\t\\t\\t\\n\\t\\t\\t\\t[2]\\n\\n\\n\\n\\t\\t\\t\\tkzkz****\\n\\t\\t\\t\\n801\\n5\\n12\\n\\n\\n2024.10.14 12:44\\n\\n[수익 517% 돌파] 메리츠금융지주 목...\\n\\t\\t\\t\\t\\t\\n\\t\\t\\t\\t\\n\\t\\t\\t\\t[1]\\n\\n\\n\\n\\t\\t\\t\\tdhrb****\\n\\t\\t\\t\\n820\\n6\\n9\\n\\n\\n2024.10.14 11:10\\n\\n다들 증권사도 메리츠증권 쓰시죠?\\n\\t\\t\\t\\t\\t\\n\\t\\t\\t\\t\\n\\t\\t\\t\\t[2]\\n\\n\\n\\n\\t\\t\\t\\tasuk****\\n\\t\\t\\t\\n947\\n20\\n4\\n\\n\\n2024.10.14 11:06\\n\\n돈이 복사가 된다고?\\n\\t\\t\\t\\t\\t\\n\\t\\t\\t\\t\\n\\t\\t\\t\\t\\n\\t\\t\\t\\t\\n\\n\\n\\t\\t\\t\\tkayc****\\n\\t\\t\\t\\n396\\n14\\n3\\n\\n\\n',\n",
              " '\\n\\n\\n\\n\\n페이지 네비게이션\\n\\n\\n\\n1\\n\\n\\n2\\n\\n\\n3\\n\\n\\n4\\n\\n\\n5\\n\\n\\n6\\n\\n\\n7\\n\\n\\n8\\n\\n\\n9\\n\\n\\n10\\n\\n\\n\\n\\t\\t\\t\\t다음\\n\\n\\n\\n맨뒤\\n\\t\\t\\t\\t\\n\\n\\n\\n\\n\\n\\n\\n',\n",
              " '\\n\\n\\n1\\n\\n\\n2\\n\\n\\n3\\n\\n\\n4\\n\\n\\n5\\n\\n\\n6\\n\\n\\n7\\n\\n\\n8\\n\\n\\n9\\n\\n\\n10\\n\\n\\n\\n\\t\\t\\t\\t다음\\n\\n\\n\\n맨뒤\\n\\t\\t\\t\\t\\n\\n\\n\\n',\n",
              " '\\n\\n\\n\\n\\n토론실 활용팁과 운영원칙\\n\\n\\n제목\\n\\n\\n\\n\\n\\n\\n내 토론글\\n글쓰기\\n\\n\\n\\n\\n',\n",
              " '\\n\\n\\n\\n※ 금융 서비스 운영원칙에 맞지 않는 글은 운영자에 의해 삭제될 수 있습니다. \\n※ 게시글 일 30건, 댓글 일 50건의 글을 등록할 수 있고, 게시자가 삭제하지 않는 이상 계속 보존됩니다.\\n※ 허위사실 유포는 자본시장과 금융투자업에 관한 법률 제176조 2항에 해당하는 시세조종행위로써 10년 이하의 징역 또는 그 위반행위로 얻은 이익 또는 회피한 손실액의 1배 이상 3배 이하에 상당하는 벌금에 처할 수 있습니다.\\n※ 불건전 게시물에 현혹되어 피해가 발생하지 않도록 주의해주세요. 불공정거래는 금융감독원과 한국거래소에 신고할 수 있습니다. \\n-불법 주식리딩방 금융감독원 신고센터: 국번없이 \"1332\"\\n-한국거래소 불공정거래 신고센터(Tel. 1577-3360): https://stockwatch.krx.co.kr\\n-금융감독원 증권불공정거래신고센터: https://www.fss.or.kr/fss/main/sub1Unfair.do?menuNo=200080\\n\\n',\n",
              " '\\n\\n\\n\\t \\t\\t\\t\\t\\t\\t\\t\\tPERlEPS(2024.06)\\n\\n\\n\\nPER = 현재가 ÷ EPS\\n\\t\\t\\t\\t\\t\\t\\t\\t\\t\\t\\t\\tEPS는 지배기업귀속 최근 4분기 합산 순이익을\\n\\t\\t\\t\\t\\t\\t\\t\\t\\t\\t\\t\\t수정평균발행주식수로 나눈 값이며, 보통주와\\n\\t\\t\\t\\t\\t\\t\\t\\t\\t\\t\\t\\t우선주를 합산해서 계산합니다.\\n\\t\\t\\t\\t\\t\\t\\t\\t\\t\\t\\t\\n\\n\\n\\n\\n\\n9.30배\\n\\t\\t\\t\\t\\t\\t\\t\\t\\t\\n\\t\\t\\t\\t\\t\\t\\t\\t\\tl\\n11,151원\\n\\t\\t\\t\\t\\t\\t\\t\\t\\t\\n\\t \\t\\t\\t\\t\\t\\t\\t\\n\\n']"
            ]
          },
          "metadata": {},
          "execution_count": 25
        }
      ]
    },
    {
      "cell_type": "markdown",
      "source": [
        "- 모든 **td 태그**의 텍스트 추출"
      ],
      "metadata": {
        "id": "A-TB9T07S7OE"
      }
    },
    {
      "cell_type": "code",
      "source": [
        "#  모든 <tbody> 태그의 텍스트 추출\n",
        "tag2 = soup.find_all('td')\n",
        "[i.get_text() for i in tag2]"
      ],
      "metadata": {
        "id": "xhx_5ONSS7OF",
        "colab": {
          "base_uri": "https://localhost:8080/"
        },
        "outputId": "e2681372-dce3-4580-a4ed-2ab6d459638b"
      },
      "execution_count": null,
      "outputs": [
        {
          "output_type": "execute_result",
          "data": {
            "text/plain": [
              "['\\n전일\\n\\n102,800\\n102,800\\n\\n',\n",
              " '\\n고가\\n\\n104,800104,800\\n\\n(상한가\\n\\n133,600133,600\\n\\n)\\n',\n",
              " '\\n거래량\\n\\n194,388\\n194,388\\n\\n',\n",
              " '\\n시가\\n\\n103,500103,500\\n\\n',\n",
              " '\\n저가\\n\\n103,300103,300\\n\\n(하한가\\n\\n72,000\\n\\n)\\n',\n",
              " '\\n거래대금\\n\\n20,214\\n20,214\\n\\n백만\\n',\n",
              " '',\n",
              " '\\n\\n클린봇으로 착한게시글만 모아보세요!\\n설정\\n\\n',\n",
              " '',\n",
              " '2024.10.17 16:13',\n",
              " '\\n대학 나온 분들만 보세요.\\n\\t\\t\\t\\t\\t\\n\\t\\t\\t\\t\\n\\t\\t\\t\\t\\n\\t\\t\\t\\t\\n',\n",
              " '\\n\\t\\t\\t\\tguid****\\n\\t\\t\\t',\n",
              " '1',\n",
              " '0',\n",
              " '0',\n",
              " '2024.10.17 13:45',\n",
              " '\\n주가가 떨어졌으면 좋겠다\\n\\t\\t\\t\\t\\t\\n\\t\\t\\t\\t\\n\\t\\t\\t\\t[2]\\n\\n',\n",
              " '\\n\\t\\t\\t\\tkimt****\\n\\t\\t\\t',\n",
              " '237',\n",
              " '3',\n",
              " '10',\n",
              " '2024.10.17 10:00',\n",
              " '\\n[지속매수] 메리츠금융지주 목표 주가 1...\\n\\t\\t\\t\\t\\t\\n\\t\\t\\t\\t\\n\\t\\t\\t\\t[4]\\n\\n',\n",
              " '\\n\\t\\t\\t\\tdhrb****\\n\\t\\t\\t',\n",
              " '525',\n",
              " '0',\n",
              " '4',\n",
              " '2024.10.16 22:44',\n",
              " '\\n메리츠금융 10/16기준 최신전략글\\n\\t\\t\\t\\t\\t\\n\\t\\t\\t\\t\\n\\t\\t\\t\\t[2]\\n\\n',\n",
              " '\\n\\t\\t\\t\\tty******\\n\\t\\t\\t',\n",
              " '393',\n",
              " '0',\n",
              " '7',\n",
              " '2024.10.16 18:15',\n",
              " '\\n자사주\\n\\t\\t\\t\\t\\t\\n\\t\\t\\t\\t\\n\\t\\t\\t\\t[1]\\n\\n',\n",
              " '\\n\\t\\t\\t\\twi******\\n\\t\\t\\t',\n",
              " '561',\n",
              " '12',\n",
              " '3',\n",
              " '',\n",
              " '2024.10.16 16:38',\n",
              " '\\n입오므리나열받나콤보\\n\\t\\t\\t\\t\\t\\n\\t\\t\\t\\t\\n\\t\\t\\t\\t\\n\\t\\t\\t\\t\\n',\n",
              " '\\n\\t\\t\\t\\tufom****\\n\\t\\t\\t',\n",
              " '322',\n",
              " '1',\n",
              " '6',\n",
              " '2024.10.16 15:40',\n",
              " '\\n대안\\n\\t\\t\\t\\t\\t\\n\\t\\t\\t\\t\\n\\t\\t\\t\\t[2]\\n\\n',\n",
              " '\\n\\t\\t\\t\\tkim_****\\n\\t\\t\\t',\n",
              " '634',\n",
              " '6',\n",
              " '5',\n",
              " '2024.10.16 13:06',\n",
              " '\\n많은 사람들이 몰랐으면 좋겠다\\n\\t\\t\\t\\t\\t\\n\\t\\t\\t\\t\\n\\t\\t\\t\\t[4]\\n\\n',\n",
              " '\\n\\t\\t\\t\\tasuk****\\n\\t\\t\\t',\n",
              " '933',\n",
              " '12',\n",
              " '3',\n",
              " '2024.10.15 19:45',\n",
              " '\\nMBK의 나비효과.\\n\\t\\t\\t\\t\\t\\n\\t\\t\\t\\t\\n\\t\\t\\t\\t[2]\\n\\n',\n",
              " '\\n\\t\\t\\t\\tstoc****\\n\\t\\t\\t',\n",
              " '1195',\n",
              " '14',\n",
              " '7',\n",
              " '2024.10.15 18:29',\n",
              " '\\n자사주\\n\\t\\t\\t\\t\\t\\n\\t\\t\\t\\t\\n\\t\\t\\t\\t[1]\\n\\n',\n",
              " '\\n\\t\\t\\t\\twi******\\n\\t\\t\\t',\n",
              " '612',\n",
              " '12',\n",
              " '1',\n",
              " '',\n",
              " '2024.10.15 13:15',\n",
              " '\\n매도 호가창이...\\n\\t\\t\\t\\t\\t\\n\\t\\t\\t\\t\\n\\t\\t\\t\\t[3]\\n\\n',\n",
              " '\\n\\t\\t\\t\\tstoc****\\n\\t\\t\\t',\n",
              " '1279',\n",
              " '16',\n",
              " '11',\n",
              " '2024.10.15 12:15',\n",
              " '\\n10만원대에서 안착을 하자\\n\\t\\t\\t\\t\\t\\n\\t\\t\\t\\t\\n\\t\\t\\t\\t[1]\\n\\n',\n",
              " '\\n\\t\\t\\t\\tasuk****\\n\\t\\t\\t',\n",
              " '742',\n",
              " '7',\n",
              " '4',\n",
              " '2024.10.15 00:18',\n",
              " '\\n솔까\\n\\t\\t\\t\\t\\t\\n\\t\\t\\t\\t\\n\\t\\t\\t\\t[5]\\n\\n',\n",
              " '\\n\\t\\t\\t\\tvrch****\\n\\t\\t\\t',\n",
              " '1525',\n",
              " '8',\n",
              " '17',\n",
              " '2024.10.14 23:15',\n",
              " '\\n미장\\n\\t\\t\\t\\t\\t\\n\\t\\t\\t\\t\\n\\t\\t\\t\\t\\n\\t\\t\\t\\t\\n',\n",
              " '\\n\\t\\t\\t\\tksb_****\\n\\t\\t\\t',\n",
              " '468',\n",
              " '2',\n",
              " '5',\n",
              " '2024.10.14 19:35',\n",
              " '\\n다즈그가그냥그랬는데지구거짓말보낸다\\n\\t\\t\\t\\t\\t\\n\\t\\t\\t\\t\\n\\t\\t\\t\\t\\n\\t\\t\\t\\t\\n',\n",
              " '\\n\\t\\t\\t\\tufom****\\n\\t\\t\\t',\n",
              " '344',\n",
              " '2',\n",
              " '8',\n",
              " '',\n",
              " '2024.10.14 18:12',\n",
              " '\\n자사주\\n\\t\\t\\t\\t\\t\\n\\t\\t\\t\\t\\n\\t\\t\\t\\t[3]\\n\\n',\n",
              " '\\n\\t\\t\\t\\twi******\\n\\t\\t\\t',\n",
              " '809',\n",
              " '15',\n",
              " '2',\n",
              " '2024.10.14 16:04',\n",
              " '\\n15만원 간다햇죠?! 메리츠 주가 상승원...\\n\\t\\t\\t\\t\\t\\n\\t\\t\\t\\t\\n\\t\\t\\t\\t[2]\\n\\n',\n",
              " '\\n\\t\\t\\t\\tkzkz****\\n\\t\\t\\t',\n",
              " '801',\n",
              " '5',\n",
              " '12',\n",
              " '2024.10.14 12:44',\n",
              " '\\n[수익 517% 돌파] 메리츠금융지주 목...\\n\\t\\t\\t\\t\\t\\n\\t\\t\\t\\t\\n\\t\\t\\t\\t[1]\\n\\n',\n",
              " '\\n\\t\\t\\t\\tdhrb****\\n\\t\\t\\t',\n",
              " '820',\n",
              " '6',\n",
              " '9',\n",
              " '2024.10.14 11:10',\n",
              " '\\n다들 증권사도 메리츠증권 쓰시죠?\\n\\t\\t\\t\\t\\t\\n\\t\\t\\t\\t\\n\\t\\t\\t\\t[2]\\n\\n',\n",
              " '\\n\\t\\t\\t\\tasuk****\\n\\t\\t\\t',\n",
              " '947',\n",
              " '20',\n",
              " '4',\n",
              " '2024.10.14 11:06',\n",
              " '\\n돈이 복사가 된다고?\\n\\t\\t\\t\\t\\t\\n\\t\\t\\t\\t\\n\\t\\t\\t\\t\\n\\t\\t\\t\\t\\n',\n",
              " '\\n\\t\\t\\t\\tkayc****\\n\\t\\t\\t',\n",
              " '396',\n",
              " '14',\n",
              " '3',\n",
              " '',\n",
              " '',\n",
              " '\\n\\n페이지 네비게이션\\n\\n\\n\\n1\\n\\n\\n2\\n\\n\\n3\\n\\n\\n4\\n\\n\\n5\\n\\n\\n6\\n\\n\\n7\\n\\n\\n8\\n\\n\\n9\\n\\n\\n10\\n\\n\\n\\n\\t\\t\\t\\t다음\\n\\n\\n\\n맨뒤\\n\\t\\t\\t\\t\\n\\n\\n\\n\\n\\n',\n",
              " '\\n1\\n',\n",
              " '\\n2\\n',\n",
              " '\\n3\\n',\n",
              " '\\n4\\n',\n",
              " '\\n5\\n',\n",
              " '\\n6\\n',\n",
              " '\\n7\\n',\n",
              " '\\n8\\n',\n",
              " '\\n9\\n',\n",
              " '\\n10\\n',\n",
              " '\\n\\n\\t\\t\\t\\t다음\\n\\n',\n",
              " '\\n맨뒤\\n\\t\\t\\t\\t\\n\\n',\n",
              " '',\n",
              " '\\n토론실 활용팁과 운영원칙\\n',\n",
              " '\\n제목\\n\\n\\n\\n',\n",
              " '\\n\\n내 토론글\\n글쓰기\\n\\n',\n",
              " '\\n\\n※ 금융 서비스 운영원칙에 맞지 않는 글은 운영자에 의해 삭제될 수 있습니다. \\n※ 게시글 일 30건, 댓글 일 50건의 글을 등록할 수 있고, 게시자가 삭제하지 않는 이상 계속 보존됩니다.\\n※ 허위사실 유포는 자본시장과 금융투자업에 관한 법률 제176조 2항에 해당하는 시세조종행위로써 10년 이하의 징역 또는 그 위반행위로 얻은 이익 또는 회피한 손실액의 1배 이상 3배 이하에 상당하는 벌금에 처할 수 있습니다.\\n※ 불건전 게시물에 현혹되어 피해가 발생하지 않도록 주의해주세요. 불공정거래는 금융감독원과 한국거래소에 신고할 수 있습니다. \\n-불법 주식리딩방 금융감독원 신고센터: 국번없이 \"1332\"\\n-한국거래소 불공정거래 신고센터(Tel. 1577-3360): https://stockwatch.krx.co.kr\\n-금융감독원 증권불공정거래신고센터: https://www.fss.or.kr/fss/main/sub1Unfair.do?menuNo=200080\\n',\n",
              " '\\n\\t\\t\\t\\t\\t\\t\\t\\t\\n\\t\\t\\t\\t\\t\\t\\t\\t\\n\\t\\t\\t\\t\\t\\t\\t\\t\\t\\n\\t\\t\\t\\t\\t\\t\\t\\t\\t\\n\\t\\t\\t\\t\\t\\t\\t\\t\\t\\t\\n\\t\\t\\t\\t\\t\\t\\t\\t\\t\\t\\n\\t\\t\\t\\t\\t\\t\\t\\t\\t\\t19조\\n\\t\\t\\t\\t\\t\\t\\t\\t\\t\\t\\n\\t\\t\\t\\t\\t\\t\\t\\t\\t\\t\\t7,777\\n\\t\\t\\t\\t\\t\\t\\t\\t\\t\\t\\n\\t\\t\\t\\t\\t\\t\\t\\t\\t\\n\\t\\t\\t\\t\\t\\t\\t\\t억원',\n",
              " '코스피 18위',\n",
              " '190,720,114',\n",
              " '\\n500원\\n\\t\\t\\t\\t\\t\\t\\t\\t\\tl\\n1주\\n\\t\\t\\t\\t\\t\\t\\t\\t',\n",
              " '190,720,114',\n",
              " '31,841,154',\n",
              " '16.70%',\n",
              " '\\n4.00매수\\nl\\n114,000\\n',\n",
              " '\\n105,200\\nl\\n47,200\\n',\n",
              " '\\n9.30배\\n\\t\\t\\t\\t\\t\\t\\t\\t\\t\\n\\t\\t\\t\\t\\t\\t\\t\\t\\tl\\n11,151원\\n\\t\\t\\t\\t\\t\\t\\t\\t\\t\\n\\t \\t\\t\\t\\t\\t\\t\\t',\n",
              " '\\n8.00배\\n\\t\\t\\t\\t\\t\\t\\t\\t\\t\\n\\t\\t\\t\\t\\t\\t\\t\\t\\tl\\n12,365원\\n\\t\\t\\t\\t\\t\\t\\t\\t\\t\\n\\t\\t\\t\\t\\t\\t\\t\\t',\n",
              " '\\n∞배\\n\\t\\t\\t\\t\\t\\t\\t\\t\\t\\n\\t\\t\\t\\t\\t\\t\\t\\t\\tl\\n52,072원\\n\\t\\t\\t\\t\\t\\t\\t\\t\\t\\n\\t\\t\\t\\t\\t\\t\\t\\t',\n",
              " '\\n2.28%\\n\\t\\t\\t\\t\\t\\t\\t\\t\\t\\n\\t\\t\\t\\t\\t\\t\\t\\t',\n",
              " '\\n8.22배\\n\\t\\t\\t\\t\\t\\t\\t\\t\\t\\n\\t\\t\\t\\t\\t\\t\\t\\t',\n",
              " '\\n\\t\\t\\t\\t-0.13%\\n\\t\\t\\t\\t',\n",
              " '',\n",
              " '\\n\\t\\t\\t\\t\\n\\t\\t\\t\\t\\t\\n\\t\\t\\t\\t\\t3,965\\n\\t\\t\\t\\t\\n\\t\\t\\t\\t',\n",
              " '\\n\\t\\t\\t\\t\\n\\t\\t\\t\\t\\t\\n\\t\\t\\t\\t\\t104,800\\n\\t\\t\\t\\t\\n\\t\\t\\t\\t',\n",
              " '',\n",
              " '\\n\\t\\t\\t\\t\\n\\t\\t\\t\\t\\t\\n\\t\\t\\t\\t\\t2,907\\n\\t\\t\\t\\t\\n\\t\\t\\t\\t',\n",
              " '\\n\\t\\t\\t\\t\\n\\t\\t\\t\\t\\t\\n\\t\\t\\t\\t\\t104,700\\n\\t\\t\\t\\t\\n\\t\\t\\t\\t',\n",
              " '',\n",
              " '\\n\\t\\t\\t\\t\\n\\t\\t\\t\\t\\t\\n\\t\\t\\t\\t\\t685\\n\\t\\t\\t\\t\\n\\t\\t\\t\\t',\n",
              " '\\n\\t\\t\\t\\t\\n\\t\\t\\t\\t\\t\\n\\t\\t\\t\\t\\t104,600\\n\\t\\t\\t\\t\\n\\t\\t\\t\\t',\n",
              " '',\n",
              " '\\n\\t\\t\\t\\t\\n\\t\\t\\t\\t\\t\\n\\t\\t\\t\\t\\t3,431\\n\\t\\t\\t\\t\\n\\t\\t\\t\\t',\n",
              " '\\n\\t\\t\\t\\t\\n\\t\\t\\t\\t\\t\\n\\t\\t\\t\\t\\t104,500\\n\\t\\t\\t\\t\\n\\t\\t\\t\\t',\n",
              " '',\n",
              " '\\n\\t\\t\\t\\t\\n\\t\\t\\t\\t\\t\\n\\t\\t\\t\\t\\t1,847\\n\\t\\t\\t\\t\\n\\t\\t\\t\\t',\n",
              " '\\n\\t\\t\\t\\t\\n\\t\\t\\t\\t\\t\\n\\t\\t\\t\\t\\t104,400\\n\\t\\t\\t\\t\\n\\t\\t\\t\\t',\n",
              " '',\n",
              " '\\n\\t\\t\\t\\t\\n\\t\\t\\t\\t\\t\\n\\t\\t\\t\\t\\t3,336\\n\\t\\t\\t\\t\\n\\t\\t\\t\\t',\n",
              " '\\n\\t\\t\\t\\t\\n\\t\\t\\t\\t\\t\\n\\t\\t\\t\\t\\t104,300\\n\\t\\t\\t\\t\\n\\t\\t\\t\\t',\n",
              " '',\n",
              " '\\n\\t\\t\\t\\t\\n\\t\\t\\t\\t\\t\\n\\t\\t\\t\\t\\t364\\n\\t\\t\\t\\t\\n\\t\\t\\t\\t',\n",
              " '\\n\\t\\t\\t\\t\\n\\t\\t\\t\\t\\t\\n\\t\\t\\t\\t\\t104,200\\n\\t\\t\\t\\t\\n\\t\\t\\t\\t',\n",
              " '',\n",
              " '\\n\\t\\t\\t\\t\\n\\t\\t\\t\\t\\t\\n\\t\\t\\t\\t\\t38\\n\\t\\t\\t\\t\\n\\t\\t\\t\\t',\n",
              " '\\n\\t\\t\\t\\t\\n\\t\\t\\t\\t\\t\\n\\t\\t\\t\\t\\t104,100\\n\\t\\t\\t\\t\\n\\t\\t\\t\\t',\n",
              " '',\n",
              " '\\n\\t\\t\\t\\t\\n\\t\\t\\t\\t\\t\\n\\t\\t\\t\\t\\t617\\n\\t\\t\\t\\t\\n\\t\\t\\t\\t',\n",
              " '\\n\\t\\t\\t\\t\\n\\t\\t\\t\\t\\t\\n\\t\\t\\t\\t\\t104,000\\n\\t\\t\\t\\t\\n\\t\\t\\t\\t',\n",
              " '',\n",
              " '\\n\\t\\t\\t\\t\\n\\t\\t\\t\\t\\t\\n\\t\\t\\t\\t\\t31\\n\\t\\t\\t\\t\\n\\t\\t\\t\\t',\n",
              " '\\n\\t\\t\\t\\t\\n\\t\\t\\t\\t\\t\\n\\t\\t\\t\\t\\t103,900\\n\\t\\t\\t\\t\\n\\t\\t\\t\\t',\n",
              " '',\n",
              " '',\n",
              " '',\n",
              " '\\n\\t\\t\\t\\t\\n\\t\\t\\t\\t\\t\\n\\t\\t\\t\\t\\t103,700\\n\\t\\t\\t\\t\\n\\t\\t\\t\\t',\n",
              " '\\n\\t\\t\\t\\t\\n\\t\\t\\t\\t\\t\\n\\t\\t\\t\\t\\t1,764\\n\\t\\t\\t\\t\\n\\t\\t\\t\\t',\n",
              " '',\n",
              " '\\n\\t\\t\\t\\t\\n\\t\\t\\t\\t\\t\\n\\t\\t\\t\\t\\t103,600\\n\\t\\t\\t\\t\\n\\t\\t\\t\\t',\n",
              " '\\n\\t\\t\\t\\t\\n\\t\\t\\t\\t\\t\\n\\t\\t\\t\\t\\t1,590\\n\\t\\t\\t\\t\\n\\t\\t\\t\\t',\n",
              " '',\n",
              " '\\n\\t\\t\\t\\t\\n\\t\\t\\t\\t\\t\\n\\t\\t\\t\\t\\t103,500\\n\\t\\t\\t\\t\\n\\t\\t\\t\\t',\n",
              " '\\n\\t\\t\\t\\t\\n\\t\\t\\t\\t\\t\\n\\t\\t\\t\\t\\t2,955\\n\\t\\t\\t\\t\\n\\t\\t\\t\\t',\n",
              " '',\n",
              " '\\n\\t\\t\\t\\t\\n\\t\\t\\t\\t\\t\\n\\t\\t\\t\\t\\t103,400\\n\\t\\t\\t\\t\\n\\t\\t\\t\\t',\n",
              " '\\n\\t\\t\\t\\t\\n\\t\\t\\t\\t\\t\\n\\t\\t\\t\\t\\t1,801\\n\\t\\t\\t\\t\\n\\t\\t\\t\\t',\n",
              " '',\n",
              " '\\n\\t\\t\\t\\t\\n\\t\\t\\t\\t\\t\\n\\t\\t\\t\\t\\t103,300\\n\\t\\t\\t\\t\\n\\t\\t\\t\\t',\n",
              " '\\n\\t\\t\\t\\t\\n\\t\\t\\t\\t\\t\\n\\t\\t\\t\\t\\t897\\n\\t\\t\\t\\t\\n\\t\\t\\t\\t',\n",
              " '',\n",
              " '\\n\\t\\t\\t\\t\\n\\t\\t\\t\\t\\t\\n\\t\\t\\t\\t\\t103,200\\n\\t\\t\\t\\t\\n\\t\\t\\t\\t',\n",
              " '\\n\\t\\t\\t\\t\\n\\t\\t\\t\\t\\t\\n\\t\\t\\t\\t\\t3,121\\n\\t\\t\\t\\t\\n\\t\\t\\t\\t',\n",
              " '',\n",
              " '\\n\\t\\t\\t\\t\\n\\t\\t\\t\\t\\t\\n\\t\\t\\t\\t\\t103,100\\n\\t\\t\\t\\t\\n\\t\\t\\t\\t',\n",
              " '\\n\\t\\t\\t\\t\\n\\t\\t\\t\\t\\t\\n\\t\\t\\t\\t\\t1,015\\n\\t\\t\\t\\t\\n\\t\\t\\t\\t',\n",
              " '',\n",
              " '\\n\\t\\t\\t\\t\\n\\t\\t\\t\\t\\t\\n\\t\\t\\t\\t\\t103,000\\n\\t\\t\\t\\t\\n\\t\\t\\t\\t',\n",
              " '\\n\\t\\t\\t\\t\\n\\t\\t\\t\\t\\t\\n\\t\\t\\t\\t\\t359\\n\\t\\t\\t\\t\\n\\t\\t\\t\\t',\n",
              " '',\n",
              " '\\n\\t\\t\\t\\t\\n\\t\\t\\t\\t\\t\\n\\t\\t\\t\\t\\t102,900\\n\\t\\t\\t\\t\\n\\t\\t\\t\\t',\n",
              " '\\n\\t\\t\\t\\t\\n\\t\\t\\t\\t\\t\\n\\t\\t\\t\\t\\t2,053\\n\\t\\t\\t\\t\\n\\t\\t\\t\\t',\n",
              " '',\n",
              " '\\n\\t\\t\\t\\t\\n\\t\\t\\t\\t\\t\\n\\t\\t\\t\\t\\t102,800\\n\\t\\t\\t\\t\\n\\t\\t\\t\\t',\n",
              " '\\n\\t\\t\\t\\t\\n\\t\\t\\t\\t\\t\\n\\t\\t\\t\\t\\t698\\n\\t\\t\\t\\t\\n\\t\\t\\t\\t',\n",
              " '',\n",
              " '\\n\\t\\t\\t\\t\\t\\n\\t\\t\\t\\t\\t\\t\\n\\t\\t\\t\\t\\t\\t17,221\\n\\t\\t\\t\\t\\t\\n\\t\\t\\t\\t',\n",
              " '잔량합계',\n",
              " '\\n\\t\\t\\t\\t\\t\\n\\t\\t\\t\\t\\t\\t\\n\\t\\t\\t\\t\\t\\t16,253\\n\\t\\t\\t\\t\\t\\n\\t\\t\\t\\t',\n",
              " '59,700',\n",
              " '\\n상향\\n\\t\\t\\t\\t200\\n\\t\\t\\t\\t\\n',\n",
              " '196,000',\n",
              " '\\n상향\\n\\t\\t\\t\\t7,300\\n\\t\\t\\t\\t\\n',\n",
              " '21,150',\n",
              " '\\n상향\\n\\t\\t\\t\\t1,690\\n\\t\\t\\t\\t\\n',\n",
              " '153,800',\n",
              " '\\n하향\\n\\t\\t\\t\\t4,700\\n\\t\\t\\t\\t\\n',\n",
              " '116,300',\n",
              " '\\n상향\\n\\t\\t\\t\\t7,600\\n\\t\\t\\t\\t\\n',\n",
              " '',\n",
              " '188,900',\n",
              " '\\n하향\\n\\t\\t\\t\\t6,900\\n\\t\\t\\t\\t\\n',\n",
              " '42,200',\n",
              " '\\n하향\\n\\t\\t\\t\\t5,100\\n\\t\\t\\t\\t\\n',\n",
              " '235,500',\n",
              " '\\n하향\\n\\t\\t\\t\\t11,500\\n\\t\\t\\t\\t\\n',\n",
              " '45,600',\n",
              " '\\n상향\\n\\t\\t\\t\\t2,300\\n\\t\\t\\t\\t\\n',\n",
              " '67,100',\n",
              " '\\n상향\\n\\t\\t\\t\\t3,000\\n\\t\\t\\t\\t\\n',\n",
              " '26,800',\n",
              " '\\n상한가\\n\\t\\t\\t\\t6,150\\n\\t\\t\\t\\t\\n',\n",
              " '36,850',\n",
              " '\\n상한가\\n\\t\\t\\t\\t8,500\\n\\t\\t\\t\\t\\n',\n",
              " '100,600',\n",
              " '\\n상향\\n\\t\\t\\t\\t3,100\\n\\t\\t\\t\\t\\n',\n",
              " '3,855',\n",
              " '\\n상향\\n\\t\\t\\t\\t735\\n\\t\\t\\t\\t\\n',\n",
              " '24,050',\n",
              " '\\n상향\\n\\t\\t\\t\\t4,120\\n\\t\\t\\t\\t\\n',\n",
              " '',\n",
              " '9,350',\n",
              " '\\n상향\\n\\t\\t\\t\\t1,180\\n\\t\\t\\t\\t\\n',\n",
              " '69,700',\n",
              " '\\n하향\\n\\t\\t\\t\\t1,300\\n\\t\\t\\t\\t\\n',\n",
              " '166,400',\n",
              " '\\n하향\\n\\t\\t\\t\\t2,600\\n\\t\\t\\t\\t\\n',\n",
              " '41,300',\n",
              " '\\n상향\\n\\t\\t\\t\\t2,100\\n\\t\\t\\t\\t\\n',\n",
              " '80,600',\n",
              " '\\n하향\\n\\t\\t\\t\\t1,000\\n\\t\\t\\t\\t\\n']"
            ]
          },
          "metadata": {},
          "execution_count": 28
        }
      ]
    },
    {
      "cell_type": "markdown",
      "source": [
        "- 코드 정리"
      ],
      "metadata": {
        "id": "GH3EBY6R08C8"
      }
    },
    {
      "cell_type": "code",
      "source": [
        "# 코드 정리\n",
        "import pandas as pd\n",
        "import requests\n",
        "from bs4 import BeautifulSoup\n",
        "\n",
        "# 헤더 - 서버차단 방지 및 사용자 에이전트 설정\n",
        "headers = {'user-agent':\"Mozilla/5.0\"}\n",
        "\n",
        "# 크롤링할 URL\n",
        "url = 'https://finance.naver.com/item/board.naver?code=138040'\n",
        "\n",
        "# 웹페이지 요청\n",
        "response = requests.get(url, headers=headers)\n",
        "\n",
        "# HTML 파싱\n",
        "soup = BeautifulSoup(response.text, 'html.parser')\n",
        "\n",
        "#  모든 <tbody> 태그의 텍스트 추출\n",
        "titles = soup.find_all('td')\n",
        "[i.get_text() for i in titles]"
      ],
      "metadata": {
        "id": "svyYNk2ksWFt"
      },
      "execution_count": null,
      "outputs": []
    },
    {
      "cell_type": "markdown",
      "source": [
        "## 2. Selenium 적용\n",
        "Selenium은 동적인 웹페이지나 JavaScript를 사용하는 페이지에서 데이터를 가져온다."
      ],
      "metadata": {
        "id": "LoiGwXvQR4IO"
      }
    },
    {
      "cell_type": "markdown",
      "source": [
        "- 설치\n",
        "\n",
        "Selenium을 사용하려면 웹드라이버가 필요하다.\n",
        "Chrome을 사용하는 경우, ChromeDriver를 다운로드하고 설치 경로를 환경 변수에 추가한다."
      ],
      "metadata": {
        "id": "aCQ6KsUZR7-y"
      }
    },
    {
      "cell_type": "code",
      "source": [
        "# 셀레니움 및 크롬드라이버 설치 (시간 조금 소요)\n",
        "!apt-get update\n",
        "!apt install -y chromium-chromedriver\n",
        "!pip install selenium"
      ],
      "metadata": {
        "id": "8TE_SgZvR4W3"
      },
      "execution_count": null,
      "outputs": []
    },
    {
      "cell_type": "markdown",
      "source": [
        "- 코랩에서는 Selenium을 사용할 때 헤드리스 모드로 사용한다. (코랩은 실제로 GUI 환경 (Graphical User Interface) 을 제공하지 않음)\n",
        "\n",
        "- 헤드리스 모드는 브라우저의 사용자 인터페이스를 표시하지 않고 백그라운드에서 브라우저를 실행하여 웹 페이지를 로드하고 코드로 조작하는 방법이다."
      ],
      "metadata": {
        "id": "k0Y9FRLLs5Mc"
      }
    },
    {
      "cell_type": "code",
      "source": [
        "from selenium import webdriver\n",
        "from selenium.webdriver.common.by import By\n",
        "import time\n",
        "\n",
        "# Chrome 옵션 설정 (헤드리스 모드)\n",
        "# 코랩은 headless 모드만 지원함\n",
        "options = webdriver.ChromeOptions()\n",
        "options.add_argument('--headless')\n",
        "options.add_argument('--no-sandbox')\n",
        "options.add_argument('--disable-dev-shm-usage')\n",
        "\n",
        "# 웹드라이버 초기화\n",
        "driver = webdriver.Chrome(options=options)\n",
        "\n",
        "# 크롤링할 URL\n",
        "url = 'https://finance.naver.com/item/board.naver?code=138040'\n",
        "\n",
        "# 웹페이지 요청\n",
        "driver.get(url)\n",
        "\n",
        "# 대기 ( 로드 시간을 고려)\n",
        "time.sleep(3)\n",
        "\n",
        "# 웹드라이버 종료\n",
        "# 사용이 끝나면 웹드라이버를 종료해줘야 메모리 낭비가 없다.\n",
        "#driver.quit()"
      ],
      "metadata": {
        "id": "7iEeSTm9SEoY"
      },
      "execution_count": null,
      "outputs": []
    },
    {
      "cell_type": "markdown",
      "source": [
        "- 모든 **h4 태그**의 텍스트 추출\n",
        "    - driver.find_elements()\n",
        "    - `By.TAG_NAME` 적용"
      ],
      "metadata": {
        "id": "NWqK0mUd8Owy"
      }
    },
    {
      "cell_type": "code",
      "source": [
        "# 원하는 데이터 추출 (모든 <h4> 태그의 텍스트를 추출)\n",
        "driver.find_elements(By.TAG_NAME, 'h4')"
      ],
      "metadata": {
        "id": "RYEQuNqk8LLb",
        "colab": {
          "base_uri": "https://localhost:8080/"
        },
        "outputId": "f17f4bc1-1566-4b3a-dc89-550ef49ca0c8"
      },
      "execution_count": null,
      "outputs": [
        {
          "output_type": "execute_result",
          "data": {
            "text/plain": [
              "[<selenium.webdriver.remote.webelement.WebElement (session=\"c3c63ea049d1d967eae2f106227edd1f\", element=\"f.CF2C99576441E2C2470E6579C3319F88.d.BF2E522B929D1D8C58B7F6024CF8F0AB.e.160\")>,\n",
              " <selenium.webdriver.remote.webelement.WebElement (session=\"c3c63ea049d1d967eae2f106227edd1f\", element=\"f.CF2C99576441E2C2470E6579C3319F88.d.BF2E522B929D1D8C58B7F6024CF8F0AB.e.161\")>]"
            ]
          },
          "metadata": {},
          "execution_count": 36
        }
      ]
    },
    {
      "cell_type": "code",
      "source": [
        "tag = driver.find_elements(By.TAG_NAME, 'h4')\n",
        "[i.text for i in tag]"
      ],
      "metadata": {
        "id": "Q4PIkytyadiE",
        "outputId": "7fbc62be-3b50-404e-a7bf-620c1e428cac",
        "colab": {
          "base_uri": "https://localhost:8080/"
        }
      },
      "execution_count": null,
      "outputs": [
        {
          "output_type": "execute_result",
          "data": {
            "text/plain": [
              "['', '종목토론실']"
            ]
          },
          "metadata": {},
          "execution_count": 39
        }
      ]
    },
    {
      "cell_type": "markdown",
      "source": [
        "- 모든 **tbody 태그**의 텍스트 추출\n",
        "    - driver.find_elements()\n",
        "    - `By.TAG_NAME` 적용"
      ],
      "metadata": {
        "id": "mvpevwtuW1KQ"
      }
    },
    {
      "cell_type": "code",
      "source": [
        "#<tbody> 태그추출\n",
        "\n",
        "tag1 = driver.find_elements(By.TAG_NAME, 'tbody')\n",
        "[i.text for i in tag1]"
      ],
      "metadata": {
        "id": "WRxn97Q-WFVX",
        "collapsed": true,
        "colab": {
          "base_uri": "https://localhost:8080/"
        },
        "outputId": "3f27d981-c133-479e-b13c-38265d154b47"
      },
      "execution_count": null,
      "outputs": [
        {
          "output_type": "execute_result",
          "data": {
            "text/plain": [
              "['전일\\n1\\n0\\n2\\n,\\n8\\n0\\n0\\n고가\\n1\\n0\\n4\\n,\\n8\\n0\\n0\\n(상한가\\n1\\n3\\n3\\n,\\n6\\n0\\n0\\n)\\n거래량\\n1\\n9\\n4\\n,\\n3\\n8\\n8\\n시가\\n1\\n0\\n3\\n,\\n5\\n0\\n0\\n저가\\n1\\n0\\n3\\n,\\n3\\n0\\n0\\n(하한가\\n7\\n2\\n,\\n0\\n0\\n0\\n)\\n거래대금\\n2\\n0\\n,\\n2\\n1\\n4\\n백만',\n",
              " '날짜 제목 글쓴이 조회 공감 비공감\\n클린봇이 악성게시글을 감지합니다.\\n설정\\n2024.10.17 16:13 대학 나온 분들만 보세요. guid**** 13 0 1\\n2024.10.17 13:45 주가가 떨어졌으면 좋겠다 [2] kimt**** 257 3 10\\n2024.10.17 10:00 [지속매수] 메리츠금융지주 목표 주가 1... [4] dhrb**** 537 0 5\\n2024.10.16 22:44 메리츠금융 10/16기준 최신전략글 [2] ty****** 397 0 7\\n2024.10.16 18:15 자사주 [1] wi****** 566 12 3\\n2024.10.16 16:38 입오므리나열받나콤보 ufom**** 326 1 6\\n2024.10.16 15:40 대안 [2] kim_**** 640 6 5\\n2024.10.16 13:06 많은 사람들이 몰랐으면 좋겠다 [4] asuk**** 934 12 3\\n2024.10.15 19:45 MBK의 나비효과. [2] stoc**** 1196 14 7\\n2024.10.15 18:29 자사주 [1] wi****** 613 12 1\\n2024.10.15 13:15 매도 호가창이... [3] stoc**** 1280 16 11\\n2024.10.15 12:15 10만원대에서 안착을 하자 [1] asuk**** 743 7 4\\n2024.10.15 00:18 솔까 [5] vrch**** 1526 8 17\\n2024.10.14 23:15 미장 ksb_**** 469 2 5\\n2024.10.14 19:35 다즈그가그냥그랬는데지구거짓말보낸다 ufom**** 345 2 8\\n2024.10.14 18:12 자사주 [3] wi****** 810 15 2\\n2024.10.14 16:04 15만원 간다햇죠?! 메리츠 주가 상승원... [2] kzkz**** 802 5 12\\n2024.10.14 12:44 [수익 517% 돌파] 메리츠금융지주 목... [1] dhrb**** 821 6 9\\n2024.10.14 11:10 다들 증권사도 메리츠증권 쓰시죠? [2] asuk**** 948 20 4\\n2024.10.14 11:06 돈이 복사가 된다고? kayc**** 397 14 3',\n",
              " '페이지 네비게이션\\n1\\n2\\n3\\n4\\n5\\n6\\n7\\n8\\n9\\n10\\n다음\\n맨뒤',\n",
              " '1\\n2\\n3\\n4\\n5\\n6\\n7\\n8\\n9\\n10\\n다음\\n맨뒤',\n",
              " '토론실 활용팁과 운영원칙 제목\\n내 토론글 글쓰기',\n",
              " '※ 금융 서비스 운영원칙에 맞지 않는 글은 운영자에 의해 삭제될 수 있습니다.\\n※ 게시글 일 30건, 댓글 일 50건의 글을 등록할 수 있고, 게시자가 삭제하지 않는 이상 계속 보존됩니다.\\n※ 허위사실 유포는 자본시장과 금융투자업에 관한 법률 제176조 2항에 해당하는 시세조종행위로써 10년 이하의 징역 또는 그 위반행위로 얻은 이익 또는 회피한 손실액의 1배 이상 3배 이하에 상당하는 벌금에 처할 수 있습니다.\\n※ 불건전 게시물에 현혹되어 피해가 발생하지 않도록 주의해주세요. 불공정거래는 금융감독원과 한국거래소에 신고할 수 있습니다.\\n-불법 주식리딩방 금융감독원 신고센터: 국번없이 \"1332\"\\n-한국거래소 불공정거래 신고센터(Tel. 1577-3360): https://stockwatch.krx.co.kr\\n-금융감독원 증권불공정거래신고센터: https://www.fss.or.kr/fss/main/sub1Unfair.do?menuNo=200080',\n",
              " '시가총액 19조 7,777 억원\\n시가총액순위 코스피 18위\\n상장주식수 190,720,114\\n액면가l매매단위 500원 l 1주',\n",
              " '외국인한도주식수(A) 190,720,114\\n외국인보유주식수(B) 31,841,154\\n외국인소진율(B/A)\\n16.70%',\n",
              " '투자의견l목표주가 4.00매수 l 114,000\\n52주최고l최저 105,200 l 47,200',\n",
              " 'PERlEPS(2024.06)\\n9.30배 l 11,151원',\n",
              " '추정PERlEPS\\n8.39배 l 12,365원\\nPBRlBPS (2024.06)\\n1.99배 l 52,072원\\n배당수익률l2023.12\\n2.28%',\n",
              " '동일업종 PER 8.22배\\n동일업종 등락률 -0.13%',\n",
              " '',\n",
              " '메리츠금융지.. 103,700 900',\n",
              " '삼성전자 59,700\\n200\\nSK하이닉스 196,000\\n7,300\\n두산에너빌리.. 21,150\\n1,690\\n유한양행 153,800\\n4,700\\n한미반도체 116,300\\n7,600\\n셀트리온 188,900\\n6,900\\n한화인더스트.. 42,200\\n5,100\\n현대차 235,500\\n11,500\\n이수페타시스 45,600\\n2,300\\n현대로템 67,100\\n3,000',\n",
              " '']"
            ]
          },
          "metadata": {},
          "execution_count": 40
        }
      ]
    },
    {
      "cell_type": "markdown",
      "source": [
        "### 요소선택시 XPATH 방식 적용\n",
        "\n",
        "- CSS Selector와 XPath의 차이\n",
        "    - CSS Selector: 속성이나 태그 구조를 기반으로 선택한다.\n",
        "        - 예: div > ul > li.item\n",
        "    -  XPath: 문서 내에 위치한 경로를 기반 선택. Tree root 부터 경로를 지정할 수 있다.\n",
        "        - 예: //li[@class='item'][2]\n",
        "\n",
        "- `Copy XPath`는 복잡한 트리 구조에서 특정 요소의 위치를 정확히 찾을 수 있음\n",
        "- `Copy Selector`는 CSS 스타일링이나 간단한 DOM 조작을 위해 요소를 선택할때 사용\n",
        "\n",
        "- `Selenium` 웹 자동화 도구에서 특정 요소를 찾을 때, `XPath`는 `위치 기반`으로 요소를 선택하므로 `CSS selector`로 선택하기 어려운 요소를 잡을때 좋다.\n"
      ],
      "metadata": {
        "id": "ZgTUmtH3WFtf"
      }
    },
    {
      "cell_type": "markdown",
      "source": [
        "Xpath 활용\n",
        "- 먼저  모든 h4 태그를 불러와보자\n",
        "    - driver.find_elements()\n",
        "    - `By.XPATH` 적용\n",
        "\n",
        " - `driver.find_elements(By.XPATH, '//태그이름')`\n"
      ],
      "metadata": {
        "id": "5c7k33-O0yIa"
      }
    },
    {
      "cell_type": "code",
      "source": [
        "# 셀레니움 및 크롬드라이버 설치 (시간 조금 소요)\n",
        "#!apt-get update\n",
        "#!apt install -y chromium-chromedriver\n",
        "#!pip install selenium\n",
        "\n",
        "from selenium import webdriver\n",
        "from selenium.webdriver.common.by import By\n",
        "import time\n",
        "import pandas as pd\n",
        "import requests\n",
        "from bs4 import BeautifulSoup\n",
        "\n",
        "# Chrome 옵션 설정 (헤드리스 모드)\n",
        "# 코랩은 headless 모드만 지원함\n",
        "options = webdriver.ChromeOptions()\n",
        "options.add_argument('--headless')\n",
        "options.add_argument('--no-sandbox')\n",
        "options.add_argument('--disable-dev-shm-usage')\n",
        "\n",
        "# 웹드라이버 초기화\n",
        "driver = webdriver.Chrome(options=options)"
      ],
      "metadata": {
        "id": "MRDy8VSO1QZa"
      },
      "execution_count": null,
      "outputs": []
    },
    {
      "cell_type": "code",
      "source": [
        "# 웹드라이버 초기화\n",
        "driver = webdriver.Chrome(options=options)\n",
        "\n",
        "# 크롤링할 URL\n",
        "url = 'https://finance.naver.com/item/board.naver?code=138040'\n",
        "\n",
        "# 웹페이지 요청\n",
        "driver.get(url)\n",
        "\n",
        "# 3초 대기 ( 로드 시간을 고려)\n",
        "time.sleep(3)"
      ],
      "metadata": {
        "id": "RB9UQE461qLr"
      },
      "execution_count": null,
      "outputs": []
    },
    {
      "cell_type": "markdown",
      "source": [
        "- XPATH 방식으로 모든 **h4 태그**의 텍스트 추출"
      ],
      "metadata": {
        "id": "ZV2tbhCH8lJF"
      }
    },
    {
      "cell_type": "code",
      "source": [
        "#<h4> 태그추출\n",
        "태그 = driver.find_elements(By.XPATH, '//a')"
      ],
      "metadata": {
        "id": "6a-oJE4aSnnE"
      },
      "execution_count": null,
      "outputs": []
    },
    {
      "cell_type": "markdown",
      "source": [
        "- XPATH 방식으로 모든 **tbody 태그**의 텍스트 추출"
      ],
      "metadata": {
        "id": "PP0DkUw6Wykd"
      }
    },
    {
      "cell_type": "code",
      "source": [
        "#<tbody> 태그추출\n",
        "태그 = driver.find_elements(By.XPATH, '//tbody')"
      ],
      "metadata": {
        "id": "4MZ6bMTNU_a7",
        "collapsed": true
      },
      "execution_count": null,
      "outputs": []
    },
    {
      "cell_type": "code",
      "source": [
        "[i.text for i in 태그]"
      ],
      "metadata": {
        "id": "N7nbr2OwjvTS",
        "outputId": "eba0f568-650b-4b3c-e7fb-528cf639bde6",
        "colab": {
          "base_uri": "https://localhost:8080/"
        }
      },
      "execution_count": null,
      "outputs": [
        {
          "output_type": "execute_result",
          "data": {
            "text/plain": [
              "['전일\\n1\\n0\\n2\\n,\\n8\\n0\\n0\\n고가\\n1\\n0\\n4\\n,\\n8\\n0\\n0\\n(상한가\\n1\\n3\\n3\\n,\\n6\\n0\\n0\\n)\\n거래량\\n1\\n9\\n4\\n,\\n3\\n8\\n8\\n시가\\n1\\n0\\n3\\n,\\n5\\n0\\n0\\n저가\\n1\\n0\\n3\\n,\\n3\\n0\\n0\\n(하한가\\n7\\n2\\n,\\n0\\n0\\n0\\n)\\n거래대금\\n2\\n0\\n,\\n2\\n1\\n4\\n백만',\n",
              " '날짜 제목 글쓴이 조회 공감 비공감\\n클린봇이 악성게시글을 감지합니다.\\n설정\\n2024.10.17 16:13 대학 나온 분들만 보세요. guid**** 41 0 4\\n2024.10.17 13:45 주가가 떨어졌으면 좋겠다 [3] kimt**** 297 3 11\\n2024.10.17 10:00 [지속매수] 메리츠금융지주 목표 주가 1... [4] dhrb**** 558 0 6\\n2024.10.16 22:44 메리츠금융 10/16기준 최신전략글 [2] ty****** 406 0 7\\n2024.10.16 18:15 자사주 [1] wi****** 574 12 3\\n2024.10.16 16:38 입오므리나열받나콤보 ufom**** 332 1 6\\n2024.10.16 15:40 대안 [2] kim_**** 645 6 5\\n2024.10.16 13:06 많은 사람들이 몰랐으면 좋겠다 [4] asuk**** 935 12 3\\n2024.10.15 19:45 MBK의 나비효과. [2] stoc**** 1199 14 7\\n2024.10.15 18:29 자사주 [1] wi****** 614 12 1\\n2024.10.15 13:15 매도 호가창이... [3] stoc**** 1283 16 11\\n2024.10.15 12:15 10만원대에서 안착을 하자 [1] asuk**** 744 7 4\\n2024.10.15 00:18 솔까 [5] vrch**** 1527 8 17\\n2024.10.14 23:15 미장 ksb_**** 470 2 5\\n2024.10.14 19:35 다즈그가그냥그랬는데지구거짓말보낸다 ufom**** 346 2 8\\n2024.10.14 18:12 자사주 [3] wi****** 811 15 2\\n2024.10.14 16:04 15만원 간다햇죠?! 메리츠 주가 상승원... [2] kzkz**** 803 5 12\\n2024.10.14 12:44 [수익 517% 돌파] 메리츠금융지주 목... [1] dhrb**** 822 6 9\\n2024.10.14 11:10 다들 증권사도 메리츠증권 쓰시죠? [2] asuk**** 949 20 4\\n2024.10.14 11:06 돈이 복사가 된다고? kayc**** 398 14 3',\n",
              " '페이지 네비게이션\\n1\\n2\\n3\\n4\\n5\\n6\\n7\\n8\\n9\\n10\\n다음\\n맨뒤',\n",
              " '1\\n2\\n3\\n4\\n5\\n6\\n7\\n8\\n9\\n10\\n다음\\n맨뒤',\n",
              " '토론실 활용팁과 운영원칙 제목\\n내 토론글 글쓰기',\n",
              " '※ 금융 서비스 운영원칙에 맞지 않는 글은 운영자에 의해 삭제될 수 있습니다.\\n※ 게시글 일 30건, 댓글 일 50건의 글을 등록할 수 있고, 게시자가 삭제하지 않는 이상 계속 보존됩니다.\\n※ 허위사실 유포는 자본시장과 금융투자업에 관한 법률 제176조 2항에 해당하는 시세조종행위로써 10년 이하의 징역 또는 그 위반행위로 얻은 이익 또는 회피한 손실액의 1배 이상 3배 이하에 상당하는 벌금에 처할 수 있습니다.\\n※ 불건전 게시물에 현혹되어 피해가 발생하지 않도록 주의해주세요. 불공정거래는 금융감독원과 한국거래소에 신고할 수 있습니다.\\n-불법 주식리딩방 금융감독원 신고센터: 국번없이 \"1332\"\\n-한국거래소 불공정거래 신고센터(Tel. 1577-3360): https://stockwatch.krx.co.kr\\n-금융감독원 증권불공정거래신고센터: https://www.fss.or.kr/fss/main/sub1Unfair.do?menuNo=200080',\n",
              " '시가총액 19조 7,777 억원\\n시가총액순위 코스피 18위\\n상장주식수 190,720,114\\n액면가l매매단위 500원 l 1주',\n",
              " '외국인한도주식수(A) 190,720,114\\n외국인보유주식수(B) 31,841,154\\n외국인소진율(B/A)\\n16.70%',\n",
              " '투자의견l목표주가 4.00매수 l 114,000\\n52주최고l최저 105,200 l 47,200',\n",
              " 'PERlEPS(2024.06)\\n9.30배 l 11,151원',\n",
              " '추정PERlEPS\\n8.39배 l 12,365원\\nPBRlBPS (2024.06)\\n1.99배 l 52,072원\\n배당수익률l2023.12\\n2.28%',\n",
              " '동일업종 PER 8.22배\\n동일업종 등락률 -0.13%',\n",
              " '',\n",
              " '메리츠금융지.. 103,700 900',\n",
              " '삼성전자 59,700\\n200\\nSK하이닉스 196,000\\n7,300\\n두산에너빌리.. 21,150\\n1,690\\n유한양행 153,800\\n4,700\\n한화인더스트.. 42,200\\n5,100\\n한미반도체 116,300\\n7,600\\n현대차 235,500\\n11,500\\n셀트리온 188,900\\n6,900\\n현대로템 67,100\\n3,000\\n하이브 192,100\\n12,600',\n",
              " '']"
            ]
          },
          "metadata": {},
          "execution_count": 62
        }
      ]
    },
    {
      "cell_type": "markdown",
      "source": [
        "- 이처럼 웹페이지의 데이터를 다양한 방식으로 수집할 수 있다. 필요에 따라 가장 적합한 방법을 선택하면 된다."
      ],
      "metadata": {
        "id": "L-VLLU9LW4cJ"
      }
    },
    {
      "cell_type": "markdown",
      "source": [
        "---\n",
        "## Selenium + BS 적용"
      ],
      "metadata": {
        "id": "Hl4cGAMMvOu0"
      }
    },
    {
      "cell_type": "code",
      "source": [
        "from bs4 import BeautifulSoup\n",
        "from selenium import webdriver\n",
        "from selenium.webdriver.common.by import By\n",
        "import time\n",
        "\n",
        "# Chrome 옵션 설정 (헤드리스 모드)\n",
        "# 코랩은 headless 모드만 지원함\n",
        "options = webdriver.ChromeOptions()\n",
        "options.add_argument('--headless')\n",
        "options.add_argument('--no-sandbox')\n",
        "options.add_argument('--disable-dev-shm-usage')\n",
        "\n",
        "# 웹드라이버 초기화\n",
        "driver = webdriver.Chrome(options=options)\n",
        "\n",
        "# 크롤링할 URL\n",
        "url = 'https://finance.naver.com/item/board.naver?code=138040'\n",
        "driver.get(url)\n",
        "\n",
        "# 페이지 소스 가져오기\n",
        "html = driver.page_source\n",
        "soup = BeautifulSoup(html, 'html.parser')\n",
        "\n",
        "# 원하는 데이터 추출 (예: 테이블) - 1번 인덱스\n",
        "table = soup.find_all('table')\n",
        "df_table = pd.read_html(str(table))[1]\n",
        "df_table"
      ],
      "metadata": {
        "id": "DiVwUmcSvA3d"
      },
      "execution_count": null,
      "outputs": []
    },
    {
      "cell_type": "markdown",
      "source": [
        "---\n",
        "## requests 적용\n",
        "\n",
        "- 사용자정의 함수를 만들어 스크래핑한다.\n",
        "\n",
        "- 종목토론방 게시판 스크래핑\n",
        "    - 날짜\n",
        "    - 제목\n",
        "    - 글쓴이\n",
        "    - 조회\n",
        "    - 공감\n",
        "    - 비공감\n",
        "    - Link"
      ],
      "metadata": {
        "id": "Prxs3qJluz7F"
      }
    },
    {
      "cell_type": "code",
      "source": [
        "import pandas as pd\n",
        "import requests, time\n",
        "from tqdm import trange, tqdm\n",
        "\n",
        "# 헤더 설정\n",
        "headers = {'user-agent':\"Mozilla/5.0\"}"
      ],
      "metadata": {
        "id": "GVrYGSMtvcms"
      },
      "execution_count": null,
      "outputs": []
    },
    {
      "cell_type": "code",
      "source": [
        "# 웹페이지 url 1 개를 가져오는 사용자정의함수 만들기\n",
        "#fstring\n",
        "def get_url(종목코드,페이지번호):\n",
        "    공통 = 'https://finance.naver.com/item/board.naver?code='\n",
        "    url = f'{공통}{종목코드}&page={페이지번호}'\n",
        "    return url"
      ],
      "metadata": {
        "id": "sqGKV-Q7PTKA"
      },
      "execution_count": null,
      "outputs": []
    },
    {
      "cell_type": "code",
      "source": [
        "get_url(138040,2)"
      ],
      "metadata": {
        "id": "3EXMVSunjFgO",
        "outputId": "0ee26294-ef39-4a5d-8407-647d3c4f105e",
        "colab": {
          "base_uri": "https://localhost:8080/",
          "height": 35
        }
      },
      "execution_count": null,
      "outputs": [
        {
          "output_type": "execute_result",
          "data": {
            "text/plain": [
              "'https://finance.naver.com/item/board.naver?code=138040&page=2'"
            ],
            "application/vnd.google.colaboratory.intrinsic+json": {
              "type": "string"
            }
          },
          "metadata": {},
          "execution_count": 60
        }
      ]
    },
    {
      "cell_type": "code",
      "source": [
        "공통 = 'https://finance.naver.com/item/board.naver?code='\n",
        "url = f'{공통}'\n",
        "url"
      ],
      "metadata": {
        "id": "VkLHKLbTPTB6",
        "colab": {
          "base_uri": "https://localhost:8080/",
          "height": 35
        },
        "outputId": "7fc23e15-eabf-496f-de80-7c614b6c5540"
      },
      "execution_count": 1,
      "outputs": [
        {
          "output_type": "execute_result",
          "data": {
            "text/plain": [
              "'https://finance.naver.com/item/board.naver?code='"
            ],
            "application/vnd.google.colaboratory.intrinsic+json": {
              "type": "string"
            }
          },
          "metadata": {},
          "execution_count": 1
        }
      ]
    },
    {
      "cell_type": "markdown",
      "source": [
        "- 자료형 주의: 다른 종목코드 (예: 삼성전자 005380)"
      ],
      "metadata": {
        "id": "TIbh__ZtUOZi"
      }
    },
    {
      "cell_type": "code",
      "source": [
        "# 다른 종목005380 오류발생 - 0으로 시작하는 10진법 정수 불가능\n",
        "get_url(005380,2)"
      ],
      "metadata": {
        "id": "EQBmkhVMPS-x",
        "colab": {
          "base_uri": "https://localhost:8080/",
          "height": 110
        },
        "outputId": "dd1e9a36-a10a-464d-bed1-44fea64d1659"
      },
      "execution_count": null,
      "outputs": [
        {
          "output_type": "error",
          "ename": "SyntaxError",
          "evalue": "leading zeros in decimal integer literals are not permitted; use an 0o prefix for octal integers (<ipython-input-63-b619af8affd5>, line 2)",
          "traceback": [
            "\u001b[0;36m  File \u001b[0;32m\"<ipython-input-63-b619af8affd5>\"\u001b[0;36m, line \u001b[0;32m2\u001b[0m\n\u001b[0;31m    get_url(005380,2)\u001b[0m\n\u001b[0m            ^\u001b[0m\n\u001b[0;31mSyntaxError\u001b[0m\u001b[0;31m:\u001b[0m leading zeros in decimal integer literals are not permitted; use an 0o prefix for octal integers\n"
          ]
        }
      ]
    },
    {
      "cell_type": "code",
      "source": [
        "# 다른 종목005380 오류발생 - 문자열로 처리해야 함\n",
        "get_url('005380',40)"
      ],
      "metadata": {
        "id": "_Wo8pXUkPS4o",
        "colab": {
          "base_uri": "https://localhost:8080/",
          "height": 35
        },
        "outputId": "a22819fe-9e6e-4e8d-9d93-68d9dbcf988d"
      },
      "execution_count": null,
      "outputs": [
        {
          "output_type": "execute_result",
          "data": {
            "text/plain": [
              "'https://finance.naver.com/item/board.naver?code=005380&page=40'"
            ],
            "application/vnd.google.colaboratory.intrinsic+json": {
              "type": "string"
            }
          },
          "metadata": {},
          "execution_count": 65
        }
      ]
    },
    {
      "cell_type": "markdown",
      "source": [
        "### 판다스의 pd.read_html() 적용\n",
        "- 위에서 만든 사용자정의함수 적용 후 text 추출\n",
        "- 판다스의 `pd.read_html()`함수 적용"
      ],
      "metadata": {
        "id": "wn3F-7RnVizb"
      }
    },
    {
      "cell_type": "code",
      "source": [
        "import pandas as pd\n",
        "import requests, time\n",
        "from tqdm import trange, tqdm\n",
        "\n",
        "# 헤더 설정\n",
        "headers = {'user-agent':\"Mozilla/5.0\"}"
      ],
      "metadata": {
        "id": "Tf7QnFymWGJM"
      },
      "execution_count": null,
      "outputs": []
    },
    {
      "cell_type": "code",
      "source": [
        "ccode ='005380'\n",
        "url = get_url(ccode,2)\n",
        "response = requests.get(url,headers=headers)\n",
        "page_contents = response.text\n",
        "# pd.read_html(page_contents)\n",
        "df = pd.read_html(page_contents)[1]\n",
        "df\n",
        "# len(pd.read_html(page_contents))"
      ],
      "metadata": {
        "id": "ziDgUQp985jH",
        "colab": {
          "base_uri": "https://localhost:8080/",
          "height": 1000
        },
        "outputId": "8cfd16dc-ae57-4e6d-bb09-40790d0aade7"
      },
      "execution_count": null,
      "outputs": [
        {
          "output_type": "stream",
          "name": "stderr",
          "text": [
            "<ipython-input-113-71a73e3d07bf>:6: FutureWarning: Passing literal html to 'read_html' is deprecated and will be removed in a future version. To read from a literal string, wrap it in a 'StringIO' object.\n",
            "  df = pd.read_html(page_contents)[1]\n"
          ]
        },
        {
          "output_type": "execute_result",
          "data": {
            "text/plain": [
              "                         날짜                               제목  \\\n",
              "0                       NaN                              NaN   \n",
              "1   클린봇으로 착한게시글만 모아보세요!  설정          클린봇으로 착한게시글만 모아보세요!  설정   \n",
              "2                       NaN                              NaN   \n",
              "3          2024.10.17 17:10  클린봇이 이용자 보호를 위해 숨긴 게시글입니다.  [2]   \n",
              "4          2024.10.17 17:09             ■ 인도청약률 166% 달성  [7]   \n",
              "5          2024.10.17 17:05                      환율 1369원이네요   \n",
              "6          2024.10.17 17:05                       변속기 파업 때문에   \n",
              "7          2024.10.17 17:04   ### 10월 24일 2시 실적발표 공시...  [3]   \n",
              "8                       NaN                              NaN   \n",
              "9          2024.10.17 17:04                 시간외 주가는 ㅋㅋㅋ  [1]   \n",
              "10         2024.10.17 17:03   내일도 돈급하고 견딜수 없으면 시장가로 ...  [1]   \n",
              "11         2024.10.17 16:58             ■ 인도청약률 141% 달성  [4]   \n",
              "12         2024.10.17 17:01             ■ 인도청약률 141% 달성  [1]   \n",
              "13         2024.10.17 16:53                       인도청약?  [2]   \n",
              "14                      NaN                              NaN   \n",
              "15         2024.10.17 17:01                            인도청약?   \n",
              "16         2024.10.17 16:51             ■ 인도청약률 123% 달성  [3]   \n",
              "17         2024.10.17 16:49                        변속기고 나발이고   \n",
              "18         2024.10.17 16:47        [실시간] 인도 IPO 청약률 100% ...   \n",
              "19         2024.10.17 16:45                     변속기 파업중  [4]   \n",
              "20                      NaN                              NaN   \n",
              "21         2024.10.17 16:40        인도청약이고 나발이고 오늘폭락은 뭐냐  [1]   \n",
              "22         2024.10.17 16:40            90%만 넘으면 되는거잖아요?  [1]   \n",
              "23         2024.10.17 16:38                        9월 자동차수출액   \n",
              "24         2024.10.17 16:35                청약 완료 91% 달성  [2]   \n",
              "25         2024.10.17 16:33          ■ 인도 청약률 현재 101%달성  [4]   \n",
              "26                      NaN                              NaN   \n",
              "\n",
              "                        글쓴이                       조회                       공감  \\\n",
              "0                       NaN                      NaN                      NaN   \n",
              "1   클린봇으로 착한게시글만 모아보세요!  설정  클린봇으로 착한게시글만 모아보세요!  설정  클린봇으로 착한게시글만 모아보세요!  설정   \n",
              "2                       NaN                      NaN                      NaN   \n",
              "3                  laro****                       69                        1   \n",
              "4                  tt******                      360                        6   \n",
              "5                  veni****                       75                        0   \n",
              "6                  aksk****                      101                        1   \n",
              "7                  leeb****                      244                        3   \n",
              "8                       NaN                      NaN                      NaN   \n",
              "9                  infi****                      211                        1   \n",
              "10                 rkdg****                       92                        0   \n",
              "11                 tt******                      393                        7   \n",
              "12                 to1t****                      140                        1   \n",
              "13                 infi****                      239                        2   \n",
              "14                      NaN                      NaN                      NaN   \n",
              "15                 veni****                       39                        0   \n",
              "16                 tt******                      393                       11   \n",
              "17                 park****                      152                        8   \n",
              "18                 uihy****                      268                       13   \n",
              "19                 infi****                      257                        2   \n",
              "20                      NaN                      NaN                      NaN   \n",
              "21                 opec****                      353                        7   \n",
              "22                 park****                      268                        5   \n",
              "23                 veni****                      164                        8   \n",
              "24                 jiso****                      334                        6   \n",
              "25                 tt******                      496                        8   \n",
              "26                      NaN                      NaN                      NaN   \n",
              "\n",
              "                        비공감  Unnamed: 6  \n",
              "0                       NaN         NaN  \n",
              "1   클린봇으로 착한게시글만 모아보세요!  설정         NaN  \n",
              "2                       NaN         NaN  \n",
              "3                         2         NaN  \n",
              "4                         3         NaN  \n",
              "5                         0         NaN  \n",
              "6                         1         NaN  \n",
              "7                         3         NaN  \n",
              "8                       NaN         NaN  \n",
              "9                         3         NaN  \n",
              "10                        1         NaN  \n",
              "11                        2         NaN  \n",
              "12                        2         NaN  \n",
              "13                        8         NaN  \n",
              "14                      NaN         NaN  \n",
              "15                        1         NaN  \n",
              "16                        3         NaN  \n",
              "17                        2         NaN  \n",
              "18                        2         NaN  \n",
              "19                        5         NaN  \n",
              "20                      NaN         NaN  \n",
              "21                        3         NaN  \n",
              "22                        2         NaN  \n",
              "23                        2         NaN  \n",
              "24                        6         NaN  \n",
              "25                        4         NaN  \n",
              "26                      NaN         NaN  "
            ],
            "text/html": [
              "\n",
              "  <div id=\"df-2707e258-3a98-4490-aaf1-e59ad8a4c474\" class=\"colab-df-container\">\n",
              "    <div>\n",
              "<style scoped>\n",
              "    .dataframe tbody tr th:only-of-type {\n",
              "        vertical-align: middle;\n",
              "    }\n",
              "\n",
              "    .dataframe tbody tr th {\n",
              "        vertical-align: top;\n",
              "    }\n",
              "\n",
              "    .dataframe thead th {\n",
              "        text-align: right;\n",
              "    }\n",
              "</style>\n",
              "<table border=\"1\" class=\"dataframe\">\n",
              "  <thead>\n",
              "    <tr style=\"text-align: right;\">\n",
              "      <th></th>\n",
              "      <th>날짜</th>\n",
              "      <th>제목</th>\n",
              "      <th>글쓴이</th>\n",
              "      <th>조회</th>\n",
              "      <th>공감</th>\n",
              "      <th>비공감</th>\n",
              "      <th>Unnamed: 6</th>\n",
              "    </tr>\n",
              "  </thead>\n",
              "  <tbody>\n",
              "    <tr>\n",
              "      <th>0</th>\n",
              "      <td>NaN</td>\n",
              "      <td>NaN</td>\n",
              "      <td>NaN</td>\n",
              "      <td>NaN</td>\n",
              "      <td>NaN</td>\n",
              "      <td>NaN</td>\n",
              "      <td>NaN</td>\n",
              "    </tr>\n",
              "    <tr>\n",
              "      <th>1</th>\n",
              "      <td>클린봇으로 착한게시글만 모아보세요!  설정</td>\n",
              "      <td>클린봇으로 착한게시글만 모아보세요!  설정</td>\n",
              "      <td>클린봇으로 착한게시글만 모아보세요!  설정</td>\n",
              "      <td>클린봇으로 착한게시글만 모아보세요!  설정</td>\n",
              "      <td>클린봇으로 착한게시글만 모아보세요!  설정</td>\n",
              "      <td>클린봇으로 착한게시글만 모아보세요!  설정</td>\n",
              "      <td>NaN</td>\n",
              "    </tr>\n",
              "    <tr>\n",
              "      <th>2</th>\n",
              "      <td>NaN</td>\n",
              "      <td>NaN</td>\n",
              "      <td>NaN</td>\n",
              "      <td>NaN</td>\n",
              "      <td>NaN</td>\n",
              "      <td>NaN</td>\n",
              "      <td>NaN</td>\n",
              "    </tr>\n",
              "    <tr>\n",
              "      <th>3</th>\n",
              "      <td>2024.10.17 17:10</td>\n",
              "      <td>클린봇이 이용자 보호를 위해 숨긴 게시글입니다.  [2]</td>\n",
              "      <td>laro****</td>\n",
              "      <td>69</td>\n",
              "      <td>1</td>\n",
              "      <td>2</td>\n",
              "      <td>NaN</td>\n",
              "    </tr>\n",
              "    <tr>\n",
              "      <th>4</th>\n",
              "      <td>2024.10.17 17:09</td>\n",
              "      <td>■ 인도청약률 166% 달성  [7]</td>\n",
              "      <td>tt******</td>\n",
              "      <td>360</td>\n",
              "      <td>6</td>\n",
              "      <td>3</td>\n",
              "      <td>NaN</td>\n",
              "    </tr>\n",
              "    <tr>\n",
              "      <th>5</th>\n",
              "      <td>2024.10.17 17:05</td>\n",
              "      <td>환율 1369원이네요</td>\n",
              "      <td>veni****</td>\n",
              "      <td>75</td>\n",
              "      <td>0</td>\n",
              "      <td>0</td>\n",
              "      <td>NaN</td>\n",
              "    </tr>\n",
              "    <tr>\n",
              "      <th>6</th>\n",
              "      <td>2024.10.17 17:05</td>\n",
              "      <td>변속기 파업 때문에</td>\n",
              "      <td>aksk****</td>\n",
              "      <td>101</td>\n",
              "      <td>1</td>\n",
              "      <td>1</td>\n",
              "      <td>NaN</td>\n",
              "    </tr>\n",
              "    <tr>\n",
              "      <th>7</th>\n",
              "      <td>2024.10.17 17:04</td>\n",
              "      <td>### 10월 24일 2시 실적발표 공시...  [3]</td>\n",
              "      <td>leeb****</td>\n",
              "      <td>244</td>\n",
              "      <td>3</td>\n",
              "      <td>3</td>\n",
              "      <td>NaN</td>\n",
              "    </tr>\n",
              "    <tr>\n",
              "      <th>8</th>\n",
              "      <td>NaN</td>\n",
              "      <td>NaN</td>\n",
              "      <td>NaN</td>\n",
              "      <td>NaN</td>\n",
              "      <td>NaN</td>\n",
              "      <td>NaN</td>\n",
              "      <td>NaN</td>\n",
              "    </tr>\n",
              "    <tr>\n",
              "      <th>9</th>\n",
              "      <td>2024.10.17 17:04</td>\n",
              "      <td>시간외 주가는 ㅋㅋㅋ  [1]</td>\n",
              "      <td>infi****</td>\n",
              "      <td>211</td>\n",
              "      <td>1</td>\n",
              "      <td>3</td>\n",
              "      <td>NaN</td>\n",
              "    </tr>\n",
              "    <tr>\n",
              "      <th>10</th>\n",
              "      <td>2024.10.17 17:03</td>\n",
              "      <td>내일도 돈급하고 견딜수 없으면 시장가로 ...  [1]</td>\n",
              "      <td>rkdg****</td>\n",
              "      <td>92</td>\n",
              "      <td>0</td>\n",
              "      <td>1</td>\n",
              "      <td>NaN</td>\n",
              "    </tr>\n",
              "    <tr>\n",
              "      <th>11</th>\n",
              "      <td>2024.10.17 16:58</td>\n",
              "      <td>■ 인도청약률 141% 달성  [4]</td>\n",
              "      <td>tt******</td>\n",
              "      <td>393</td>\n",
              "      <td>7</td>\n",
              "      <td>2</td>\n",
              "      <td>NaN</td>\n",
              "    </tr>\n",
              "    <tr>\n",
              "      <th>12</th>\n",
              "      <td>2024.10.17 17:01</td>\n",
              "      <td>■ 인도청약률 141% 달성  [1]</td>\n",
              "      <td>to1t****</td>\n",
              "      <td>140</td>\n",
              "      <td>1</td>\n",
              "      <td>2</td>\n",
              "      <td>NaN</td>\n",
              "    </tr>\n",
              "    <tr>\n",
              "      <th>13</th>\n",
              "      <td>2024.10.17 16:53</td>\n",
              "      <td>인도청약?  [2]</td>\n",
              "      <td>infi****</td>\n",
              "      <td>239</td>\n",
              "      <td>2</td>\n",
              "      <td>8</td>\n",
              "      <td>NaN</td>\n",
              "    </tr>\n",
              "    <tr>\n",
              "      <th>14</th>\n",
              "      <td>NaN</td>\n",
              "      <td>NaN</td>\n",
              "      <td>NaN</td>\n",
              "      <td>NaN</td>\n",
              "      <td>NaN</td>\n",
              "      <td>NaN</td>\n",
              "      <td>NaN</td>\n",
              "    </tr>\n",
              "    <tr>\n",
              "      <th>15</th>\n",
              "      <td>2024.10.17 17:01</td>\n",
              "      <td>인도청약?</td>\n",
              "      <td>veni****</td>\n",
              "      <td>39</td>\n",
              "      <td>0</td>\n",
              "      <td>1</td>\n",
              "      <td>NaN</td>\n",
              "    </tr>\n",
              "    <tr>\n",
              "      <th>16</th>\n",
              "      <td>2024.10.17 16:51</td>\n",
              "      <td>■ 인도청약률 123% 달성  [3]</td>\n",
              "      <td>tt******</td>\n",
              "      <td>393</td>\n",
              "      <td>11</td>\n",
              "      <td>3</td>\n",
              "      <td>NaN</td>\n",
              "    </tr>\n",
              "    <tr>\n",
              "      <th>17</th>\n",
              "      <td>2024.10.17 16:49</td>\n",
              "      <td>변속기고 나발이고</td>\n",
              "      <td>park****</td>\n",
              "      <td>152</td>\n",
              "      <td>8</td>\n",
              "      <td>2</td>\n",
              "      <td>NaN</td>\n",
              "    </tr>\n",
              "    <tr>\n",
              "      <th>18</th>\n",
              "      <td>2024.10.17 16:47</td>\n",
              "      <td>[실시간] 인도 IPO 청약률 100% ...</td>\n",
              "      <td>uihy****</td>\n",
              "      <td>268</td>\n",
              "      <td>13</td>\n",
              "      <td>2</td>\n",
              "      <td>NaN</td>\n",
              "    </tr>\n",
              "    <tr>\n",
              "      <th>19</th>\n",
              "      <td>2024.10.17 16:45</td>\n",
              "      <td>변속기 파업중  [4]</td>\n",
              "      <td>infi****</td>\n",
              "      <td>257</td>\n",
              "      <td>2</td>\n",
              "      <td>5</td>\n",
              "      <td>NaN</td>\n",
              "    </tr>\n",
              "    <tr>\n",
              "      <th>20</th>\n",
              "      <td>NaN</td>\n",
              "      <td>NaN</td>\n",
              "      <td>NaN</td>\n",
              "      <td>NaN</td>\n",
              "      <td>NaN</td>\n",
              "      <td>NaN</td>\n",
              "      <td>NaN</td>\n",
              "    </tr>\n",
              "    <tr>\n",
              "      <th>21</th>\n",
              "      <td>2024.10.17 16:40</td>\n",
              "      <td>인도청약이고 나발이고 오늘폭락은 뭐냐  [1]</td>\n",
              "      <td>opec****</td>\n",
              "      <td>353</td>\n",
              "      <td>7</td>\n",
              "      <td>3</td>\n",
              "      <td>NaN</td>\n",
              "    </tr>\n",
              "    <tr>\n",
              "      <th>22</th>\n",
              "      <td>2024.10.17 16:40</td>\n",
              "      <td>90%만 넘으면 되는거잖아요?  [1]</td>\n",
              "      <td>park****</td>\n",
              "      <td>268</td>\n",
              "      <td>5</td>\n",
              "      <td>2</td>\n",
              "      <td>NaN</td>\n",
              "    </tr>\n",
              "    <tr>\n",
              "      <th>23</th>\n",
              "      <td>2024.10.17 16:38</td>\n",
              "      <td>9월 자동차수출액</td>\n",
              "      <td>veni****</td>\n",
              "      <td>164</td>\n",
              "      <td>8</td>\n",
              "      <td>2</td>\n",
              "      <td>NaN</td>\n",
              "    </tr>\n",
              "    <tr>\n",
              "      <th>24</th>\n",
              "      <td>2024.10.17 16:35</td>\n",
              "      <td>청약 완료 91% 달성  [2]</td>\n",
              "      <td>jiso****</td>\n",
              "      <td>334</td>\n",
              "      <td>6</td>\n",
              "      <td>6</td>\n",
              "      <td>NaN</td>\n",
              "    </tr>\n",
              "    <tr>\n",
              "      <th>25</th>\n",
              "      <td>2024.10.17 16:33</td>\n",
              "      <td>■ 인도 청약률 현재 101%달성  [4]</td>\n",
              "      <td>tt******</td>\n",
              "      <td>496</td>\n",
              "      <td>8</td>\n",
              "      <td>4</td>\n",
              "      <td>NaN</td>\n",
              "    </tr>\n",
              "    <tr>\n",
              "      <th>26</th>\n",
              "      <td>NaN</td>\n",
              "      <td>NaN</td>\n",
              "      <td>NaN</td>\n",
              "      <td>NaN</td>\n",
              "      <td>NaN</td>\n",
              "      <td>NaN</td>\n",
              "      <td>NaN</td>\n",
              "    </tr>\n",
              "  </tbody>\n",
              "</table>\n",
              "</div>\n",
              "    <div class=\"colab-df-buttons\">\n",
              "\n",
              "  <div class=\"colab-df-container\">\n",
              "    <button class=\"colab-df-convert\" onclick=\"convertToInteractive('df-2707e258-3a98-4490-aaf1-e59ad8a4c474')\"\n",
              "            title=\"Convert this dataframe to an interactive table.\"\n",
              "            style=\"display:none;\">\n",
              "\n",
              "  <svg xmlns=\"http://www.w3.org/2000/svg\" height=\"24px\" viewBox=\"0 -960 960 960\">\n",
              "    <path d=\"M120-120v-720h720v720H120Zm60-500h600v-160H180v160Zm220 220h160v-160H400v160Zm0 220h160v-160H400v160ZM180-400h160v-160H180v160Zm440 0h160v-160H620v160ZM180-180h160v-160H180v160Zm440 0h160v-160H620v160Z\"/>\n",
              "  </svg>\n",
              "    </button>\n",
              "\n",
              "  <style>\n",
              "    .colab-df-container {\n",
              "      display:flex;\n",
              "      gap: 12px;\n",
              "    }\n",
              "\n",
              "    .colab-df-convert {\n",
              "      background-color: #E8F0FE;\n",
              "      border: none;\n",
              "      border-radius: 50%;\n",
              "      cursor: pointer;\n",
              "      display: none;\n",
              "      fill: #1967D2;\n",
              "      height: 32px;\n",
              "      padding: 0 0 0 0;\n",
              "      width: 32px;\n",
              "    }\n",
              "\n",
              "    .colab-df-convert:hover {\n",
              "      background-color: #E2EBFA;\n",
              "      box-shadow: 0px 1px 2px rgba(60, 64, 67, 0.3), 0px 1px 3px 1px rgba(60, 64, 67, 0.15);\n",
              "      fill: #174EA6;\n",
              "    }\n",
              "\n",
              "    .colab-df-buttons div {\n",
              "      margin-bottom: 4px;\n",
              "    }\n",
              "\n",
              "    [theme=dark] .colab-df-convert {\n",
              "      background-color: #3B4455;\n",
              "      fill: #D2E3FC;\n",
              "    }\n",
              "\n",
              "    [theme=dark] .colab-df-convert:hover {\n",
              "      background-color: #434B5C;\n",
              "      box-shadow: 0px 1px 3px 1px rgba(0, 0, 0, 0.15);\n",
              "      filter: drop-shadow(0px 1px 2px rgba(0, 0, 0, 0.3));\n",
              "      fill: #FFFFFF;\n",
              "    }\n",
              "  </style>\n",
              "\n",
              "    <script>\n",
              "      const buttonEl =\n",
              "        document.querySelector('#df-2707e258-3a98-4490-aaf1-e59ad8a4c474 button.colab-df-convert');\n",
              "      buttonEl.style.display =\n",
              "        google.colab.kernel.accessAllowed ? 'block' : 'none';\n",
              "\n",
              "      async function convertToInteractive(key) {\n",
              "        const element = document.querySelector('#df-2707e258-3a98-4490-aaf1-e59ad8a4c474');\n",
              "        const dataTable =\n",
              "          await google.colab.kernel.invokeFunction('convertToInteractive',\n",
              "                                                    [key], {});\n",
              "        if (!dataTable) return;\n",
              "\n",
              "        const docLinkHtml = 'Like what you see? Visit the ' +\n",
              "          '<a target=\"_blank\" href=https://colab.research.google.com/notebooks/data_table.ipynb>data table notebook</a>'\n",
              "          + ' to learn more about interactive tables.';\n",
              "        element.innerHTML = '';\n",
              "        dataTable['output_type'] = 'display_data';\n",
              "        await google.colab.output.renderOutput(dataTable, element);\n",
              "        const docLink = document.createElement('div');\n",
              "        docLink.innerHTML = docLinkHtml;\n",
              "        element.appendChild(docLink);\n",
              "      }\n",
              "    </script>\n",
              "  </div>\n",
              "\n",
              "\n",
              "<div id=\"df-050fecc4-e0e1-4195-915d-0b8c358bd83f\">\n",
              "  <button class=\"colab-df-quickchart\" onclick=\"quickchart('df-050fecc4-e0e1-4195-915d-0b8c358bd83f')\"\n",
              "            title=\"Suggest charts\"\n",
              "            style=\"display:none;\">\n",
              "\n",
              "<svg xmlns=\"http://www.w3.org/2000/svg\" height=\"24px\"viewBox=\"0 0 24 24\"\n",
              "     width=\"24px\">\n",
              "    <g>\n",
              "        <path d=\"M19 3H5c-1.1 0-2 .9-2 2v14c0 1.1.9 2 2 2h14c1.1 0 2-.9 2-2V5c0-1.1-.9-2-2-2zM9 17H7v-7h2v7zm4 0h-2V7h2v10zm4 0h-2v-4h2v4z\"/>\n",
              "    </g>\n",
              "</svg>\n",
              "  </button>\n",
              "\n",
              "<style>\n",
              "  .colab-df-quickchart {\n",
              "      --bg-color: #E8F0FE;\n",
              "      --fill-color: #1967D2;\n",
              "      --hover-bg-color: #E2EBFA;\n",
              "      --hover-fill-color: #174EA6;\n",
              "      --disabled-fill-color: #AAA;\n",
              "      --disabled-bg-color: #DDD;\n",
              "  }\n",
              "\n",
              "  [theme=dark] .colab-df-quickchart {\n",
              "      --bg-color: #3B4455;\n",
              "      --fill-color: #D2E3FC;\n",
              "      --hover-bg-color: #434B5C;\n",
              "      --hover-fill-color: #FFFFFF;\n",
              "      --disabled-bg-color: #3B4455;\n",
              "      --disabled-fill-color: #666;\n",
              "  }\n",
              "\n",
              "  .colab-df-quickchart {\n",
              "    background-color: var(--bg-color);\n",
              "    border: none;\n",
              "    border-radius: 50%;\n",
              "    cursor: pointer;\n",
              "    display: none;\n",
              "    fill: var(--fill-color);\n",
              "    height: 32px;\n",
              "    padding: 0;\n",
              "    width: 32px;\n",
              "  }\n",
              "\n",
              "  .colab-df-quickchart:hover {\n",
              "    background-color: var(--hover-bg-color);\n",
              "    box-shadow: 0 1px 2px rgba(60, 64, 67, 0.3), 0 1px 3px 1px rgba(60, 64, 67, 0.15);\n",
              "    fill: var(--button-hover-fill-color);\n",
              "  }\n",
              "\n",
              "  .colab-df-quickchart-complete:disabled,\n",
              "  .colab-df-quickchart-complete:disabled:hover {\n",
              "    background-color: var(--disabled-bg-color);\n",
              "    fill: var(--disabled-fill-color);\n",
              "    box-shadow: none;\n",
              "  }\n",
              "\n",
              "  .colab-df-spinner {\n",
              "    border: 2px solid var(--fill-color);\n",
              "    border-color: transparent;\n",
              "    border-bottom-color: var(--fill-color);\n",
              "    animation:\n",
              "      spin 1s steps(1) infinite;\n",
              "  }\n",
              "\n",
              "  @keyframes spin {\n",
              "    0% {\n",
              "      border-color: transparent;\n",
              "      border-bottom-color: var(--fill-color);\n",
              "      border-left-color: var(--fill-color);\n",
              "    }\n",
              "    20% {\n",
              "      border-color: transparent;\n",
              "      border-left-color: var(--fill-color);\n",
              "      border-top-color: var(--fill-color);\n",
              "    }\n",
              "    30% {\n",
              "      border-color: transparent;\n",
              "      border-left-color: var(--fill-color);\n",
              "      border-top-color: var(--fill-color);\n",
              "      border-right-color: var(--fill-color);\n",
              "    }\n",
              "    40% {\n",
              "      border-color: transparent;\n",
              "      border-right-color: var(--fill-color);\n",
              "      border-top-color: var(--fill-color);\n",
              "    }\n",
              "    60% {\n",
              "      border-color: transparent;\n",
              "      border-right-color: var(--fill-color);\n",
              "    }\n",
              "    80% {\n",
              "      border-color: transparent;\n",
              "      border-right-color: var(--fill-color);\n",
              "      border-bottom-color: var(--fill-color);\n",
              "    }\n",
              "    90% {\n",
              "      border-color: transparent;\n",
              "      border-bottom-color: var(--fill-color);\n",
              "    }\n",
              "  }\n",
              "</style>\n",
              "\n",
              "  <script>\n",
              "    async function quickchart(key) {\n",
              "      const quickchartButtonEl =\n",
              "        document.querySelector('#' + key + ' button');\n",
              "      quickchartButtonEl.disabled = true;  // To prevent multiple clicks.\n",
              "      quickchartButtonEl.classList.add('colab-df-spinner');\n",
              "      try {\n",
              "        const charts = await google.colab.kernel.invokeFunction(\n",
              "            'suggestCharts', [key], {});\n",
              "      } catch (error) {\n",
              "        console.error('Error during call to suggestCharts:', error);\n",
              "      }\n",
              "      quickchartButtonEl.classList.remove('colab-df-spinner');\n",
              "      quickchartButtonEl.classList.add('colab-df-quickchart-complete');\n",
              "    }\n",
              "    (() => {\n",
              "      let quickchartButtonEl =\n",
              "        document.querySelector('#df-050fecc4-e0e1-4195-915d-0b8c358bd83f button');\n",
              "      quickchartButtonEl.style.display =\n",
              "        google.colab.kernel.accessAllowed ? 'block' : 'none';\n",
              "    })();\n",
              "  </script>\n",
              "</div>\n",
              "\n",
              "  <div id=\"id_4fe59206-697c-46c7-856f-6233f92b5cf6\">\n",
              "    <style>\n",
              "      .colab-df-generate {\n",
              "        background-color: #E8F0FE;\n",
              "        border: none;\n",
              "        border-radius: 50%;\n",
              "        cursor: pointer;\n",
              "        display: none;\n",
              "        fill: #1967D2;\n",
              "        height: 32px;\n",
              "        padding: 0 0 0 0;\n",
              "        width: 32px;\n",
              "      }\n",
              "\n",
              "      .colab-df-generate:hover {\n",
              "        background-color: #E2EBFA;\n",
              "        box-shadow: 0px 1px 2px rgba(60, 64, 67, 0.3), 0px 1px 3px 1px rgba(60, 64, 67, 0.15);\n",
              "        fill: #174EA6;\n",
              "      }\n",
              "\n",
              "      [theme=dark] .colab-df-generate {\n",
              "        background-color: #3B4455;\n",
              "        fill: #D2E3FC;\n",
              "      }\n",
              "\n",
              "      [theme=dark] .colab-df-generate:hover {\n",
              "        background-color: #434B5C;\n",
              "        box-shadow: 0px 1px 3px 1px rgba(0, 0, 0, 0.15);\n",
              "        filter: drop-shadow(0px 1px 2px rgba(0, 0, 0, 0.3));\n",
              "        fill: #FFFFFF;\n",
              "      }\n",
              "    </style>\n",
              "    <button class=\"colab-df-generate\" onclick=\"generateWithVariable('df')\"\n",
              "            title=\"Generate code using this dataframe.\"\n",
              "            style=\"display:none;\">\n",
              "\n",
              "  <svg xmlns=\"http://www.w3.org/2000/svg\" height=\"24px\"viewBox=\"0 0 24 24\"\n",
              "       width=\"24px\">\n",
              "    <path d=\"M7,19H8.4L18.45,9,17,7.55,7,17.6ZM5,21V16.75L18.45,3.32a2,2,0,0,1,2.83,0l1.4,1.43a1.91,1.91,0,0,1,.58,1.4,1.91,1.91,0,0,1-.58,1.4L9.25,21ZM18.45,9,17,7.55Zm-12,3A5.31,5.31,0,0,0,4.9,8.1,5.31,5.31,0,0,0,1,6.5,5.31,5.31,0,0,0,4.9,4.9,5.31,5.31,0,0,0,6.5,1,5.31,5.31,0,0,0,8.1,4.9,5.31,5.31,0,0,0,12,6.5,5.46,5.46,0,0,0,6.5,12Z\"/>\n",
              "  </svg>\n",
              "    </button>\n",
              "    <script>\n",
              "      (() => {\n",
              "      const buttonEl =\n",
              "        document.querySelector('#id_4fe59206-697c-46c7-856f-6233f92b5cf6 button.colab-df-generate');\n",
              "      buttonEl.style.display =\n",
              "        google.colab.kernel.accessAllowed ? 'block' : 'none';\n",
              "\n",
              "      buttonEl.onclick = () => {\n",
              "        google.colab.notebook.generateWithVariable('df');\n",
              "      }\n",
              "      })();\n",
              "    </script>\n",
              "  </div>\n",
              "\n",
              "    </div>\n",
              "  </div>\n"
            ],
            "application/vnd.google.colaboratory.intrinsic+json": {
              "type": "dataframe",
              "variable_name": "df",
              "summary": "{\n  \"name\": \"df\",\n  \"rows\": 27,\n  \"fields\": [\n    {\n      \"column\": \"\\ub0a0\\uc9dc\",\n      \"properties\": {\n        \"dtype\": \"string\",\n        \"num_unique_values\": 17,\n        \"samples\": [\n          \"\\ud074\\ub9b0\\ubd07\\uc73c\\ub85c \\ucc29\\ud55c\\uac8c\\uc2dc\\uae00\\ub9cc \\ubaa8\\uc544\\ubcf4\\uc138\\uc694!  \\uc124\\uc815\",\n          \"2024.10.17 17:10\",\n          \"2024.10.17 17:03\"\n        ],\n        \"semantic_type\": \"\",\n        \"description\": \"\"\n      }\n    },\n    {\n      \"column\": \"\\uc81c\\ubaa9\",\n      \"properties\": {\n        \"dtype\": \"string\",\n        \"num_unique_values\": 21,\n        \"samples\": [\n          \"\\ud074\\ub9b0\\ubd07\\uc73c\\ub85c \\ucc29\\ud55c\\uac8c\\uc2dc\\uae00\\ub9cc \\ubaa8\\uc544\\ubcf4\\uc138\\uc694!  \\uc124\\uc815\",\n          \"90%\\ub9cc \\ub118\\uc73c\\uba74 \\ub418\\ub294\\uac70\\uc796\\uc544\\uc694?  [1]\",\n          \"\\ubcc0\\uc18d\\uae30 \\ud30c\\uc5c5\\uc911  [4]\"\n        ],\n        \"semantic_type\": \"\",\n        \"description\": \"\"\n      }\n    },\n    {\n      \"column\": \"\\uae00\\uc4f4\\uc774\",\n      \"properties\": {\n        \"dtype\": \"category\",\n        \"num_unique_values\": 13,\n        \"samples\": [\n          \"opec****\",\n          \"park****\",\n          \"\\ud074\\ub9b0\\ubd07\\uc73c\\ub85c \\ucc29\\ud55c\\uac8c\\uc2dc\\uae00\\ub9cc \\ubaa8\\uc544\\ubcf4\\uc138\\uc694!  \\uc124\\uc815\"\n        ],\n        \"semantic_type\": \"\",\n        \"description\": \"\"\n      }\n    },\n    {\n      \"column\": \"\\uc870\\ud68c\",\n      \"properties\": {\n        \"dtype\": \"string\",\n        \"num_unique_values\": 19,\n        \"samples\": [\n          \"\\ud074\\ub9b0\\ubd07\\uc73c\\ub85c \\ucc29\\ud55c\\uac8c\\uc2dc\\uae00\\ub9cc \\ubaa8\\uc544\\ubcf4\\uc138\\uc694!  \\uc124\\uc815\",\n          \"244\",\n          \"39\"\n        ],\n        \"semantic_type\": \"\",\n        \"description\": \"\"\n      }\n    },\n    {\n      \"column\": \"\\uacf5\\uac10\",\n      \"properties\": {\n        \"dtype\": \"category\",\n        \"num_unique_values\": 11,\n        \"samples\": [\n          \"7\",\n          \"\\ud074\\ub9b0\\ubd07\\uc73c\\ub85c \\ucc29\\ud55c\\uac8c\\uc2dc\\uae00\\ub9cc \\ubaa8\\uc544\\ubcf4\\uc138\\uc694!  \\uc124\\uc815\",\n          \"13\"\n        ],\n        \"semantic_type\": \"\",\n        \"description\": \"\"\n      }\n    },\n    {\n      \"column\": \"\\ube44\\uacf5\\uac10\",\n      \"properties\": {\n        \"dtype\": \"category\",\n        \"num_unique_values\": 9,\n        \"samples\": [\n          \"6\",\n          \"2\",\n          \"8\"\n        ],\n        \"semantic_type\": \"\",\n        \"description\": \"\"\n      }\n    },\n    {\n      \"column\": \"Unnamed: 6\",\n      \"properties\": {\n        \"dtype\": \"number\",\n        \"std\": null,\n        \"min\": null,\n        \"max\": null,\n        \"num_unique_values\": 0,\n        \"samples\": [],\n        \"semantic_type\": \"\",\n        \"description\": \"\"\n      }\n    }\n  ]\n}"
            }
          },
          "metadata": {},
          "execution_count": 113
        }
      ]
    },
    {
      "cell_type": "code",
      "source": [],
      "metadata": {
        "id": "7-LQhEuTV7vP"
      },
      "execution_count": null,
      "outputs": []
    },
    {
      "cell_type": "markdown",
      "source": [
        "- 다른 종목코드에도 적용해보자."
      ],
      "metadata": {
        "id": "icb-kh7yWz3R"
      }
    },
    {
      "cell_type": "code",
      "source": [
        "# 다른 종목코드에도 적용가능\n"
      ],
      "metadata": {
        "id": "8gHlVIL0Uv82"
      },
      "execution_count": null,
      "outputs": []
    },
    {
      "cell_type": "code",
      "source": [
        "# 다른 종목코드에도 적용가능\n"
      ],
      "metadata": {
        "collapsed": true,
        "id": "MuQ7itprVtnL"
      },
      "execution_count": null,
      "outputs": []
    },
    {
      "cell_type": "markdown",
      "source": [
        "- 수집한 데이터를 구글드라이브에 저장"
      ],
      "metadata": {
        "id": "QEym8_p6Z-rz"
      }
    },
    {
      "cell_type": "code",
      "source": [
        "from google.colab import drive\n",
        "drive.mount('/content/drive')"
      ],
      "metadata": {
        "id": "-RDA6dyLZ-F8",
        "colab": {
          "base_uri": "https://localhost:8080/"
        },
        "outputId": "c4d5b49a-f520-42b9-fc8e-37b4b53755e3"
      },
      "execution_count": null,
      "outputs": [
        {
          "output_type": "stream",
          "name": "stdout",
          "text": [
            "Mounted at /content/drive\n"
          ]
        }
      ]
    },
    {
      "cell_type": "code",
      "source": [
        "import os\n",
        "os.chdir('/content/drive/MyDrive/Colab Notebooks/kdi/202410실습자료')\n",
        "os.getcwd()"
      ],
      "metadata": {
        "id": "wjhHr-YEaMd0",
        "colab": {
          "base_uri": "https://localhost:8080/",
          "height": 35
        },
        "outputId": "871e200c-fd6e-4ef1-b4af-d626ece5386f"
      },
      "execution_count": null,
      "outputs": [
        {
          "output_type": "execute_result",
          "data": {
            "text/plain": [
              "'/content/drive/MyDrive/Colab Notebooks/kdi/202410실습자료'"
            ],
            "application/vnd.google.colaboratory.intrinsic+json": {
              "type": "string"
            }
          },
          "metadata": {},
          "execution_count": 92
        }
      ]
    },
    {
      "cell_type": "markdown",
      "source": [
        "- 엑셀파일 저장시, 제목에 현재날짜 및 시간 반영하여 저장"
      ],
      "metadata": {
        "id": "s7OlcNhn9RAk"
      }
    },
    {
      "cell_type": "code",
      "source": [
        "import pandas as pd\n",
        "from datetime import datetime\n",
        "\n",
        "# 현재날짜와 시간 가져오기: 연월일-시분 형식 (구글서버시간)\n",
        "현재시간 = datetime.now().strftime('%Y%m%d-%H%M')"
      ],
      "metadata": {
        "id": "7J3RSdi0aS8P"
      },
      "execution_count": null,
      "outputs": []
    },
    {
      "cell_type": "markdown",
      "source": [
        "- 시간 확인"
      ],
      "metadata": {
        "id": "8nGdow8N9Jes"
      }
    },
    {
      "cell_type": "code",
      "source": [
        "# 한국 시간대를 설정 - 한국표준시\n",
        "import pytz\n",
        "kst = pytz.timezone('Asia/Seoul')\n",
        "현재시간 = datetime.now(kst).strftime('%Y%m%d-%H%M')\n",
        "현재시간"
      ],
      "metadata": {
        "id": "B-HR04gV9JQd",
        "colab": {
          "base_uri": "https://localhost:8080/",
          "height": 35
        },
        "outputId": "fba263e8-152f-4693-94c3-c572467ab8f3"
      },
      "execution_count": null,
      "outputs": [
        {
          "output_type": "execute_result",
          "data": {
            "text/plain": [
              "'20241017-1741'"
            ],
            "application/vnd.google.colaboratory.intrinsic+json": {
              "type": "string"
            }
          },
          "metadata": {},
          "execution_count": 107
        }
      ]
    },
    {
      "cell_type": "code",
      "source": [
        "# 현재날짜와 시간 가져오기: 연월일-시분 형식 (구글서버시간)\n"
      ],
      "metadata": {
        "id": "-7Ep36969L1a"
      },
      "execution_count": null,
      "outputs": []
    },
    {
      "cell_type": "code",
      "source": [
        "# 파일명 생성 - 종목코드는 위에 있음\n",
        "파일명 = f'{현재시간}_종목_{ccode}.xlsx'\n",
        "print(파일명)"
      ],
      "metadata": {
        "id": "YZCIrhlz9C1S",
        "colab": {
          "base_uri": "https://localhost:8080/"
        },
        "outputId": "2606f371-4bfa-4af5-8477-8964c65078bc"
      },
      "execution_count": null,
      "outputs": [
        {
          "output_type": "stream",
          "name": "stdout",
          "text": [
            "20241017-1741_종목_005380.xlsx\n"
          ]
        }
      ]
    },
    {
      "cell_type": "code",
      "source": [
        "df"
      ],
      "metadata": {
        "id": "0t52c7K_pqWx",
        "outputId": "df1cebdb-468d-4d5c-b80d-cfa2226bde1b",
        "colab": {
          "base_uri": "https://localhost:8080/",
          "height": 1000
        }
      },
      "execution_count": null,
      "outputs": [
        {
          "output_type": "execute_result",
          "data": {
            "text/plain": [
              "                         날짜                               제목  \\\n",
              "0                       NaN                              NaN   \n",
              "1   클린봇으로 착한게시글만 모아보세요!  설정          클린봇으로 착한게시글만 모아보세요!  설정   \n",
              "2                       NaN                              NaN   \n",
              "3          2024.10.17 17:10  클린봇이 이용자 보호를 위해 숨긴 게시글입니다.  [2]   \n",
              "4          2024.10.17 17:09             ■ 인도청약률 166% 달성  [7]   \n",
              "5          2024.10.17 17:05                      환율 1369원이네요   \n",
              "6          2024.10.17 17:05                       변속기 파업 때문에   \n",
              "7          2024.10.17 17:04   ### 10월 24일 2시 실적발표 공시...  [3]   \n",
              "8                       NaN                              NaN   \n",
              "9          2024.10.17 17:04                 시간외 주가는 ㅋㅋㅋ  [1]   \n",
              "10         2024.10.17 17:03   내일도 돈급하고 견딜수 없으면 시장가로 ...  [1]   \n",
              "11         2024.10.17 16:58             ■ 인도청약률 141% 달성  [4]   \n",
              "12         2024.10.17 17:01             ■ 인도청약률 141% 달성  [1]   \n",
              "13         2024.10.17 16:53                       인도청약?  [2]   \n",
              "14                      NaN                              NaN   \n",
              "15         2024.10.17 17:01                            인도청약?   \n",
              "16         2024.10.17 16:51             ■ 인도청약률 123% 달성  [3]   \n",
              "17         2024.10.17 16:49                        변속기고 나발이고   \n",
              "18         2024.10.17 16:47        [실시간] 인도 IPO 청약률 100% ...   \n",
              "19         2024.10.17 16:45                     변속기 파업중  [4]   \n",
              "20                      NaN                              NaN   \n",
              "21         2024.10.17 16:40        인도청약이고 나발이고 오늘폭락은 뭐냐  [1]   \n",
              "22         2024.10.17 16:40            90%만 넘으면 되는거잖아요?  [1]   \n",
              "23         2024.10.17 16:38                        9월 자동차수출액   \n",
              "24         2024.10.17 16:35                청약 완료 91% 달성  [2]   \n",
              "25         2024.10.17 16:33          ■ 인도 청약률 현재 101%달성  [4]   \n",
              "26                      NaN                              NaN   \n",
              "\n",
              "                        글쓴이                       조회                       공감  \\\n",
              "0                       NaN                      NaN                      NaN   \n",
              "1   클린봇으로 착한게시글만 모아보세요!  설정  클린봇으로 착한게시글만 모아보세요!  설정  클린봇으로 착한게시글만 모아보세요!  설정   \n",
              "2                       NaN                      NaN                      NaN   \n",
              "3                  laro****                       69                        1   \n",
              "4                  tt******                      360                        6   \n",
              "5                  veni****                       75                        0   \n",
              "6                  aksk****                      101                        1   \n",
              "7                  leeb****                      244                        3   \n",
              "8                       NaN                      NaN                      NaN   \n",
              "9                  infi****                      211                        1   \n",
              "10                 rkdg****                       92                        0   \n",
              "11                 tt******                      393                        7   \n",
              "12                 to1t****                      140                        1   \n",
              "13                 infi****                      239                        2   \n",
              "14                      NaN                      NaN                      NaN   \n",
              "15                 veni****                       39                        0   \n",
              "16                 tt******                      393                       11   \n",
              "17                 park****                      152                        8   \n",
              "18                 uihy****                      268                       13   \n",
              "19                 infi****                      257                        2   \n",
              "20                      NaN                      NaN                      NaN   \n",
              "21                 opec****                      353                        7   \n",
              "22                 park****                      268                        5   \n",
              "23                 veni****                      164                        8   \n",
              "24                 jiso****                      334                        6   \n",
              "25                 tt******                      496                        8   \n",
              "26                      NaN                      NaN                      NaN   \n",
              "\n",
              "                        비공감  Unnamed: 6  \n",
              "0                       NaN         NaN  \n",
              "1   클린봇으로 착한게시글만 모아보세요!  설정         NaN  \n",
              "2                       NaN         NaN  \n",
              "3                         2         NaN  \n",
              "4                         3         NaN  \n",
              "5                         0         NaN  \n",
              "6                         1         NaN  \n",
              "7                         3         NaN  \n",
              "8                       NaN         NaN  \n",
              "9                         3         NaN  \n",
              "10                        1         NaN  \n",
              "11                        2         NaN  \n",
              "12                        2         NaN  \n",
              "13                        8         NaN  \n",
              "14                      NaN         NaN  \n",
              "15                        1         NaN  \n",
              "16                        3         NaN  \n",
              "17                        2         NaN  \n",
              "18                        2         NaN  \n",
              "19                        5         NaN  \n",
              "20                      NaN         NaN  \n",
              "21                        3         NaN  \n",
              "22                        2         NaN  \n",
              "23                        2         NaN  \n",
              "24                        6         NaN  \n",
              "25                        4         NaN  \n",
              "26                      NaN         NaN  "
            ],
            "text/html": [
              "\n",
              "  <div id=\"df-2dd478ee-c451-4f02-bac3-4d712ee0fe9f\" class=\"colab-df-container\">\n",
              "    <div>\n",
              "<style scoped>\n",
              "    .dataframe tbody tr th:only-of-type {\n",
              "        vertical-align: middle;\n",
              "    }\n",
              "\n",
              "    .dataframe tbody tr th {\n",
              "        vertical-align: top;\n",
              "    }\n",
              "\n",
              "    .dataframe thead th {\n",
              "        text-align: right;\n",
              "    }\n",
              "</style>\n",
              "<table border=\"1\" class=\"dataframe\">\n",
              "  <thead>\n",
              "    <tr style=\"text-align: right;\">\n",
              "      <th></th>\n",
              "      <th>날짜</th>\n",
              "      <th>제목</th>\n",
              "      <th>글쓴이</th>\n",
              "      <th>조회</th>\n",
              "      <th>공감</th>\n",
              "      <th>비공감</th>\n",
              "      <th>Unnamed: 6</th>\n",
              "    </tr>\n",
              "  </thead>\n",
              "  <tbody>\n",
              "    <tr>\n",
              "      <th>0</th>\n",
              "      <td>NaN</td>\n",
              "      <td>NaN</td>\n",
              "      <td>NaN</td>\n",
              "      <td>NaN</td>\n",
              "      <td>NaN</td>\n",
              "      <td>NaN</td>\n",
              "      <td>NaN</td>\n",
              "    </tr>\n",
              "    <tr>\n",
              "      <th>1</th>\n",
              "      <td>클린봇으로 착한게시글만 모아보세요!  설정</td>\n",
              "      <td>클린봇으로 착한게시글만 모아보세요!  설정</td>\n",
              "      <td>클린봇으로 착한게시글만 모아보세요!  설정</td>\n",
              "      <td>클린봇으로 착한게시글만 모아보세요!  설정</td>\n",
              "      <td>클린봇으로 착한게시글만 모아보세요!  설정</td>\n",
              "      <td>클린봇으로 착한게시글만 모아보세요!  설정</td>\n",
              "      <td>NaN</td>\n",
              "    </tr>\n",
              "    <tr>\n",
              "      <th>2</th>\n",
              "      <td>NaN</td>\n",
              "      <td>NaN</td>\n",
              "      <td>NaN</td>\n",
              "      <td>NaN</td>\n",
              "      <td>NaN</td>\n",
              "      <td>NaN</td>\n",
              "      <td>NaN</td>\n",
              "    </tr>\n",
              "    <tr>\n",
              "      <th>3</th>\n",
              "      <td>2024.10.17 17:10</td>\n",
              "      <td>클린봇이 이용자 보호를 위해 숨긴 게시글입니다.  [2]</td>\n",
              "      <td>laro****</td>\n",
              "      <td>69</td>\n",
              "      <td>1</td>\n",
              "      <td>2</td>\n",
              "      <td>NaN</td>\n",
              "    </tr>\n",
              "    <tr>\n",
              "      <th>4</th>\n",
              "      <td>2024.10.17 17:09</td>\n",
              "      <td>■ 인도청약률 166% 달성  [7]</td>\n",
              "      <td>tt******</td>\n",
              "      <td>360</td>\n",
              "      <td>6</td>\n",
              "      <td>3</td>\n",
              "      <td>NaN</td>\n",
              "    </tr>\n",
              "    <tr>\n",
              "      <th>5</th>\n",
              "      <td>2024.10.17 17:05</td>\n",
              "      <td>환율 1369원이네요</td>\n",
              "      <td>veni****</td>\n",
              "      <td>75</td>\n",
              "      <td>0</td>\n",
              "      <td>0</td>\n",
              "      <td>NaN</td>\n",
              "    </tr>\n",
              "    <tr>\n",
              "      <th>6</th>\n",
              "      <td>2024.10.17 17:05</td>\n",
              "      <td>변속기 파업 때문에</td>\n",
              "      <td>aksk****</td>\n",
              "      <td>101</td>\n",
              "      <td>1</td>\n",
              "      <td>1</td>\n",
              "      <td>NaN</td>\n",
              "    </tr>\n",
              "    <tr>\n",
              "      <th>7</th>\n",
              "      <td>2024.10.17 17:04</td>\n",
              "      <td>### 10월 24일 2시 실적발표 공시...  [3]</td>\n",
              "      <td>leeb****</td>\n",
              "      <td>244</td>\n",
              "      <td>3</td>\n",
              "      <td>3</td>\n",
              "      <td>NaN</td>\n",
              "    </tr>\n",
              "    <tr>\n",
              "      <th>8</th>\n",
              "      <td>NaN</td>\n",
              "      <td>NaN</td>\n",
              "      <td>NaN</td>\n",
              "      <td>NaN</td>\n",
              "      <td>NaN</td>\n",
              "      <td>NaN</td>\n",
              "      <td>NaN</td>\n",
              "    </tr>\n",
              "    <tr>\n",
              "      <th>9</th>\n",
              "      <td>2024.10.17 17:04</td>\n",
              "      <td>시간외 주가는 ㅋㅋㅋ  [1]</td>\n",
              "      <td>infi****</td>\n",
              "      <td>211</td>\n",
              "      <td>1</td>\n",
              "      <td>3</td>\n",
              "      <td>NaN</td>\n",
              "    </tr>\n",
              "    <tr>\n",
              "      <th>10</th>\n",
              "      <td>2024.10.17 17:03</td>\n",
              "      <td>내일도 돈급하고 견딜수 없으면 시장가로 ...  [1]</td>\n",
              "      <td>rkdg****</td>\n",
              "      <td>92</td>\n",
              "      <td>0</td>\n",
              "      <td>1</td>\n",
              "      <td>NaN</td>\n",
              "    </tr>\n",
              "    <tr>\n",
              "      <th>11</th>\n",
              "      <td>2024.10.17 16:58</td>\n",
              "      <td>■ 인도청약률 141% 달성  [4]</td>\n",
              "      <td>tt******</td>\n",
              "      <td>393</td>\n",
              "      <td>7</td>\n",
              "      <td>2</td>\n",
              "      <td>NaN</td>\n",
              "    </tr>\n",
              "    <tr>\n",
              "      <th>12</th>\n",
              "      <td>2024.10.17 17:01</td>\n",
              "      <td>■ 인도청약률 141% 달성  [1]</td>\n",
              "      <td>to1t****</td>\n",
              "      <td>140</td>\n",
              "      <td>1</td>\n",
              "      <td>2</td>\n",
              "      <td>NaN</td>\n",
              "    </tr>\n",
              "    <tr>\n",
              "      <th>13</th>\n",
              "      <td>2024.10.17 16:53</td>\n",
              "      <td>인도청약?  [2]</td>\n",
              "      <td>infi****</td>\n",
              "      <td>239</td>\n",
              "      <td>2</td>\n",
              "      <td>8</td>\n",
              "      <td>NaN</td>\n",
              "    </tr>\n",
              "    <tr>\n",
              "      <th>14</th>\n",
              "      <td>NaN</td>\n",
              "      <td>NaN</td>\n",
              "      <td>NaN</td>\n",
              "      <td>NaN</td>\n",
              "      <td>NaN</td>\n",
              "      <td>NaN</td>\n",
              "      <td>NaN</td>\n",
              "    </tr>\n",
              "    <tr>\n",
              "      <th>15</th>\n",
              "      <td>2024.10.17 17:01</td>\n",
              "      <td>인도청약?</td>\n",
              "      <td>veni****</td>\n",
              "      <td>39</td>\n",
              "      <td>0</td>\n",
              "      <td>1</td>\n",
              "      <td>NaN</td>\n",
              "    </tr>\n",
              "    <tr>\n",
              "      <th>16</th>\n",
              "      <td>2024.10.17 16:51</td>\n",
              "      <td>■ 인도청약률 123% 달성  [3]</td>\n",
              "      <td>tt******</td>\n",
              "      <td>393</td>\n",
              "      <td>11</td>\n",
              "      <td>3</td>\n",
              "      <td>NaN</td>\n",
              "    </tr>\n",
              "    <tr>\n",
              "      <th>17</th>\n",
              "      <td>2024.10.17 16:49</td>\n",
              "      <td>변속기고 나발이고</td>\n",
              "      <td>park****</td>\n",
              "      <td>152</td>\n",
              "      <td>8</td>\n",
              "      <td>2</td>\n",
              "      <td>NaN</td>\n",
              "    </tr>\n",
              "    <tr>\n",
              "      <th>18</th>\n",
              "      <td>2024.10.17 16:47</td>\n",
              "      <td>[실시간] 인도 IPO 청약률 100% ...</td>\n",
              "      <td>uihy****</td>\n",
              "      <td>268</td>\n",
              "      <td>13</td>\n",
              "      <td>2</td>\n",
              "      <td>NaN</td>\n",
              "    </tr>\n",
              "    <tr>\n",
              "      <th>19</th>\n",
              "      <td>2024.10.17 16:45</td>\n",
              "      <td>변속기 파업중  [4]</td>\n",
              "      <td>infi****</td>\n",
              "      <td>257</td>\n",
              "      <td>2</td>\n",
              "      <td>5</td>\n",
              "      <td>NaN</td>\n",
              "    </tr>\n",
              "    <tr>\n",
              "      <th>20</th>\n",
              "      <td>NaN</td>\n",
              "      <td>NaN</td>\n",
              "      <td>NaN</td>\n",
              "      <td>NaN</td>\n",
              "      <td>NaN</td>\n",
              "      <td>NaN</td>\n",
              "      <td>NaN</td>\n",
              "    </tr>\n",
              "    <tr>\n",
              "      <th>21</th>\n",
              "      <td>2024.10.17 16:40</td>\n",
              "      <td>인도청약이고 나발이고 오늘폭락은 뭐냐  [1]</td>\n",
              "      <td>opec****</td>\n",
              "      <td>353</td>\n",
              "      <td>7</td>\n",
              "      <td>3</td>\n",
              "      <td>NaN</td>\n",
              "    </tr>\n",
              "    <tr>\n",
              "      <th>22</th>\n",
              "      <td>2024.10.17 16:40</td>\n",
              "      <td>90%만 넘으면 되는거잖아요?  [1]</td>\n",
              "      <td>park****</td>\n",
              "      <td>268</td>\n",
              "      <td>5</td>\n",
              "      <td>2</td>\n",
              "      <td>NaN</td>\n",
              "    </tr>\n",
              "    <tr>\n",
              "      <th>23</th>\n",
              "      <td>2024.10.17 16:38</td>\n",
              "      <td>9월 자동차수출액</td>\n",
              "      <td>veni****</td>\n",
              "      <td>164</td>\n",
              "      <td>8</td>\n",
              "      <td>2</td>\n",
              "      <td>NaN</td>\n",
              "    </tr>\n",
              "    <tr>\n",
              "      <th>24</th>\n",
              "      <td>2024.10.17 16:35</td>\n",
              "      <td>청약 완료 91% 달성  [2]</td>\n",
              "      <td>jiso****</td>\n",
              "      <td>334</td>\n",
              "      <td>6</td>\n",
              "      <td>6</td>\n",
              "      <td>NaN</td>\n",
              "    </tr>\n",
              "    <tr>\n",
              "      <th>25</th>\n",
              "      <td>2024.10.17 16:33</td>\n",
              "      <td>■ 인도 청약률 현재 101%달성  [4]</td>\n",
              "      <td>tt******</td>\n",
              "      <td>496</td>\n",
              "      <td>8</td>\n",
              "      <td>4</td>\n",
              "      <td>NaN</td>\n",
              "    </tr>\n",
              "    <tr>\n",
              "      <th>26</th>\n",
              "      <td>NaN</td>\n",
              "      <td>NaN</td>\n",
              "      <td>NaN</td>\n",
              "      <td>NaN</td>\n",
              "      <td>NaN</td>\n",
              "      <td>NaN</td>\n",
              "      <td>NaN</td>\n",
              "    </tr>\n",
              "  </tbody>\n",
              "</table>\n",
              "</div>\n",
              "    <div class=\"colab-df-buttons\">\n",
              "\n",
              "  <div class=\"colab-df-container\">\n",
              "    <button class=\"colab-df-convert\" onclick=\"convertToInteractive('df-2dd478ee-c451-4f02-bac3-4d712ee0fe9f')\"\n",
              "            title=\"Convert this dataframe to an interactive table.\"\n",
              "            style=\"display:none;\">\n",
              "\n",
              "  <svg xmlns=\"http://www.w3.org/2000/svg\" height=\"24px\" viewBox=\"0 -960 960 960\">\n",
              "    <path d=\"M120-120v-720h720v720H120Zm60-500h600v-160H180v160Zm220 220h160v-160H400v160Zm0 220h160v-160H400v160ZM180-400h160v-160H180v160Zm440 0h160v-160H620v160ZM180-180h160v-160H180v160Zm440 0h160v-160H620v160Z\"/>\n",
              "  </svg>\n",
              "    </button>\n",
              "\n",
              "  <style>\n",
              "    .colab-df-container {\n",
              "      display:flex;\n",
              "      gap: 12px;\n",
              "    }\n",
              "\n",
              "    .colab-df-convert {\n",
              "      background-color: #E8F0FE;\n",
              "      border: none;\n",
              "      border-radius: 50%;\n",
              "      cursor: pointer;\n",
              "      display: none;\n",
              "      fill: #1967D2;\n",
              "      height: 32px;\n",
              "      padding: 0 0 0 0;\n",
              "      width: 32px;\n",
              "    }\n",
              "\n",
              "    .colab-df-convert:hover {\n",
              "      background-color: #E2EBFA;\n",
              "      box-shadow: 0px 1px 2px rgba(60, 64, 67, 0.3), 0px 1px 3px 1px rgba(60, 64, 67, 0.15);\n",
              "      fill: #174EA6;\n",
              "    }\n",
              "\n",
              "    .colab-df-buttons div {\n",
              "      margin-bottom: 4px;\n",
              "    }\n",
              "\n",
              "    [theme=dark] .colab-df-convert {\n",
              "      background-color: #3B4455;\n",
              "      fill: #D2E3FC;\n",
              "    }\n",
              "\n",
              "    [theme=dark] .colab-df-convert:hover {\n",
              "      background-color: #434B5C;\n",
              "      box-shadow: 0px 1px 3px 1px rgba(0, 0, 0, 0.15);\n",
              "      filter: drop-shadow(0px 1px 2px rgba(0, 0, 0, 0.3));\n",
              "      fill: #FFFFFF;\n",
              "    }\n",
              "  </style>\n",
              "\n",
              "    <script>\n",
              "      const buttonEl =\n",
              "        document.querySelector('#df-2dd478ee-c451-4f02-bac3-4d712ee0fe9f button.colab-df-convert');\n",
              "      buttonEl.style.display =\n",
              "        google.colab.kernel.accessAllowed ? 'block' : 'none';\n",
              "\n",
              "      async function convertToInteractive(key) {\n",
              "        const element = document.querySelector('#df-2dd478ee-c451-4f02-bac3-4d712ee0fe9f');\n",
              "        const dataTable =\n",
              "          await google.colab.kernel.invokeFunction('convertToInteractive',\n",
              "                                                    [key], {});\n",
              "        if (!dataTable) return;\n",
              "\n",
              "        const docLinkHtml = 'Like what you see? Visit the ' +\n",
              "          '<a target=\"_blank\" href=https://colab.research.google.com/notebooks/data_table.ipynb>data table notebook</a>'\n",
              "          + ' to learn more about interactive tables.';\n",
              "        element.innerHTML = '';\n",
              "        dataTable['output_type'] = 'display_data';\n",
              "        await google.colab.output.renderOutput(dataTable, element);\n",
              "        const docLink = document.createElement('div');\n",
              "        docLink.innerHTML = docLinkHtml;\n",
              "        element.appendChild(docLink);\n",
              "      }\n",
              "    </script>\n",
              "  </div>\n",
              "\n",
              "\n",
              "<div id=\"df-13882a2a-fc4c-4650-917b-8caef97489e7\">\n",
              "  <button class=\"colab-df-quickchart\" onclick=\"quickchart('df-13882a2a-fc4c-4650-917b-8caef97489e7')\"\n",
              "            title=\"Suggest charts\"\n",
              "            style=\"display:none;\">\n",
              "\n",
              "<svg xmlns=\"http://www.w3.org/2000/svg\" height=\"24px\"viewBox=\"0 0 24 24\"\n",
              "     width=\"24px\">\n",
              "    <g>\n",
              "        <path d=\"M19 3H5c-1.1 0-2 .9-2 2v14c0 1.1.9 2 2 2h14c1.1 0 2-.9 2-2V5c0-1.1-.9-2-2-2zM9 17H7v-7h2v7zm4 0h-2V7h2v10zm4 0h-2v-4h2v4z\"/>\n",
              "    </g>\n",
              "</svg>\n",
              "  </button>\n",
              "\n",
              "<style>\n",
              "  .colab-df-quickchart {\n",
              "      --bg-color: #E8F0FE;\n",
              "      --fill-color: #1967D2;\n",
              "      --hover-bg-color: #E2EBFA;\n",
              "      --hover-fill-color: #174EA6;\n",
              "      --disabled-fill-color: #AAA;\n",
              "      --disabled-bg-color: #DDD;\n",
              "  }\n",
              "\n",
              "  [theme=dark] .colab-df-quickchart {\n",
              "      --bg-color: #3B4455;\n",
              "      --fill-color: #D2E3FC;\n",
              "      --hover-bg-color: #434B5C;\n",
              "      --hover-fill-color: #FFFFFF;\n",
              "      --disabled-bg-color: #3B4455;\n",
              "      --disabled-fill-color: #666;\n",
              "  }\n",
              "\n",
              "  .colab-df-quickchart {\n",
              "    background-color: var(--bg-color);\n",
              "    border: none;\n",
              "    border-radius: 50%;\n",
              "    cursor: pointer;\n",
              "    display: none;\n",
              "    fill: var(--fill-color);\n",
              "    height: 32px;\n",
              "    padding: 0;\n",
              "    width: 32px;\n",
              "  }\n",
              "\n",
              "  .colab-df-quickchart:hover {\n",
              "    background-color: var(--hover-bg-color);\n",
              "    box-shadow: 0 1px 2px rgba(60, 64, 67, 0.3), 0 1px 3px 1px rgba(60, 64, 67, 0.15);\n",
              "    fill: var(--button-hover-fill-color);\n",
              "  }\n",
              "\n",
              "  .colab-df-quickchart-complete:disabled,\n",
              "  .colab-df-quickchart-complete:disabled:hover {\n",
              "    background-color: var(--disabled-bg-color);\n",
              "    fill: var(--disabled-fill-color);\n",
              "    box-shadow: none;\n",
              "  }\n",
              "\n",
              "  .colab-df-spinner {\n",
              "    border: 2px solid var(--fill-color);\n",
              "    border-color: transparent;\n",
              "    border-bottom-color: var(--fill-color);\n",
              "    animation:\n",
              "      spin 1s steps(1) infinite;\n",
              "  }\n",
              "\n",
              "  @keyframes spin {\n",
              "    0% {\n",
              "      border-color: transparent;\n",
              "      border-bottom-color: var(--fill-color);\n",
              "      border-left-color: var(--fill-color);\n",
              "    }\n",
              "    20% {\n",
              "      border-color: transparent;\n",
              "      border-left-color: var(--fill-color);\n",
              "      border-top-color: var(--fill-color);\n",
              "    }\n",
              "    30% {\n",
              "      border-color: transparent;\n",
              "      border-left-color: var(--fill-color);\n",
              "      border-top-color: var(--fill-color);\n",
              "      border-right-color: var(--fill-color);\n",
              "    }\n",
              "    40% {\n",
              "      border-color: transparent;\n",
              "      border-right-color: var(--fill-color);\n",
              "      border-top-color: var(--fill-color);\n",
              "    }\n",
              "    60% {\n",
              "      border-color: transparent;\n",
              "      border-right-color: var(--fill-color);\n",
              "    }\n",
              "    80% {\n",
              "      border-color: transparent;\n",
              "      border-right-color: var(--fill-color);\n",
              "      border-bottom-color: var(--fill-color);\n",
              "    }\n",
              "    90% {\n",
              "      border-color: transparent;\n",
              "      border-bottom-color: var(--fill-color);\n",
              "    }\n",
              "  }\n",
              "</style>\n",
              "\n",
              "  <script>\n",
              "    async function quickchart(key) {\n",
              "      const quickchartButtonEl =\n",
              "        document.querySelector('#' + key + ' button');\n",
              "      quickchartButtonEl.disabled = true;  // To prevent multiple clicks.\n",
              "      quickchartButtonEl.classList.add('colab-df-spinner');\n",
              "      try {\n",
              "        const charts = await google.colab.kernel.invokeFunction(\n",
              "            'suggestCharts', [key], {});\n",
              "      } catch (error) {\n",
              "        console.error('Error during call to suggestCharts:', error);\n",
              "      }\n",
              "      quickchartButtonEl.classList.remove('colab-df-spinner');\n",
              "      quickchartButtonEl.classList.add('colab-df-quickchart-complete');\n",
              "    }\n",
              "    (() => {\n",
              "      let quickchartButtonEl =\n",
              "        document.querySelector('#df-13882a2a-fc4c-4650-917b-8caef97489e7 button');\n",
              "      quickchartButtonEl.style.display =\n",
              "        google.colab.kernel.accessAllowed ? 'block' : 'none';\n",
              "    })();\n",
              "  </script>\n",
              "</div>\n",
              "\n",
              "  <div id=\"id_bcc382cb-ba95-49b7-8e0c-d2657612a6ed\">\n",
              "    <style>\n",
              "      .colab-df-generate {\n",
              "        background-color: #E8F0FE;\n",
              "        border: none;\n",
              "        border-radius: 50%;\n",
              "        cursor: pointer;\n",
              "        display: none;\n",
              "        fill: #1967D2;\n",
              "        height: 32px;\n",
              "        padding: 0 0 0 0;\n",
              "        width: 32px;\n",
              "      }\n",
              "\n",
              "      .colab-df-generate:hover {\n",
              "        background-color: #E2EBFA;\n",
              "        box-shadow: 0px 1px 2px rgba(60, 64, 67, 0.3), 0px 1px 3px 1px rgba(60, 64, 67, 0.15);\n",
              "        fill: #174EA6;\n",
              "      }\n",
              "\n",
              "      [theme=dark] .colab-df-generate {\n",
              "        background-color: #3B4455;\n",
              "        fill: #D2E3FC;\n",
              "      }\n",
              "\n",
              "      [theme=dark] .colab-df-generate:hover {\n",
              "        background-color: #434B5C;\n",
              "        box-shadow: 0px 1px 3px 1px rgba(0, 0, 0, 0.15);\n",
              "        filter: drop-shadow(0px 1px 2px rgba(0, 0, 0, 0.3));\n",
              "        fill: #FFFFFF;\n",
              "      }\n",
              "    </style>\n",
              "    <button class=\"colab-df-generate\" onclick=\"generateWithVariable('df')\"\n",
              "            title=\"Generate code using this dataframe.\"\n",
              "            style=\"display:none;\">\n",
              "\n",
              "  <svg xmlns=\"http://www.w3.org/2000/svg\" height=\"24px\"viewBox=\"0 0 24 24\"\n",
              "       width=\"24px\">\n",
              "    <path d=\"M7,19H8.4L18.45,9,17,7.55,7,17.6ZM5,21V16.75L18.45,3.32a2,2,0,0,1,2.83,0l1.4,1.43a1.91,1.91,0,0,1,.58,1.4,1.91,1.91,0,0,1-.58,1.4L9.25,21ZM18.45,9,17,7.55Zm-12,3A5.31,5.31,0,0,0,4.9,8.1,5.31,5.31,0,0,0,1,6.5,5.31,5.31,0,0,0,4.9,4.9,5.31,5.31,0,0,0,6.5,1,5.31,5.31,0,0,0,8.1,4.9,5.31,5.31,0,0,0,12,6.5,5.46,5.46,0,0,0,6.5,12Z\"/>\n",
              "  </svg>\n",
              "    </button>\n",
              "    <script>\n",
              "      (() => {\n",
              "      const buttonEl =\n",
              "        document.querySelector('#id_bcc382cb-ba95-49b7-8e0c-d2657612a6ed button.colab-df-generate');\n",
              "      buttonEl.style.display =\n",
              "        google.colab.kernel.accessAllowed ? 'block' : 'none';\n",
              "\n",
              "      buttonEl.onclick = () => {\n",
              "        google.colab.notebook.generateWithVariable('df');\n",
              "      }\n",
              "      })();\n",
              "    </script>\n",
              "  </div>\n",
              "\n",
              "    </div>\n",
              "  </div>\n"
            ],
            "application/vnd.google.colaboratory.intrinsic+json": {
              "type": "dataframe",
              "variable_name": "df",
              "summary": "{\n  \"name\": \"df\",\n  \"rows\": 27,\n  \"fields\": [\n    {\n      \"column\": \"\\ub0a0\\uc9dc\",\n      \"properties\": {\n        \"dtype\": \"string\",\n        \"num_unique_values\": 17,\n        \"samples\": [\n          \"\\ud074\\ub9b0\\ubd07\\uc73c\\ub85c \\ucc29\\ud55c\\uac8c\\uc2dc\\uae00\\ub9cc \\ubaa8\\uc544\\ubcf4\\uc138\\uc694!  \\uc124\\uc815\",\n          \"2024.10.17 17:10\",\n          \"2024.10.17 17:03\"\n        ],\n        \"semantic_type\": \"\",\n        \"description\": \"\"\n      }\n    },\n    {\n      \"column\": \"\\uc81c\\ubaa9\",\n      \"properties\": {\n        \"dtype\": \"string\",\n        \"num_unique_values\": 21,\n        \"samples\": [\n          \"\\ud074\\ub9b0\\ubd07\\uc73c\\ub85c \\ucc29\\ud55c\\uac8c\\uc2dc\\uae00\\ub9cc \\ubaa8\\uc544\\ubcf4\\uc138\\uc694!  \\uc124\\uc815\",\n          \"90%\\ub9cc \\ub118\\uc73c\\uba74 \\ub418\\ub294\\uac70\\uc796\\uc544\\uc694?  [1]\",\n          \"\\ubcc0\\uc18d\\uae30 \\ud30c\\uc5c5\\uc911  [4]\"\n        ],\n        \"semantic_type\": \"\",\n        \"description\": \"\"\n      }\n    },\n    {\n      \"column\": \"\\uae00\\uc4f4\\uc774\",\n      \"properties\": {\n        \"dtype\": \"category\",\n        \"num_unique_values\": 13,\n        \"samples\": [\n          \"opec****\",\n          \"park****\",\n          \"\\ud074\\ub9b0\\ubd07\\uc73c\\ub85c \\ucc29\\ud55c\\uac8c\\uc2dc\\uae00\\ub9cc \\ubaa8\\uc544\\ubcf4\\uc138\\uc694!  \\uc124\\uc815\"\n        ],\n        \"semantic_type\": \"\",\n        \"description\": \"\"\n      }\n    },\n    {\n      \"column\": \"\\uc870\\ud68c\",\n      \"properties\": {\n        \"dtype\": \"string\",\n        \"num_unique_values\": 19,\n        \"samples\": [\n          \"\\ud074\\ub9b0\\ubd07\\uc73c\\ub85c \\ucc29\\ud55c\\uac8c\\uc2dc\\uae00\\ub9cc \\ubaa8\\uc544\\ubcf4\\uc138\\uc694!  \\uc124\\uc815\",\n          \"244\",\n          \"39\"\n        ],\n        \"semantic_type\": \"\",\n        \"description\": \"\"\n      }\n    },\n    {\n      \"column\": \"\\uacf5\\uac10\",\n      \"properties\": {\n        \"dtype\": \"category\",\n        \"num_unique_values\": 11,\n        \"samples\": [\n          \"7\",\n          \"\\ud074\\ub9b0\\ubd07\\uc73c\\ub85c \\ucc29\\ud55c\\uac8c\\uc2dc\\uae00\\ub9cc \\ubaa8\\uc544\\ubcf4\\uc138\\uc694!  \\uc124\\uc815\",\n          \"13\"\n        ],\n        \"semantic_type\": \"\",\n        \"description\": \"\"\n      }\n    },\n    {\n      \"column\": \"\\ube44\\uacf5\\uac10\",\n      \"properties\": {\n        \"dtype\": \"category\",\n        \"num_unique_values\": 9,\n        \"samples\": [\n          \"6\",\n          \"2\",\n          \"8\"\n        ],\n        \"semantic_type\": \"\",\n        \"description\": \"\"\n      }\n    },\n    {\n      \"column\": \"Unnamed: 6\",\n      \"properties\": {\n        \"dtype\": \"number\",\n        \"std\": null,\n        \"min\": null,\n        \"max\": null,\n        \"num_unique_values\": 0,\n        \"samples\": [],\n        \"semantic_type\": \"\",\n        \"description\": \"\"\n      }\n    }\n  ]\n}"
            }
          },
          "metadata": {},
          "execution_count": 116
        }
      ]
    },
    {
      "cell_type": "code",
      "source": [
        "# 엑셀 파일로 저장\n",
        "df.to_excel(파일명, index=False)"
      ],
      "metadata": {
        "id": "IpFxa_m59CsB"
      },
      "execution_count": null,
      "outputs": []
    },
    {
      "cell_type": "markdown",
      "source": [
        "### 코드 정리"
      ],
      "metadata": {
        "id": "ikaRSn3qcHuP"
      }
    },
    {
      "cell_type": "code",
      "source": [
        "#필요 라이브러리 임포트\n",
        "import requests\n",
        "import pandas as pd\n",
        "from datetime import datetime\n",
        "from bs4 import BeautifulSoup as bs\n",
        "import pytz\n",
        "\n",
        "# 구글드라이브 연동\n",
        "from google.colab import drive\n",
        "drive.mount('/content/drive')\n",
        "\n",
        "# 웹페이지 url 1 개를 가져오는 사용자정의함수 만들기\n",
        "def get_url(code, page):\n",
        "    url = \"https://finance.naver.com/item/board.naver\"\n",
        "    url = f\"{url}?code={code}&page={page}\"\n",
        "    print(url)\n",
        "    return url\n",
        "\n",
        "# 헤더 설정\n",
        "headers = {'user-agent':\"Mozilla/5.0\"}\n",
        "\n",
        "# 종목 설정 및 크롤링\n",
        "종목코드 = '005380'\n",
        "url = get_url(종목코드, 1)\n",
        "\n",
        "response = requests.get(url, headers = headers)\n",
        "page_content = response.text\n",
        "df = pd.read_html(page_content)[1]\n",
        "print(df) #결과 출력\n",
        "\n",
        "# 경로 설정\n",
        "import os\n",
        "os.chdir('/content/drive/MyDrive/Colab Notebooks/kbi/202410실습자료')\n",
        "\n",
        "# 한국 시간대를 설정 - 한국표준시\n",
        "kst = pytz.timezone('Asia/Seoul')\n",
        "\n",
        "# 현재날짜와 시간 가져오기: 연월일시분 형식\n",
        "현재시간 = datetime.now(kst).strftime('%Y%m%d-%H%M')\n",
        "\n",
        "# 파일명 생성 - 종목코드 변수는 크롤링 단계에서 설정함\n",
        "파일명 = f'{현재시간}_종목코드{종목코드}.xlsx'\n",
        "\n",
        "# 엑셀 파일로 저장\n",
        "df.to_excel(파일명, index=False)"
      ],
      "metadata": {
        "id": "T_dBXeB2cJI5"
      },
      "execution_count": null,
      "outputs": []
    },
    {
      "cell_type": "code",
      "source": [
        "# 종목 설정 및 크롤링\n",
        "종목코드 = '005380'\n",
        "url = get_url(종목코드, 1)\n",
        "\n",
        "response = requests.get(url, headers = headers)\n",
        "page_content = response.text\n",
        "df = pd.read_html(page_content)[1]\n",
        "df"
      ],
      "metadata": {
        "id": "EWa-kaICshgd"
      },
      "execution_count": null,
      "outputs": []
    },
    {
      "cell_type": "markdown",
      "source": [
        "## 수집한 데이터 정제"
      ],
      "metadata": {
        "id": "8D0SjBryZifS"
      }
    },
    {
      "cell_type": "markdown",
      "source": [
        "가장 마지막 열 제거"
      ],
      "metadata": {
        "id": "vzWp1by2sIR5"
      }
    },
    {
      "cell_type": "code",
      "source": [
        "df.head(2)"
      ],
      "metadata": {
        "id": "l8ppI-I7txlr"
      },
      "execution_count": null,
      "outputs": []
    },
    {
      "cell_type": "code",
      "source": [
        "# .dropna()  << NaN Not a Number 가 포함된 모든 행과 열 제거\n",
        "df.dropna() # 일회성 시행"
      ],
      "metadata": {
        "id": "cTiuZtpvVbb6"
      },
      "execution_count": null,
      "outputs": []
    },
    {
      "cell_type": "code",
      "source": [
        "df.drop(df.columns[-1], axis=1) #axis=1 열"
      ],
      "metadata": {
        "id": "BteqNMOOsJqG"
      },
      "execution_count": null,
      "outputs": []
    },
    {
      "cell_type": "markdown",
      "source": [
        "- dropna(`axis=0, how='all'`) :  데이터프레임에서 모든 값이 결측치(NaN)인 행(row)을 제거하는 코드\n",
        "- dropna(how='any')이면 하나라도 결측치가 있는 행을 제거)"
      ],
      "metadata": {
        "id": "_FBetW47uOu4"
      }
    },
    {
      "cell_type": "code",
      "source": [
        "# inplace=True : 원본 데이터프레임에 덮어씌움\n",
        "\n",
        "#df.dropna(axis=0, how='all', inplace=True)\n",
        "df"
      ],
      "metadata": {
        "id": "mnDvfop2Vqrl"
      },
      "execution_count": null,
      "outputs": []
    },
    {
      "cell_type": "markdown",
      "source": [
        "---\n",
        "# (참고) 문자열 처리"
      ],
      "metadata": {
        "id": "fb61XpzyI4V9"
      }
    },
    {
      "cell_type": "code",
      "source": [
        "#t = get_pages(138040, 1, 5)\n",
        "#t2 = get_pages('005930', 1, 5)"
      ],
      "metadata": {
        "id": "Wh4TfIaZxK5g"
      },
      "execution_count": null,
      "outputs": []
    },
    {
      "cell_type": "code",
      "source": [
        "type(t)\n",
        "t.info()\n",
        "t.shape\n",
        "t.describe()"
      ],
      "metadata": {
        "id": "wa06ttnmxKp-"
      },
      "execution_count": null,
      "outputs": []
    },
    {
      "cell_type": "markdown",
      "source": [
        "## apply 함수\n",
        "- 함수를 적용하기 위한 함수\n",
        "- 판다스 시리즈, 데이터프레임에 적용되지 않는 함수를 사용할 수 있게 한다."
      ],
      "metadata": {
        "id": "PHWVfDb8uecd"
      }
    },
    {
      "cell_type": "markdown",
      "source": [
        "## 문자열 찾기 (필터링)"
      ],
      "metadata": {
        "id": "LkK5DNYwK5Pl"
      }
    },
    {
      "cell_type": "markdown",
      "source": [
        "### 1) pandas 의 `str.contains()` 사용"
      ],
      "metadata": {
        "id": "u6WUdxxrL0xD"
      }
    },
    {
      "cell_type": "code",
      "source": [
        "t"
      ],
      "metadata": {
        "id": "YCoBNp3Ky6OY"
      },
      "execution_count": null,
      "outputs": []
    },
    {
      "cell_type": "code",
      "source": [
        "import pandas as pd\n",
        "\n",
        "# '제목' 열에 '자사주'라는 텍스트가 포함된 행들 필터링\n",
        "t['제목'].str.contains('자사주')\n",
        "\n",
        "t[ t['제목'].str.contains('자사주') ]"
      ],
      "metadata": {
        "id": "Zei8AeS6KrVt"
      },
      "execution_count": null,
      "outputs": []
    },
    {
      "cell_type": "code",
      "source": [],
      "metadata": {
        "id": "jHaHEMxe15N5"
      },
      "execution_count": null,
      "outputs": []
    },
    {
      "cell_type": "markdown",
      "source": [
        "### 2) 정규표현식 re 모듈 사용\n"
      ],
      "metadata": {
        "id": "WGWZVOdnLyHc"
      }
    },
    {
      "cell_type": "markdown",
      "source": [
        "re 모듈 예제"
      ],
      "metadata": {
        "id": "exUFaCo0OgXy"
      }
    },
    {
      "cell_type": "code",
      "source": [
        "import re\n",
        "x = '오늘은 나들이 하기 좋은 날'\n",
        "y = '오늘은 일하기 좋은 날'\n",
        "z = ['오늘은 나들이 하기 좋은 날', '오늘은 일하기 좋은 날']"
      ],
      "metadata": {
        "id": "6I6PdsibMZBM"
      },
      "execution_count": null,
      "outputs": []
    },
    {
      "cell_type": "markdown",
      "source": [
        "- re.search() 함수 적용\n",
        "    - (찾을 문자열, 대상 변수)"
      ],
      "metadata": {
        "id": "G6g6jTOt0Je7"
      }
    },
    {
      "cell_type": "code",
      "source": [
        "re.search('오늘', x)"
      ],
      "metadata": {
        "id": "RmNEMM6OMhx7"
      },
      "execution_count": null,
      "outputs": []
    },
    {
      "cell_type": "code",
      "source": [
        "re.search('좋은', x)"
      ],
      "metadata": {
        "id": "PaNrG7Tf0JeO"
      },
      "execution_count": null,
      "outputs": []
    },
    {
      "cell_type": "code",
      "source": [
        "re.search('좋은', z)"
      ],
      "metadata": {
        "id": "TGUqVG9YMvJv"
      },
      "execution_count": null,
      "outputs": []
    },
    {
      "cell_type": "code",
      "source": [
        "for i in z:\n",
        "    print(re.search('좋은', i))"
      ],
      "metadata": {
        "id": "zEfbgnO_0eDq"
      },
      "execution_count": null,
      "outputs": []
    },
    {
      "cell_type": "markdown",
      "source": [
        "- 위에서 스크래핑한 결과에 적용해보자.\n",
        "    - '제목' 열에 특정한 키워드가 있는지 탐색"
      ],
      "metadata": {
        "id": "sEXQAKlP0SpD"
      }
    },
    {
      "cell_type": "code",
      "source": [
        "import re\n",
        "\n",
        "# '제목' 열에 '자사주'라는 텍스트가 포함된 행들 필터링하는\n",
        "# 사용자정의 함수 생성 - re.search() 적용\n",
        "def 키워드찾기(text):\n",
        "    return re.search('자사주', text) is not None\n",
        "\n",
        "# 'apply()' 메소드를 사용하여 각 행에 대해 만든 함수 적용\n",
        "필터링 = t[ t['제목'].apply(키워드찾기)  ]\n",
        "\n",
        "# 해당되는 행 개수 출력\n",
        "필터링.shape\n",
        "\n",
        "# 결과 출력\n",
        "print(필터링)"
      ],
      "metadata": {
        "id": "R55uElUUK_as"
      },
      "execution_count": null,
      "outputs": []
    },
    {
      "cell_type": "markdown",
      "source": [
        "### 3) lambda 함수 적용\n",
        "- 2번과 같이 사용자정의 함수를 만들지 않고 간략한 코드를 작성 가능\n",
        "- apply() 에 적용"
      ],
      "metadata": {
        "id": "KuOc74LNNlh1"
      }
    },
    {
      "cell_type": "code",
      "source": [
        "def 키워드찾기(text):\n",
        "    return re.search('자사주', text) is not None\n",
        "\n",
        "키워드찾기(text): re.search('자사주', text) is not None"
      ],
      "metadata": {
        "id": "Iio2MakA2PzD"
      },
      "execution_count": null,
      "outputs": []
    },
    {
      "cell_type": "code",
      "source": [
        "# '제목' 열에 '자사주'라는 텍스트가 포함된 행들 필터링\n",
        "filtered_df = t[t['제목'].apply(lambda text: re.search('자사주', text) is not None)]\n",
        "\n",
        "# 결과 출력\n",
        "print(filtered_df)\n",
        "\n",
        "# 총 개수 출력\n",
        "print(\"총 개수:\", filtered_df.shape[0])"
      ],
      "metadata": {
        "id": "nd7yJ_uYM-bZ"
      },
      "execution_count": null,
      "outputs": []
    },
    {
      "cell_type": "markdown",
      "source": [
        "## 문자열 대체"
      ],
      "metadata": {
        "id": "XwBMuSDwOoat"
      }
    },
    {
      "cell_type": "markdown",
      "source": [
        "### 1) `replace()` 함수 사용\n",
        "\n",
        "- 문자열에서 특정 부분을 정규표현식을 사용하지 않고 다른 문자열로 대체하는 직관적인 방법"
      ],
      "metadata": {
        "id": "MQEruqLHO8Hg"
      }
    },
    {
      "cell_type": "code",
      "source": [
        "x = '종로구 삼청동'\n",
        "x.replace('종로구', '서울시 종로구')"
      ],
      "metadata": {
        "id": "ijF_UMLk2xsp"
      },
      "execution_count": null,
      "outputs": []
    },
    {
      "cell_type": "code",
      "source": [
        "y = ['종로구 삼청동', '금융연수원']\n",
        "y.replace('종로구', '서울시 종로구')"
      ],
      "metadata": {
        "id": "XZJAltyk2_p9"
      },
      "execution_count": null,
      "outputs": []
    },
    {
      "cell_type": "code",
      "source": [
        "import pandas as pd\n",
        "\n",
        "# 예시 데이터프레임\n",
        "data = {\n",
        "    'Text': ['hello world 1234', 'python programming 0123', 'replace function 112233']\n",
        "}\n",
        "df = pd.DataFrame(data)\n",
        "df"
      ],
      "metadata": {
        "id": "mYbyhPCaOCfJ"
      },
      "execution_count": null,
      "outputs": []
    },
    {
      "cell_type": "code",
      "source": [
        "# 'hello'를 'hi'로 대체\n",
        "df['Text'] = df['Text'].str.replace('hello', 'hi')\n",
        "\n",
        "# 결과 출력\n",
        "print(df)"
      ],
      "metadata": {
        "id": "tWDHuSGC3QPu"
      },
      "execution_count": null,
      "outputs": []
    },
    {
      "cell_type": "code",
      "source": [
        "# 동시에 2개 이상도 가능\n",
        "df.Text = df.Text.str.replace('hello', 'hi').str.replace('1234', '9')\n",
        "print(df)"
      ],
      "metadata": {
        "id": "9fGyM2NYdmqz"
      },
      "execution_count": null,
      "outputs": []
    },
    {
      "cell_type": "code",
      "source": [
        "#데이터프레임에 replace 적용시 .str. 까지 함께 해야 한다"
      ],
      "metadata": {
        "id": "s_cGI7XJeBkK"
      },
      "execution_count": null,
      "outputs": []
    },
    {
      "cell_type": "markdown",
      "source": [
        "- lambda 함수 적용"
      ],
      "metadata": {
        "id": "p7bJex1UelH2"
      }
    },
    {
      "cell_type": "code",
      "source": [
        "# lambda 함수 적용\n",
        "df.Text = df.Text.apply(lambda x: x.replace('hello', 'hi').replace('replace','대치'))\n",
        "print(df)"
      ],
      "metadata": {
        "id": "53iCghAUediB"
      },
      "execution_count": null,
      "outputs": []
    },
    {
      "cell_type": "markdown",
      "source": [
        "### 2) `re.sub()` re모듈의 sub함수 사용"
      ],
      "metadata": {
        "id": "CLdpsGLJO8Vz"
      }
    },
    {
      "cell_type": "code",
      "source": [
        "import re\n",
        "import pandas as pd\n",
        "\n",
        "# 예시 데이터프레임\n",
        "data = {\n",
        "    'Text': ['hello world 1234', 'p y t h o n  programming 0123', 're    place function']\n",
        "}\n",
        "df = pd.DataFrame(data)"
      ],
      "metadata": {
        "id": "ig7HnLUmO8il"
      },
      "execution_count": null,
      "outputs": []
    },
    {
      "cell_type": "code",
      "source": [
        "# 'hello'를 'hi'로 대체\n",
        "df['Text'] = df['Text'].apply(lambda x: re.sub('hello', 'hi', x))\n",
        "\n",
        "# 결과 출력\n",
        "print(df)"
      ],
      "metadata": {
        "id": "ctD-hl3eeyzS"
      },
      "execution_count": null,
      "outputs": []
    },
    {
      "cell_type": "markdown",
      "source": [
        "- 모든 숫자 제거"
      ],
      "metadata": {
        "id": "RXquZbyme2V2"
      }
    },
    {
      "cell_type": "code",
      "source": [
        "import re\n",
        "import pandas as pd\n",
        "\n",
        "# 예시 데이터프레임\n",
        "data = {\n",
        "    'Text': ['hello 123 a 4', '123', 'function']\n",
        "}\n",
        "df = pd.DataFrame(data)"
      ],
      "metadata": {
        "id": "Txzmix57e6q3"
      },
      "execution_count": null,
      "outputs": []
    },
    {
      "cell_type": "code",
      "source": [
        "# 문자 빈 문자열로 대체\n",
        "df['Text'] = df['Text'].apply(lambda x: re.sub('\\D', '', x))\n",
        "\n",
        "# 결과 출력\n",
        "print(df)"
      ],
      "metadata": {
        "id": "wc-olHbs48V-"
      },
      "execution_count": null,
      "outputs": []
    },
    {
      "cell_type": "code",
      "source": [
        "# 모든 숫자를 빈 문자열로 대체\n",
        "df['Text'] = df['Text'].apply(lambda x: re.sub('\\d+', '', x))\n",
        "\n",
        "# 결과 출력\n",
        "print(df)"
      ],
      "metadata": {
        "id": "BfuCvBace0nj"
      },
      "execution_count": null,
      "outputs": []
    },
    {
      "cell_type": "markdown",
      "source": [
        "- 공백 제거\n",
        "    - '\\s+' 연속된 공백을 의미한다"
      ],
      "metadata": {
        "id": "M13wQpVbfG12"
      }
    },
    {
      "cell_type": "code",
      "source": [
        "import re\n",
        "import pandas as pd\n",
        "\n",
        "# 예시 데이터프레임\n",
        "data = {\n",
        "    'Text': ['hello world       1234', 'p y t h o n  programming 0123', 're    place function']\n",
        "}\n",
        "df = pd.DataFrame(data)"
      ],
      "metadata": {
        "id": "iQNUpRGhe7L7"
      },
      "execution_count": null,
      "outputs": []
    },
    {
      "cell_type": "code",
      "source": [
        "# 연속된 공백을 하나의 공백으로 대체\n",
        "df['Text'] = df['Text'].apply(lambda x: re.sub('\\s+', ' ', x))\n",
        "\n",
        "# 결과 출력\n",
        "print(df)"
      ],
      "metadata": {
        "id": "l1IHUXoSfOFq"
      },
      "execution_count": null,
      "outputs": []
    },
    {
      "cell_type": "code",
      "source": [
        "# 모든 공백을 제거\n",
        "df['Text'] = df['Text'].apply(lambda x: re.sub('\\s', '', x))\n",
        "\n",
        "# 결과 출력\n",
        "print(df)"
      ],
      "metadata": {
        "id": "sSlTWBsdfaER"
      },
      "execution_count": null,
      "outputs": []
    },
    {
      "cell_type": "markdown",
      "source": [
        "- 특정 단어 대체 - re.sub()  \n",
        "\n",
        "- `flags=re.IGNORECASE` : 알파벳의 경우 대소문자 구분하므로 구분하지 않는 옵션"
      ],
      "metadata": {
        "id": "RXKdvmvjflCP"
      }
    },
    {
      "cell_type": "code",
      "source": [
        "import re\n",
        "import pandas as pd\n",
        "\n",
        "# 예시 데이터프레임\n",
        "data = {\n",
        "    'Text': ['HELLO world', 'PYthon 프로그래밍 123']\n",
        "}\n",
        "df = pd.DataFrame(data)"
      ],
      "metadata": {
        "id": "xt5tv2XqfXIl"
      },
      "execution_count": null,
      "outputs": []
    },
    {
      "cell_type": "code",
      "source": [
        "# HELLO를 hi로 대체\n",
        "df['Text'] = df['Text'].apply(lambda x: re.sub('hello', 'hi', x))\n",
        "\n",
        "# 결과 출력\n",
        "print(df)"
      ],
      "metadata": {
        "id": "7NdEGQWNgDJV"
      },
      "execution_count": null,
      "outputs": []
    },
    {
      "cell_type": "code",
      "source": [
        "# HELLO를 hi로 대체\n",
        "df['Text'] = df['Text'].apply(lambda x: re.sub('HELLO', 'hi', x))\n",
        "#df['Text'] = df['Text'].apply(lambda x: re.sub('hello', 'hi', x))\n",
        "\n",
        "# 결과 출력\n",
        "print(df)"
      ],
      "metadata": {
        "id": "WRYRnO0qfuYa"
      },
      "execution_count": null,
      "outputs": []
    },
    {
      "cell_type": "code",
      "source": [
        "# HELLO를 hi로 대체\n",
        "df['Text'] = df['Text'].apply(lambda x: re.sub('hello', 'hi', x, flags=re.IGNORECASE))\n",
        "\n",
        "# 결과 출력\n",
        "print(df)"
      ],
      "metadata": {
        "id": "hBZm-qg7fzNk"
      },
      "execution_count": null,
      "outputs": []
    },
    {
      "cell_type": "markdown",
      "source": [
        "- re.sub() 2개 이상 적용\n"
      ],
      "metadata": {
        "id": "bv5glMv1g2Cq"
      }
    },
    {
      "cell_type": "code",
      "source": [
        "# re.sub() 2개 이상 적용\n",
        "\n",
        "df['Text'] = df['Text'].apply(lambda x: re.sub('hello', 'hi', re.sub('python', '파이썬', x, flags=re.IGNORECASE)))\n",
        "print(df)"
      ],
      "metadata": {
        "id": "USoIIjkggCCL"
      },
      "execution_count": null,
      "outputs": []
    },
    {
      "cell_type": "markdown",
      "source": [
        "## 문자열 처리 적용\n",
        "- 위에서 스크래핑한 결과에 몇가지 방법을 적용할 수 있다.\n",
        "- 제목 열의 경우, 게스길에 댓글이 달린 경우 '[댓글수]' 과 같이 되어있다."
      ],
      "metadata": {
        "id": "g_s1n74Dx47D"
      }
    },
    {
      "cell_type": "code",
      "source": [
        "#t2 = t"
      ],
      "metadata": {
        "id": "9xHTNFnZ-e4h"
      },
      "execution_count": null,
      "outputs": []
    },
    {
      "cell_type": "code",
      "source": [
        "# 기존 변수를 복사해둔다.\n",
        "t2 = t.copy()\n",
        "t2"
      ],
      "metadata": {
        "id": "btwJ41HNyA4t"
      },
      "execution_count": null,
      "outputs": []
    },
    {
      "cell_type": "markdown",
      "source": [
        "- 정규표현식을 적용하여, 제목 열에 대해 가장 마지막의 [숫자] 제거"
      ],
      "metadata": {
        "id": "RuQC_E_myYgX"
      }
    },
    {
      "cell_type": "code",
      "source": [
        "# 방법 1 - 사용자정의함수 적용\n",
        "\n",
        "import re\n",
        "\n",
        "# 사용자정의 함수 생성\n",
        "# [1] [2] 같은 댓글 개수 나타내는 문자열 제거\n",
        "def remove(text):\n",
        "    return re.sub(r'\\[\\d+\\]$', '', text)\n",
        "\n",
        "# '제목' 열에 대해 함수 적용 - apply() 사용\n",
        "t2['제목'] = t2['제목'].apply(remove)\n",
        "\n",
        "# 결과 출력\n",
        "t2"
      ],
      "metadata": {
        "id": "GN_pQKtMhMtL"
      },
      "execution_count": null,
      "outputs": []
    },
    {
      "cell_type": "markdown",
      "source": [
        "- apply 와 lambda, re.sub() 를 적용하여 제거 제목 열의 가장 마지막의 [숫자] 제거"
      ],
      "metadata": {
        "id": "PJAawFhNzrMe"
      }
    },
    {
      "cell_type": "code",
      "source": [
        "# 방법 2 - lambda 사용\n",
        "t3 = t.copy()\n",
        "\n",
        "t3['제목'] = t3['제목'].apply(lambda x: re.sub(r'\\[\\d+\\]$', '', x))\n",
        "t3"
      ],
      "metadata": {
        "id": "HUftbkz2zVg5"
      },
      "execution_count": null,
      "outputs": []
    }
  ]
}
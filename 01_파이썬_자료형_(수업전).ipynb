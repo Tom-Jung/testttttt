{
  "cells": [
    {
      "cell_type": "markdown",
      "metadata": {
        "id": "view-in-github",
        "colab_type": "text"
      },
      "source": [
        "<a href=\"https://colab.research.google.com/github/Tom-Jung/testttttt/blob/main/01_%ED%8C%8C%EC%9D%B4%EC%8D%AC_%EC%9E%90%EB%A3%8C%ED%98%95_(%EC%88%98%EC%97%85%EC%A0%84).ipynb\" target=\"_parent\"><img src=\"https://colab.research.google.com/assets/colab-badge.svg\" alt=\"Open In Colab\"/></a>"
      ]
    },
    {
      "cell_type": "markdown",
      "source": [
        "# 파이썬 모듈/라이브러리/패키지/pip\n",
        "\n",
        "### 모듈 module\n",
        "- 파이썬 함수나 변수 등은 별도의 스크립트 파일로 저장하여 불러서 사용 가능하다.\n",
        "- 이런 스크립트 파일을 모듈이라 부른다\n",
        "\n",
        "설치한 모듈 가져오기 - 모듈 임포트 import\n",
        "- 미리 만들어진 모듈이 설치된 상태라면, 모듈 사용을 위해서는 불러와야 한다.\n",
        "- import 모듈이름으로 위에서 설치한 패키지/모듈/함수를 가져온다.\n",
        "- 모듈 안의 특정 구성요소(함수 등)를 사용할 때는 모듈이름 뒤에 점(.)을 찍은 후 호출한다.\n",
        "\n",
        "\n",
        "### 패키지 package\n",
        "- 패키지란, 추가적인 함수를 묶은 것으로 하나의 디렉토리에 있는 모듈의 집합.\n",
        "- 여러 사람들이 미리 만들어 놓은 라이브러리를 간단한 설치로 손쉽게 사용가능하다.\n",
        "- pip 프로그램을 이용해서 설치한다.\n",
        "\n",
        "\n",
        "### pip\n",
        "- 파이썬의 패키지 관리 소프트웨어\n",
        "- 표준 라이브러리에 포함되지 않은 외부 라이브러리를 설치하는 도구\n",
        "- 윈도우 명령 프롬프트를 이용하여 명령어를 입력한다.\n",
        "- '!pip install 패키지이름' 처럼 사용한다.\n",
        "    - 구글코랩에서는 느낌표가 없어도 되나, 붙이는 것을 권장\n",
        "    - vscode 에서는 ! 대신 %를 붙여야 한다.\n",
        "\n",
        "\n",
        "표준 라이브러리 standard library\n",
        "- 파이썬 설치 시 함께 제공하는 모듈\n",
        "- 다양한 문제를 해결하기 위해서는 이러한 표준 라이브러리의 기본적인 기능뿐만 아니라 여러 프로그래머와 기관에서 만들어 놓은 라이브러리 활용하는 것이 필요함\n",
        "- [파이썬 표준라이브러리](https://docs.python.org/ko/3/library/index.html)\n",
        "\n",
        "\n"
      ],
      "metadata": {
        "id": "3Zk-e4YlN2M2"
      }
    },
    {
      "cell_type": "markdown",
      "source": [
        "## 변수 variable\n",
        "\n",
        "- 변수 = 데이터를 저장하는 공간 (상자)\n",
        "- 저장한 데이터를 꺼내려면 변수의 이름으로 호출해야한다.\n",
        "- 변수에 저장된 값은 수시로(우리가 원하는 만큼) 변경 가능\n",
        "    - 수 : 특정한 수치값이라는 의미가 아닌, **데이터**로 이해하는 것이 좋다.\n",
        "\n",
        "- 변수의 이름 = 식별자\n",
        "- 변수의 이름은 프로그래머가 마음대로 지을 수 있다.\n",
        "- 사람의 이름으로 사람을 구별하듯, 변수의 이름은 변수들을 구별하는 역할을 한다.\n",
        "\n",
        "- 어린이날 = 505\n",
        "    - 505는 어린이날이라는 변수와 같다.\n",
        "    - 505는 어린이날이라는 변수에게 할당되었다.\n",
        "- 나 = '홍길동'\n",
        "    - '홍길동'은 나 와 같다.\n",
        "    - '홍길동'은 나 에게 할당되었다.\n",
        "   \n",
        "- = 기호의 의미\n",
        "    -  = : 파이썬에서는 = 기호를 할당연산자, 또는 대입연산자라고 부른다.\n",
        "    - 같다’ 라는 등호의 의미가 아님(양쪽 값을 비교할때는 == 를사용)\n",
        "    -  `오른쪽의 값`을 `왼쪽 변수`에 저장하라는 의미"
      ],
      "metadata": {
        "id": "OOou99rTN_kl"
      }
    },
    {
      "cell_type": "code",
      "execution_count": null,
      "metadata": {
        "id": "lf2GR8b5f0E9"
      },
      "outputs": [],
      "source": []
    },
    {
      "cell_type": "code",
      "execution_count": null,
      "metadata": {
        "id": "ZKRiI5BBPX_B"
      },
      "outputs": [],
      "source": []
    },
    {
      "cell_type": "markdown",
      "metadata": {
        "id": "EHMhmGAiPbGa",
        "outputId": "c6948c64-1cc6-47e9-d1b6-b3f753bf48c1"
      },
      "source": [
        "코딩을 하다보면 여러가지 오류를 마주할 수 있다.\n",
        "- SyntaxError 발생: 10진법 숫자에는 0이 올 수 없다는 뜻으로, 파이썬에서는 2진법, 8진법, 16진법에서만 숫자 앞에 0이 올 수 있다."
      ]
    },
    {
      "cell_type": "code",
      "execution_count": null,
      "metadata": {
        "id": "pvIdcAFIVa9d"
      },
      "outputs": [],
      "source": []
    },
    {
      "cell_type": "code",
      "execution_count": null,
      "metadata": {
        "id": "F1Jmx0y0f0E9"
      },
      "outputs": [],
      "source": []
    },
    {
      "cell_type": "code",
      "source": [],
      "metadata": {
        "id": "YF3FoTL2OREL"
      },
      "execution_count": null,
      "outputs": []
    },
    {
      "cell_type": "markdown",
      "metadata": {
        "id": "XHLIy4yff0E_"
      },
      "source": [
        "## print 함수\n",
        "\n",
        "- 원하는 변수의 값을 출력한다.\n",
        "- 각 변수나 값들은 공백으로 띄워져서 한 줄로 출력된다.\n",
        "- 변수 값을 코드의 마지막 줄에 위치\n",
        "- 여러 개의 변수가 한 셀에 위치할 경우 가장 마지막 변수 결과만 출력된다.\n",
        "- 따라서 여러 개의 변수 결과를 한 셀에서 모두 보고 싶을 경우, print()를 사용한다.\n",
        "- 변수 여러 개를 콤마(,)로 구분하여 넣을 수 있다."
      ]
    },
    {
      "cell_type": "code",
      "execution_count": null,
      "metadata": {
        "id": "VKLT9_-3RxwM"
      },
      "outputs": [],
      "source": [
        "a = 10\n",
        "b = 4 * 5\n",
        "c = 900"
      ]
    },
    {
      "cell_type": "code",
      "execution_count": null,
      "metadata": {
        "id": "IjQ8SIjGVa9e"
      },
      "outputs": [],
      "source": [
        "# 여러 개의 출력결과\n"
      ]
    },
    {
      "cell_type": "code",
      "execution_count": null,
      "metadata": {
        "id": "FplHZQvrf0E_"
      },
      "outputs": [],
      "source": [
        "x = \"Hello\"\n",
        "y = '안녕'"
      ]
    },
    {
      "cell_type": "code",
      "execution_count": null,
      "metadata": {
        "id": "09SCh0Opf0E_"
      },
      "outputs": [],
      "source": [
        "print(\"Hello\")\n",
        "print(x)"
      ]
    },
    {
      "cell_type": "code",
      "execution_count": null,
      "metadata": {
        "id": "1U3tBPH-f0E_"
      },
      "outputs": [],
      "source": [
        "a = 10\n",
        "b = 4 * 5\n",
        "c = 900\n",
        "print(a, b, c, b, a)"
      ]
    },
    {
      "cell_type": "code",
      "execution_count": null,
      "metadata": {
        "id": "rfseNK6OVa9e"
      },
      "outputs": [],
      "source": [
        "# 구분자 seperator 적용 가능\n"
      ]
    },
    {
      "cell_type": "code",
      "execution_count": null,
      "metadata": {
        "id": "8zb6KHbpVa9e"
      },
      "outputs": [],
      "source": [
        "#백슬래쉬+n 은 줄바꿈기호(enter) 를 의미\n"
      ]
    },
    {
      "cell_type": "code",
      "source": [
        "#백슬래쉬+t 는 탭을 의미\n"
      ],
      "metadata": {
        "id": "C5hE8TdHb3rk"
      },
      "execution_count": null,
      "outputs": []
    },
    {
      "cell_type": "markdown",
      "metadata": {
        "id": "Dio52QsJVa9d"
      },
      "source": [
        "### 변수이름 (변수명) 규칙\n",
        "- 알파벳, 한글, 한자, 일부 특수문자 가능\n",
        "- 알파벳 대소문자는 구분\n",
        "- 숫자를 쓸 수 있지만 변수명 첫 글자에는 쓸 수 없다.\n",
        "- 띄어쓰기는 불가능하나, 띄어쓰기 대신 언더바(_)사용\n",
        "- 특수문자 중에는 언더바(_) 를 사용할 수 있다.\n",
        "    - 언더바 (`_`)는 변수 이름이 길어질 때 주로 공백을 대신 해서 사용한다.\n",
        "    - 하이픈(-) 을 사용할 수 없다.\n",
        "- 빈칸과 특수 문자(+, -, *, /, $, @, &, % 등) 사용할 수 없음\n",
        "\n",
        "- 다른 사람이 봐도 이해하기 쉬운 변수이름을 짓는 것이 권장된다.\n",
        "- 프로그래밍을 하는 그 순간에는 변수의 역할을 가장 잘 알지만,\n",
        "- 일주일 뒤, 한달 뒤 코드를 다시 본다면? 어떤 역할을 하는 변수인지 한참을 다시 생각해야 하는 단점이 있다.\n",
        "```python\n",
        "a = [40, 45, 50, 55, 60, 65]    # 이해어려움\n",
        "age = [40, 45, 50, 55, 60, 65]    # 나이\n",
        "```"
      ]
    },
    {
      "cell_type": "code",
      "execution_count": null,
      "metadata": {
        "id": "WhDEWL7BVa9d"
      },
      "outputs": [],
      "source": [
        "사과 = 1234"
      ]
    },
    {
      "cell_type": "code",
      "source": [],
      "metadata": {
        "id": "kRcBQatZcOM_"
      },
      "execution_count": null,
      "outputs": []
    },
    {
      "cell_type": "code",
      "source": [],
      "metadata": {
        "id": "HUgXN6uxcH3y"
      },
      "execution_count": null,
      "outputs": []
    },
    {
      "cell_type": "code",
      "execution_count": null,
      "metadata": {
        "id": "OnA_Ixd8Va9d"
      },
      "outputs": [],
      "source": [
        "# 변수명 - apple, Apple, APPLE\n",
        "apple = 10\n",
        "Apple = 123\n",
        "APPLE = 1024\n",
        "print(apple, Apple, APPLE)"
      ]
    },
    {
      "cell_type": "code",
      "execution_count": null,
      "metadata": {
        "id": "4YvyhlhGVa9d"
      },
      "outputs": [],
      "source": [
        "# 첫 글자가 숫자인 변수명은 불가능\n",
        "123abc = 12345  #SyntaxError: invalid decimal literal\n",
        "abc123 = 12345\n",
        "abc123"
      ]
    },
    {
      "cell_type": "markdown",
      "metadata": {
        "id": "ccns9vwFVa9d"
      },
      "source": [
        "### 사용할 수 없는 변수명\n",
        "- 변수명: 파이썬이 내부적으로 사용하는 **예약어**는 변수이름으로 사용할 수 없다.\n",
        "- False, True, class, return, is, finally, if, for, lambda, continue, and, yield 등..\n",
        "- 이를 예약어라고 한다.\n",
        "- **예약어Reserved Words** 파이썬에서 이미 문법적인 용도로 사용되는 단어\n"
      ]
    },
    {
      "cell_type": "code",
      "execution_count": null,
      "metadata": {
        "id": "DuihCC6kVa9d"
      },
      "outputs": [],
      "source": [
        "# 예약어 모음을 확인하기 위해 외장함수 호출\n",
        "import keyword\n",
        "print(len(keyword.kwlist))\n",
        "print('===============')\n",
        "print(keyword.kwlist)"
      ]
    },
    {
      "cell_type": "code",
      "execution_count": null,
      "metadata": {
        "id": "BbH0rUVSVa9d"
      },
      "outputs": [],
      "source": [
        "# 참, 거짓에 해당하는 변수명 주의\n"
      ]
    },
    {
      "cell_type": "markdown",
      "metadata": {
        "id": "_c_T6panVa9d"
      },
      "source": [
        "### 변수 삭제/제거\n",
        "- 변수를 삭제하고 싶을때는, `del` 내장 함수를 사용한다."
      ]
    },
    {
      "cell_type": "code",
      "execution_count": null,
      "metadata": {
        "id": "DKXur2ujVa9d"
      },
      "outputs": [],
      "source": [
        "a = 1  # a는 1이라고 지정한 후,\n",
        "del a  # del 함수를 사용해 지워본다"
      ]
    },
    {
      "cell_type": "code",
      "execution_count": null,
      "metadata": {
        "id": "HSc6oyKyVa9d"
      },
      "outputs": [],
      "source": [
        "print(a)\n",
        "# 파이썬이 `a` 를 찾지 못했다고 NameError를 띄운다."
      ]
    },
    {
      "cell_type": "markdown",
      "metadata": {
        "id": "oxvB-sXVf0FB"
      },
      "source": [
        "## 수식과 연산자\n",
        "- 수학의 수식(mathematical expression)은 수학적 표기법과 기호를 이용하여 수학적 개념을 표현하는 것.\n",
        "- 수식을 통해 우리는 수식 내의 기호들이 표현하는 수학적 대상들의 관계 파악 가능\n",
        "\n",
        "- 프로그래밍에서의 수식 (expression) 은 수학적 관계가 아니라 하나의 값으로 평가(evaluation) 될 수 있는 표현을 의미한다.\n",
        "- 5*5+2 이라는 표현은 27이라는 값으로 평가될 수 있는 수식이다."
      ]
    },
    {
      "cell_type": "code",
      "execution_count": null,
      "metadata": {
        "id": "edXiRROGf0FC"
      },
      "outputs": [],
      "source": [
        "# 연산자와 피연산자 사이에 공백을 두는 것이 파이썬의 코딩 관습\n",
        "# 공백이 없어도 결과는 같음\n"
      ]
    },
    {
      "cell_type": "code",
      "source": [],
      "metadata": {
        "id": "BCyB9HWQccL6"
      },
      "execution_count": null,
      "outputs": []
    },
    {
      "cell_type": "code",
      "source": [],
      "metadata": {
        "id": "m2wIN69HWjlH"
      },
      "execution_count": null,
      "outputs": []
    },
    {
      "cell_type": "markdown",
      "metadata": {
        "id": "fGdsFTMEVa9f"
      },
      "source": [
        "### 대입 연산자 =\n",
        "- 오른쪽의 수식이나 값을 계산한 뒤, 왼쪽에 명시된 변수에 해당 값을 대입한다.\n",
        "- assignment operator, - 대입연산자라고도 부름\n",
        "- 같다라는 의미가 아닌, 변수에 값을 저장하는 연산자\n",
        "- 왼쪽은 값을 저장할 수 있는 변수\n",
        "- 오른쪽은 값을 표현하는 숫자, 변수 또는 수식\n",
        "\n",
        "### 산술 연산자\n",
        "- 사칙연산 및 기타\n",
        "- 나눗셈연산시 주의점 : / 는 항상 실수로 계산한다.\n",
        "- 나눗셈의 몫의 정수로 계산하고 싶은 경우, //를 사용한다.\n",
        "\n",
        "| 산술연산자 |  기능  |\n",
        "|:----------:|:------:|\n",
        "|     A + B    | 더하기 |\n",
        "|     A - B    |  빼기  |\n",
        "|     A * B    | 곱하기 |\n",
        "|     A / B    | 나누기 |\n",
        "|     A % B    | 나머지 |\n",
        "|    A ** B    |  제곱  |\n",
        "|    A // B    |   몫   |\n",
        "|   divmod(A,B)   | (몫, 나머지) |\n",
        "\n",
        "\n",
        "\n",
        "### 다중할당문\n",
        "- 여러 개의 변수에 동일한 값을 할당\n",
        "\n",
        "### 동시할당문\n",
        "- 여러 변수에 한꺼번에 여러 값을 할당\n",
        "\n",
        "\n",
        "### 복합 할당 연산자 (산술&할당)\n",
        "- 코드를 조금 더 간결하게 만들어 주는 역할을 한다.\n",
        "- 특정 산술연산자를 @ 라고 하면,복합할당연산자는 @= 과 같은 모양을 나타낸다.\n",
        "\n",
        "| 할당연산자 |                        기능                        |\n",
        "|:----------:|:--------------------------------------------------:|\n",
        "|     A = B    |             왼쪽 값에 오른쪽 값을 할당             |\n",
        "|    A += B    |       왼쪽 값을 오른쪽에 더한 후, 왼쪽에 할당      |\n",
        "|    A -= B    |        왼쪽 값을 오른쪽에 뺀 후, 왼쪽에 할당       |\n",
        "|    A *= B    |       왼쪽 값을 오른쪽에 곱한 후, 왼쪽에 할당      |\n",
        "|    A /= B    |       왼쪽 값을 오른쪽에 나눈 후, 왼쪽에 할당      |\n",
        "|    A %= B    | 왼쪽 값을 오른쪽에 나눈 후, 나머지값을 왼쪽에 할당 |\n",
        "\n",
        "\n",
        "### 비교 연산자\n",
        "- 크다 혹은 작다와 같은 비교연산\n",
        "- 결과는 bool 자료형 True, False 로 나타난다.\n",
        "- 수치데이터 두개의 피연산자를 대상으로 크기 관계를 확인한다.\n",
        "\n",
        "| 비교연산자 |              기능             |\n",
        "|:----------:|:-----------------------------:|\n",
        "|    A == B    |              같음             |\n",
        "|    A != B    |           같지 않음           |\n",
        "|     A > B    |      왼쪽이 오른쪽보다 큼     |\n",
        "|     A < B    |      오른쪽이 왼쪽보다 큼     |\n",
        "|    A >= B    | 왼쪽이 오른쪽보다 크거나 같음 |\n",
        "|    A <= B    | 오른쪽이 왼쪽보다 크거나 같음 |\n"
      ]
    },
    {
      "cell_type": "code",
      "source": [
        "# 동시 할당문 : 한줄에 여러 개의 변수를 선언하고 동시에 할당\n",
        "근로자의날, 어린이날, 한글날 = 501, 505, 1009\n",
        "print(근로자의날, 어린이날, 한글날, sep='\\n')"
      ],
      "metadata": {
        "id": "6x4dhL3MOeLl"
      },
      "execution_count": null,
      "outputs": []
    },
    {
      "cell_type": "code",
      "source": [
        "# 200 + 100 연산을 수행하고, 그 결과를 num 변수에 할당\n",
        "num = 200   ## 100을 더해서 num 변수에 저장\n",
        "num = num + 100\n",
        "num"
      ],
      "metadata": {
        "id": "inJDMY82Ok_4"
      },
      "execution_count": null,
      "outputs": []
    },
    {
      "cell_type": "code",
      "source": [
        "num = 200\n",
        "num += 100\n",
        "num"
      ],
      "metadata": {
        "id": "ZQ_Ij0zrOk9D"
      },
      "execution_count": null,
      "outputs": []
    },
    {
      "cell_type": "code",
      "execution_count": null,
      "metadata": {
        "id": "wz2R3-7WVa9f"
      },
      "outputs": [],
      "source": [
        "a, b, c = 1, 5, 9"
      ]
    },
    {
      "cell_type": "code",
      "execution_count": null,
      "metadata": {
        "id": "zktlsapRVa9f"
      },
      "outputs": [],
      "source": []
    },
    {
      "cell_type": "code",
      "source": [],
      "metadata": {
        "id": "PAElf3M5WoIL"
      },
      "execution_count": null,
      "outputs": []
    },
    {
      "cell_type": "code",
      "source": [],
      "metadata": {
        "id": "eOBkyRIiWoAG"
      },
      "execution_count": null,
      "outputs": []
    },
    {
      "cell_type": "markdown",
      "metadata": {
        "id": "1FIhzuNcVa9f"
      },
      "source": [
        "\n",
        "### 논리 연산자 (logical operator)\n",
        "- 불리안 값을 가진 데이터에 대해 적용할 수 있는 연산\n",
        "- AND, OR, NOR 연산을 수행하며, 불리안 자료형(True 혹은 False) 반환한다.\n",
        "- x and y : x와 y 중 false가 하나라도 있으면 F, 모두 True 인 경우만 True  \n",
        "- x or y : x나 y중에서 하나라도 T이면 T가 되며, 모두 F일때만 False.\n",
        "- x not y : x가 참이면 F, y가 거짓이면 True.\n",
        "\n",
        "\n",
        "| 논리연산자 |             기능             |\n",
        "|:----------:|:----------------------------:|\n",
        "|    A and B   |    양쪽이 모두 참이면 True   |\n",
        "|    A or B    | 양쪽 중 하나라도 참이면 True |\n",
        "|     not A   |     오른쪽이 False면 True    |"
      ]
    },
    {
      "cell_type": "code",
      "execution_count": null,
      "metadata": {
        "id": "llVFLEIOVa9f"
      },
      "outputs": [],
      "source": [
        "# 2는 4보다 작고 또는 7은 5보다 작은가?\n",
        "(2 < 4) or (7 < 5)"
      ]
    },
    {
      "cell_type": "code",
      "execution_count": null,
      "metadata": {
        "id": "XE1H74JYVa9f"
      },
      "outputs": [],
      "source": [
        "(2 < 4) and (7 < 5)"
      ]
    },
    {
      "cell_type": "code",
      "execution_count": null,
      "metadata": {
        "id": "BBPcclN3Va9f"
      },
      "outputs": [],
      "source": [
        "2 < 4 and 7 < 5"
      ]
    },
    {
      "cell_type": "markdown",
      "metadata": {
        "id": "KLdZsT5FVa9f"
      },
      "source": [
        "### 연산자간 우선순위\n",
        "\n",
        "> - 괄호가 있으면 먼저 계산하고 나머지는 우선순위대로 계산한다.\n",
        "> - 우선순위가 같다면 왼쪽 항부터 계산한다.\n",
        "\n",
        "| 우선순위 | 연산자 | 설명 |\n",
        "|:---:|:---:|:---:|\n",
        "| 1 | (값...), [값...], {키: 값...}, {값...} | 튜플, 리스트, 딕셔너리, 세트 생성 |\n",
        "| 2 | x[인덱스], x[인덱스:인덱스], x(인수...), x.속성 | 리스트(튜플)   첨자, 슬라이싱, 함수 호출, 속성 참조 |\n",
        "| 3 | await   x | await 표현식 |\n",
        "| 4 | ** | 거듭제곱 |\n",
        "| 5 | +x, -x, ~x | 단항 덧셈(양의 부호), 단항 뺄셈(음의 부호), 비트 NOT |\n",
        "| 6 | *, @, /, //, % | 곱셈, 행렬 곱셈, 나눗셈, 버림 나눗셈, 나머지 |\n",
        "| 7 | +, - | 덧셈, 뺄셈 |\n",
        "| 8 | <<, >> | 비트 시프트 |\n",
        "| 9 | & | 비트 AND |\n",
        "| 10 | ^ | 비트 XOR |\n",
        "| 11 | \\| | 비트 OR |\n",
        "| 12 | in, not   in, is, is not,   <, <=, >, >=, !=, == | 포함 연산자, 객체 비교 연산자, 비교 연산자 |\n",
        "| 13 | not   x | 논리   NOT |\n",
        "| 14 | and | 논리 AND |\n",
        "| 15 | or | 논리 OR |\n",
        "| 16 | if else | 조건부 표현식 |\n",
        "| 17 | lambda | 람다 표현식 |\n"
      ]
    },
    {
      "cell_type": "markdown",
      "metadata": {
        "id": "-d8NkdC8DIoZ"
      },
      "source": [
        "# 파이썬에서 다루는 데이터 유형\n",
        "\n",
        "#### 1. 숫자형 (Numeric Type)\n",
        "- 정수 (int; integer) : 소수점이 없는 양/음의 정수\n",
        "- 실수 (float) : 소수점이 붙은 실수\n",
        "- 복소수 (complex) : 실수와 허수의 합 (i, j)\n",
        "\n",
        "#### 2. 문자형 (Sequence Type)\n",
        "- 문자열 (str; strings) : 문자(character)의 나열이다. '' (따옴표) 사이에 값을 입력하고, 숫자이더라도 '3' 으로 사용하면 숫자가 아닌 문자형으로 인식한다.\n",
        "- 리스트 (list) : 가장 많이 사용되는 연속형 데이터 타입으로 []로 나타낸다. 원소들을 쉼표로 구분하고 대부분의 데이터를 다룰 수 있고 수정이 가능하다.\n",
        "- 튜플 (tuple) : 리스트와 유사하지만 ()를 사용하여 표현하고 생성 후에 변경이 불가능한 immutable 타입. 수정이 불가능하므로, 추후 수정시 사용할 여유메모리를 할당하지 않아도 되므로 대용량의 데이터를 처리할 때 성능에 장점이 있다.\n",
        "\n",
        "#### 3. 집합 (Set)\n",
        "- {} 를 사용하며, 리스트와 같이 ,를 사용하여 원소들을 구분한다. 단, 중복과 순서가 존재하지 않고 인덱스가 없으므로 인덱싱이 불가능하다.\n",
        "- 예) {1, 1, 2, 3} 이라는 집합의 길이는 3이다. 1이 중복되어있으므로 삭제된다.\n",
        "\n",
        "#### 4. 사전 (Dictionary)\n",
        "- 리스트와 더불어 가장 많이 사용되는 구조이다.\n",
        "- Key : Value 형식으로 저장된다.\n",
        "- {} 를 집합과 동일하게 사용하지만, key : value 가 하나의 원소이다.\n",
        "- key 값을 통해 value 값을 호출한다.\n",
        "- key 값 중복 불가능.\n",
        "- 예) {'점심' : '김밥', '저녁' : '라면'}\n",
        "\n",
        "#### 5. 불리언 (Boolean)\n",
        "- 참/거짓을 True/False, 1/0 형태로 나타낸다.\n",
        "\n",
        "#### 6. None\n",
        "- 일반적으로 초기 변수를 생성 (빈 변수) 시 사용한다.\n",
        "- 예) id = None"
      ]
    },
    {
      "cell_type": "markdown",
      "metadata": {
        "id": "z8Td8OMc3l6Y"
      },
      "source": [
        "## 변수의 자료형 확인: type()\n",
        "- 변수에 어떤 종류의 데이터도 저장가능하지만, 자료형에 항상 주의해야 한다.\n",
        "- 자료형에 따라 각종 연산의 의미가 달라진다.\n",
        "- 'type()' 명령어를 사용"
      ]
    },
    {
      "cell_type": "code",
      "execution_count": null,
      "metadata": {
        "id": "rlg8UdHL3k1F"
      },
      "outputs": [],
      "source": [
        "# 실수: float\n",
        "a = 3.14"
      ]
    },
    {
      "cell_type": "code",
      "execution_count": null,
      "metadata": {
        "id": "6fRV0eVdYqXB"
      },
      "outputs": [],
      "source": [
        "type(a)"
      ]
    },
    {
      "cell_type": "code",
      "execution_count": null,
      "metadata": {
        "id": "0c-APwp9AK3D"
      },
      "outputs": [],
      "source": [
        "# 정수 int\n",
        "b = 100\n",
        "type(b)"
      ]
    },
    {
      "cell_type": "code",
      "execution_count": null,
      "metadata": {
        "id": "FPn1XtRJOj9g"
      },
      "outputs": [],
      "source": [
        "# <class 'int'>\n",
        "print(b, type(b))"
      ]
    },
    {
      "cell_type": "markdown",
      "metadata": {
        "id": "QKayP7km8p5C"
      },
      "source": [
        "# 불리언 Booleen"
      ]
    },
    {
      "cell_type": "markdown",
      "metadata": {
        "id": "Y6NJru048p5C"
      },
      "source": [
        "컴퓨터가 무엇이 옳고 틀린지 판단하려면 무엇이 '참'인지 '거짓'인지를 의미하는 데이터가 필요하다.\n",
        "\n",
        "Boolean 자료형 : 참(True)과 거짓(False)을 나타내는 자료형\n",
        "\n",
        "파이썬에서는 ```True``` 로 참을 나타내고,``` False ```로 거짓을 나타낸다.\n",
        "\n",
        "Boolean은 줄여서 Bool이라고하며, 참과 거짓, 두가지 값만 가질 수 있다."
      ]
    },
    {
      "cell_type": "markdown",
      "metadata": {
        "id": "wdvqJs8p8p5C"
      },
      "source": [
        "### 1. Bool 생성"
      ]
    },
    {
      "cell_type": "markdown",
      "metadata": {
        "id": "ZwmXmkRJ8p5C"
      },
      "source": [
        "Bool 자료형은 다음과 같이 쓴다."
      ]
    },
    {
      "cell_type": "code",
      "execution_count": null,
      "metadata": {
        "id": "6IVy57SU8p5C"
      },
      "outputs": [],
      "source": [
        "#True, False의 첫글자는 대문자로 써야함\n",
        "a = True\n",
        "print(a, type(a))\n",
        "\n",
        "b = False\n",
        "print(b, type(b))"
      ]
    },
    {
      "cell_type": "code",
      "execution_count": null,
      "metadata": {
        "id": "H2G9-1wnJjNB"
      },
      "outputs": [],
      "source": [
        "#True , 1이라는 값에 해당\n",
        "#False, 0이라는 값에 해당\n",
        "# 역은 성립하지 않음\n"
      ]
    },
    {
      "cell_type": "code",
      "source": [],
      "metadata": {
        "id": "kbaJZP2vcx2s"
      },
      "execution_count": null,
      "outputs": []
    },
    {
      "cell_type": "code",
      "execution_count": null,
      "metadata": {
        "id": "BW0rKNEhJzaa"
      },
      "outputs": [],
      "source": []
    },
    {
      "cell_type": "markdown",
      "metadata": {
        "id": "JeD3VHR58p5D"
      },
      "source": [
        "Bool 자료형은 조건문의 리턴값으로도 사용된다.\n"
      ]
    },
    {
      "cell_type": "code",
      "execution_count": null,
      "metadata": {
        "id": "0jhLCeUv8p5D"
      },
      "outputs": [],
      "source": [
        "a, b, c = 10, 20, 20"
      ]
    },
    {
      "cell_type": "code",
      "execution_count": null,
      "metadata": {
        "id": "Ejnod2le8p5D"
      },
      "outputs": [],
      "source": []
    },
    {
      "cell_type": "code",
      "execution_count": null,
      "metadata": {
        "id": "ULdQI-xf8p5D"
      },
      "outputs": [],
      "source": []
    },
    {
      "cell_type": "markdown",
      "metadata": {
        "id": "HTCdRb2z8p5D"
      },
      "source": [
        "### 2. 참과 거짓\n",
        "- 불리언 자료형 또는 bool 자료형\n",
        "- 0이 아닌 숫자는 True\n",
        "- 비어있는 문자는 False"
      ]
    },
    {
      "cell_type": "code",
      "execution_count": null,
      "metadata": {
        "id": "ZOtLJlL84t0Q"
      },
      "outputs": [],
      "source": [
        "x = ['한국', '연수원']\n",
        "bool(x)"
      ]
    },
    {
      "cell_type": "code",
      "execution_count": null,
      "metadata": {
        "id": "vpXlJji24t5F"
      },
      "outputs": [],
      "source": [
        "x = []\n",
        "bool(x)"
      ]
    },
    {
      "cell_type": "code",
      "execution_count": null,
      "metadata": {
        "id": "xPISH7Cr4t22"
      },
      "outputs": [],
      "source": [
        "bool(1)"
      ]
    },
    {
      "cell_type": "code",
      "execution_count": null,
      "metadata": {
        "id": "trOYchsk4tyB"
      },
      "outputs": [],
      "source": [
        "bool(0)"
      ]
    },
    {
      "cell_type": "markdown",
      "metadata": {
        "id": "tAkGzZoWIiWo"
      },
      "source": [
        "# 값"
      ]
    },
    {
      "cell_type": "markdown",
      "metadata": {
        "id": "BLW1o2xYrAdH"
      },
      "source": [
        "## 숫자 (Number)\n",
        "\n",
        "\n",
        "|항목| 예시|\n",
        "|----|----|\n",
        "|정수|123,-345,0|\n",
        "|실수|123.45, 3.4e10|\n",
        "|8진수|0o34, 0o25|\n",
        "|16진수|0x2A,0xFF|\n"
      ]
    },
    {
      "cell_type": "code",
      "execution_count": null,
      "metadata": {
        "id": "jG7EfpfxrGqY"
      },
      "outputs": [],
      "source": [
        "# 10이라는 입력을 A라는 변수에 그대로 출력\n",
        "# print 함수는 값을 출력하는 기능\n",
        "x = 10\n",
        "print(x)\n"
      ]
    },
    {
      "cell_type": "code",
      "execution_count": null,
      "metadata": {
        "id": "EuBm5KqrDCkj"
      },
      "outputs": [],
      "source": []
    },
    {
      "cell_type": "markdown",
      "metadata": {
        "id": "rtQn9I-KDgDc"
      },
      "source": [
        "- int와 float가 더해지면 가장 영역이 넓은 float 형태로 저장된다."
      ]
    },
    {
      "cell_type": "code",
      "execution_count": null,
      "metadata": {
        "id": "PW__6Sv4De9W"
      },
      "outputs": [],
      "source": [
        "# int와 float가 더해지면 가장 영역이 넓은 float 형태로 저장\n",
        "10 + 10.0"
      ]
    },
    {
      "cell_type": "markdown",
      "metadata": {
        "id": "lJ6p7NJOJ63U"
      },
      "source": [
        "#### int() 함수 - 실수를 정수로 변환\n",
        "- 정수화 하기 위해서 int() 함수를 사용"
      ]
    },
    {
      "cell_type": "code",
      "execution_count": null,
      "metadata": {
        "id": "klcJiM0mN94L"
      },
      "outputs": [],
      "source": []
    },
    {
      "cell_type": "markdown",
      "metadata": {
        "id": "F5MkVpQRQWzt"
      },
      "source": [
        "#### float() 함수 - 정수를 실수로 변환"
      ]
    },
    {
      "cell_type": "code",
      "execution_count": null,
      "metadata": {
        "id": "_-Hd4gpKQFhd"
      },
      "outputs": [],
      "source": [
        "# 정수를 실수로 변환 float()\n"
      ]
    },
    {
      "cell_type": "markdown",
      "metadata": {
        "id": "ioQm6io9OByN"
      },
      "source": [
        "### round() 함수\n",
        "- 반올림시 사용\n",
        "- round(변수명, 소숫점 아래 자리수)\n",
        "- ceil() : 올림\n",
        "- floor() : 내림\n",
        "- trunc() : 소수점 버림"
      ]
    },
    {
      "cell_type": "code",
      "execution_count": null,
      "metadata": {
        "id": "TZiFr4HrOR9-"
      },
      "outputs": [],
      "source": [
        "import math\n",
        "x = 1003.141592\n"
      ]
    },
    {
      "cell_type": "code",
      "execution_count": null,
      "metadata": {
        "id": "rvn42QtAOcTq"
      },
      "outputs": [],
      "source": []
    },
    {
      "cell_type": "code",
      "source": [],
      "metadata": {
        "id": "ZjqPMa_i9fTJ"
      },
      "execution_count": null,
      "outputs": []
    },
    {
      "cell_type": "code",
      "execution_count": null,
      "metadata": {
        "id": "shPejlyyIHwg"
      },
      "outputs": [],
      "source": [
        "import math\n",
        "math.ceil(3.14)"
      ]
    },
    {
      "cell_type": "code",
      "execution_count": null,
      "metadata": {
        "id": "XxrALXfQOEvH"
      },
      "outputs": [],
      "source": [
        "math.floor(3.14)"
      ]
    },
    {
      "cell_type": "code",
      "execution_count": null,
      "metadata": {
        "id": "IPG5P9_-OE2m"
      },
      "outputs": [],
      "source": [
        "math.trunc(3.14)"
      ]
    },
    {
      "cell_type": "markdown",
      "metadata": {
        "id": "L0gjxeMnDx0D"
      },
      "source": [
        "---\n"
      ]
    },
    {
      "cell_type": "markdown",
      "metadata": {
        "id": "wlkGDbJeDyj1"
      },
      "source": [
        "## 문자 (String)\n",
        "문자열은 문자로 이뤄진 자료형이다.\n",
        "\n",
        "```python\n",
        "'This is a string'\n",
        "```\n",
        "\n",
        "문자열은 따옴표를 앞뒤로 감싸 표현한다.\n",
        "\n",
        "```python\n",
        "a = '문자열입니다'  \n",
        "b = \"문자열입니다\"  \n",
        "```\n",
        "\n",
        "`str` 내장 함수로, 자료형을 바꿀 수 있다.\n",
        "\n",
        "```python\n",
        "str(123)\n",
        "```\n",
        "\n",
        "```\n",
        "'123'\n",
        "```\n",
        "\n",
        "escape string (이스케이프 문자)\n",
        "- 문자열내의 일부 문자의 의미를 달리하여 `특정한 효과`를 주는 것\n",
        "- `\\n` : 줄바꿈 (new line)\n",
        "- `\\t` : 탭 (tab)\n",
        "-  백슬래쉬(/) 기호\n",
        "- Escape Code라고 부르기도 함\n",
        "\n",
        "| 코드 | 설명 |\n",
        "|-----|:----:|\n",
        "| \\n  |\t개행(줄바꿈)|\n",
        "|\\t\t  |수평 탭 |\n",
        "|\\\\   |\t문자\"\\\"|\n",
        "|\\'\t| 단일 인용부호(')|\n",
        "| \\\"|이중 인용부호(\") |\n",
        "| \\r|캐리지 리턴|\n",
        "| \\f|폼 피드|\n",
        "|\\a\t|벨 소리|\n",
        "\n",
        "> 들여쓴 블록\n",
        "\n",
        "\n",
        "|\\b\t|백 스페이스|\n",
        "|\\000|널문자|\n",
        "\n",
        "주로 \\n, \\t, \\\\, \\', \\\"이 많이 쓰임"
      ]
    },
    {
      "cell_type": "code",
      "execution_count": null,
      "metadata": {
        "id": "bSjH_m5eNOUp"
      },
      "outputs": [],
      "source": [
        "a = '문자열입니다'\n",
        "b = \"문자열입니다\"\n",
        "print(a, b)"
      ]
    },
    {
      "cell_type": "code",
      "execution_count": null,
      "metadata": {
        "id": "A_UVXvkqNOMA"
      },
      "outputs": [],
      "source": [
        "x = 10\n",
        "type(x)\n",
        "x"
      ]
    },
    {
      "cell_type": "code",
      "execution_count": null,
      "metadata": {
        "id": "6qiEo5rgLV5S"
      },
      "outputs": [],
      "source": [
        "str(x)"
      ]
    },
    {
      "cell_type": "markdown",
      "metadata": {
        "id": "DxY0phZGNM45"
      },
      "source": [
        "문자열 안에 따옴표를 사용할때는, 문자열이 중간에 끊겨 `SyntaxError`가 발생하지 않게 주의를 기울여야 한다.\n",
        "\n",
        "```python\n",
        "\"파이썬 문자열 내부에 \"따옴표 사용\"\"\n",
        "```"
      ]
    },
    {
      "cell_type": "code",
      "execution_count": null,
      "metadata": {
        "id": "rzn5vSpjGL0_"
      },
      "outputs": [],
      "source": [
        "\"파이썬 문자열 내부에 \"따옴표 사용\"\""
      ]
    },
    {
      "cell_type": "markdown",
      "metadata": {
        "id": "nEdJUj2XNGIR"
      },
      "source": [
        "\n",
        "\n",
        "\n",
        "만약, 문자열 안에 큰 따옴표를 사용하고 싶다면, 밖에 따옴표를 작은 따옴표로 감싸주면 된다.\n",
        "\n",
        "```python\n",
        "'파이썬 문자열 내부에 \"따옴표 사용\"'  # ' ' 로 \" \" 감싸기\n",
        "```\n",
        "\n",
        "\n",
        "\n",
        "큰 따옴표(`\"\"\"`) 또는 작은 따옴표 세개(`'''`)를 연속으로 사용하면, 다시 따옴표 세 개가 연속으로 나올 때까지\n",
        "줄바꿈을 포함해서 모든 글자를 문자열로 인식한다.\n",
        "\n",
        "```python\n",
        "\"\"\"\n",
        "파이썬 문자열 내부에 \"따옴표 사용\"\n",
        "줄바꿈시엔 '따옴표' 3개\n",
        "\n",
        "\"\"\"\n",
        "```"
      ]
    },
    {
      "cell_type": "code",
      "execution_count": null,
      "metadata": {
        "id": "HYRqscy9GLro"
      },
      "outputs": [],
      "source": [
        "'파이썬 문자열 내부에 \"따옴표 사용\"'  # ' ' 로 \" \" 감싸기"
      ]
    },
    {
      "cell_type": "markdown",
      "metadata": {
        "id": "MTT1Q0ZVlvmJ"
      },
      "source": [
        "### 2.1 문자열 표현방법 4가지"
      ]
    },
    {
      "cell_type": "code",
      "execution_count": null,
      "metadata": {
        "id": "jSEoFkmffxcB"
      },
      "outputs": [],
      "source": [
        "#1. 큰 따옴표(\"\")\n",
        "\"종로구 삼청동\""
      ]
    },
    {
      "cell_type": "code",
      "execution_count": null,
      "metadata": {
        "id": "wnfQh86VfxcB"
      },
      "outputs": [],
      "source": [
        "#2. 작은 따옴표('')\n"
      ]
    },
    {
      "cell_type": "code",
      "execution_count": null,
      "metadata": {
        "id": "8Mhol3A9fxcC"
      },
      "outputs": [],
      "source": [
        "#3.큰 따옴표 3개 (\"\"\" \"\"\")\n"
      ]
    },
    {
      "cell_type": "code",
      "execution_count": null,
      "metadata": {
        "id": "6S-3S-cCfxcC"
      },
      "outputs": [],
      "source": [
        "#4. 작은 따옴표 3개 (''' ''')\n"
      ]
    },
    {
      "cell_type": "markdown",
      "metadata": {
        "id": "5P9cgGbzM-6b"
      },
      "source": [
        "### 문자열 표현\n",
        "\n",
        "줄 바꿈 등으로 문자열을 표현하고 싶다면, 역슬래쉬(`\\`)를 사용할 수 있다.\n",
        "\n",
        "```python\n",
        "'\\n'  # 줄바꿈\n",
        "'\\t'  # 탭\n",
        "```\n",
        "\n",
        "\n",
        "\n",
        "`\\n` 을 출력할 경우, 줄바꿈으로 표현된다.\n",
        "\n",
        "```python\n",
        "print('파이썬\\n1. 문자열\\n2. 숫자')\n",
        "```"
      ]
    },
    {
      "cell_type": "code",
      "execution_count": null,
      "metadata": {
        "id": "vMY29DQfNe1N"
      },
      "outputs": [],
      "source": [
        "print('파이썬\\n1. 문자열\\n2. 숫자')"
      ]
    },
    {
      "cell_type": "markdown",
      "metadata": {
        "id": "UHFuMSAhNAp_"
      },
      "source": [
        "\n",
        "### 문자열 연산\n",
        "\n",
        "덧셈 표시를 이용해, 문자열끼리 합칠 수 있다.\n",
        "\n",
        "```python\n",
        "'1 더하기 1은 ' + '2 입니다'\n",
        "```\n",
        "\n",
        "```\n",
        "'1 더하기 1은 2 입니다'\n",
        "```\n",
        "\n",
        "\n",
        "\n",
        "곱셈 표시를 이용해, 문자열을 반복할 수 있다.\n",
        "\n",
        "```python\n",
        "'하' * 3\n",
        "```\n",
        "\n",
        "```\n",
        "'하하하'\n",
        "```\n",
        "\n"
      ]
    },
    {
      "cell_type": "markdown",
      "metadata": {
        "id": "ybO5skH5fxcJ"
      },
      "source": [
        "a. concatenation\n",
        "\n",
        "문자열 더 해서 연결하기"
      ]
    },
    {
      "cell_type": "code",
      "execution_count": null,
      "metadata": {
        "id": "AJ66TAg8fxcJ"
      },
      "outputs": [],
      "source": [
        "a = \"종로구\"\n",
        "b = \"삼청동\""
      ]
    },
    {
      "cell_type": "code",
      "source": [],
      "metadata": {
        "id": "9NWDjsnRdp9C"
      },
      "execution_count": null,
      "outputs": []
    },
    {
      "cell_type": "markdown",
      "metadata": {
        "id": "ah7CcbkOfxcJ"
      },
      "source": [
        "b. multiplication\n",
        "문자열 곱하기"
      ]
    },
    {
      "cell_type": "code",
      "execution_count": null,
      "metadata": {
        "id": "3bOqgLtqfxcK"
      },
      "outputs": [],
      "source": [
        "b = \"서울\""
      ]
    },
    {
      "cell_type": "code",
      "source": [],
      "metadata": {
        "id": "81zmOesDdqVE"
      },
      "execution_count": null,
      "outputs": []
    },
    {
      "cell_type": "markdown",
      "metadata": {
        "id": "q2uprKdmfxcK"
      },
      "source": [
        "c. 문자열 길이 구하기"
      ]
    },
    {
      "cell_type": "code",
      "execution_count": null,
      "metadata": {
        "id": "QDO57ajafxcK"
      },
      "outputs": [],
      "source": [
        "c = \"종로구 삼청동\""
      ]
    },
    {
      "cell_type": "code",
      "source": [],
      "metadata": {
        "id": "jglfhjkidq6j"
      },
      "execution_count": null,
      "outputs": []
    },
    {
      "cell_type": "markdown",
      "metadata": {
        "id": "ipHj_fJhKKoM"
      },
      "source": [
        "### 자료형 변환\n",
        "- 500 + '원' 출력 결과를 확인해보자\n",
        "- 오류가 발생하는 이유는 무엇인가?"
      ]
    },
    {
      "cell_type": "code",
      "execution_count": null,
      "metadata": {
        "id": "9V2fIRIjGLlT"
      },
      "outputs": [],
      "source": [
        "500 + '원'"
      ]
    },
    {
      "cell_type": "markdown",
      "metadata": {
        "id": "isZ8uAb9PjRv"
      },
      "source": [
        "- 500의 자료형은 정수\n",
        "- '원'의 자료형은 문자열\n",
        "- 파이썬에게 2개를 합하라고 하니, 어떻게 할지 모르는 문제가 발생한다."
      ]
    },
    {
      "cell_type": "code",
      "source": [
        "'500' + '원'"
      ],
      "metadata": {
        "id": "a43KL9RLysgp"
      },
      "execution_count": null,
      "outputs": []
    },
    {
      "cell_type": "markdown",
      "metadata": {
        "id": "MrdlblXpQgK_"
      },
      "source": [
        "- `str()` 함수 - 자료형을 문자열로 변환"
      ]
    },
    {
      "cell_type": "code",
      "execution_count": null,
      "metadata": {
        "id": "2ybq0hHTPxvk"
      },
      "outputs": [],
      "source": [
        "str(500) + '원'"
      ]
    },
    {
      "cell_type": "markdown",
      "metadata": {
        "id": "vBSMqsJYPtO_"
      },
      "source": [
        "#### int() 함수 - 실수를 정수로 변환\n",
        "- 정수화 하기 위해서 int() 함수를 사용합니다."
      ]
    },
    {
      "cell_type": "code",
      "execution_count": null,
      "metadata": {
        "id": "bTyhxZG5P4mD"
      },
      "outputs": [],
      "source": [
        "# int() 숫자이지만 문자열인 경우, 다시 정수로 변환하기 위해 사용\n",
        "a = '500'"
      ]
    },
    {
      "cell_type": "code",
      "source": [
        "b = '123.123'"
      ],
      "metadata": {
        "id": "_qLeAFOfXVDE"
      },
      "execution_count": null,
      "outputs": []
    },
    {
      "cell_type": "markdown",
      "metadata": {
        "id": "nWC-FX_4Pv8f"
      },
      "source": [
        "#### float() 함수 - 정수를 실수로 변환"
      ]
    },
    {
      "cell_type": "code",
      "execution_count": null,
      "metadata": {
        "id": "WpAgQ6EJPv8f"
      },
      "outputs": [],
      "source": [
        "# 정수를 실수로 변환 float()\n",
        "a = 3.14"
      ]
    },
    {
      "cell_type": "code",
      "source": [],
      "metadata": {
        "id": "jQti3YtpdunF"
      },
      "execution_count": null,
      "outputs": []
    },
    {
      "cell_type": "markdown",
      "metadata": {
        "id": "dy3FkAMvEBVv"
      },
      "source": [
        "### 문자열 관련 함수"
      ]
    },
    {
      "cell_type": "markdown",
      "metadata": {
        "id": "f3DB4kjFfxqH"
      },
      "source": [
        "#### count()\n",
        "- `.count()` 함수는 해당 글자가 문자열에서 몇 번 쓰였는지 확인해준다."
      ]
    },
    {
      "cell_type": "code",
      "execution_count": null,
      "metadata": {
        "id": "kYUzINbtqIA6"
      },
      "outputs": [],
      "source": [
        "인사 = 'Hello World! Nice to meet you'\n",
        "a = \"python\"\n",
        "b = \"안녕하세요?????\""
      ]
    },
    {
      "cell_type": "code",
      "execution_count": null,
      "metadata": {
        "id": "ZTowlLe2Ve0Q"
      },
      "outputs": [],
      "source": [
        "인사.count('Hello')"
      ]
    },
    {
      "cell_type": "code",
      "execution_count": null,
      "metadata": {
        "id": "1aZbztSDVfjs"
      },
      "outputs": [],
      "source": []
    },
    {
      "cell_type": "code",
      "execution_count": null,
      "metadata": {
        "id": "dvDMtVO-fxqH"
      },
      "outputs": [],
      "source": []
    },
    {
      "cell_type": "code",
      "execution_count": null,
      "metadata": {
        "id": "Rx2vro-H3OKv"
      },
      "outputs": [],
      "source": []
    },
    {
      "cell_type": "code",
      "execution_count": null,
      "metadata": {
        "id": "JX5cPq2YVifc"
      },
      "outputs": [],
      "source": []
    },
    {
      "cell_type": "markdown",
      "metadata": {
        "id": "Qymt3I2t24oL"
      },
      "source": [
        "#### find()\n",
        "\n",
        "- 문자열 중 ()가 처음으로 나오는 위치를 알려준다.\n",
        "- 문자열에 없는 글자여도 오류가 발생하지 않고 -1을 반환한다. 순서와 위치는 인덱싱 규칙을 따르므로 0부터 시작한다."
      ]
    },
    {
      "cell_type": "code",
      "execution_count": null,
      "metadata": {
        "id": "uFC1-Pt-fxqI"
      },
      "outputs": [],
      "source": [
        "인사 = 'Hello World! Nice to meet you'\n",
        "a = \"python\"\n",
        "b = \"안녕하세요?????\""
      ]
    },
    {
      "cell_type": "code",
      "execution_count": null,
      "metadata": {
        "id": "NnX18LU8fxqI"
      },
      "outputs": [],
      "source": []
    },
    {
      "cell_type": "code",
      "execution_count": null,
      "metadata": {
        "id": "w-ikvBZJfxqI"
      },
      "outputs": [],
      "source": []
    },
    {
      "cell_type": "code",
      "execution_count": null,
      "metadata": {
        "id": "-tPcfGonxTMt"
      },
      "outputs": [],
      "source": [
        "# 위치확인 - find\n",
        "# 없으면 -1 값 반환"
      ]
    },
    {
      "cell_type": "code",
      "source": [],
      "metadata": {
        "id": "utR7opG9ebO9"
      },
      "execution_count": null,
      "outputs": []
    },
    {
      "cell_type": "markdown",
      "metadata": {
        "id": "_JgXCmcqfxqI"
      },
      "source": [
        "#### index()\n",
        "- `.index()` 함수는 해당 글자의 위치를 확인해준다.\\\n",
        "find()와 마찬가지로 문자a가 처음 나온 위치를 반환한다.\n",
        "찾는 문자나 문자열이 존재하지 않는다면 오류를 반환한다.(find()함수와의 차이점)"
      ]
    },
    {
      "cell_type": "code",
      "execution_count": null,
      "metadata": {
        "id": "EOO7x048fxqJ"
      },
      "outputs": [],
      "source": [
        "a.index('안녕')"
      ]
    },
    {
      "cell_type": "code",
      "source": [],
      "metadata": {
        "id": "YpukB3SpeeQA"
      },
      "execution_count": null,
      "outputs": []
    },
    {
      "cell_type": "code",
      "execution_count": null,
      "metadata": {
        "id": "5zuRmotvfxqJ"
      },
      "outputs": [],
      "source": []
    },
    {
      "cell_type": "markdown",
      "metadata": {
        "id": "WKVYRHc4fxqN"
      },
      "source": [
        "#### join()\n",
        "\n",
        "`.join()` 함수는 문자열을 특정 글자로 합쳐준다.\n",
        "\n",
        "```python\n",
        "','.join('abcd')  # 'abcd' 사이에 쉼표를 추가\n",
        "```\n",
        "\n",
        "```\n",
        "'a,b,c,d'\n",
        "```\n"
      ]
    },
    {
      "cell_type": "code",
      "source": [
        "','.join('abcd')"
      ],
      "metadata": {
        "id": "ufLW3EQm9_kM"
      },
      "execution_count": null,
      "outputs": []
    },
    {
      "cell_type": "code",
      "execution_count": null,
      "metadata": {
        "id": "stpfQdArfxqN"
      },
      "outputs": [],
      "source": [
        "'!!!!!!'.join('안녕')"
      ]
    },
    {
      "cell_type": "code",
      "execution_count": null,
      "metadata": {
        "id": "YVIQGcU0wnD7"
      },
      "outputs": [],
      "source": []
    },
    {
      "cell_type": "markdown",
      "metadata": {
        "id": "tE26Yw_kfxqO"
      },
      "source": [
        "리스트에도 적용할 수 있음"
      ]
    },
    {
      "cell_type": "code",
      "execution_count": null,
      "metadata": {
        "id": "ELiFWpaJfxqO"
      },
      "outputs": [],
      "source": [
        "'xyz'.join(['안녕','??','만나서','반가워'])"
      ]
    },
    {
      "cell_type": "markdown",
      "metadata": {
        "id": "gKNCko8mfxqO"
      },
      "source": [
        "#### capitalize(), upper(), lower()\n",
        "-\n",
        "영문의 경우, 문자열을 대소문자로 바꾸는 함수들을 사용할 수 있다.\n",
        "\n",
        "`.capitalize()` 함수는 문장의 첫 글자를 대문자로 바꾼다.\n"
      ]
    },
    {
      "cell_type": "code",
      "execution_count": null,
      "metadata": {
        "id": "o5UWKjnQLzMG"
      },
      "outputs": [],
      "source": [
        "'hello world'.capitalize()"
      ]
    },
    {
      "cell_type": "code",
      "execution_count": null,
      "metadata": {
        "id": "nPgIMMPnfxqO"
      },
      "outputs": [],
      "source": [
        "x = \"hello\"\n",
        "x.upper()"
      ]
    },
    {
      "cell_type": "code",
      "execution_count": null,
      "metadata": {
        "id": "-EFCXDIHxTN4"
      },
      "outputs": [],
      "source": [
        "'HeLLO woRlD'.lower()"
      ]
    },
    {
      "cell_type": "code",
      "source": [],
      "metadata": {
        "id": "JTJY_KTCeo7v"
      },
      "execution_count": null,
      "outputs": []
    },
    {
      "cell_type": "markdown",
      "metadata": {
        "id": "Zz_uVBpjfxqO"
      },
      "source": [
        "#### replace()\n",
        "- `.replace()` 함수는 특정 글자를 다른 글자로 바꿔준다.\n",
        "\n"
      ]
    },
    {
      "cell_type": "code",
      "execution_count": null,
      "metadata": {
        "id": "g7wuToYyMPWF"
      },
      "outputs": [],
      "source": [
        "'안녕 하세요 ?????'.replace('?', '!')  # 문자열 중간의 띄어쓰기 교체"
      ]
    },
    {
      "cell_type": "code",
      "execution_count": null,
      "metadata": {
        "id": "E4uCGsVafxqO"
      },
      "outputs": [],
      "source": [
        "x = '안녕 하세요 ?????'"
      ]
    },
    {
      "cell_type": "code",
      "source": [],
      "metadata": {
        "id": "ARkI5p4Le6KP"
      },
      "execution_count": null,
      "outputs": []
    },
    {
      "cell_type": "code",
      "execution_count": null,
      "metadata": {
        "id": "gs5Lc0rmxkL-"
      },
      "outputs": [],
      "source": [
        "# replace 함수 - 문자열 치환\n",
        "x = '안녕 하세요 ?????'"
      ]
    },
    {
      "cell_type": "code",
      "source": [],
      "metadata": {
        "id": "Qhr1T1g6e6eW"
      },
      "execution_count": null,
      "outputs": []
    },
    {
      "cell_type": "markdown",
      "metadata": {
        "id": "53qcUQlufxqO"
      },
      "source": [
        "#### split()\n",
        "\n",
        "`.split()` 함수는 특정 글자로 문자열을 나누고 리스트 형태로 출력한다.\n",
        "- '특정 글자'는 쪼개고 나서 사라짐\n",
        "- 특정 글자가 없으면 자동으로 '공백'을 기준으로 사용\n",
        "- 문자열이 쪼개진 후 결과는 리스트 형태로 반환\n",
        "```python\n",
        "'사과,오렌지,포도,딸기'.split(',')  # 쉼표를 기준으로 문자열 분리\n",
        "```\n",
        "\n",
        "```\n",
        "['사과', '오렌지', '포도', '딸기']\n",
        "```"
      ]
    },
    {
      "cell_type": "code",
      "source": [
        "'사과,오렌지,포도,딸기'.split(',')"
      ],
      "metadata": {
        "id": "7nsl9KTy-VPU"
      },
      "execution_count": null,
      "outputs": []
    },
    {
      "cell_type": "code",
      "execution_count": null,
      "metadata": {
        "id": "RX3M0zqMfxqP"
      },
      "outputs": [],
      "source": [
        "x = '안녕 하세요 ?????'"
      ]
    },
    {
      "cell_type": "code",
      "execution_count": null,
      "metadata": {
        "id": "x08sbnezfxqP",
        "scrolled": true
      },
      "outputs": [],
      "source": []
    },
    {
      "cell_type": "markdown",
      "source": [
        "#### reversed()\n",
        "문자열을 거꾸로 정렬한다. `join` 함수와 함께 사용한다"
      ],
      "metadata": {
        "id": "ceQvIDX7-Ze7"
      }
    },
    {
      "cell_type": "code",
      "execution_count": null,
      "metadata": {
        "id": "3gOtDQWxwnJu"
      },
      "outputs": [],
      "source": [
        "# reversed 함수로 쉽게 값을 뒤집을 수 있음\n",
        "인사 = 'Hello World! Nice to meet you'\n",
        "a = \"python\"\n",
        "b = \"안녕하세요?????\""
      ]
    },
    {
      "cell_type": "code",
      "source": [
        "reversed(인사)"
      ],
      "metadata": {
        "id": "vzFeunkJeBWZ"
      },
      "execution_count": null,
      "outputs": []
    },
    {
      "cell_type": "code",
      "execution_count": null,
      "metadata": {
        "id": "N54EJfwl6W25"
      },
      "outputs": [],
      "source": [
        "''.join(reversed(인사))"
      ]
    },
    {
      "cell_type": "markdown",
      "metadata": {
        "id": "YsxKiQWzLk9G"
      },
      "source": [
        "#### startswith, endswith()\n",
        "- `.startswith()` 함수는 문자열이 해당 글자로 시작하는지 확인해준다."
      ]
    },
    {
      "cell_type": "code",
      "execution_count": null,
      "metadata": {
        "id": "90MoS3hFLpeT"
      },
      "outputs": [],
      "source": [
        "# 문자열이 '안녕'으로 시작하는지 확인\n",
        "\n",
        "'안녕하세요?'.startswith('안녕')"
      ]
    },
    {
      "cell_type": "code",
      "execution_count": null,
      "metadata": {
        "id": "PvFQWl_CLtoq"
      },
      "outputs": [],
      "source": [
        "# 문자열이 '완료'로 끝나는지 확인\n"
      ]
    },
    {
      "cell_type": "code",
      "source": [
        "b = \"안녕하세요?????\"\n",
        "\n"
      ],
      "metadata": {
        "id": "GejqBK8tfEKu"
      },
      "execution_count": null,
      "outputs": []
    },
    {
      "cell_type": "markdown",
      "metadata": {
        "id": "cnUIuucRMSAp"
      },
      "source": [
        "#### in, not in\n",
        "`in`을 사용해 문자열 안에 해당 글자가 포함되었는지 확인할 수 있다.\n",
        "\n",
        "```python\n",
        "'사과' in '오늘의 메뉴는 밥, 미역국, 사과입니다.'  # '사과'가 문자열에 포함되었는지 확인\n",
        "```\n",
        "\n",
        "```\n",
        "True\n",
        "```\n",
        "\n",
        "\n",
        "\n",
        "`not in`을 사용해 반대로 해당 글자가 없는지 확인할 수 있다.\n",
        "\n",
        "```python\n",
        "'사과' not in '오늘의 메뉴는 밥, 미역국, 사과입니다.'  # '사과'가 문자열에 없는지 확인\n",
        "```\n",
        "\n",
        "```\n",
        "False\n",
        "```\n"
      ]
    },
    {
      "cell_type": "code",
      "source": [
        "'사과' in '오늘의 메뉴는 밥, 미역국, 사과입니다.'  # '사과'가 문자열에 포함되었는지 확인"
      ],
      "metadata": {
        "id": "FPW2Tbld-q3a"
      },
      "execution_count": null,
      "outputs": []
    },
    {
      "cell_type": "code",
      "execution_count": null,
      "metadata": {
        "id": "DHOQOz_uMYFR"
      },
      "outputs": [],
      "source": [
        "'사과' not in '오늘의 메뉴는 밥, 미역국, 사과입니다.'  # '사과'가 문자열에 없는지 확인"
      ]
    },
    {
      "cell_type": "markdown",
      "metadata": {
        "id": "OSSPPvGeIx8H"
      },
      "source": [
        "---\n",
        "### 문자열 인덱싱/슬라이싱"
      ]
    },
    {
      "cell_type": "markdown",
      "metadata": {
        "id": "vi_iitymnQKN"
      },
      "source": [
        "#### 1. 인덱싱\n",
        "인덱싱(indexing) = 가리킴\n",
        "\n",
        "\n",
        "다음과 같은 문자열이 있을 때,\n",
        "\n",
        "\"Life is short\"\n",
        "\n",
        "이 문자열의 각 문자마다 번호(index)를 매겨보면 다음과 같다.\n",
        "\n",
        "|L|i|f|e| |i|s| |s|h|o|r|t|\n",
        "|-|-|-|-|-|-|-|-|-|-|-|-|-:|\n",
        "|0|1|2|3|4|5|6|7|8|9|10|11|12|\n",
        "\n",
        "파이썬은 숫자 0부터 숫자를 센다."
      ]
    },
    {
      "cell_type": "markdown",
      "metadata": {
        "id": "8d5Zs0Fhnjc0"
      },
      "source": [
        "- 문자열 인덱싱하기\n",
        "\n",
        "문자열을 인덱싱하는 방법은 변수+[번호]를 입력"
      ]
    },
    {
      "cell_type": "code",
      "execution_count": null,
      "metadata": {
        "id": "3ppy2yLstTyf"
      },
      "outputs": [],
      "source": [
        "a = \"Life is short\"\n",
        "print(a, len(a))"
      ]
    },
    {
      "cell_type": "code",
      "execution_count": null,
      "metadata": {
        "id": "ByT8ewc3b7s4"
      },
      "outputs": [],
      "source": []
    },
    {
      "cell_type": "code",
      "source": [],
      "metadata": {
        "id": "2-Ic8CpIOFBl"
      },
      "execution_count": null,
      "outputs": []
    },
    {
      "cell_type": "code",
      "source": [],
      "metadata": {
        "id": "_qcXWHDtOKx0"
      },
      "execution_count": null,
      "outputs": []
    },
    {
      "cell_type": "code",
      "execution_count": null,
      "metadata": {
        "id": "LmXLHhM-b7nO"
      },
      "outputs": [],
      "source": []
    },
    {
      "cell_type": "markdown",
      "metadata": {
        "id": "tGwBDLhm24oT"
      },
      "source": [
        "- 뒤에서부터 값을 추출가능\n",
        "- 뒤에서의 추출순서는 \"-1\"부터 시작함"
      ]
    },
    {
      "cell_type": "code",
      "execution_count": null,
      "metadata": {
        "id": "Wa6SdBf2owKy"
      },
      "outputs": [],
      "source": [
        "파이썬 = 'python'"
      ]
    },
    {
      "cell_type": "code",
      "source": [],
      "metadata": {
        "id": "o34JN9oZfNJu"
      },
      "execution_count": null,
      "outputs": []
    },
    {
      "cell_type": "code",
      "execution_count": null,
      "metadata": {
        "id": "1fC25NMV24oT"
      },
      "outputs": [],
      "source": []
    },
    {
      "cell_type": "markdown",
      "metadata": {
        "id": "CAcRM7Ljo5Ac"
      },
      "source": [
        "#### 2. 슬라이싱\n",
        "\n",
        "슬라이싱(slicing) = 잘라냄\n",
        "\n",
        "슬라이싱은 변수[시작번호:끝번호] 로 한다.\n",
        "\n",
        "여기서 끝 번호에 해당하는 인자값은 포함하지 않는다. half-open interval이라고도 불린다.\n",
        "\n",
        "\n",
        "|L|i|f|e| |i|s| |s|h|o|r|t|\n",
        "|-|-|-|-|-|-|-|-|-|-|-|-|-:|\n",
        "|0|1|2|3|4|5|6|7|8|9|10|11|12|\n",
        "\n",
        "a[0:3]을 수식으로 나타내면 다음과 같다.\n",
        "\n",
        "```\n",
        "0 <= a <3\n",
        "\n",
        "```\n",
        "\n",
        "이 수식을 만족하는 a의 인자값은 a[0], a[1], a[2]이고, a[0:3]은 'Lif'가, a[0:4]은 'Life'가 된다.\n",
        "\n",
        "** 공백 역시 문자열이므로 인덱싱 및 슬라이싱의 대상이 된다"
      ]
    },
    {
      "cell_type": "markdown",
      "metadata": {
        "id": "lpFtFnEBQRrQ"
      },
      "source": [
        "a. 끝번호 생략하여 끝까지 슬라이싱\n"
      ]
    },
    {
      "cell_type": "code",
      "execution_count": null,
      "metadata": {
        "id": "lnyRvCREti1W"
      },
      "outputs": [],
      "source": [
        "# 여러개의 문자열을 선택할 때는 범위로 입력하되 [시작인텍스 이상:끝인덱스 미만] 형식\n",
        "# 끝인덱스는 포함되지 않음\n",
        "\n",
        "# Life 단어 출력\n",
        "a = \"Life is short\""
      ]
    },
    {
      "cell_type": "code",
      "source": [],
      "metadata": {
        "id": "4JhGcYKcfPK4"
      },
      "execution_count": null,
      "outputs": []
    },
    {
      "cell_type": "code",
      "source": [],
      "metadata": {
        "id": "BpVl_c1IfO-n"
      },
      "execution_count": null,
      "outputs": []
    },
    {
      "cell_type": "code",
      "execution_count": null,
      "metadata": {
        "id": "EdspLKr8VbuG"
      },
      "outputs": [],
      "source": [
        "# is 단어 출력\n"
      ]
    },
    {
      "cell_type": "code",
      "execution_count": null,
      "metadata": {
        "id": "I--H4Cjgfxp_"
      },
      "outputs": [],
      "source": []
    },
    {
      "cell_type": "code",
      "source": [],
      "metadata": {
        "id": "2wr0pos49irX"
      },
      "execution_count": null,
      "outputs": []
    },
    {
      "cell_type": "code",
      "source": [],
      "metadata": {
        "id": "7Lxq5iJw9wbB"
      },
      "execution_count": null,
      "outputs": []
    },
    {
      "cell_type": "markdown",
      "metadata": {
        "id": "dQTzQKvhfxp_"
      },
      "source": [
        "b. 시작번호 생략하여 처음부터 슬라이싱"
      ]
    },
    {
      "cell_type": "code",
      "execution_count": null,
      "metadata": {
        "id": "tjO5Qp8cfxp_"
      },
      "outputs": [],
      "source": [
        "a[0:4]\n"
      ]
    },
    {
      "cell_type": "code",
      "source": [],
      "metadata": {
        "id": "mlQ2fJF_RPgc"
      },
      "execution_count": null,
      "outputs": []
    },
    {
      "cell_type": "code",
      "source": [],
      "metadata": {
        "id": "EtoXNU-7-WTN"
      },
      "execution_count": null,
      "outputs": []
    },
    {
      "cell_type": "code",
      "source": [],
      "metadata": {
        "id": "LlbLzlQC-Nxu"
      },
      "execution_count": null,
      "outputs": []
    },
    {
      "cell_type": "code",
      "source": [],
      "metadata": {
        "id": "61UIRkyz-ajZ"
      },
      "execution_count": null,
      "outputs": []
    },
    {
      "cell_type": "markdown",
      "metadata": {
        "id": "-ZxnS0gMfxqA"
      },
      "source": [
        "c. 문자열의 처음부터 끝까지 슬라이싱"
      ]
    },
    {
      "cell_type": "code",
      "execution_count": null,
      "metadata": {
        "id": "iZ8fA2tzttrz"
      },
      "outputs": [],
      "source": [
        "# 시작인덱스와 끝인덱스를 생략하면 자동으로 시작이나 끝까지 임을 인식함"
      ]
    },
    {
      "cell_type": "code",
      "source": [],
      "metadata": {
        "id": "_hGTJFG8RehL"
      },
      "execution_count": null,
      "outputs": []
    },
    {
      "cell_type": "code",
      "execution_count": null,
      "metadata": {
        "id": "6n7ddfGhfxqA"
      },
      "outputs": [],
      "source": []
    },
    {
      "cell_type": "code",
      "source": [],
      "metadata": {
        "id": "0EsPuE-QRclM"
      },
      "execution_count": null,
      "outputs": []
    },
    {
      "cell_type": "markdown",
      "metadata": {
        "id": "T8BXp1lJfxqA"
      },
      "source": [
        "d. 슬라이싱도 인덱싱과 마찬가지로 마이너스(-) 기호 사용가능"
      ]
    },
    {
      "cell_type": "code",
      "execution_count": null,
      "metadata": {
        "id": "4duy8uPPVbuG"
      },
      "outputs": [],
      "source": [
        "a[::-2]"
      ]
    },
    {
      "cell_type": "code",
      "source": [
        "a[0:-1:-2]  # 0, -2, -4, -6 .... -1..."
      ],
      "metadata": {
        "id": "qYkbgVE7RptN"
      },
      "execution_count": null,
      "outputs": []
    },
    {
      "cell_type": "code",
      "source": [],
      "metadata": {
        "id": "hBNxY4vsfcwA"
      },
      "execution_count": null,
      "outputs": []
    },
    {
      "cell_type": "markdown",
      "source": [
        "e. step 값: 등차수열과 같은 기능"
      ],
      "metadata": {
        "id": "IHBCMKE9X5Nn"
      }
    },
    {
      "cell_type": "code",
      "execution_count": null,
      "metadata": {
        "id": "KpgUN67Jpeh2"
      },
      "outputs": [],
      "source": [
        "# step값\n"
      ]
    },
    {
      "cell_type": "code",
      "source": [],
      "metadata": {
        "id": "e2ctT5z9QRTw"
      },
      "execution_count": null,
      "outputs": []
    },
    {
      "cell_type": "markdown",
      "metadata": {
        "id": "kkj6PDmGN2w8"
      },
      "source": [
        "---\n",
        "### 실습문제"
      ]
    },
    {
      "cell_type": "markdown",
      "metadata": {
        "id": "61Ri98jyfxqP"
      },
      "source": [
        "문제 1\n",
        "\n",
        "파일명을 설정하는데 날짜와 파일의 이름을 다음과 같이 합쳐버렸다.\n",
        "\n",
        "슬라이싱을 이용하여 날짜(20250101), 파일유형(보고서), 버전(ver2.3) 으로 구분하여 각각 새 변수에 저장하시오.\n",
        "\n",
        "파일명 = \"20250101_보고서_ver2.3_진짜최종\""
      ]
    },
    {
      "cell_type": "code",
      "execution_count": null,
      "metadata": {
        "id": "uQ2mOsvvfxqQ"
      },
      "outputs": [],
      "source": [
        "파일명 = \"20250101_보고서_ver2.3_진짜최종\""
      ]
    },
    {
      "cell_type": "code",
      "execution_count": null,
      "metadata": {
        "id": "iLaCYmCxINmc"
      },
      "outputs": [],
      "source": []
    },
    {
      "cell_type": "code",
      "source": [],
      "metadata": {
        "id": "SrU7sDpUUrCF"
      },
      "execution_count": null,
      "outputs": []
    },
    {
      "cell_type": "markdown",
      "metadata": {
        "id": "9AI2X4_0fxqQ"
      },
      "source": [
        "문제 2\n",
        "\n",
        "1) A의 주민등록번호는 990101-1234123 이다. 주민번호를 연월일(YYMMDD) 부분과 뒤 나머지 부분으로 나누어 출력. (함수사용)\n",
        "\n",
        "2) A의 주민등록번호에서 `성별을 나타내는 숫자`의 인덱스를 출력. (함수사용)\n",
        "\n",
        "3) A의 주민등록번호 뒷자리를 '1234123' 이 아니라 '3234123'으로 바꾸어 출력. (함수사용)"
      ]
    },
    {
      "cell_type": "code",
      "execution_count": null,
      "metadata": {
        "id": "w5KCaS6afxqQ"
      },
      "outputs": [],
      "source": [
        "주민등록번호 = '990101-1234123'\n",
        "주민등록번호.split('-')"
      ]
    },
    {
      "cell_type": "code",
      "execution_count": null,
      "metadata": {
        "id": "dSkimjgPN5ks"
      },
      "outputs": [],
      "source": []
    },
    {
      "cell_type": "code",
      "source": [],
      "metadata": {
        "id": "K8gUrwkFVdjH"
      },
      "execution_count": null,
      "outputs": []
    },
    {
      "cell_type": "code",
      "source": [],
      "metadata": {
        "id": "LN0fXO7NVOgH"
      },
      "execution_count": null,
      "outputs": []
    },
    {
      "cell_type": "markdown",
      "metadata": {
        "id": "-yM8FSmMQdZc"
      },
      "source": [
        "3. 다음 문장을 백슬래시를 사용하여 출력해보세요\n",
        "\n",
        "(1) My friend's brother said \"hi\" to me.<br>\n",
        "(2) 파이썬은 영어로 'python' 입니다."
      ]
    },
    {
      "cell_type": "code",
      "execution_count": null,
      "metadata": {
        "id": "jIZUcjTCQdZc"
      },
      "outputs": [],
      "source": [
        "# 3-1\n"
      ]
    },
    {
      "cell_type": "code",
      "execution_count": null,
      "metadata": {
        "id": "u6qUyG0nQdZc"
      },
      "outputs": [],
      "source": [
        "# 3-2\n"
      ]
    },
    {
      "cell_type": "markdown",
      "metadata": {
        "id": "6cyfBx1IDL1e"
      },
      "source": [
        "---"
      ]
    },
    {
      "cell_type": "markdown",
      "metadata": {
        "id": "ajAthf_-IqSB"
      },
      "source": [
        "# 자료구조\n",
        "\n",
        "**연속형 데이터형식 Sequential Data types**\n",
        "- 하나의 변수가 하나의 데이터를 가지고 있던 숫자형 데이터와 달리, 여러개의 데이터를 하나의 변수에 가지고 있는 데이터 타입.\n",
        "- 연속형 데이터형식의 종류: 리스트(List), 튜플(Tuple), 문자열(String).\n",
        "    - 문자열은 문자들의 나열로 인식하기 때문에 연속형 데이터에 해당한다.\n",
        "- 연속형 데이터의 크기 제한은 없으나 컴퓨터의 가용 메모리 용량을 고려하여 사용한다."
      ]
    },
    {
      "cell_type": "markdown",
      "metadata": {
        "id": "tJYiEP8yIsFI"
      },
      "source": [
        "## 리스트 list\n",
        "- **리스트(list)**는 값을 순서대로 저장하는 자료구조다.\n",
        "\n",
        "여러 개의 값을 하나로 모아서 다룰 때 사용한다.\n",
        "\n",
        "가장 많이 사용되는 연속형 데이터형식으로, 대부분의 데이터를 편하게 다룰 수 있다.\n",
        "\n",
        "- 파이썬에서 list는 대괄호 **<kbd>[</kbd>   <kbd>]</kbd>** 를 이용하여 표현한다.\n",
        "```python\n",
        "    [1, 2, 3, 4, 5]\n",
        "    mylist = ['사과', 100, '키위', '200']\n",
        "    even = [2, 4, 6]\n",
        "    odd = [1, 3, 5]\n",
        "```\n",
        "- 리스트의 요소/원소/element 는 쉼표(,) 로 구분한다.\n",
        "- 리스트의 요소/원소/element 는 모든 데이터형식이 가능하며, **리스트 자체를 element**로 가질 수 있다.\n",
        "```python\n",
        "    mylist = [[1, 2, 3], '번호', ['가', '나']]\n",
        "```\n",
        "- 리스트로 대부분의 데이터를 다룰 수 있으나 **수정/변형이 자유**롭기 때문에 수정이 필요하지 않는 경우에는 뒤에 나올 튜플(tuple) 을 사용한다.\n"
      ]
    },
    {
      "cell_type": "markdown",
      "metadata": {
        "id": "m_5zY0tV9VNm"
      },
      "source": [
        "### 1. 리스트 만들기"
      ]
    },
    {
      "cell_type": "code",
      "source": [
        "# 빈 리스트 만드는 방법1\n",
        "a = list()\n",
        "print(a)"
      ],
      "metadata": {
        "id": "iKYwtcSxIdU9"
      },
      "execution_count": null,
      "outputs": []
    },
    {
      "cell_type": "code",
      "source": [
        "# 빈 리스트 만드는 방법2\n"
      ],
      "metadata": {
        "id": "kkpy8w-cIhNe"
      },
      "execution_count": null,
      "outputs": []
    },
    {
      "cell_type": "code",
      "source": [
        "# 자료형 확인\n"
      ],
      "metadata": {
        "id": "7GH8TCg4I0om"
      },
      "execution_count": null,
      "outputs": []
    },
    {
      "cell_type": "code",
      "source": [
        "# 숫자형요소로 구성된 리스트\n",
        "x = [1, 2, 3, 4]"
      ],
      "metadata": {
        "id": "Cf_aleFuI-eF"
      },
      "execution_count": null,
      "outputs": []
    },
    {
      "cell_type": "code",
      "source": [
        "#숫자와 문자형요소 혼합\n",
        "y = ['일', '이', 3, 4]"
      ],
      "metadata": {
        "id": "H2-X2avmrfI3"
      },
      "execution_count": null,
      "outputs": []
    },
    {
      "cell_type": "code",
      "source": [
        "#리스트를 리스트를 요소로 가질 수 있다\n",
        "x = [1, 2, 3, 4]\n",
        "y = ['일', '이', [3, 4]]\n",
        "z = [10, 20, x, []]"
      ],
      "metadata": {
        "id": "Tm2r4BSsrefX"
      },
      "execution_count": null,
      "outputs": []
    },
    {
      "cell_type": "code",
      "source": [
        "# 출력"
      ],
      "metadata": {
        "id": "ZAFj-MVernUl"
      },
      "execution_count": null,
      "outputs": []
    },
    {
      "cell_type": "code",
      "execution_count": null,
      "metadata": {
        "id": "Ixsfhx4L0jex",
        "collapsed": true
      },
      "outputs": [],
      "source": [
        "# 리스트에서 + 연산자 사용\n",
        "# TypeError: can only concatenate list (not \"tuple\") to list\n",
        "'안녕' + '하세요'\n",
        "x + y\n",
        "y + x"
      ]
    },
    {
      "cell_type": "markdown",
      "metadata": {
        "id": "rqsYI6Y88p4c"
      },
      "source": [
        "### 2. 리스트 인덱싱 (List Indexing)\n",
        "\n",
        "리스트 안에 있는 값을 선택하고 싶을 때는 **인덱싱(indexing)**을 사용한다. 인덱스는 0부터 시작한다.\n",
        "\n",
        "리스트도 문자열처럼 인덱싱과 슬라이싱이 가능하다.\n",
        "\n",
        "- **인덱스(Index):** `데이터 값의 순서`를 의미하고 Python에선 **0부터 순서가 시작한다.** (1부터가 아님에 유의!)\n",
        "\n",
        "- **인덱싱(Indexing):** `인덱스`를 사용하여 `데이터의 값을 불러오는 것`\n",
        "\n",
        "- **슬라이싱(Slicing):** 특정 인덱스가 아니라 `일정 인덱스 범위의 값을 불러오는 것`\n",
        "\n",
        "```python\n",
        "x = ['a', 'b', 'c', 'd', 'e']\n",
        "```\n",
        "\n",
        "```python\n",
        "x[0]  # x의 첫 값\n",
        "```\n",
        "\n",
        "```\n",
        "'a'\n",
        "```\n",
        "\n",
        "```python\n",
        "x[1]  # x의 두번째 값\n",
        "```\n",
        "\n",
        "```\n",
        "'b'\n",
        "```\n",
        "\n",
        "뒤에서부터 셀 때는 마이너스 인덱스를 사용한다. -1은 뒤에서 첫번째라는 뜻이다.\n",
        "\n",
        "```python\n",
        "x[-1]  # x의 뒤에서 첫 값\n",
        "```\n",
        "\n",
        "```\n",
        "'e'\n",
        "```"
      ]
    },
    {
      "cell_type": "code",
      "execution_count": null,
      "metadata": {
        "id": "YCa1FVJ98p4c"
      },
      "outputs": [],
      "source": [
        "mylist = [[1, 2, 3], '번호', ['가', '나'], 40, 50]"
      ]
    },
    {
      "cell_type": "code",
      "source": [
        "len(mylist)  # 0번 ~ 4번까지"
      ],
      "metadata": {
        "id": "WErgq51b_HuE"
      },
      "execution_count": null,
      "outputs": []
    },
    {
      "cell_type": "code",
      "execution_count": null,
      "metadata": {
        "id": "RJfaIVn68p4d"
      },
      "outputs": [],
      "source": [
        "# 0번index\n"
      ]
    },
    {
      "cell_type": "code",
      "source": [
        "# 0번index가 리스트이므로, 다시 인덱싱을 할 수 있음\n"
      ],
      "metadata": {
        "id": "NgEHGGzBf6LD"
      },
      "execution_count": null,
      "outputs": []
    },
    {
      "cell_type": "code",
      "execution_count": null,
      "metadata": {
        "id": "WP1ts4Qb8p4e"
      },
      "outputs": [],
      "source": [
        "# 마지막 값 - 음수인덱스 사용\n"
      ]
    },
    {
      "cell_type": "code",
      "execution_count": null,
      "metadata": {
        "id": "kDrkige7P02L"
      },
      "outputs": [],
      "source": [
        "# 마지막 값 자료형 확인\n"
      ]
    },
    {
      "cell_type": "code",
      "source": [
        "# 요소별 연산 - 자료형에 주의\n"
      ],
      "metadata": {
        "id": "JkGBAbovRTYE"
      },
      "execution_count": null,
      "outputs": []
    },
    {
      "cell_type": "markdown",
      "metadata": {
        "id": "4DoYKCgE8p4f"
      },
      "source": [
        "### 3. 리스트 슬라이싱 (List Slicing)\n",
        "- 리스트도 문자열처럼 인덱싱과 슬라이싱이 가능하다.\n",
        "- **슬라이싱(Slicing):** 특정 인덱스가 아닌 `일정 인덱스 범위의 값을 불러오는 것`\n",
        "\n",
        "[시작 인덱스 :끝 인덱스 : 간격 step값]\n",
        "\n",
        "슬라이싱은 `시작 인덱스:끝 인덱스` 형식을 사용하는데, 시작 인덱스의 값은 포함하지만 끝 인덱스의 값은 포함하지 않는다.\n",
        "\n",
        "간격에 음수를 사용하면 결과가 역순이 된다. 리스트의 순서를 뒤집고 싶을때는, `[::-1]` 을 사용한다.\n",
        "\n",
        "```python\n",
        "x = ['a', 'b', 'c', 'd', 'e']\n",
        "\n",
        "x[::-1]  # 리스트의 순서 뒤집기\n",
        "```\n",
        "\n",
        "```\n",
        "['e', 'd', 'c', 'b', 'a']\n",
        "```"
      ]
    },
    {
      "cell_type": "code",
      "execution_count": null,
      "metadata": {
        "id": "srgbZZeFQN-2"
      },
      "outputs": [],
      "source": [
        "mylist = [10, 20, 30, '40', '50', '60']"
      ]
    },
    {
      "cell_type": "code",
      "execution_count": null,
      "metadata": {
        "id": "fgaPpo3wQX3D"
      },
      "outputs": [],
      "source": [
        "# 시작값=0, 끝값=3인 경우\n"
      ]
    },
    {
      "cell_type": "code",
      "execution_count": null,
      "metadata": {
        "id": "6mSFmIQrRsGv"
      },
      "outputs": [],
      "source": [
        "# 시작값=3, 끝값=6인 경우\n"
      ]
    },
    {
      "cell_type": "code",
      "execution_count": null,
      "metadata": {
        "id": "5A2CxlJ7Q6ry"
      },
      "outputs": [],
      "source": [
        "# 시작값과 끝값이 공백일 경우\n"
      ]
    },
    {
      "cell_type": "code",
      "execution_count": null,
      "metadata": {
        "id": "3h4sCaBCQ6k1"
      },
      "outputs": [],
      "source": [
        "# 시작값, 끝값, 스텝값이 공백일 경우\n"
      ]
    },
    {
      "cell_type": "code",
      "execution_count": null,
      "metadata": {
        "id": "na99GvS7RKhv"
      },
      "outputs": [],
      "source": [
        "# 시작값과 끝값 공백, 스텝값=2인 경우\n"
      ]
    },
    {
      "cell_type": "markdown",
      "metadata": {
        "id": "77UlL74J8p4e"
      },
      "source": [
        "### 4. 다중 리스트 (Multiple List)"
      ]
    },
    {
      "cell_type": "markdown",
      "metadata": {
        "id": "KXjeEd-V8p4e"
      },
      "source": [
        "리스트 안의 요소 추출"
      ]
    },
    {
      "cell_type": "markdown",
      "metadata": {
        "id": "QgXh5sSR8p4e"
      },
      "source": [
        "리스트 안의 일부 문자만 뽑고 싶을때 인덱싱하는 방법\n",
        "\n",
        "``` python\n",
        "\n",
        "리스트명[해당sublist인덱스][해당요소인덱스]\n",
        "mylist[0][0]\n",
        "\n",
        "```\n"
      ]
    },
    {
      "cell_type": "code",
      "source": [
        "w = [1, 3, 5]\n",
        "x = ['2', '넷', '여섯']\n",
        "y = [0, [10, 20, 30], '삼십']"
      ],
      "metadata": {
        "id": "EaBt6at9RdZj"
      },
      "execution_count": null,
      "outputs": []
    },
    {
      "cell_type": "code",
      "source": [
        "z = x + y\n",
        "z"
      ],
      "metadata": {
        "id": "p2jD3xQZRdZj"
      },
      "execution_count": null,
      "outputs": []
    },
    {
      "cell_type": "code",
      "source": [],
      "metadata": {
        "id": "oBu32WVtRdZk"
      },
      "execution_count": null,
      "outputs": []
    },
    {
      "cell_type": "code",
      "source": [],
      "metadata": {
        "id": "DsyRwzsATnm3"
      },
      "execution_count": null,
      "outputs": []
    },
    {
      "cell_type": "code",
      "source": [],
      "metadata": {
        "id": "PFz7w-fVTtPg"
      },
      "execution_count": null,
      "outputs": []
    },
    {
      "cell_type": "code",
      "execution_count": null,
      "metadata": {
        "id": "TK5OHJ8TTj51"
      },
      "outputs": [],
      "source": []
    },
    {
      "cell_type": "markdown",
      "metadata": {
        "id": "FoHN-GugS2fX"
      },
      "source": [
        "### 5. 리스트의 메소드 (Methods) 요소추가/제거/정렬 등\n",
        "- **리스트이름.append(a)**: 리스트 뒤에 추가 (일반적으로 많이 사용함)\n",
        "\n",
        "- **리스트이름.insert()** : 특정 인덱스 위치에 추가\n",
        ": a번째 위치에 b를 추가하는건 insert(a,b) 사용\n",
        "\n",
        "- **리스트이름.extend()**\n",
        ": append는 값의 추가이며 extend는 리스트 확장\n",
        "```python\n",
        "리스트이름[요소번호].extend([1, 2, 3])\n",
        "```\n",
        "- **리스트이름.remove()**\n",
        ": 특정 요소 제거 (동일 요소가 여러 개일 경우 처음 것만 제거)\n",
        "\n",
        "- **리스트이름.pop(index)** : 특정index 위치의 요소 제거\n",
        "```python\n",
        "리스트이름.remove(제거할 요소)\n",
        "리스트이름.pop(1) #1번 인덱스 위치의 요소제거\n",
        "del 제거할변수명  #변수가 제거된다(리스트 이외의 모든 변수에 적용 가능/신중히 사용할 것)\n",
        "```\n",
        "\n",
        "- **리스트이름.sort()**\n",
        ": 정렬\n",
        "\n",
        "- **리스트이름.reverse()**\n",
        ": 역순으로 나열\n",
        "\n",
        "- **리스트이름.index()**\n",
        ": 위치반환\n",
        "\n",
        "- **리스트이름.count(a)**\n",
        ": 특정값(a) 세기\n",
        "\n",
        "- **list(range( ))** 를 통해서 **range()** 함수로 생성한 값을 리스트에 넣을 수 있다.\n",
        "\n",
        "- 리스트가 **숫자형** 으로 이루어진 경우, 숫자계산하는 파이썬 내장함수 사용가능.\n",
        "    - **len(), min(), max(), sum(), any(0이 하나라도 있는가)**\n",
        "    "
      ]
    },
    {
      "cell_type": "markdown",
      "metadata": {
        "id": "JDJPX1rHa0pC"
      },
      "source": [
        "요소의 위치반환 .index()\n",
        "\n",
        "- 요소가 여러 개일 경우 최초 값 기준\n",
        "\n",
        "- 요소가 없을 경우 ValueError\n",
        "```python\n",
        "ValueError: [] is not in list\n",
        "```\n",
        "\n"
      ]
    },
    {
      "cell_type": "code",
      "execution_count": null,
      "metadata": {
        "id": "J9ZzOZca010j"
      },
      "outputs": [],
      "source": [
        "# 위치 반환 .index\n",
        "mylist = [10, 20, 20, 30, 30, '30']"
      ]
    },
    {
      "cell_type": "code",
      "execution_count": null,
      "metadata": {
        "id": "tefm-pJBbOt_"
      },
      "outputs": [],
      "source": []
    },
    {
      "cell_type": "code",
      "execution_count": null,
      "metadata": {
        "id": "lJJEwkwhbQc_"
      },
      "outputs": [],
      "source": []
    },
    {
      "cell_type": "markdown",
      "metadata": {
        "id": "hD9C5vYebnbl"
      },
      "source": [
        "특정 요소 값의 개수 세기 .count()\n",
        "- 요소가 없을 경우 **0** 이 출력된다."
      ]
    },
    {
      "cell_type": "code",
      "execution_count": null,
      "metadata": {
        "id": "MyQY-CJ61BKU"
      },
      "outputs": [],
      "source": [
        "# 특정 값의 개수 세기 .count()\n",
        "mylist = [10, 20, 20, 30, 30, '30']"
      ]
    },
    {
      "cell_type": "code",
      "execution_count": null,
      "metadata": {
        "id": "7-pdrUfn9k4m"
      },
      "outputs": [],
      "source": []
    },
    {
      "cell_type": "code",
      "execution_count": null,
      "metadata": {
        "id": "ZISL_G8zbsoV"
      },
      "outputs": [],
      "source": []
    },
    {
      "cell_type": "code",
      "execution_count": null,
      "metadata": {
        "id": "0fL4DVfnQXmm"
      },
      "outputs": [],
      "source": [
        "# 숫자형으로만 이루어진 리스트는 숫자계산 가능\n",
        "mylist3 = [0, 10, 30.5, 50, 70.77, 90]\n",
        "print(len(mylist3))\n",
        "print(min(mylist3))\n",
        "print(max(mylist3))\n",
        "print(sum(mylist3))\n",
        "print(any(mylist3))"
      ]
    },
    {
      "cell_type": "markdown",
      "metadata": {
        "id": "MUmvHl-zuY0H"
      },
      "source": [
        "리스트이름.append() : 요소 추가"
      ]
    },
    {
      "cell_type": "code",
      "execution_count": null,
      "metadata": {
        "id": "hVdhSeXxSSPc"
      },
      "outputs": [],
      "source": [
        "fruits = []\n",
        "fruits.append('딸기')\n",
        "fruits"
      ]
    },
    {
      "cell_type": "markdown",
      "metadata": {
        "id": "MNkh6T3-ZNz-"
      },
      "source": [
        ".append() 를 이용해서 여러 개의 값을 추가하고 싶을 경우\n",
        "- TypeError: list.append() takes exactly one argument\n"
      ]
    },
    {
      "cell_type": "code",
      "execution_count": null,
      "metadata": {
        "id": "XtytM0XIYlo3"
      },
      "outputs": [],
      "source": [
        "fruits = ['사과', '배']"
      ]
    },
    {
      "cell_type": "code",
      "execution_count": null,
      "metadata": {
        "id": "RzCPBh5dYu5L"
      },
      "outputs": [],
      "source": [
        "# 여러개의 값을 추가하고 싶을 경우?\n",
        "# AttributeError: 'NoneType' object has no attribute 'append'"
      ]
    },
    {
      "cell_type": "code",
      "source": [],
      "metadata": {
        "id": "IZOWqXtRgZ_w"
      },
      "execution_count": null,
      "outputs": []
    },
    {
      "cell_type": "code",
      "execution_count": null,
      "metadata": {
        "id": "6ptNEsiKY2iK"
      },
      "outputs": [],
      "source": []
    },
    {
      "cell_type": "code",
      "execution_count": null,
      "metadata": {
        "id": "xcADK0iT1BQw"
      },
      "outputs": [],
      "source": [
        "# append는 개별 요소의 추가이며 extend는 리스트 확장(여러 값)\n",
        "fruits.append([10, 20, 30, 40])\n",
        "fruits"
      ]
    },
    {
      "cell_type": "markdown",
      "metadata": {
        "id": "dISxcVMsXGqU"
      },
      "source": [
        "리스트이름.insert(a, b)\n",
        "- a번요소자리에, b값을 넣는다"
      ]
    },
    {
      "cell_type": "code",
      "execution_count": null,
      "metadata": {
        "id": "0DTOhn80ZziM"
      },
      "outputs": [],
      "source": [
        "mylist = [[1, 3], ['둘', '넷'], 20, 30]"
      ]
    },
    {
      "cell_type": "code",
      "execution_count": null,
      "metadata": {
        "id": "n9maPmhWW-51"
      },
      "outputs": [],
      "source": [
        "# a번 위치에 b를 추가하는건 insert(a,b) 사용\n",
        "mylist.insert(1, '1번위치')\n",
        "mylist"
      ]
    },
    {
      "cell_type": "code",
      "source": [],
      "metadata": {
        "id": "D6EfFdPbgf54"
      },
      "execution_count": null,
      "outputs": []
    },
    {
      "cell_type": "markdown",
      "metadata": {
        "id": "yxi8tkJgt5_G"
      },
      "source": [
        "리스트이름.sort(): 정렬하기"
      ]
    },
    {
      "cell_type": "code",
      "execution_count": null,
      "metadata": {
        "id": "J0KfS4o-0oEe"
      },
      "outputs": [],
      "source": [
        "# 정렬하기 .sort()\n",
        "# 같은 유형의 값으로만 들어있어야 비교가 가능하고 정렬이 됨\n",
        "# TypeError: '<' not supported between instances of 'int' and 'str'\n",
        "mylist = [70, 90, 50, 30]\n",
        "mylist2 = [100, 50, '가', '나']"
      ]
    },
    {
      "cell_type": "code",
      "execution_count": null,
      "metadata": {
        "id": "qSOG6y7OurkV"
      },
      "outputs": [],
      "source": [
        "mylist.sort()\n",
        "mylist"
      ]
    },
    {
      "cell_type": "code",
      "execution_count": null,
      "metadata": {
        "id": "lfdU9tD4uueU"
      },
      "outputs": [],
      "source": [
        "mylist2.sort()\n",
        "mylist2"
      ]
    },
    {
      "cell_type": "code",
      "execution_count": null,
      "metadata": {
        "id": "ijE48Z-pTxNx"
      },
      "outputs": [],
      "source": [
        "mylist3 = ['다', '라', '가', '나']\n",
        "mylist3.sort()\n",
        "mylist3"
      ]
    },
    {
      "cell_type": "markdown",
      "metadata": {
        "id": "ZDtbhVnqt85H"
      },
      "source": [
        "리스트이름.reverse() : 역순정렬"
      ]
    },
    {
      "cell_type": "code",
      "execution_count": null,
      "metadata": {
        "id": "NCxoi-4u01vh"
      },
      "outputs": [],
      "source": [
        "# 역순정렬 .reverse()\n",
        "mylist = [70, 90, 50, 30]"
      ]
    },
    {
      "cell_type": "code",
      "execution_count": null,
      "metadata": {
        "id": "Y-a8kNAR3rtH"
      },
      "outputs": [],
      "source": []
    },
    {
      "cell_type": "markdown",
      "metadata": {
        "id": "lAFppC5RZa5H"
      },
      "source": [
        "리스트이름.remove(): 특정 요소값 제거"
      ]
    },
    {
      "cell_type": "code",
      "execution_count": null,
      "metadata": {
        "id": "C4fKvHw005XJ"
      },
      "outputs": [],
      "source": [
        "# 값의 삭제 .remove()\n",
        "# 여러 개일 경우 맨 처음 나오는 한개만 삭제\n",
        "mylist = [10, '10', 10, 20, 20, '20', 30]\n",
        "mylist"
      ]
    },
    {
      "cell_type": "code",
      "execution_count": null,
      "metadata": {
        "id": "MH2ac0lzZhlN"
      },
      "outputs": [],
      "source": [
        "mylist.remove(10)\n",
        "mylist"
      ]
    },
    {
      "cell_type": "markdown",
      "metadata": {
        "id": "pcdWObSgvD2G"
      },
      "source": [
        "리스트이름.pop() : 인덱스 번호로 하나의 값 제거"
      ]
    },
    {
      "cell_type": "code",
      "execution_count": null,
      "metadata": {
        "id": "MEYaK6C0vBel"
      },
      "outputs": [],
      "source": [
        "# pop() 인덱스 번호로 제거가능\n",
        "mylist = [10, '10', 10, 20, 20, '20', 30]"
      ]
    },
    {
      "cell_type": "code",
      "execution_count": null,
      "metadata": {
        "id": "Z2sg_BFH3ucU"
      },
      "outputs": [],
      "source": [
        "mylist.pop(1)\n",
        "mylist"
      ]
    },
    {
      "cell_type": "code",
      "execution_count": null,
      "metadata": {
        "id": "gnEJHNIqUseZ"
      },
      "outputs": [],
      "source": [
        "# 마지막 값 제거\n"
      ]
    },
    {
      "cell_type": "markdown",
      "metadata": {
        "id": "byu1wsu6vIfb"
      },
      "source": [
        "리스트에서 값 제거\n",
        "\n",
        "`del` 함수는 슬라이싱과 인덱싱을 사용해 제거가 가능하다.\n",
        "\n",
        "del 변수명 : 리스트만이 아니라 모든 변수 자체를 제거"
      ]
    },
    {
      "cell_type": "code",
      "execution_count": null,
      "metadata": {
        "id": "ZDzk_CBg24om"
      },
      "outputs": [],
      "source": [
        "mylist = [10, '10', 10, 20, 20, '20', 30]"
      ]
    },
    {
      "cell_type": "code",
      "execution_count": null,
      "metadata": {
        "id": "y2mFtLh724om"
      },
      "outputs": [],
      "source": [
        "del mylist[-1] # 마지막 값 제거 mylist.pop(-1)\n",
        "mylist"
      ]
    },
    {
      "cell_type": "code",
      "execution_count": null,
      "metadata": {
        "id": "kA_Dh4hK24om"
      },
      "outputs": [],
      "source": [
        "# 첫 두개의 값 제거\n",
        "del mylist[0:2] #0, 1번 제거\n",
        "mylist"
      ]
    },
    {
      "cell_type": "code",
      "execution_count": null,
      "metadata": {
        "id": "PL3CCosxvIVc"
      },
      "outputs": [],
      "source": [
        "# 변수 자체 제거\n"
      ]
    },
    {
      "cell_type": "code",
      "source": [],
      "metadata": {
        "id": "i_BnIBWUg36Q"
      },
      "execution_count": null,
      "outputs": []
    },
    {
      "cell_type": "markdown",
      "metadata": {
        "id": "W7Jf6gxxt3E1"
      },
      "source": [
        "### 6. 리스트 함축 list comprehension\n",
        "\n",
        "여러 줄의 코드를 간단히 나타낼 수 있어서 자주 사용된다.\n",
        "\n",
        "`for` 문을 사용해, `list`를 여러 방법으로 만들 수 있다.\n",
        "\n",
        "먼저, 빈리스트를 생성한 후에, `for` 문을 통해 빈 리스트에 값을 `append` 하는 방식이 있다.\n",
        "\n",
        "```python\n",
        "list_item = []\n",
        "for item in range(1, 6):\n",
        "  list_item.append(item)\n",
        "```\n",
        "```python\n",
        "list_item\n",
        "```\n",
        "\n",
        "```\n",
        "[1, 2, 3, 4, 5]\n",
        "```\n",
        "\n",
        "\n",
        "\n",
        "이외에도, list comprehension 을 사용해 같은 코드를 작성할 수 있다.\n",
        "\n",
        "list comprehension 은 리스트 안에 한 줄로 `for` 문을 작성하는 것을 뜻한다.\n",
        "\n",
        "리스트 안에 가장 처음 들어갈 내용은, `for` 문 마다 리스트에 넣을 항목이 들어간다.\n",
        "\n",
        "```python\n",
        "[item for item in range(1, 6)]\n",
        "```\n",
        "\n",
        "```\n",
        "[1, 2, 3, 4, 5]\n",
        "```\n",
        "\n",
        "위의 코드와 동일한 결과를 가진다.\n",
        "\n",
        "이렇게 작성을 하면, 코드를 간소화 시킬 수 있다는 장점이 있다.\n"
      ]
    },
    {
      "cell_type": "code",
      "execution_count": null,
      "metadata": {
        "id": "OKE2ZK8iuRej"
      },
      "outputs": [],
      "source": [
        "# 리스트 [1,2,3] 의 모든 정수에 대하여 제곱값을 구하려면?\n",
        "# 조건문 - for문\n",
        "xsquare = []\n",
        "for x in [1, 2, 3]:\n",
        "    xsquare.append(x ** 2)\n",
        "    print(xsquare)"
      ]
    },
    {
      "cell_type": "code",
      "execution_count": null,
      "metadata": {
        "id": "Cw4n97spt3Zn"
      },
      "outputs": [],
      "source": [
        "# 위 코드를 한 줄로 표현 가능\n"
      ]
    },
    {
      "cell_type": "code",
      "execution_count": null,
      "metadata": {
        "id": "iRP1Ypujulc3"
      },
      "outputs": [],
      "source": [
        "# 0부터 4까지 0, 1, 2, 3, 4 출력\n",
        "# range 함수로 가능\n"
      ]
    },
    {
      "cell_type": "markdown",
      "metadata": {
        "id": "Rmpt7Zd4jVat"
      },
      "source": [
        "- 대문자, 소문자 변환"
      ]
    },
    {
      "cell_type": "code",
      "execution_count": null,
      "metadata": {
        "id": "sscTeqXduJU-"
      },
      "outputs": [],
      "source": [
        "fruits = ['apple','Pineapple','BANANA']\n",
        "# upper\n",
        "[x.upper() for x in fruits ]"
      ]
    },
    {
      "cell_type": "code",
      "execution_count": null,
      "metadata": {
        "id": "gwPkcYmJyMyG"
      },
      "outputs": [],
      "source": [
        "# lower\n",
        "[x.lower() for x in fruits]"
      ]
    },
    {
      "cell_type": "markdown",
      "metadata": {
        "id": "eU5QB8PRjYfM"
      },
      "source": [
        "- 리스트 각 원소의 첫번째 글자만 추출"
      ]
    },
    {
      "cell_type": "code",
      "execution_count": null,
      "metadata": {
        "id": "P7TkNjDCFlsY"
      },
      "outputs": [],
      "source": [
        "[x[0] for x in fruits]"
      ]
    },
    {
      "cell_type": "markdown",
      "metadata": {
        "id": "bzishVLw8p4g"
      },
      "source": [
        "### 실습문제\n",
        "\n",
        "1. 아래와 같이 리스트 안에 리스트가 있는 형태의 리스트 변수가 있을 때,\n",
        "리스트 인덱싱을 활용하여 mylist03 이라는 리스트 변수의 1번째(0번요소), 2번째, 3번째 값을 출력하세요.\n",
        "\n",
        "\n",
        "    mylist03 = [1, 2, 3, ['my','name','길동']]\n",
        "\n",
        "    "
      ]
    },
    {
      "cell_type": "code",
      "execution_count": null,
      "metadata": {
        "id": "K7a65Hi58p4g"
      },
      "outputs": [],
      "source": [
        "mylist03 = [1, 2, 3, ['my','name','길동']]"
      ]
    },
    {
      "cell_type": "code",
      "execution_count": null,
      "metadata": {
        "id": "TzDDmgCc8dSl"
      },
      "outputs": [],
      "source": []
    },
    {
      "cell_type": "markdown",
      "metadata": {
        "id": "NNVZ3K2l8p4g"
      },
      "source": [
        "2.리스트 인덱싱을 활용하여 mylist03 이라는 리스트 변수에서 **'name'** 만 출력해보세요."
      ]
    },
    {
      "cell_type": "code",
      "execution_count": null,
      "metadata": {
        "id": "6RG055rC8p4h"
      },
      "outputs": [],
      "source": []
    },
    {
      "cell_type": "markdown",
      "metadata": {
        "id": "3sSja5l8dCF5"
      },
      "source": [
        "3. 리스트 인덱싱을 활용하여 다음 리스트에서 **5511** 만 출력해보세요.\n",
        "\n",
        "    ['종로구', ['2호선', '3호선', '4호선', '5호선'], ['bus', [5511, 5516]], 100]\n",
        "\n"
      ]
    },
    {
      "cell_type": "code",
      "execution_count": null,
      "metadata": {
        "id": "uxsx-YlrdBcC"
      },
      "outputs": [],
      "source": [
        "mylist04 = ['종로구', ['2호선', '3호선', '4호선', '5호선'], ['bus', [5511, 5516]], 100]"
      ]
    },
    {
      "cell_type": "code",
      "source": [],
      "metadata": {
        "id": "SuSXy6oZcovR"
      },
      "execution_count": null,
      "outputs": []
    },
    {
      "cell_type": "markdown",
      "metadata": {
        "id": "7cWdZaMcdDET"
      },
      "source": [
        "4. 리스트 슬라이싱을 활용하여 다음 리스트에서 **'3호선', '4호선', '5호선'** 을 출력해보세요.\n",
        "\n",
        "    ['종로구', ['2호선', '3호선', '4호선', '5호선'], ['bus', [5511, 5516]], 100]\n"
      ]
    },
    {
      "cell_type": "code",
      "execution_count": null,
      "metadata": {
        "id": "_3tlA3Sae-pA"
      },
      "outputs": [],
      "source": [
        "mylist04 = ['종로구', ['2호선', '3호선', '4호선', '5호선'], ['bus', [5511, 5516]], 100]"
      ]
    },
    {
      "cell_type": "code",
      "execution_count": null,
      "metadata": {
        "id": "GmARsPhfdDsW"
      },
      "outputs": [],
      "source": []
    },
    {
      "cell_type": "markdown",
      "metadata": {
        "id": "9s4KD6w4ff5y"
      },
      "source": [
        "5. 리스트 슬라이싱을 활용하여 다음 리스트에서 **'2호선, 5호선'** 을 출력해보세요.\n",
        "\n",
        "\n",
        "    ['종로구', ['2호선', '3호선', '4호선', '5호선'], ['bus', [5511, 5516]], 100]\n",
        "\n"
      ]
    },
    {
      "cell_type": "code",
      "execution_count": null,
      "metadata": {
        "id": "S5bDOj7Lffrv"
      },
      "outputs": [],
      "source": [
        "mylist04 = ['종로구', ['2호선', '3호선', '4호선', '5호선'], ['bus', [5511, 5516]], 100]"
      ]
    },
    {
      "cell_type": "code",
      "execution_count": null,
      "metadata": {
        "id": "2Lk4TCiBfsMS"
      },
      "outputs": [],
      "source": []
    },
    {
      "cell_type": "markdown",
      "metadata": {
        "id": "NR4PpLX9Ir_I"
      },
      "source": [
        "---\n",
        "# 튜플 Tuple\n",
        "\n",
        "\n",
        "튜플은 위치마다 정해진 의미가 있는 경우에 사용된다. 만약 평면상에서 좌표를 두 개의 수로 나타낸다고 해보자. 이 경우 0번 값은 가로 좌표, 1번 값은 세로 좌표와 같은 식으로 정해진 의미를 가진다. 여기에 값을 추가하거나 뺄 필요가 없기 때문에 이 경우엔 튜플을 쓴다.\n",
        "\n",
        "만약 좌표를 리스트로 나타낼 수도 있다. 하지만 프로그램이 복잡해지면  리스트는 실수로 여기에 값을 추가하거나 뺄 수도 있다. 그러면 이 좌표에 가로와 세로 좌표가 모두 들어있을지 아니면 가로 좌표만 있을지 또는 가로와 세로 외에 다른 무엇이 들어있을지 장담할 수가 없게 된다.\n",
        "\n",
        "튜플은 형태가 고정되어 있기 때문에 좀 더 안심하고 쓸 수 있다. 또한 추가/삭제/수정 등에 대비할 필요가 없기 때문에 리스트보다 약간 더 효율적인 내부 구조를 가지고 있다.\n",
        "\n",
        "튜플은 값의 생성/삭제/수정이 불가하지만 그외 기능은 리스트와 동일하다. 인덱스/인덱싱/슬라이싱/연산 등은 모두 가능하다.\n",
        "\n",
        "\n",
        "## 튜플 만드는 법\n",
        "\n",
        "튜플은 값들을 소괄호 `( )`로 감싼다.\n",
        "\n",
        "```python\n",
        "()    # 빈 튜플\n",
        "('a',)    # 값이 1개인 튜플\n",
        "('a', 'b', 'c')  # 값이 3개인 튜플\n",
        "```\n",
        "\n",
        "### 튜플의 인덱싱과 슬라이싱\n",
        "\n",
        "튜플의 인덱싱과 슬라이싱은 리스트와 같다.\n",
        "\n",
        "```python\n",
        "x = (1, 2, 3)\n",
        "x[0]  # 첫번째 값 선택\n",
        "```\n",
        "\n",
        "```\n",
        "1\n",
        "```\n",
        "\n",
        "슬라이싱을 할 경우, 값이 튜플로 반환된다.\n",
        "\n",
        "```python\n",
        "x[0:2]  # 첫 두 값 선택\n",
        "```\n",
        "\n",
        "```\n",
        "(1, 2)\n",
        "```\n",
        "\n",
        "\n",
        "\n",
        "## 합치기 & 반복하기\n",
        "\n",
        "튜플 역시 더하기로 합치거나\n",
        "\n",
        "```python\n",
        "y = (4, 5, 6)\n",
        "```\n",
        "\n",
        "```python\n",
        "x + y  # 두 튜플 합치기\n",
        "```\n",
        "\n",
        "```\n",
        "(1, 2, 3, 4, 5, 6)\n",
        "```\n",
        "\n",
        "곱하기로 반복할 수 있다.\n",
        "\n",
        "```python\n",
        "x * 3  # 세번 반복하기\n",
        "```\n",
        "\n",
        "```\n",
        "(1, 2, 3, 1, 2, 3, 1, 2, 3)\n",
        "```\n",
        "\n",
        "\n",
        "\n",
        "## 수정하기\n",
        "\n",
        "튜플의 값을 수정하려 시도하면, `TypeError`가 발생한다.\n",
        "\n",
        "```python\n",
        "x[0] = 'a'  # 첫 값을 'a'로 수정\n",
        "```\n",
        "\n",
        "```\n",
        "Traceback (most recent call last):\n",
        "  File \"<stdin>\", line 1, in <module>\n",
        "TypeError: 'tuple' object does not support item assignment\n",
        "\n",
        "```\n",
        "\n",
        "\n",
        "\n",
        "튜플의 값을 변경하고 싶다면, 튜플을 리스트로 바꾼 후, 다시 튜플로 만드는것도 한 방법이다.\n",
        "\n",
        "```python\n",
        "x = list(x)  # 튜플을 리스트로 변환\n",
        "```\n",
        "\n",
        "```python\n",
        "x[0] = 'a'  # 원하는 값 수정\n",
        "x  \n",
        "```\n",
        "\n",
        "```\n",
        "['a', 2, 3]\n",
        "```\n",
        "\n",
        "\n",
        "\n",
        "```python\n",
        "x = tuple(x)  # 리스트를 다시 튜플로 변환\n",
        "```\n",
        "\n",
        "```\n",
        "('a', 2, 3)\n",
        "```"
      ]
    },
    {
      "cell_type": "code",
      "execution_count": null,
      "metadata": {
        "id": "_oJt4gCcJgVt"
      },
      "outputs": [],
      "source": [
        "(1, 2, 3), type((1, 2, 3))"
      ]
    },
    {
      "cell_type": "code",
      "source": [
        "list()\n",
        "tuple()"
      ],
      "metadata": {
        "id": "edNyga_vdmJ2"
      },
      "execution_count": null,
      "outputs": []
    },
    {
      "cell_type": "markdown",
      "metadata": {
        "id": "pwsI_oaDJe_q"
      },
      "source": [
        "`tuple` 함수에 다른 값을 넣으면 튜플로 변환한다. 예를 들어 리스트를 `tuple` 함수에 넣으면 튜플로 바뀐다.\n"
      ]
    },
    {
      "cell_type": "code",
      "execution_count": null,
      "metadata": {
        "id": "BQa-l3LRJfPZ"
      },
      "outputs": [],
      "source": [
        "tuple([1, 2, 3])"
      ]
    },
    {
      "cell_type": "markdown",
      "metadata": {
        "id": "wAD2MLx8JkXU"
      },
      "source": [
        "### 튜플의 인덱싱과 슬라이싱\n",
        "\n",
        "튜플의 인덱싱과 슬라이싱은 리스트와 같다.\n",
        "\n",
        "```python\n",
        "x = (1, 2, 3)\n",
        "x[0]  # 첫번째 값 선택\n",
        "```\n",
        "\n",
        "```\n",
        "1\n",
        "```\n",
        "\n",
        "슬라이싱을 할 경우, 값이 튜플로 반환된다.\n",
        "\n",
        "```python\n",
        "x[0:2]  # 첫 두 값 선택\n",
        "```\n",
        "\n",
        "```\n",
        "(1, 2)\n",
        "```\n",
        "\n",
        "\n",
        "\n",
        "## 합치기 & 반복하기\n",
        "\n",
        "튜플 역시 더하기로 합치거나\n",
        "\n",
        "```python\n",
        "y = (4, 5, 6)\n",
        "```\n",
        "\n",
        "```python\n",
        "x + y  # 두 튜플 합치기\n",
        "```\n",
        "\n",
        "```\n",
        "(1, 2, 3, 4, 5, 6)\n",
        "```\n",
        "\n",
        "곱하기로 반복할 수 있다.\n",
        "\n",
        "```python\n",
        "x * 3  # 세번 반복하기\n",
        "```\n",
        "\n",
        "```\n",
        "(1, 2, 3, 1, 2, 3, 1, 2, 3)\n",
        "```\n",
        "\n",
        "\n",
        "\n",
        "## 수정하기\n",
        "\n",
        "튜플의 값을 수정하려 시도하면, `TypeError`가 발생한다.\n",
        "\n",
        "```python\n",
        "x[0] = 'a'  # 첫 값을 'a'로 수정\n",
        "```\n",
        "\n",
        "```\n",
        "Traceback (most recent call last):\n",
        "  File \"<stdin>\", line 1, in <module>\n",
        "TypeError: 'tuple' object does not support item assignment\n",
        "\n",
        "```\n",
        "\n",
        "\n",
        "\n",
        "튜플의 값을 변경하고 싶다면, 튜플을 리스트로 바꾼 후, 다시 튜플로 만드는것도 한 방법이다.\n",
        "\n",
        "```python\n",
        "x = list(x)  # 튜플을 리스트로 변환\n",
        "```\n",
        "\n",
        "```python\n",
        "x[0] = 'a'  # 원하는 값 수정\n",
        "x  \n",
        "```\n",
        "\n",
        "```\n",
        "['a', 2, 3]\n",
        "```\n",
        "\n",
        "\n",
        "\n",
        "```python\n",
        "x = tuple(x)  # 리스트를 다시 튜플로 변환\n",
        "```\n",
        "\n",
        "```\n",
        "('a', 2, 3)\n",
        "```\n",
        "\n"
      ]
    },
    {
      "cell_type": "code",
      "source": [],
      "metadata": {
        "id": "OQeydCe7SFIj"
      },
      "execution_count": null,
      "outputs": []
    },
    {
      "cell_type": "markdown",
      "metadata": {
        "id": "nwogoVjz8p4i"
      },
      "source": [
        "### 1. Tuple 생성\n",
        "- 요소가 1개인 튜플 생성시, 콤마(,) 를 설정해주어야 한다."
      ]
    },
    {
      "cell_type": "code",
      "execution_count": null,
      "metadata": {
        "id": "nIKMKeiv8p4j"
      },
      "outputs": [],
      "source": [
        "t1 = () #비어있는 튜플"
      ]
    },
    {
      "cell_type": "code",
      "execution_count": null,
      "metadata": {
        "id": "5Uo0038W8p4j"
      },
      "outputs": [],
      "source": [
        "print(t1)\n",
        "type(t1)"
      ]
    },
    {
      "cell_type": "code",
      "source": [
        "tuple()"
      ],
      "metadata": {
        "id": "HhGgaUUGJndO"
      },
      "execution_count": null,
      "outputs": []
    },
    {
      "cell_type": "markdown",
      "metadata": {
        "id": "Euczc5TrSH6l"
      },
      "source": [
        "`tuple` 함수에 다른 값을 넣으면 튜플로 변환한다. 예를 들어 리스트를 `tuple` 함수에 넣으면 튜플로 바뀐다.\n"
      ]
    },
    {
      "cell_type": "code",
      "execution_count": null,
      "metadata": {
        "id": "2cCU6dBlSH6l"
      },
      "outputs": [],
      "source": [
        "tuple([1, 2, 3])"
      ]
    },
    {
      "cell_type": "code",
      "source": [
        "list([1,2,3])"
      ],
      "metadata": {
        "id": "SgYKxtoO1IM6"
      },
      "execution_count": null,
      "outputs": []
    },
    {
      "cell_type": "markdown",
      "source": [
        "숫자 1개만 튜플로 만들때는 쉼표(,)를 붙여야 한다"
      ],
      "metadata": {
        "id": "pbzN9xQ_1Jj7"
      }
    },
    {
      "cell_type": "code",
      "source": [
        "# 숫자 1개만 튜플로 만들때는 쉼표(,)를 붙여야 한다\n",
        "a = 10\n",
        "b = (20)\n",
        "print(a, b, type(a), type(b))"
      ],
      "metadata": {
        "id": "u30iTbYahDZw"
      },
      "execution_count": null,
      "outputs": []
    },
    {
      "cell_type": "code",
      "execution_count": null,
      "metadata": {
        "id": "N48nHVdh8p4j"
      },
      "outputs": [],
      "source": [
        "a = 10\n",
        "b = (20, )\n",
        "print(a, b, type(a), type(b))"
      ]
    },
    {
      "cell_type": "code",
      "source": [
        "c = (10, 20, 30)\n",
        "print(c, type(c))"
      ],
      "metadata": {
        "id": "rNWWtyv4KL5N"
      },
      "execution_count": null,
      "outputs": []
    },
    {
      "cell_type": "code",
      "execution_count": null,
      "metadata": {
        "id": "UD41isRo8p4j"
      },
      "outputs": [],
      "source": [
        "# 요소 여러 개가 있을 경우 괄호생략 가능\n"
      ]
    },
    {
      "cell_type": "code",
      "execution_count": null,
      "metadata": {
        "id": "A9peHdJH8p4w"
      },
      "outputs": [],
      "source": [
        "# 리스트처럼 튜플도 튜플을 요소값으로 가질 수 있음\n"
      ]
    },
    {
      "cell_type": "code",
      "execution_count": null,
      "metadata": {
        "id": "yCEiyJtJ1BWI"
      },
      "outputs": [],
      "source": [
        "# 문자 숫자 결합된 튜플 가능\n"
      ]
    },
    {
      "cell_type": "code",
      "execution_count": null,
      "metadata": {
        "id": "yPDzNTAE8p4y"
      },
      "outputs": [],
      "source": [
        "# 튜플의 길이 출력\n"
      ]
    },
    {
      "cell_type": "code",
      "source": [],
      "metadata": {
        "id": "HWr8bmE2SE9v"
      },
      "execution_count": null,
      "outputs": []
    },
    {
      "cell_type": "markdown",
      "metadata": {
        "id": "DPF1ED1n8p4z"
      },
      "source": [
        "### Tuple 요소 추가/변경/삭제 등"
      ]
    },
    {
      "cell_type": "markdown",
      "metadata": {
        "id": "RtkIxC-m8p4z"
      },
      "source": [
        "a. Tuple의 특정 요소를 삭제할 수 없다.\n",
        "- 삭제하려할 경우\n",
        "TypeError: 'tuple' object doesn't support item deletion"
      ]
    },
    {
      "cell_type": "code",
      "execution_count": null,
      "metadata": {
        "id": "QvAlR-_08p4z"
      },
      "outputs": [],
      "source": [
        "weekend = ('Saturday', 'Sunday', 'Monday')\n",
        "주말 = ['Saturday', 'Sunday']"
      ]
    },
    {
      "cell_type": "code",
      "source": [
        "print(type(weekend), type(주말))"
      ],
      "metadata": {
        "id": "G_fjjM1rLcmq"
      },
      "execution_count": null,
      "outputs": []
    },
    {
      "cell_type": "code",
      "source": [
        "주말 = ['Saturday', 'Sunday']\n",
        "주말.append('금요일')"
      ],
      "metadata": {
        "id": "VaJqyrHlLpZh"
      },
      "execution_count": null,
      "outputs": []
    },
    {
      "cell_type": "code",
      "source": [],
      "metadata": {
        "id": "Q7Uka3bSL4bw"
      },
      "execution_count": null,
      "outputs": []
    },
    {
      "cell_type": "code",
      "execution_count": null,
      "metadata": {
        "id": "0xTPodNj8p4z"
      },
      "outputs": [],
      "source": [
        "# TypeError: 'tuple' object doesn't support item deletion"
      ]
    },
    {
      "cell_type": "markdown",
      "metadata": {
        "id": "BfL43WK38p4z"
      },
      "source": [
        "b. Tuple의 특정 요소를 대체할 수 없다.\n",
        "\n",
        "- TypeError: 'tuple' object does not support item assignment"
      ]
    },
    {
      "cell_type": "code",
      "source": [
        "# 리스트의 경우 인덱싱이 가능하지만 tuple 불가능\n",
        "리스트 = ['Saturday', 'Sunday', 'Monday']\n",
        "리스트[0] = '토요일'\n",
        "리스트"
      ],
      "metadata": {
        "id": "rihznfhCMaB2"
      },
      "execution_count": null,
      "outputs": []
    },
    {
      "cell_type": "code",
      "execution_count": null,
      "metadata": {
        "id": "FNPCHa3m8p4z"
      },
      "outputs": [],
      "source": [
        "weekend = ('Saturday', 'Sunday', 'Monday')\n",
        "weekend"
      ]
    },
    {
      "cell_type": "code",
      "execution_count": null,
      "metadata": {
        "id": "BSmypZ2k8p40"
      },
      "outputs": [],
      "source": []
    },
    {
      "cell_type": "code",
      "source": [],
      "metadata": {
        "id": "aXHy20yThfsS"
      },
      "execution_count": null,
      "outputs": []
    },
    {
      "cell_type": "markdown",
      "metadata": {
        "id": "v1NY7Vj9Ir1C"
      },
      "source": [
        "---\n",
        "# 딕셔너리 dictionary\n",
        "**사전(dictionary)**은 키(key)와 그에 대응하는 값을 짝지워놓은 자료 구조다. 사전이 단어에 해당하는 뜻을 찾기 위한 책인 것을 생각해보면 이런 이름이 붙은 이유를 짐작할 수 있을 것이다.\n",
        "\n",
        "사전은 키와 값을 콜론(`:`)으로 짝짓고, 이들을 중괄호(`{}`)로 감싸서 표시한다.\n",
        "\n",
        "```python\n",
        "fruit = {\n",
        "    '사과': 10,\n",
        "    '딸기': 20,\n",
        "}\n",
        "```\n",
        "\n",
        "사전을 키로 인덱싱 하면, 그에 대응하는 값을 돌려받을 수 있다.\n",
        "\n",
        "```python\n",
        "fruit['사과']\n",
        "```\n",
        "\n",
        "```\n",
        "10\n",
        "```\n",
        "\n",
        "기존의 값을 덮어 쓸 수도 있다.\n",
        "\n",
        "```python\n",
        "fruit['사과'] = 100\n",
        "```\n",
        "\n",
        "```python\n",
        "fruit['사과']\n",
        "```\n",
        "\n",
        "```\n",
        "100\n",
        "```\n",
        "\n",
        "사전에서는 키가 중복될 경우 먼저 나온 키는 무시한다.\n",
        "\n",
        "```python\n",
        "repeated_dict = {'a': 1, 'a': 5, 'b': 10}  # key에 'a'가 두개\n",
        "repeated_dict['a']\n",
        "```\n",
        "\n",
        "```\n",
        "5\n",
        "```\n",
        "\n",
        "사전의 키에는 숫자, 문자, 튜플 등 불변(immutable)인 값만 넣을 수 있다. 리스트처럼 가변(mutable)적인 값은 키로 사용할 수 없다.\n",
        "\n",
        "```python\n",
        "fruit[[1]]\n",
        "```\n",
        "\n",
        "```\n",
        "Traceback (most recent call last):\n",
        "  File \"<stdin>\", line 1, in <module>\n",
        "TypeError: unhashable type: 'list'\n",
        "```\n"
      ]
    },
    {
      "cell_type": "markdown",
      "metadata": {
        "id": "JsJR82HyPriI"
      },
      "source": [
        "- 사전은 **`Key:Value`**의 대응관계로 나타나는 자료형이다.\n",
        "    - 대응관계 자료형을 연관배열 (Associative arry) 또는 해시(Hash)라고도 부른다.\n",
        "- 짝으로 이루어진 값을 표현할 때 사용한다.\n",
        "\n",
        "- **중괄호 `{ }`** 로 값을 묶어서 형태를 구분\n",
        "\n",
        "\n",
        "### 1. 딕셔너리의 특징\n",
        "\n",
        "- 값은 따옴표 **`Key:Value`** 를 기준으로 키(Key)와 자료(Value)를 묶어서 생성\n",
        "- **Key:** 왼쪽에 있는 키는 데이터의 **`열쇠`** 와 같은 기능\n",
        "> - Key는 변할수 없도록 지정하고 있어서, 변하지 않는 자료형만 사용이 가능\n",
        "> - 리스트는 사용 불가하지만 튜플을 사용 가능\n",
        "- **Value:** 오른쪽에 있는 값은 **`Key`** 로 꺼낼수 있는 지정된 자료\n",
        "> - Key 값이 같은 Value가 2개 이상 있으면 마지막 Value만 Key에 대응되어 저장"
      ]
    },
    {
      "cell_type": "code",
      "execution_count": null,
      "metadata": {
        "id": "g8D6wEQb8p42"
      },
      "outputs": [],
      "source": [
        "mydict = {} #비어있는 dictionary\n",
        "mydict = dict()\n",
        "mydict"
      ]
    },
    {
      "cell_type": "markdown",
      "metadata": {
        "id": "l1l8QCDzQIDy"
      },
      "source": [
        "- 딕셔너리의 각 항목item이 쉼표로 구분되어서 출력된다.\n",
        "- 먼저 Key값이 표시되고, 콜론: 다음에 Value값이 표현된다.\n",
        "- 작은따옴표는 키와 값이 모두 문자열이기 때문에 붙는다."
      ]
    },
    {
      "cell_type": "code",
      "execution_count": null,
      "metadata": {
        "id": "JYUrUXp38p42"
      },
      "outputs": [],
      "source": [
        "#여러가지자료형의 key-value\n",
        "mydict = {999:'첫번째', 1.01:'apple', '2':'ball', 3:300, 4:'400'}\n",
        "mydict"
      ]
    },
    {
      "cell_type": "code",
      "execution_count": null,
      "metadata": {
        "id": "LyUDROrnP_Yc"
      },
      "outputs": [],
      "source": [
        "#리스트형 value - 가능\n",
        "mydict = {'키':[1,2,3,4], 'key':['apple',300,'400']}\n",
        "mydict"
      ]
    },
    {
      "cell_type": "code",
      "source": [
        "#리스트형 key - 불가능\n",
        "# TypeError: unhashable type: 'list'\n",
        "mydict = {'키':[1,2,3,4], [2, 3]:['apple', 'banana']}\n",
        "mydict"
      ],
      "metadata": {
        "id": "0j7lcIJQe51G"
      },
      "execution_count": null,
      "outputs": []
    },
    {
      "cell_type": "code",
      "source": [
        "# 복잡한 딕셔너리의 경우 key-value 기준으로 한 줄 띄어쓰기를 한다\n",
        "mydict = {'이름':'홍길동',\n",
        "          '전화번호': '010-1234-1234',\n",
        "          '메일':'123@naver.com'}\n",
        "mydict"
      ],
      "metadata": {
        "id": "O7-NvCGKSX4C"
      },
      "execution_count": null,
      "outputs": []
    },
    {
      "cell_type": "code",
      "source": [
        "# 특정 key 에 해당하는 value 출력\n"
      ],
      "metadata": {
        "id": "d27dxs-rSViW"
      },
      "execution_count": null,
      "outputs": []
    },
    {
      "cell_type": "code",
      "source": [
        "# 특정 key 에 해당하는 value 출력\n"
      ],
      "metadata": {
        "id": "u_roxzYnSc0Z"
      },
      "execution_count": null,
      "outputs": []
    },
    {
      "cell_type": "markdown",
      "metadata": {
        "id": "6wqiawS4Tbco"
      },
      "source": [
        "- .update() : 2개 딕셔너리를 합친다."
      ]
    },
    {
      "cell_type": "code",
      "execution_count": null,
      "metadata": {
        "id": "wRHyzvFekRR8"
      },
      "outputs": [],
      "source": [
        "d1 = {'MSFT': '500', 'AAPL': 200}\n",
        "d2 = {'GOOG': 150, 'NVDA': 100}"
      ]
    },
    {
      "cell_type": "code",
      "execution_count": null,
      "metadata": {
        "id": "1yuzfmBL7207"
      },
      "outputs": [],
      "source": []
    },
    {
      "cell_type": "markdown",
      "metadata": {
        "id": "SZxssKojUhu2"
      },
      "source": [
        "- dict(mydict1, **mydict2) : 새로운 딕셔너리에 병합"
      ]
    },
    {
      "cell_type": "code",
      "execution_count": null,
      "metadata": {
        "id": "D2dKubCxUXqP"
      },
      "outputs": [],
      "source": []
    },
    {
      "cell_type": "markdown",
      "metadata": {
        "id": "gWeFzYiiVaID"
      },
      "source": [
        "- 딕셔너리 병합시 중복된 키가 있을 경우?\n",
        "- 나중에 업데이트되는  key의 value로 변경된다."
      ]
    },
    {
      "cell_type": "code",
      "execution_count": null,
      "metadata": {
        "id": "KoXWYwqNkEET"
      },
      "outputs": [],
      "source": [
        "d1 = {'MSFT':'500', 'AAPL': '200'}\n",
        "d2 = {'GOOG': 150, 'NVDA': 100}\n",
        "d3 = {'NVDA': '200', 'MSFT':400}"
      ]
    },
    {
      "cell_type": "code",
      "execution_count": null,
      "metadata": {
        "id": "oZGUI18h4FR8"
      },
      "outputs": [],
      "source": []
    },
    {
      "cell_type": "markdown",
      "metadata": {
        "id": "Okm11jj78p43"
      },
      "source": [
        "### 3. 요소(key:value) 추가/삭제"
      ]
    },
    {
      "cell_type": "code",
      "execution_count": null,
      "metadata": {
        "id": "tfRSoNJZ6yls"
      },
      "outputs": [],
      "source": [
        "d1 = {'NVDA': '200', 'MSFT':400}"
      ]
    },
    {
      "cell_type": "code",
      "execution_count": null,
      "metadata": {
        "id": "h1POXVov8p43"
      },
      "outputs": [],
      "source": [
        "# Key:GOOG, Value:200\n"
      ]
    },
    {
      "cell_type": "code",
      "execution_count": null,
      "metadata": {
        "id": "D21ppw8T8p43"
      },
      "outputs": [],
      "source": [
        "# Key:INTC, Value:20\n"
      ]
    },
    {
      "cell_type": "code",
      "execution_count": null,
      "metadata": {
        "id": "1b2aw3hk8p44"
      },
      "outputs": [],
      "source": [
        "# Key:TSLA, Value:50\n"
      ]
    },
    {
      "cell_type": "code",
      "execution_count": null,
      "metadata": {
        "id": "d6JwHT5z7nT1"
      },
      "outputs": [],
      "source": [
        "# 동일한 key가 2개 존재할 경우 이전 입력값은 덮어씌워진다\n",
        "# Key: NVDA, Value:'buy'\n"
      ]
    },
    {
      "cell_type": "markdown",
      "metadata": {
        "id": "VmoOnkYVXSKE"
      },
      "source": [
        "- `items, keys, values()`\n",
        "- 데이터를 다룰 때 주로 list로 변환해서 사용한다."
      ]
    },
    {
      "cell_type": "code",
      "source": [
        "d1 = {'MSFT': '500', 'AAPL': '200', 'TSLA': 50, 'NVDA': 'buy'}"
      ],
      "metadata": {
        "id": "vIF5htFIijuI"
      },
      "execution_count": null,
      "outputs": []
    },
    {
      "cell_type": "code",
      "execution_count": null,
      "metadata": {
        "id": "ScRo4F_cQhzS"
      },
      "outputs": [],
      "source": [
        "# key-value의 쌍 출력\n"
      ]
    },
    {
      "cell_type": "code",
      "execution_count": null,
      "metadata": {
        "id": "jFsAlgTY4V7Z"
      },
      "outputs": [],
      "source": [
        "# key값 출력\n"
      ]
    },
    {
      "cell_type": "code",
      "execution_count": null,
      "metadata": {
        "id": "oou-q1fC2A5w"
      },
      "outputs": [],
      "source": [
        "# value값 출력\n"
      ]
    },
    {
      "cell_type": "markdown",
      "metadata": {
        "id": "bWlSnxcy8p47"
      },
      "source": [
        "---\n",
        "get()\n",
        "- `dict.get('key')`는 앞서 보았던 딕셔너리이름['key']와 동일한 기능을 한다."
      ]
    },
    {
      "cell_type": "code",
      "execution_count": null,
      "metadata": {
        "id": "hSGrhkGr_rt9"
      },
      "outputs": [],
      "source": [
        "d1 = {'MSFT': '500', 'AAPL': '200', 'TSLA': 50, 'NVDA': 'buy'}"
      ]
    },
    {
      "cell_type": "code",
      "execution_count": null,
      "metadata": {
        "id": "3Tnyixgl_2Mp"
      },
      "outputs": [],
      "source": [
        "d1['AAPL']"
      ]
    },
    {
      "cell_type": "code",
      "execution_count": null,
      "metadata": {
        "id": "xrHxGyqx73Xw"
      },
      "outputs": [],
      "source": [
        "d1.get('AAPL')"
      ]
    },
    {
      "cell_type": "markdown",
      "metadata": {
        "id": "obUO_q318p48"
      },
      "source": [
        "---\n",
        "in 함수"
      ]
    },
    {
      "cell_type": "code",
      "execution_count": null,
      "metadata": {
        "id": "d1A0tcpx8Em2"
      },
      "outputs": [],
      "source": [
        "d1 = {'MSFT': '500', 'AAPL': '200', 'TSLA': 50, 'NVDA': 'buy'}"
      ]
    },
    {
      "cell_type": "code",
      "execution_count": null,
      "metadata": {
        "id": "vYxtacaU8p48"
      },
      "outputs": [],
      "source": [
        "#앞서 정의한 dictionary에 'key이름'이 있는지 확인함\n",
        "#맞는 key를 찾을 경우 True가 나옴\n"
      ]
    },
    {
      "cell_type": "code",
      "execution_count": null,
      "metadata": {
        "id": "Yy1F-g2j8p48"
      },
      "outputs": [],
      "source": [
        "#없는 key를 찾을 경우, False가 나옴\n"
      ]
    },
    {
      "cell_type": "markdown",
      "metadata": {
        "id": "E5sL4RgeQ2SO"
      },
      "source": [
        "---\n",
        "딕셔너리 제거"
      ]
    },
    {
      "cell_type": "markdown",
      "metadata": {
        "id": "-NuleGNx8p47"
      },
      "source": [
        "- clear(): 전체 딕셔너리 key-value 쌍 삭제(딕셔너리 변수 자체는 비어있는 변수로 남아있음)"
      ]
    },
    {
      "cell_type": "code",
      "execution_count": null,
      "metadata": {
        "id": "y1BADt2A8p47"
      },
      "outputs": [],
      "source": [
        "d1 = {'MSFT': '500', 'AAPL': '200', 'TSLA': 50, 'NVDA': 'buy'}\n",
        "d1"
      ]
    },
    {
      "cell_type": "code",
      "source": [
        "d1.clear()\n",
        "d1"
      ],
      "metadata": {
        "id": "XW9UfLo3jbHn"
      },
      "execution_count": null,
      "outputs": []
    },
    {
      "cell_type": "markdown",
      "source": [
        "- del : 변수 자체 제거도 가능, 딕셔너리[키값] 사용하여 특정 쌍 제거 가능"
      ],
      "metadata": {
        "id": "H3wnJ3cQSvDe"
      }
    },
    {
      "cell_type": "code",
      "execution_count": null,
      "metadata": {
        "id": "OIQRSAbk8p44"
      },
      "outputs": [],
      "source": [
        "# key값으로 제거 - del 사용\n",
        "d1 = {'MSFT': '500', 'AAPL': '200', 'AMZN': '150'}"
      ]
    },
    {
      "cell_type": "code",
      "source": [],
      "metadata": {
        "id": "kk-bkfjWhzkO"
      },
      "execution_count": null,
      "outputs": []
    },
    {
      "cell_type": "code",
      "source": [],
      "metadata": {
        "id": "QlGsDStah1Mz"
      },
      "execution_count": null,
      "outputs": []
    },
    {
      "cell_type": "code",
      "execution_count": null,
      "metadata": {
        "id": "Al6owk_fyhgQ"
      },
      "outputs": [],
      "source": [
        "# 제거되었는지 확인\n"
      ]
    },
    {
      "cell_type": "code",
      "source": [],
      "metadata": {
        "id": "Xib_TOHjSrVo"
      },
      "execution_count": null,
      "outputs": []
    },
    {
      "cell_type": "markdown",
      "metadata": {
        "id": "xRpPUf_98p5F"
      },
      "source": [
        "### 실습문제\n",
        "\n",
        "1. 아래와 같은 mydict 라는 딕셔너리가 있을 때, 한 쌍의 key-value 값을 추가하세요. (key와 value의 값은 자유롭게 생성)\n",
        "\n",
        "2. key이름이 '2'인 key:value 한 쌍을 출력하세요.  \n",
        "\n",
        "3. key이름이 '2'인 key:value 한 쌍을 지우세요.\n",
        "\n",
        "4. key만 출력하세요.\n",
        "\n",
        "5. value만 출력하세요.\n",
        "\n",
        "6. key 들을 list 형태로 바꾼 후 출력하세요."
      ]
    },
    {
      "cell_type": "code",
      "source": [
        "mydict = {'1':'111',\n",
        "          '2':200,\n",
        "          '3':300,\n",
        "          '4':[4, 40]}\n",
        "mydict"
      ],
      "metadata": {
        "id": "eScowhIFnmkL"
      },
      "execution_count": null,
      "outputs": []
    },
    {
      "cell_type": "code",
      "source": [],
      "metadata": {
        "id": "t3PmkLvuTb9s"
      },
      "execution_count": null,
      "outputs": []
    },
    {
      "cell_type": "code",
      "source": [],
      "metadata": {
        "id": "nSA173WwooF6"
      },
      "execution_count": null,
      "outputs": []
    },
    {
      "cell_type": "code",
      "source": [],
      "metadata": {
        "id": "t8HnmksO4n6M"
      },
      "execution_count": null,
      "outputs": []
    },
    {
      "cell_type": "code",
      "source": [],
      "metadata": {
        "id": "DMSbZTLL4n1D"
      },
      "execution_count": null,
      "outputs": []
    },
    {
      "cell_type": "code",
      "source": [],
      "metadata": {
        "id": "ea0Mamyf4nsB"
      },
      "execution_count": null,
      "outputs": []
    },
    {
      "cell_type": "code",
      "source": [],
      "metadata": {
        "id": "QmFsK4qI4npW"
      },
      "execution_count": null,
      "outputs": []
    },
    {
      "cell_type": "code",
      "source": [],
      "metadata": {
        "id": "-917-WYpooJr"
      },
      "execution_count": null,
      "outputs": []
    },
    {
      "cell_type": "markdown",
      "metadata": {
        "id": "AhQ8XvSKIyD4"
      },
      "source": [
        "---\n",
        "# 집합/셋 set\n",
        "- **집합(set)**은 수학의 집합과 같은 용도로 사용한다. 집합은 반복되는 값을 허용하지 않으며, 순서 또한 보존하지 않는다.\n",
        "- 순서에 얽매이지 않으며 집합에 관련된 자료를 쉽게 처리하기 위해 만들어졌다.\n",
        "\n",
        "## 만드는 법\n",
        "\n",
        "집합은 **중괄호(`{}`)**로 값을 감싸 만든다. 사전과 비슷하지만 키와 값의 짝이 없다는 점이 다르다.\n",
        "\n",
        "```python\n",
        "x = {'사과', '포도', '바나나'}\n",
        "x\n",
        "```\n",
        "\n",
        "```\n",
        "{'사과', '포도', '바나나'}\n",
        "```\n",
        "\n",
        "\n",
        "\n",
        "`set` 함수에 다른 값을 넣으면 집합으로 변환된다. 만약 겹치는 항목이 집합에 들어있다면, 반복되는 항목은 제거된다.\n",
        "\n",
        "```python\n",
        "set(['사과', '사과', '포도', '바나나', '바나나', '사과'])  \n",
        "```\n",
        "\n",
        "```\n",
        "{'바나나', '사과', '포도'}\n",
        "```\n",
        "\n",
        "사전을 `set`에 넘기면 키의 집합으로 변환된다.\n",
        "\n",
        "## 길이\n",
        "\n",
        "집합에도 `len` 함수를 사용할 수 있다.\n",
        "\n",
        "```python\n",
        "len(x)\n",
        "```\n",
        "\n",
        "```\n",
        "3\n",
        "```\n",
        "\n",
        "\n",
        "\n",
        "## 추가 및 삭제\n",
        "\n",
        "집합에 값을 추가하고 싶다면 `.add()`를 사용한다.\n",
        "\n",
        "```python\n",
        "x.add('오렌지')  # 집합에 '오렌지' 추가\n",
        "x\n",
        "```\n",
        "\n",
        "```\n",
        "{'바나나', '사과', '오렌지', '포도'}\n",
        "```\n",
        "\n",
        "\n",
        "\n",
        "하나 이상의 값은 `.update()`를 사용한다.\n",
        "\n",
        "```python\n",
        "x.update(['수박', '딸기'])  # 집합에 '수박', '딸기' 추가\n",
        "x\n",
        "```\n",
        "\n",
        "```\n",
        "{'딸기', '바나나', '사과', '수박', '오렌지', '포도'}\n",
        "```\n",
        "\n",
        "\n",
        "\n",
        "값을 제거하고 싶을때는 `.remove()`를 사용한다.\n",
        "\n",
        "```python\n",
        "x.remove('딸기')  # '딸기' 제거\n",
        "```\n",
        "\n",
        "```\n",
        "{'바나나', '사과', '수박', '오렌지', '포도'}\n",
        "```\n",
        "\n",
        "딸기가 제거되었다.\n",
        "\n",
        "\n",
        "\n",
        "`in` 으로 값이 집합에 있는지 확인할 수 있다.\n",
        "\n",
        "```python\n",
        "'바나나' in x\n",
        "```\n",
        "\n",
        "```\n",
        "True\n",
        "```\n",
        "\n",
        "\n",
        "\n",
        "\n",
        "\n",
        "## 집합 연산\n",
        "\n",
        "집합끼리 연산이 가능하다.\n",
        "\n",
        "```python\n",
        "a = {1, 2, 3}\n",
        "b = {3, 4, 5}\n",
        "```\n",
        "\n",
        "### 합집합\n",
        "\n",
        "두 집합 사이의 합집합은 `|` 으로 구한다.\n",
        "\n",
        "```python\n",
        "a | b\n",
        "```\n",
        "\n",
        "```\n",
        "{1, 2, 3, 4, 5}\n",
        "```\n",
        "\n",
        "\n",
        "\n",
        "### 교집합\n",
        "\n",
        "두 집합 사이의 교집합은 `&` 으로 구한다.\n",
        "\n",
        "```python\n",
        "a & b\n",
        "```\n",
        "\n",
        "```\n",
        "{3}\n",
        "```\n",
        "\n",
        "\n",
        "\n",
        "### 차집합\n",
        "\n",
        "두 집합 사이의 차집합은 `-` 으로 구한다.\n",
        "\n",
        "```python\n",
        "a - b\n",
        "```\n",
        "\n",
        "```\n",
        "{1, 2}\n",
        "```\n",
        "\n",
        "\n"
      ]
    },
    {
      "cell_type": "code",
      "execution_count": null,
      "metadata": {
        "id": "XabBDZtNLRY1"
      },
      "outputs": [],
      "source": [
        "#다음과 같은 2개의 집합이 있을 때\n",
        "set1 = {1,2,3,4,5}\n",
        "set2 = {3,4,5,6,7}"
      ]
    },
    {
      "cell_type": "markdown",
      "metadata": {
        "id": "ArtDfeyM8p4_"
      },
      "source": [
        "1. 교집합"
      ]
    },
    {
      "cell_type": "code",
      "execution_count": null,
      "metadata": {
        "id": "CriQmUK48p4_"
      },
      "outputs": [],
      "source": [
        "set1 & set2 # 방법 1: &을 이용"
      ]
    },
    {
      "cell_type": "code",
      "execution_count": null,
      "metadata": {
        "id": "ES3Mz08a8p5A"
      },
      "outputs": [],
      "source": [
        "set1.intersection(set2) #방법 2: intersection()을 이용"
      ]
    },
    {
      "cell_type": "markdown",
      "metadata": {
        "id": "fd1Fjb4N8p5A"
      },
      "source": [
        "2. 합집합"
      ]
    },
    {
      "cell_type": "code",
      "execution_count": null,
      "metadata": {
        "id": "KFjYBjfI8p5A"
      },
      "outputs": [],
      "source": [
        "set1 | set2 #방법 1: |을 이용, 윈도우의 경우 원화 기호로 나옴"
      ]
    },
    {
      "cell_type": "code",
      "execution_count": null,
      "metadata": {
        "id": "uoQaShOD8p5A"
      },
      "outputs": [],
      "source": [
        "set1.union(set2) #방법 2: union()을 이용"
      ]
    },
    {
      "cell_type": "markdown",
      "metadata": {
        "id": "9QTrHMqB8p5A"
      },
      "source": [
        "3. 차집합"
      ]
    },
    {
      "cell_type": "code",
      "execution_count": null,
      "metadata": {
        "id": "JN-5fWqe8p5A"
      },
      "outputs": [],
      "source": [
        "set1 - set2 #방법1: - 을 이용"
      ]
    },
    {
      "cell_type": "code",
      "execution_count": null,
      "metadata": {
        "id": "BkqUogEM8p5A"
      },
      "outputs": [],
      "source": [
        "set2 - set1"
      ]
    },
    {
      "cell_type": "code",
      "execution_count": null,
      "metadata": {
        "id": "sI9akh0L8p5B"
      },
      "outputs": [],
      "source": [
        "set1.difference(set2) #difference()를 이용"
      ]
    },
    {
      "cell_type": "markdown",
      "metadata": {
        "id": "RyR3Jn3q8p5B"
      },
      "source": [
        "### 4. Set 관련 함수들"
      ]
    },
    {
      "cell_type": "markdown",
      "metadata": {
        "id": "dp9Kkpzo8p5B"
      },
      "source": [
        "다음은 set과 관련된 (내장)함수들이다.\n",
        "\n",
        "```\n",
        "add() : set에 값(요소) 1개 추가\n",
        "update(): set 값(요소) 여러 개 추가\n",
        "remove(): 특정 값(요소) 제거\n",
        "```"
      ]
    },
    {
      "cell_type": "code",
      "execution_count": null,
      "metadata": {
        "id": "tqYzlSqy8p5B"
      },
      "outputs": [],
      "source": [
        "myset = {1,2,3,4,5}"
      ]
    },
    {
      "cell_type": "markdown",
      "metadata": {
        "id": "uzVy058S8p5B"
      },
      "source": [
        "1. add()"
      ]
    },
    {
      "cell_type": "code",
      "execution_count": null,
      "metadata": {
        "id": "ycdfKrgg8p5B"
      },
      "outputs": [],
      "source": [
        "myset.add(9)\n",
        "myset"
      ]
    },
    {
      "cell_type": "markdown",
      "metadata": {
        "id": "vr-fknh38p5B"
      },
      "source": [
        "2.update()"
      ]
    },
    {
      "cell_type": "code",
      "execution_count": null,
      "metadata": {
        "id": "fgEzicml8p5C"
      },
      "outputs": [],
      "source": [
        "myset.update([10, 11])\n",
        "myset"
      ]
    },
    {
      "cell_type": "markdown",
      "metadata": {
        "id": "fUeiEe6-8p5C"
      },
      "source": [
        "3.remove()"
      ]
    },
    {
      "cell_type": "code",
      "execution_count": null,
      "metadata": {
        "id": "EK2eaoJh8p5C"
      },
      "outputs": [],
      "source": [
        "myset.remove(10)\n",
        "myset"
      ]
    },
    {
      "cell_type": "markdown",
      "metadata": {
        "id": "ZtD0fsLQXkoI"
      },
      "source": [
        "---\n",
        "😊 수고하셨습니다 😊"
      ]
    }
  ],
  "metadata": {
    "colab": {
      "provenance": [],
      "include_colab_link": true
    },
    "kernelspec": {
      "display_name": "Python 3",
      "name": "python3"
    },
    "language_info": {
      "name": "python"
    }
  },
  "nbformat": 4,
  "nbformat_minor": 0
}